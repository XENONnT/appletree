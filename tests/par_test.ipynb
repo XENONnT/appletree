{
 "cells": [
  {
   "cell_type": "code",
   "execution_count": 1,
   "id": "eb243a2b-0d06-46df-a79b-8153e275900d",
   "metadata": {},
   "outputs": [],
   "source": [
    "from par_manager import *"
   ]
  },
  {
   "cell_type": "code",
   "execution_count": 2,
   "id": "bb5ce058-4955-4b81-8d83-d836bd179f07",
   "metadata": {},
   "outputs": [],
   "source": [
    "par = par_manager()"
   ]
  },
  {
   "cell_type": "code",
   "execution_count": 5,
   "id": "41d21dbc-d279-436f-8396-5c1cf349707e",
   "metadata": {},
   "outputs": [
    {
     "data": {
      "text/plain": [
       "array([0.01350967, 0.08237994])"
      ]
     },
     "execution_count": 5,
     "metadata": {},
     "output_type": "execute_result"
    }
   ],
   "source": [
    "par[['W', 'Nex/Ni']]"
   ]
  },
  {
   "cell_type": "code",
   "execution_count": 9,
   "id": "e32a7618-2a6e-4c47-a3f0-0b75ed3a1334",
   "metadata": {},
   "outputs": [
    {
     "data": {
      "text/plain": [
       "array([0.0137, 0.5   ])"
      ]
     },
     "execution_count": 9,
     "metadata": {},
     "output_type": "execute_result"
    }
   ],
   "source": [
    "par.set_parameter(['W', 'Nex/Ni'], [0.0137, 0.5])\n",
    "par[['W', 'Nex/Ni']]"
   ]
  },
  {
   "cell_type": "code",
   "execution_count": 12,
   "id": "3a5cc207-97bd-4fe9-8e78-a527aafe1289",
   "metadata": {},
   "outputs": [
    {
     "data": {
      "text/plain": [
       "(False, ['n'])"
      ]
     },
     "execution_count": 12,
     "metadata": {},
     "output_type": "execute_result"
    }
   ],
   "source": [
    "par.check_parameter_exist(['W', 'n'], return_not_exist=True)"
   ]
  },
  {
   "cell_type": "code",
   "execution_count": null,
   "id": "753c4add-e30b-44b1-a1e6-24c3310caafd",
   "metadata": {},
   "outputs": [],
   "source": []
  }
 ],
 "metadata": {
  "kernelspec": {
   "display_name": "Python 3 (ipykernel)",
   "language": "python",
   "name": "python3"
  },
  "language_info": {
   "codemirror_mode": {
    "name": "ipython",
    "version": 3
   },
   "file_extension": ".py",
   "mimetype": "text/x-python",
   "name": "python",
   "nbconvert_exporter": "python",
   "pygments_lexer": "ipython3",
   "version": "3.10.3"
  }
 },
 "nbformat": 4,
 "nbformat_minor": 5
}

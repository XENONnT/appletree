{
 "cells": [
  {
   "cell_type": "code",
   "execution_count": 2,
   "id": "6fc94050-49a8-4c70-aa6e-9f8a8f87cef6",
   "metadata": {},
   "outputs": [],
   "source": [
    "import json\n",
    "import numpy as np"
   ]
  },
  {
   "cell_type": "markdown",
   "id": "24e10678-7e96-4aa6-a50d-a0bf1fd411fd",
   "metadata": {},
   "source": [
    "# Electron lifetime"
   ]
  },
  {
   "cell_type": "code",
   "execution_count": 2,
   "id": "c963dd5f-67bc-4c10-a873-dcffd34b4acb",
   "metadata": {},
   "outputs": [],
   "source": [
    "with open('ElectronLifetimeCumulativeDistribution_XENONnT_Rn220_v5_strax_v1.2.0_straxen_v1.6.0.json', 'r') as file:\n",
    "    data = json.load(file)"
   ]
  },
  {
   "cell_type": "code",
   "execution_count": 18,
   "id": "4702b3a7-111b-4e79-9f8f-ca1824696f9a",
   "metadata": {},
   "outputs": [],
   "source": [
    "to_save = {}\n",
    "to_save['coordinate_system'] = np.linspace(0, 1, 1001).tolist()\n",
    "to_save['map'] = data['map']\n",
    "to_save['coordinate_name'] = 'cdf'\n",
    "with open('./elife.json', 'w') as file:\n",
    "    json.dump(to_save, file)"
   ]
  },
  {
   "cell_type": "markdown",
   "id": "f58e47df-d323-4fdc-8d3c-ac1c64bc0f09",
   "metadata": {},
   "source": [
    "# Cut acceptance"
   ]
  },
  {
   "cell_type": "code",
   "execution_count": 19,
   "id": "eff3682f-7b95-427d-83b6-600b61b05b03",
   "metadata": {},
   "outputs": [],
   "source": [
    "with open('S1AcceptanceSR0_v3_Median.json', 'r') as file:\n",
    "    data = json.load(file)"
   ]
  },
  {
   "cell_type": "code",
   "execution_count": 21,
   "id": "c0ab7d5b-369f-405b-ab27-c0911086314a",
   "metadata": {},
   "outputs": [],
   "source": [
    "to_save = {}\n",
    "to_save['coordinate_system'] = np.linspace(3., 199., 99).tolist()\n",
    "to_save['map'] = data['map']\n",
    "to_save['coordinate_name'] = 's1'\n",
    "with open('./s1_cut_acc.json', 'w') as file:\n",
    "    json.dump(to_save, file)"
   ]
  },
  {
   "cell_type": "code",
   "execution_count": 22,
   "id": "e75f43af-1ad2-467a-802a-e876639c63de",
   "metadata": {},
   "outputs": [],
   "source": [
    "with open('S2AcceptanceSR0_v3_Median.json', 'r') as file:\n",
    "    data = json.load(file)"
   ]
  },
  {
   "cell_type": "code",
   "execution_count": 24,
   "id": "d8d9e482-0e44-4d51-a37e-330d7e70a379",
   "metadata": {},
   "outputs": [],
   "source": [
    "to_save = {}\n",
    "to_save['coordinate_system'] = np.linspace(625., 24875., 98).tolist()\n",
    "to_save['map'] = data['map']\n",
    "to_save['coordinate_name'] = 's2'\n",
    "with open('./s2_cut_acc.json', 'w') as file:\n",
    "    json.dump(to_save, file)"
   ]
  },
  {
   "cell_type": "markdown",
   "id": "cca4ce31-3640-48e1-9a12-10e468b9a1aa",
   "metadata": {},
   "source": [
    "# Correction map"
   ]
  },
  {
   "cell_type": "code",
   "execution_count": 25,
   "id": "f7fe58ac-20f6-4a2b-84c9-907830fc3adf",
   "metadata": {},
   "outputs": [],
   "source": [
    "with open('XENONnT_s2_xy_map_v4_210503_mlp_3_in_1_iterated.json', 'r') as file:\n",
    "    data = json.load(file)"
   ]
  },
  {
   "cell_type": "code",
   "execution_count": 28,
   "id": "4bc897e9-e8e7-40bb-a7f6-3cd25d7b11be",
   "metadata": {},
   "outputs": [],
   "source": [
    "to_save = {}\n",
    "to_save['coordinate_system'] = data['coordinate_system']\n",
    "to_save['map'] = data['map']\n",
    "to_save['coordinate_name'] = ['x', 'y']\n",
    "with open('./s2_correction_map.json', 'w') as file:\n",
    "    json.dump(to_save, file)"
   ]
  },
  {
   "cell_type": "code",
   "execution_count": 29,
   "id": "8f2fa9a4-dddd-4793-bd22-c1a64b2fbe81",
   "metadata": {},
   "outputs": [],
   "source": [
    "with open('XnT_S1_xyz_MLP_v0.4_B2d75n_C2d75n_G0d3p_A4d9p_T0d9n_PMTs1d3n_FSR0d65p_v0d675.json', 'r') as file:\n",
    "    data = json.load(file)"
   ]
  },
  {
   "cell_type": "code",
   "execution_count": 31,
   "id": "d45d0d06-77e8-49af-8452-6f8dfa3ebf97",
   "metadata": {},
   "outputs": [],
   "source": [
    "to_save = {}\n",
    "to_save['coordinate_system'] = data['coordinate_system']\n",
    "to_save['map'] = data['map']\n",
    "to_save['coordinate_name'] = ['x', 'y', 'z']\n",
    "with open('./s1_correction_map.json', 'w') as file:\n",
    "    json.dump(to_save, file)"
   ]
  },
  {
   "cell_type": "code",
   "execution_count": null,
   "id": "e6035977-194d-4b7d-a374-1283e2d87386",
   "metadata": {},
   "outputs": [],
   "source": []
  },
  {
   "cell_type": "code",
   "execution_count": 9,
   "id": "8df00372-72f5-4847-a210-668c12c9e18f",
   "metadata": {},
   "outputs": [],
   "source": [
    "with open('XENONnT_S1CorrectionMap_Rn220_v5.json', 'r') as file:\n",
    "    data = json.load(file)"
   ]
  },
  {
   "cell_type": "code",
   "execution_count": 10,
   "id": "e5463228-b1ee-4406-9f37-67a2b5e47221",
   "metadata": {},
   "outputs": [],
   "source": [
    "to_save = {}\n",
    "to_save['coordinate_lowers'] = [-66.5, -66.5, -154.]\n",
    "to_save['coordinate_uppers'] = [66.5, 66.5, 0]\n",
    "to_save['map'] = data['map']\n",
    "to_save['coordinate_name'] = ['x', 'y', 'z']\n",
    "with open('./s1_correction_map_regbin.json', 'w') as file:\n",
    "    json.dump(to_save, file)"
   ]
  },
  {
   "cell_type": "code",
   "execution_count": 11,
   "id": "fd6f9a99-3927-4014-91e6-5e305552ae85",
   "metadata": {},
   "outputs": [],
   "source": [
    "with open('XENONnT_S2CorrectionMap_Rn220_v5.json', 'r') as file:\n",
    "    data = json.load(file)"
   ]
  },
  {
   "cell_type": "code",
   "execution_count": 12,
   "id": "5bcf35f2-4378-4d5e-b512-d16f049bff09",
   "metadata": {},
   "outputs": [],
   "source": [
    "to_save = {}\n",
    "to_save['coordinate_lowers'] = [-66.5, -66.5]\n",
    "to_save['coordinate_uppers'] = [66.5, 66.5]\n",
    "to_save['map'] = data['map']\n",
    "to_save['coordinate_name'] = ['x', 'y']\n",
    "with open('./s2_correction_map_regbin.json', 'w') as file:\n",
    "    json.dump(to_save, file)"
   ]
  },
  {
   "cell_type": "markdown",
   "id": "adbda54c-e24c-4980-ab85-b1a11dd0a354",
   "metadata": {},
   "source": [
    "# Bias"
   ]
  },
  {
   "cell_type": "code",
   "execution_count": 32,
   "id": "0a41b762-4ab7-4de4-94ca-4f85e050a611",
   "metadata": {},
   "outputs": [],
   "source": [
    "with open('ReconstructionS1BiasMeanMedian_XENONnT_SR0_3fold_WFSim_v5.json', 'r') as file:\n",
    "    data = json.load(file)"
   ]
  },
  {
   "cell_type": "code",
   "execution_count": 34,
   "id": "bdd4cd59-0c56-43f5-a5ef-49d57f0b8c95",
   "metadata": {},
   "outputs": [],
   "source": [
    "to_save = {}\n",
    "to_save['coordinate_system'] = np.linspace(3, 1203, 1201).tolist()\n",
    "to_save['map'] = data['map']\n",
    "to_save['coordinate_name'] = 'hit'\n",
    "with open('./s1_bias.json', 'w') as file:\n",
    "    json.dump(to_save, file)"
   ]
  },
  {
   "cell_type": "code",
   "execution_count": 35,
   "id": "f3eccbb5-e657-4e39-9e85-bc8d272cd1c3",
   "metadata": {},
   "outputs": [],
   "source": [
    "with open('ReconstructionS1BiasStdMedian_XENONnT_SR0_3fold_WFSim_v5.json', 'r') as file:\n",
    "    data = json.load(file)"
   ]
  },
  {
   "cell_type": "code",
   "execution_count": 37,
   "id": "d9073ee3-2dd7-4eff-90fa-b04b9518dda3",
   "metadata": {},
   "outputs": [],
   "source": [
    "to_save = {}\n",
    "to_save['coordinate_system'] = np.linspace(3, 1203, 1201).tolist()\n",
    "to_save['map'] = data['map']\n",
    "to_save['coordinate_name'] = 'hit'\n",
    "with open('./s1_smearing.json', 'w') as file:\n",
    "    json.dump(to_save, file)"
   ]
  },
  {
   "cell_type": "code",
   "execution_count": 38,
   "id": "4ceba4ce-24af-4900-9f64-4974ad2bbcd6",
   "metadata": {},
   "outputs": [],
   "source": [
    "with open('ReconstructionS2BiasMeanMedian_XENONnT_SR0_3fold_WFSim_v5.json', 'r') as file:\n",
    "    data = json.load(file)"
   ]
  },
  {
   "cell_type": "code",
   "execution_count": 40,
   "id": "93fe06ad-33be-4475-b0e9-4e3e6c9357b0",
   "metadata": {},
   "outputs": [],
   "source": [
    "to_save = {}\n",
    "to_save['coordinate_system'] = np.linspace(29, 24393, 24365).tolist()\n",
    "to_save['map'] = data['map']\n",
    "to_save['coordinate_name'] = 'hit'\n",
    "with open('./s2_bias.json', 'w') as file:\n",
    "    json.dump(to_save, file)"
   ]
  },
  {
   "cell_type": "code",
   "execution_count": 41,
   "id": "afdca197-0d69-43da-a973-2cb69c5179bf",
   "metadata": {},
   "outputs": [],
   "source": [
    "with open('ReconstructionS2BiasStdMedian_XENONnT_SR0_3fold_WFSim_v5.json', 'r') as file:\n",
    "    data = json.load(file)"
   ]
  },
  {
   "cell_type": "code",
   "execution_count": 42,
   "id": "a7aa3ea2-dfed-45f6-9109-f0072f09c8d6",
   "metadata": {},
   "outputs": [],
   "source": [
    "to_save = {}\n",
    "to_save['coordinate_system'] = np.linspace(29, 24393, 24365).tolist()\n",
    "to_save['map'] = data['map']\n",
    "to_save['coordinate_name'] = 'hit'\n",
    "with open('./s2_smearing.json', 'w') as file:\n",
    "    json.dump(to_save, file)"
   ]
  },
  {
   "cell_type": "markdown",
   "id": "38001e91-50a8-493e-8dd6-0ddd9ad748c5",
   "metadata": {},
   "source": [
    "# Recon eff"
   ]
  },
  {
   "cell_type": "code",
   "execution_count": 44,
   "id": "bb595948-27e9-47f9-9211-606d9c36723e",
   "metadata": {},
   "outputs": [],
   "source": [
    "with open('RecEfficiencyMedians_XENONnT_SR0_3fold_WFSim_v5.json', 'r') as file:\n",
    "    data = json.load(file)"
   ]
  },
  {
   "cell_type": "code",
   "execution_count": 46,
   "id": "fa4199f4-a441-43df-92c6-1a7471842110",
   "metadata": {},
   "outputs": [],
   "source": [
    "to_save = {}\n",
    "to_save['coordinate_system'] = np.linspace(0, 499, 500).tolist()\n",
    "to_save['map'] = data['map']\n",
    "to_save['coordinate_name'] = 'hit'\n",
    "with open('./3fold_recon_eff.json', 'w') as file:\n",
    "    json.dump(to_save, file)"
   ]
  },
  {
   "cell_type": "code",
   "execution_count": null,
   "id": "542a0b9a-eafc-4127-871a-a00388f5c44c",
   "metadata": {},
   "outputs": [],
   "source": []
  }
 ],
 "metadata": {
  "kernelspec": {
   "display_name": "Python 3 (ipykernel)",
   "language": "python",
   "name": "python3"
  },
  "language_info": {
   "codemirror_mode": {
    "name": "ipython",
    "version": 3
   },
   "file_extension": ".py",
   "mimetype": "text/x-python",
   "name": "python",
   "nbconvert_exporter": "python",
   "pygments_lexer": "ipython3",
   "version": "3.10.3"
  }
 },
 "nbformat": 4,
 "nbformat_minor": 5
}

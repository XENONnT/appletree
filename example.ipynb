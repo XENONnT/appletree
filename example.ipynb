{
 "cells": [
  {
   "cell_type": "code",
   "execution_count": 1,
   "id": "ce795eeb-5b40-4db7-824d-a27012f82cd8",
   "metadata": {},
   "outputs": [],
   "source": [
    "import jax.numpy as jnp\n",
    "import numpy as np\n",
    "import os\n",
    "from jax import jit\n",
    "from functools import partial\n",
    "import matplotlib.pyplot as plt\n",
    "\n",
    "import appletree as apt\n",
    "from appletree import flex\n",
    "from appletree import ipm\n",
    "from appletree import imm\n",
    "from appletree.flex import randgen\n",
    "from appletree.flex.plugin import *"
   ]
  },
  {
   "cell_type": "code",
   "execution_count": 2,
   "id": "393025af-5ffb-4b6f-b8f1-50d748a8ee00",
   "metadata": {},
   "outputs": [],
   "source": [
    "apt.utils.set_gpu_memory_usage(0.2)\n",
    "par_manager = ipm.ParManager('./appletree/ipm/par_config/par_config.json')\n",
    "map_manager = imm.MapManager()"
   ]
  },
  {
   "cell_type": "code",
   "execution_count": 3,
   "id": "26d97061-84d6-4ee9-9c2a-49a095702f18",
   "metadata": {},
   "outputs": [
    {
     "data": {
      "text/plain": [
       "{'w': 0.01367683956485041,\n",
       " 'fano': 0.059,\n",
       " 'gas_gain': 31.3,\n",
       " 'drift_velocity': 0.0677,\n",
       " 's2_threshold': 500.0,\n",
       " 'field': 23.0,\n",
       " 'nex_ni_ratio': 0.09761039796567074,\n",
       " 'g1': 0.14936256191348876,\n",
       " 'g2': 16.534883144466033,\n",
       " 'p_dpe': 0.2279294433212318,\n",
       " 'py0': 0.12037037993026961,\n",
       " 'py1': 43.305951633132366,\n",
       " 'py2': -0.35871268626903074,\n",
       " 'py3': 0.6407261936793427,\n",
       " 'py4': 0.7099426185023536,\n",
       " 'rf0': 0.02232658606391688,\n",
       " 'rf1': 0.10191119770839283}"
      ]
     },
     "execution_count": 3,
     "metadata": {},
     "output_type": "execute_result"
    }
   ],
   "source": [
    "par_manager.sample_init()\n",
    "par_manager.get_all_parameter()"
   ]
  },
  {
   "cell_type": "code",
   "execution_count": 4,
   "id": "54d05cac-3013-49a7-a8c1-79967cfc2cd8",
   "metadata": {},
   "outputs": [],
   "source": [
    "map_manager.register_json_map(os.path.join(imm.MAPPATH, 's1_correction_map_regbin.json'), coord_type='regbin', map_name='s1_lce')\n",
    "map_manager.register_json_map(os.path.join(imm.MAPPATH, 's2_correction_map_regbin.json'), coord_type='regbin', map_name='s2_lce')\n",
    "map_manager.register_json_map(os.path.join(imm.MAPPATH, 'elife.json'), coord_type='point', map_name='elife')\n",
    "map_manager.register_json_map(os.path.join(imm.MAPPATH, 's1_bias.json'), coord_type='point', map_name='s1_bias')\n",
    "map_manager.register_json_map(os.path.join(imm.MAPPATH, 's1_smearing.json'), coord_type='point', map_name='s1_smear')\n",
    "map_manager.register_json_map(os.path.join(imm.MAPPATH, 's2_bias.json'), coord_type='point', map_name='s2_bias')\n",
    "map_manager.register_json_map(os.path.join(imm.MAPPATH, 's2_smearing.json'), coord_type='point', map_name='s2_smear')\n",
    "map_manager.register_json_map(os.path.join(imm.MAPPATH, '3fold_recon_eff.json'), coord_type='point', map_name='s1_eff')"
   ]
  },
  {
   "cell_type": "code",
   "execution_count": 5,
   "id": "4a311475-ce79-4764-b325-77194e164cfe",
   "metadata": {},
   "outputs": [
    {
     "data": {
      "text/plain": [
       "{'s1_lce': '/home/zihaoxu/appletree/appletree/imm/map/s1_correction_map_regbin.json',\n",
       " 's2_lce': '/home/zihaoxu/appletree/appletree/imm/map/s2_correction_map_regbin.json',\n",
       " 'elife': '/home/zihaoxu/appletree/appletree/imm/map/elife.json',\n",
       " 's1_bias': '/home/zihaoxu/appletree/appletree/imm/map/s1_bias.json',\n",
       " 's1_smear': '/home/zihaoxu/appletree/appletree/imm/map/s1_smearing.json',\n",
       " 's2_bias': '/home/zihaoxu/appletree/appletree/imm/map/s2_bias.json',\n",
       " 's2_smear': '/home/zihaoxu/appletree/appletree/imm/map/s2_smearing.json',\n",
       " 's1_eff': '/home/zihaoxu/appletree/appletree/imm/map/3fold_recon_eff.json'}"
      ]
     },
     "execution_count": 5,
     "metadata": {},
     "output_type": "execute_result"
    }
   ],
   "source": [
    "map_manager.registration"
   ]
  },
  {
   "cell_type": "code",
   "execution_count": 6,
   "id": "c0ee1f6a-07c6-462f-ae76-3d7f936aace7",
   "metadata": {},
   "outputs": [],
   "source": [
    "args = (par_manager, map_manager)"
   ]
  },
  {
   "cell_type": "markdown",
   "id": "0c9a2e03-1239-455d-80df-416c8f7cf558",
   "metadata": {},
   "source": [
    "#### Microphysics plugins"
   ]
  },
  {
   "cell_type": "code",
   "execution_count": 7,
   "id": "f96d0e6c-8677-49ef-a609-b39d50ac33fc",
   "metadata": {},
   "outputs": [],
   "source": [
    "plugin1 = EnergySpectra(*args)\n",
    "plugin2 = Quenching(*args)\n",
    "plugin3 = Ionization(*args)\n",
    "plugin4 = mTI(*args)\n",
    "plugin5 = RecombFluct(*args)\n",
    "plugin6 = TrueRecomb(*args)\n",
    "plugin7 = Recombination(*args)"
   ]
  },
  {
   "cell_type": "markdown",
   "id": "9d262a44-2e3b-4ba4-9e5e-6c0e1278b67a",
   "metadata": {},
   "source": [
    "#### Detector plugins"
   ]
  },
  {
   "cell_type": "code",
   "execution_count": 8,
   "id": "81a0aeda-52da-4edf-b645-a704b7d69221",
   "metadata": {},
   "outputs": [],
   "source": [
    "plugin8 = PositionSpectra(*args)\n",
    "plugin9 = S1Correction(*args)\n",
    "plugin10 = S2Correction(*args)\n",
    "plugin11 = PhotonDetection(*args)\n",
    "plugin12 = S1PE(*args)\n",
    "plugin13 = DriftLoss(*args)\n",
    "plugin14 = ElectronDrifted(*args)\n",
    "plugin15 = S2PE(*args)"
   ]
  },
  {
   "cell_type": "markdown",
   "id": "a2eb4c50-b232-4b85-83d9-b39a9030db4e",
   "metadata": {},
   "source": [
    "#### Reconstruction plugins"
   ]
  },
  {
   "cell_type": "code",
   "execution_count": 9,
   "id": "8455182d-d9a1-4c7d-960f-1f8bfd132c1d",
   "metadata": {},
   "outputs": [],
   "source": [
    "plugin16 = S1(*args)\n",
    "plugin17 = S2(*args)\n",
    "plugin18 = cS1(*args)\n",
    "plugin19 = cS2(*args)"
   ]
  },
  {
   "cell_type": "markdown",
   "id": "7e925c6a-42bf-414e-b94f-44d38be6bedc",
   "metadata": {},
   "source": [
    "#### Efficiency plugins"
   ]
  },
  {
   "cell_type": "code",
   "execution_count": 10,
   "id": "8eb088e4-e9f7-4dce-b521-c275a8911b22",
   "metadata": {},
   "outputs": [],
   "source": [
    "plugin20 = S2Threshold(*args)\n",
    "plugin21 = S1ReconEff(*args)"
   ]
  },
  {
   "cell_type": "markdown",
   "id": "481604f6-69c7-48c7-ac60-3a77805ed1df",
   "metadata": {},
   "source": [
    "# Get binning"
   ]
  },
  {
   "cell_type": "code",
   "execution_count": 11,
   "id": "f12368ab-9113-4c37-9b34-0d8dada522fe",
   "metadata": {},
   "outputs": [],
   "source": [
    "import pandas as pd\n",
    "data = pd.read_csv('./appletree/bbf/data/data_XENONnT_Rn220_v8_strax_v1.2.2_straxen_v1.7.1_cutax_v1.9.0.csv')\n",
    "x_bins, y_bins = apt.utils.get_equiprob_bins_2d(\n",
    "    data[['cs1', 'cs2']].to_numpy(),\n",
    "    [15, 15],\n",
    "    order=[0, 1],\n",
    "    x_clip=[0, 100],\n",
    "    y_clip=[1e2, 1e4]\n",
    ")"
   ]
  },
  {
   "cell_type": "markdown",
   "id": "5c2a2c5b-598a-4e7a-8ac2-dd2bbd4642e3",
   "metadata": {},
   "source": [
    "# Pipeline"
   ]
  },
  {
   "cell_type": "code",
   "execution_count": 12,
   "id": "bf7d4eb5-826e-41e6-ae20-90bb6820fd47",
   "metadata": {},
   "outputs": [],
   "source": [
    "@apt.utils.timeit\n",
    "@partial(jit, static_argnums=(1, ))\n",
    "def sim(key, n):\n",
    "    key, energy = plugin1(key, n)\n",
    "    key, n_q = plugin2(key, energy)\n",
    "    key, n_i = plugin3(key, n_q)\n",
    "    key, r_mean = plugin4(key, energy)\n",
    "    key, r_std = plugin5(key, energy)\n",
    "    key, r = plugin6(key, r_mean, r_std)\n",
    "    key, n_ph, n_e = plugin7(key, n_q, n_i, r)\n",
    "    \n",
    "    key, x, y, z = plugin8(key, n)\n",
    "    key, s1_correction = plugin9(key, x, y, z)\n",
    "    key, s2_correction = plugin10(key, x, y)\n",
    "    key, n_s1_phd = plugin11(key, n_ph, s1_correction)\n",
    "    key, n_s1_pe = plugin12(key, n_s1_phd)\n",
    "    key, surv_prob = plugin13(key, z)\n",
    "    key, n_e_drifted = plugin14(key, n_e, surv_prob)\n",
    "    key, n_s2_pe = plugin15(key, n_e_drifted, s2_correction)\n",
    "    \n",
    "    key, s1 = plugin16(key, n_s1_phd, n_s1_pe)\n",
    "    key, s2 = plugin17(key, n_s2_pe)\n",
    "    key, cs1 = plugin18(key, s1, s1_correction)\n",
    "    key, cs2 = plugin19(key, s2, s2_correction, surv_prob)\n",
    "    \n",
    "    key, acc_s2_threshold = plugin20(key, s2)\n",
    "    key, acc_s1_recon_eff = plugin21(key, n_s1_phd)\n",
    "    \n",
    "    eff = acc_s2_threshold*acc_s1_recon_eff\n",
    "    \n",
    "    hist = flex.hist.make_hist_irreg_bin_2d(\n",
    "        jnp.asarray([cs1, cs2]).T,\n",
    "        x_bins, y_bins, weights=eff\n",
    "    )\n",
    "    \n",
    "    return key, hist"
   ]
  },
  {
   "cell_type": "code",
   "execution_count": 13,
   "id": "9eae65d9-1ebd-4c80-96e1-ad3285d3c5d4",
   "metadata": {},
   "outputs": [],
   "source": [
    "batch_size = int(1e6)\n",
    "key = flex.randgen.get_key()"
   ]
  },
  {
   "cell_type": "markdown",
   "id": "08468bf7-369e-436c-8860-8be332cade10",
   "metadata": {},
   "source": [
    "#### Build"
   ]
  },
  {
   "cell_type": "code",
   "execution_count": 14,
   "id": "69ef1c0d-6be6-4a56-a9b3-4aaa1673cdc2",
   "metadata": {},
   "outputs": [
    {
     "name": "stdout",
     "output_type": "stream",
     "text": [
      " Function <sim> starts. \n",
      " Function <sim> ends! Time cost = 4765.867233 msec. \n"
     ]
    }
   ],
   "source": [
    "key, hist = sim(key, batch_size)"
   ]
  },
  {
   "cell_type": "code",
   "execution_count": 15,
   "id": "9d2d140f-ef42-419e-80e9-04db4c608d1f",
   "metadata": {},
   "outputs": [
    {
     "data": {
      "text/plain": [
       "(500.0, 10000.0)"
      ]
     },
     "execution_count": 15,
     "metadata": {},
     "output_type": "execute_result"
    },
    {
     "data": {
      "image/png": "[encoded data removed]",
      "text/plain": [
       "<Figure size 432x288 with 2 Axes>"
      ]
     },
     "metadata": {
      "needs_background": "light"
     },
     "output_type": "display_data"
    }
   ],
   "source": [
    "apt.utils.plot_irreg_histogram_2d(x_bins, y_bins, hist, density=False)\n",
    "plt.yscale('log')\n",
    "plt.ylim(5e2, 1e4)"
   ]
  },
  {
   "cell_type": "markdown",
   "id": "adf3bc52-4fda-4523-894e-0784f81dcfee",
   "metadata": {},
   "source": [
    "#### Speed test"
   ]
  },
  {
   "cell_type": "code",
   "execution_count": 16,
   "id": "30fd0ad7-12f3-42cf-a77c-cb7153b8cfbf",
   "metadata": {},
   "outputs": [],
   "source": [
    "@apt.utils.timeit\n",
    "def benchmark():\n",
    "    key = randgen.get_key()\n",
    "    for itr in range(100):\n",
    "        key, _ = sim(key, int(1e6))"
   ]
  },
  {
   "cell_type": "code",
   "execution_count": 17,
   "id": "8d233501-a06f-44aa-8308-2a4c979831ed",
   "metadata": {},
   "outputs": [
    {
     "name": "stdout",
     "output_type": "stream",
     "text": [
      " Function <benchmark> starts. \n",
      " Function <sim> starts. \n",
      " Function <sim> ends! Time cost = 1.414537 msec. \n",
      " Function <sim> starts. \n",
      " Function <sim> ends! Time cost = 1.128435 msec. \n",
      " Function <sim> starts. \n",
      " Function <sim> ends! Time cost = 8.047342 msec. \n",
      " Function <sim> starts. \n",
      " Function <sim> ends! Time cost = 15.865803 msec. \n",
      " Function <sim> starts. \n",
      " Function <sim> ends! Time cost = 18.839836 msec. \n",
      " Function <sim> starts. \n",
      " Function <sim> ends! Time cost = 13.344288 msec. \n",
      " Function <sim> starts. \n",
      " Function <sim> ends! Time cost = 17.819166 msec. \n",
      " Function <sim> starts. \n",
      " Function <sim> ends! Time cost = 13.812542 msec. \n",
      " Function <sim> starts. \n",
      " Function <sim> ends! Time cost = 13.914824 msec. \n",
      " Function <sim> starts. \n",
      " Function <sim> ends! Time cost = 17.560244 msec. \n",
      " Function <sim> starts. \n",
      " Function <sim> ends! Time cost = 17.631531 msec. \n",
      " Function <sim> starts. \n",
      " Function <sim> ends! Time cost = 17.771244 msec. \n",
      " Function <sim> starts. \n",
      " Function <sim> ends! Time cost = 13.755798 msec. \n",
      " Function <sim> starts. \n",
      " Function <sim> ends! Time cost = 13.847828 msec. \n",
      " Function <sim> starts. \n",
      " Function <sim> ends! Time cost = 18.134832 msec. \n",
      " Function <sim> starts. \n",
      " Function <sim> ends! Time cost = 20.976782 msec. \n",
      " Function <sim> starts. \n",
      " Function <sim> ends! Time cost = 17.633915 msec. \n",
      " Function <sim> starts. \n",
      " Function <sim> ends! Time cost = 13.673544 msec. \n",
      " Function <sim> starts. \n",
      " Function <sim> ends! Time cost = 13.596058 msec. \n",
      " Function <sim> starts. \n",
      " Function <sim> ends! Time cost = 11.080503 msec. \n",
      " Function <sim> starts. \n",
      " Function <sim> ends! Time cost = 23.478270 msec. \n",
      " Function <sim> starts. \n",
      " Function <sim> ends! Time cost = 17.618656 msec. \n",
      " Function <sim> starts. \n",
      " Function <sim> ends! Time cost = 13.666868 msec. \n",
      " Function <sim> starts. \n",
      " Function <sim> ends! Time cost = 13.695955 msec. \n",
      " Function <sim> starts. \n",
      " Function <sim> ends! Time cost = 13.653278 msec. \n",
      " Function <sim> starts. \n",
      " Function <sim> ends! Time cost = 19.786358 msec. \n",
      " Function <sim> starts. \n",
      " Function <sim> ends! Time cost = 19.174576 msec. \n",
      " Function <sim> starts. \n",
      " Function <sim> ends! Time cost = 13.619661 msec. \n",
      " Function <sim> starts. \n",
      " Function <sim> ends! Time cost = 13.756752 msec. \n",
      " Function <sim> starts. \n",
      " Function <sim> ends! Time cost = 13.875008 msec. \n",
      " Function <sim> starts. \n",
      " Function <sim> ends! Time cost = 19.950628 msec. \n",
      " Function <sim> starts. \n",
      " Function <sim> ends! Time cost = 19.296169 msec. \n",
      " Function <sim> starts. \n",
      " Function <sim> ends! Time cost = 17.810345 msec. \n",
      " Function <sim> starts. \n",
      " Function <sim> ends! Time cost = 13.799667 msec. \n",
      " Function <sim> starts. \n",
      " Function <sim> ends! Time cost = 13.910055 msec. \n",
      " Function <sim> starts. \n",
      " Function <sim> ends! Time cost = 17.512083 msec. \n",
      " Function <sim> starts. \n",
      " Function <sim> ends! Time cost = 19.231796 msec. \n",
      " Function <sim> starts. \n",
      " Function <sim> ends! Time cost = 15.491486 msec. \n",
      " Function <sim> starts. \n",
      " Function <sim> ends! Time cost = 13.566017 msec. \n",
      " Function <sim> starts. \n",
      " Function <sim> ends! Time cost = 13.649225 msec. \n",
      " Function <sim> starts. \n",
      " Function <sim> ends! Time cost = 13.313055 msec. \n",
      " Function <sim> starts. \n",
      " Function <sim> ends! Time cost = 17.617702 msec. \n",
      " Function <sim> starts. \n",
      " Function <sim> ends! Time cost = 24.218559 msec. \n",
      " Function <sim> starts. \n",
      " Function <sim> ends! Time cost = 14.349699 msec. \n",
      " Function <sim> starts. \n",
      " Function <sim> ends! Time cost = 13.648510 msec. \n",
      " Function <sim> starts. \n",
      " Function <sim> ends! Time cost = 15.853882 msec. \n",
      " Function <sim> starts. \n",
      " Function <sim> ends! Time cost = 15.547514 msec. \n",
      " Function <sim> starts. \n",
      " Function <sim> ends! Time cost = 16.957045 msec. \n",
      " Function <sim> starts. \n",
      " Function <sim> ends! Time cost = 9.092569 msec. \n",
      " Function <sim> starts. \n",
      " Function <sim> ends! Time cost = 13.813019 msec. \n",
      " Function <sim> starts. \n",
      " Function <sim> ends! Time cost = 16.017914 msec. \n",
      " Function <sim> starts. \n",
      " Function <sim> ends! Time cost = 15.478849 msec. \n",
      " Function <sim> starts. \n",
      " Function <sim> ends! Time cost = 18.032789 msec. \n",
      " Function <sim> starts. \n",
      " Function <sim> ends! Time cost = 15.836716 msec. \n",
      " Function <sim> starts. \n",
      " Function <sim> ends! Time cost = 19.605398 msec. \n",
      " Function <sim> starts. \n",
      " Function <sim> ends! Time cost = 13.739586 msec. \n",
      " Function <sim> starts. \n",
      " Function <sim> ends! Time cost = 17.741203 msec. \n",
      " Function <sim> starts. \n",
      " Function <sim> ends! Time cost = 17.787457 msec. \n",
      " Function <sim> starts. \n",
      " Function <sim> ends! Time cost = 13.607264 msec. \n",
      " Function <sim> starts. \n",
      " Function <sim> ends! Time cost = 17.112017 msec. \n",
      " Function <sim> starts. \n",
      " Function <sim> ends! Time cost = 13.437510 msec. \n",
      " Function <sim> starts. \n",
      " Function <sim> ends! Time cost = 17.632723 msec. \n",
      " Function <sim> starts. \n",
      " Function <sim> ends! Time cost = 17.614126 msec. \n",
      " Function <sim> starts. \n",
      " Function <sim> ends! Time cost = 10.927677 msec. \n",
      " Function <sim> starts. \n",
      " Function <sim> ends! Time cost = 15.815973 msec. \n",
      " Function <sim> starts. \n",
      " Function <sim> ends! Time cost = 19.386768 msec. \n",
      " Function <sim> starts. \n",
      " Function <sim> ends! Time cost = 15.808344 msec. \n",
      " Function <sim> starts. \n",
      " Function <sim> ends! Time cost = 15.616655 msec. \n",
      " Function <sim> starts. \n",
      " Function <sim> ends! Time cost = 17.843962 msec. \n",
      " Function <sim> starts. \n",
      " Function <sim> ends! Time cost = 13.789892 msec. \n",
      " Function <sim> starts. \n",
      " Function <sim> ends! Time cost = 17.107487 msec. \n",
      " Function <sim> starts. \n",
      " Function <sim> ends! Time cost = 15.866756 msec. \n",
      " Function <sim> starts. \n",
      " Function <sim> ends! Time cost = 15.413761 msec. \n",
      " Function <sim> starts. \n",
      " Function <sim> ends! Time cost = 17.775774 msec. \n",
      " Function <sim> starts. \n",
      " Function <sim> ends! Time cost = 13.752222 msec. \n",
      " Function <sim> starts. \n",
      " Function <sim> ends! Time cost = 18.015623 msec. \n",
      " Function <sim> starts. \n",
      " Function <sim> ends! Time cost = 17.448425 msec. \n",
      " Function <sim> starts. \n",
      " Function <sim> ends! Time cost = 17.626762 msec. \n",
      " Function <sim> starts. \n",
      " Function <sim> ends! Time cost = 17.803669 msec. \n",
      " Function <sim> starts. \n",
      " Function <sim> ends! Time cost = 13.586044 msec. \n",
      " Function <sim> starts. \n",
      " Function <sim> ends! Time cost = 13.705730 msec. \n",
      " Function <sim> starts. \n",
      " Function <sim> ends! Time cost = 15.592813 msec. \n",
      " Function <sim> starts. \n",
      " Function <sim> ends! Time cost = 17.786264 msec. \n",
      " Function <sim> starts. \n",
      " Function <sim> ends! Time cost = 17.645359 msec. \n",
      " Function <sim> starts. \n",
      " Function <sim> ends! Time cost = 13.827085 msec. \n",
      " Function <sim> starts. \n",
      " Function <sim> ends! Time cost = 13.815403 msec. \n",
      " Function <sim> starts. \n",
      " Function <sim> ends! Time cost = 18.049717 msec. \n",
      " Function <sim> starts. \n",
      " Function <sim> ends! Time cost = 17.254114 msec. \n",
      " Function <sim> starts. \n",
      " Function <sim> ends! Time cost = 19.500732 msec. \n",
      " Function <sim> starts. \n",
      " Function <sim> ends! Time cost = 13.683796 msec. \n",
      " Function <sim> starts. \n",
      " Function <sim> ends! Time cost = 13.753653 msec. \n",
      " Function <sim> starts. \n",
      " Function <sim> ends! Time cost = 13.824940 msec. \n",
      " Function <sim> starts. \n",
      " Function <sim> ends! Time cost = 17.522335 msec. \n",
      " Function <sim> starts. \n",
      " Function <sim> ends! Time cost = 19.662619 msec. \n",
      " Function <sim> starts. \n",
      " Function <sim> ends! Time cost = 15.649796 msec. \n",
      " Function <sim> starts. \n",
      " Function <sim> ends! Time cost = 13.723135 msec. \n",
      " Function <sim> starts. \n",
      " Function <sim> ends! Time cost = 13.805866 msec. \n",
      " Function <sim> starts. \n",
      " Function <sim> ends! Time cost = 18.048525 msec. \n",
      " Function <sim> starts. \n",
      " Function <sim> ends! Time cost = 23.275137 msec. \n",
      " Function <sim> starts. \n",
      " Function <sim> ends! Time cost = 15.691280 msec. \n",
      " Function <benchmark> ends! Time cost = 1579.665899 msec. \n"
     ]
    }
   ],
   "source": [
    "benchmark()"
   ]
  },
  {
   "cell_type": "code",
   "execution_count": null,
   "id": "b659a593-0c64-4ed6-a610-060035078c04",
   "metadata": {},
   "outputs": [],
   "source": []
  }
 ],
 "metadata": {
  "kernelspec": {
   "display_name": "Python 3 (ipykernel)",
   "language": "python",
   "name": "python3"
  },
  "language_info": {
   "codemirror_mode": {
    "name": "ipython",
    "version": 3
   },
   "file_extension": ".py",
   "mimetype": "text/x-python",
   "name": "python",
   "nbconvert_exporter": "python",
   "pygments_lexer": "ipython3",
   "version": "3.10.3"
  }
 },
 "nbformat": 4,
 "nbformat_minor": 5
}

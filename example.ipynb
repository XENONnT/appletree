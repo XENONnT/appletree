{
 "cells": [
  {
   "cell_type": "code",
   "execution_count": 1,
   "id": "ce795eeb-5b40-4db7-824d-a27012f82cd8",
   "metadata": {},
   "outputs": [],
   "source": [
    "import jax.numpy as jnp\n",
    "import numpy as np\n",
    "import os\n",
    "from jax import jit\n",
    "from functools import partial\n",
    "import matplotlib.pyplot as plt\n",
    "\n",
    "import appletree as apt\n",
    "from appletree import flex\n",
    "from appletree import ipm\n",
    "from appletree import imm\n",
    "from appletree.flex import randgen\n",
    "from appletree.flex.plugin import *"
   ]
  },
  {
   "cell_type": "code",
   "execution_count": 2,
   "id": "393025af-5ffb-4b6f-b8f1-50d748a8ee00",
   "metadata": {},
   "outputs": [],
   "source": [
    "apt.utils.set_gpu_memory_usage(0.2)\n",
    "par_manager = ipm.ParManager('./appletree/ipm/par_config/par_config.json')\n",
    "map_manager = imm.MapManager()"
   ]
  },
  {
   "cell_type": "code",
   "execution_count": 3,
   "id": "26d97061-84d6-4ee9-9c2a-49a095702f18",
   "metadata": {},
   "outputs": [
    {
     "data": {
      "text/plain": [
       "{'w': 0.013743155132308407,\n",
       " 'fano': 0.059,\n",
       " 'gas_gain': 31.3,\n",
       " 'drift_velocity': 0.0677,\n",
       " 's2_threshold': 500.0,\n",
       " 'field': 23.0,\n",
       " 'nex_ni_ratio': 0.1008496884964474,\n",
       " 'g1': 0.15040206336513565,\n",
       " 'g2': 16.28290270931527,\n",
       " 'p_dpe': 0.2071702679761973,\n",
       " 'py0': 0.11606700902750203,\n",
       " 'py1': 43.22570168775463,\n",
       " 'py2': -0.38062444317419664,\n",
       " 'py3': 1.1540386496465336,\n",
       " 'py4': 0.6403657603474471,\n",
       " 'rf0': 0.026584824767048307,\n",
       " 'rf1': 0.23675360853961405}"
      ]
     },
     "execution_count": 3,
     "metadata": {},
     "output_type": "execute_result"
    }
   ],
   "source": [
    "par_manager.sample_init()\n",
    "par_manager.get_all_parameter()"
   ]
  },
  {
   "cell_type": "code",
   "execution_count": 4,
   "id": "54d05cac-3013-49a7-a8c1-79967cfc2cd8",
   "metadata": {},
   "outputs": [],
   "source": [
    "map_manager.register_json_map(os.path.join(imm.DATAPATH, 's1_correction_map_regbin.json'), coord_type='regbin', map_name='s1_lce')\n",
    "map_manager.register_json_map(os.path.join(imm.DATAPATH, 's2_correction_map_regbin.json'), coord_type='regbin', map_name='s2_lce')\n",
    "map_manager.register_json_map(os.path.join(imm.DATAPATH, 'elife.json'), coord_type='point', map_name='elife')\n",
    "map_manager.register_json_map(os.path.join(imm.DATAPATH, 's1_bias.json'), coord_type='point', map_name='s1_bias')\n",
    "map_manager.register_json_map(os.path.join(imm.DATAPATH, 's1_smearing.json'), coord_type='point', map_name='s1_smear')\n",
    "map_manager.register_json_map(os.path.join(imm.DATAPATH, 's2_bias.json'), coord_type='point', map_name='s2_bias')\n",
    "map_manager.register_json_map(os.path.join(imm.DATAPATH, 's2_smearing.json'), coord_type='point', map_name='s2_smear')\n",
    "map_manager.register_json_map(os.path.join(imm.DATAPATH, '3fold_recon_eff.json'), coord_type='point', map_name='s1_eff')"
   ]
  },
  {
   "cell_type": "code",
   "execution_count": 5,
   "id": "4a311475-ce79-4764-b325-77194e164cfe",
   "metadata": {},
   "outputs": [
    {
     "data": {
      "text/plain": [
       "{'s1_lce': '/home/zihaoxu/appletree/appletree/imm/data/s1_correction_map_regbin.json',\n",
       " 's2_lce': '/home/zihaoxu/appletree/appletree/imm/data/s2_correction_map_regbin.json',\n",
       " 'elife': '/home/zihaoxu/appletree/appletree/imm/data/elife.json',\n",
       " 's1_bias': '/home/zihaoxu/appletree/appletree/imm/data/s1_bias.json',\n",
       " 's1_smear': '/home/zihaoxu/appletree/appletree/imm/data/s1_smearing.json',\n",
       " 's2_bias': '/home/zihaoxu/appletree/appletree/imm/data/s2_bias.json',\n",
       " 's2_smear': '/home/zihaoxu/appletree/appletree/imm/data/s2_smearing.json',\n",
       " 's1_eff': '/home/zihaoxu/appletree/appletree/imm/data/3fold_recon_eff.json'}"
      ]
     },
     "execution_count": 5,
     "metadata": {},
     "output_type": "execute_result"
    }
   ],
   "source": [
    "map_manager.registration"
   ]
  },
  {
   "cell_type": "code",
   "execution_count": 6,
   "id": "c0ee1f6a-07c6-462f-ae76-3d7f936aace7",
   "metadata": {},
   "outputs": [],
   "source": [
    "args = (par_manager, map_manager)"
   ]
  },
  {
   "cell_type": "markdown",
   "id": "0c9a2e03-1239-455d-80df-416c8f7cf558",
   "metadata": {},
   "source": [
    "#### Microphysics plugins"
   ]
  },
  {
   "cell_type": "code",
   "execution_count": 7,
   "id": "f96d0e6c-8677-49ef-a609-b39d50ac33fc",
   "metadata": {},
   "outputs": [],
   "source": [
    "plugin1 = EnergySpectra(*args)\n",
    "plugin2 = Quenching(*args)\n",
    "plugin3 = Ionization(*args)\n",
    "plugin4 = mTI(*args)\n",
    "plugin5 = RecombFluct(*args)\n",
    "plugin6 = TrueRecomb(*args)\n",
    "plugin7 = Recombination(*args)"
   ]
  },
  {
   "cell_type": "markdown",
   "id": "9d262a44-2e3b-4ba4-9e5e-6c0e1278b67a",
   "metadata": {},
   "source": [
    "#### Detector plugins"
   ]
  },
  {
   "cell_type": "code",
   "execution_count": 8,
   "id": "81a0aeda-52da-4edf-b645-a704b7d69221",
   "metadata": {},
   "outputs": [],
   "source": [
    "plugin8 = PositionSpectra(*args)\n",
    "plugin9 = S1Correction(*args)\n",
    "plugin10 = S2Correction(*args)\n",
    "plugin11 = PhotonDetection(*args)\n",
    "plugin12 = S1PE(*args)\n",
    "plugin13 = DriftLoss(*args)\n",
    "plugin14 = ElectronDrifted(*args)\n",
    "plugin15 = S2PE(*args)"
   ]
  },
  {
   "cell_type": "markdown",
   "id": "a2eb4c50-b232-4b85-83d9-b39a9030db4e",
   "metadata": {},
   "source": [
    "#### Reconstruction plugins"
   ]
  },
  {
   "cell_type": "code",
   "execution_count": 9,
   "id": "8455182d-d9a1-4c7d-960f-1f8bfd132c1d",
   "metadata": {},
   "outputs": [],
   "source": [
    "plugin16 = S1(*args)\n",
    "plugin17 = S2(*args)\n",
    "plugin18 = cS1(*args)\n",
    "plugin19 = cS2(*args)"
   ]
  },
  {
   "cell_type": "markdown",
   "id": "7e925c6a-42bf-414e-b94f-44d38be6bedc",
   "metadata": {},
   "source": [
    "#### Efficiency plugins"
   ]
  },
  {
   "cell_type": "code",
   "execution_count": 10,
   "id": "8eb088e4-e9f7-4dce-b521-c275a8911b22",
   "metadata": {},
   "outputs": [],
   "source": [
    "plugin20 = S2Threshold(*args)\n",
    "plugin21 = S1ReconEff(*args)"
   ]
  },
  {
   "cell_type": "markdown",
   "id": "5c2a2c5b-598a-4e7a-8ac2-dd2bbd4642e3",
   "metadata": {},
   "source": [
    "# Pipeline"
   ]
  },
  {
   "cell_type": "code",
   "execution_count": 11,
   "id": "bf7d4eb5-826e-41e6-ae20-90bb6820fd47",
   "metadata": {},
   "outputs": [],
   "source": [
    "@apt.utils.timeit\n",
    "@partial(jit, static_argnums=(1, ))\n",
    "def sim(key, n):\n",
    "    key, energy = plugin1(key, n)\n",
    "    key, n_q = plugin2(key, energy)\n",
    "    key, n_i = plugin3(key, n_q)\n",
    "    key, r_mean = plugin4(key, energy)\n",
    "    key, r_std = plugin5(key, energy)\n",
    "    key, r = plugin6(key, r_mean, r_std)\n",
    "    key, n_ph, n_e = plugin7(key, n_q, n_i, r)\n",
    "    \n",
    "    key, x, y, z = plugin8(key, n)\n",
    "    key, s1_correction = plugin9(key, x, y, z)\n",
    "    key, s2_correction = plugin10(key, x, y)\n",
    "    key, n_s1_phd = plugin11(key, n_ph, s1_correction)\n",
    "    key, n_s1_pe = plugin12(key, n_s1_phd)\n",
    "    key, surv_prob = plugin13(key, z)\n",
    "    key, n_e_drifted = plugin14(key, n_e, surv_prob)\n",
    "    key, n_s2_pe = plugin15(key, n_e_drifted, s2_correction)\n",
    "    \n",
    "    key, s1 = plugin16(key, n_s1_phd, n_s1_pe)\n",
    "    key, s2 = plugin17(key, n_s2_pe)\n",
    "    key, cs1 = plugin18(key, s1, s1_correction)\n",
    "    key, cs2 = plugin19(key, s2, s2_correction, surv_prob)\n",
    "    \n",
    "    key, acc_s2_threshold = plugin20(key, s2)\n",
    "    key, acc_s1_recon_eff = plugin21(key, n_s1_phd)\n",
    "    \n",
    "    eff = acc_s2_threshold*acc_s1_recon_eff\n",
    "    \n",
    "    hist, be = jnp.histogramdd(\n",
    "        jnp.asarray([cs1, cs2]).T,\n",
    "        bins=(jnp.linspace(0,100,101), jnp.logspace(2.5,4.1,81)),\n",
    "        weights=eff\n",
    "    )\n",
    "    \n",
    "    return key, hist, be"
   ]
  },
  {
   "cell_type": "code",
   "execution_count": 12,
   "id": "9eae65d9-1ebd-4c80-96e1-ad3285d3c5d4",
   "metadata": {},
   "outputs": [],
   "source": [
    "batch_size = int(1e6)\n",
    "key = flex.randgen.get_key()"
   ]
  },
  {
   "cell_type": "markdown",
   "id": "08468bf7-369e-436c-8860-8be332cade10",
   "metadata": {},
   "source": [
    "#### Build"
   ]
  },
  {
   "cell_type": "code",
   "execution_count": 13,
   "id": "69ef1c0d-6be6-4a56-a9b3-4aaa1673cdc2",
   "metadata": {},
   "outputs": [
    {
     "name": "stdout",
     "output_type": "stream",
     "text": [
      " Function <sim> starts. \n",
      " Function <sim> ends! Time cost = 5016.644716 msec. \n"
     ]
    }
   ],
   "source": [
    "key, hist, be = sim(key, batch_size)"
   ]
  },
  {
   "cell_type": "code",
   "execution_count": 14,
   "id": "de2d8f6a-c940-4706-a517-f75e11ba9a48",
   "metadata": {},
   "outputs": [
    {
     "data": {
      "image/png": "[encoded data removed]",
      "text/plain": [
       "<Figure size 432x288 with 2 Axes>"
      ]
     },
     "metadata": {
      "needs_background": "light"
     },
     "output_type": "display_data"
    }
   ],
   "source": [
    "import numpy as np\n",
    "import multihist as mh\n",
    "from matplotlib.colors import LogNorm\n",
    "import matplotlib.pyplot as plt\n",
    "\n",
    "hist = mh.Histdd.from_histogram(\n",
    "    np.array(hist), \n",
    "    be, \n",
    "    axis_names=['cs1', 'cs2']\n",
    ")\n",
    "hist.plot(norm=LogNorm())\n",
    "plt.yscale('log')\n",
    "plt.show()"
   ]
  },
  {
   "cell_type": "markdown",
   "id": "adf3bc52-4fda-4523-894e-0784f81dcfee",
   "metadata": {},
   "source": [
    "#### Speed test"
   ]
  },
  {
   "cell_type": "code",
   "execution_count": 15,
   "id": "30fd0ad7-12f3-42cf-a77c-cb7153b8cfbf",
   "metadata": {},
   "outputs": [],
   "source": [
    "@apt.utils.timeit\n",
    "def benchmark():\n",
    "    key = randgen.get_key()\n",
    "    for itr in range(100):\n",
    "        key, _, _ = sim(key, int(1e6))"
   ]
  },
  {
   "cell_type": "code",
   "execution_count": 16,
   "id": "8d233501-a06f-44aa-8308-2a4c979831ed",
   "metadata": {},
   "outputs": [
    {
     "name": "stdout",
     "output_type": "stream",
     "text": [
      " Function <benchmark> starts. \n",
      " Function <sim> starts. \n",
      " Function <sim> ends! Time cost = 2.512932 msec. \n",
      " Function <sim> starts. \n",
      " Function <sim> ends! Time cost = 1.650095 msec. \n",
      " Function <sim> starts. \n",
      " Function <sim> ends! Time cost = 16.288996 msec. \n",
      " Function <sim> starts. \n",
      " Function <sim> ends! Time cost = 13.044357 msec. \n",
      " Function <sim> starts. \n",
      " Function <sim> ends! Time cost = 13.541222 msec. \n",
      " Function <sim> starts. \n",
      " Function <sim> ends! Time cost = 13.473511 msec. \n",
      " Function <sim> starts. \n",
      " Function <sim> ends! Time cost = 13.586998 msec. \n",
      " Function <sim> starts. \n",
      " Function <sim> ends! Time cost = 21.674156 msec. \n",
      " Function <sim> starts. \n",
      " Function <sim> ends! Time cost = 17.210484 msec. \n",
      " Function <sim> starts. \n",
      " Function <sim> ends! Time cost = 19.927979 msec. \n",
      " Function <sim> starts. \n",
      " Function <sim> ends! Time cost = 15.381575 msec. \n",
      " Function <sim> starts. \n",
      " Function <sim> ends! Time cost = 13.659000 msec. \n",
      " Function <sim> starts. \n",
      " Function <sim> ends! Time cost = 15.648603 msec. \n",
      " Function <sim> starts. \n",
      " Function <sim> ends! Time cost = 19.397497 msec. \n",
      " Function <sim> starts. \n",
      " Function <sim> ends! Time cost = 7.967710 msec. \n",
      " Function <sim> starts. \n",
      " Function <sim> ends! Time cost = 10.793209 msec. \n",
      " Function <sim> starts. \n",
      " Function <sim> ends! Time cost = 13.594866 msec. \n",
      " Function <sim> starts. \n",
      " Function <sim> ends! Time cost = 13.519287 msec. \n",
      " Function <sim> starts. \n",
      " Function <sim> ends! Time cost = 19.638300 msec. \n",
      " Function <sim> starts. \n",
      " Function <sim> ends! Time cost = 17.456770 msec. \n",
      " Function <sim> starts. \n",
      " Function <sim> ends! Time cost = 19.980192 msec. \n",
      " Function <sim> starts. \n",
      " Function <sim> ends! Time cost = 17.726660 msec. \n",
      " Function <sim> starts. \n",
      " Function <sim> ends! Time cost = 12.912512 msec. \n",
      " Function <sim> starts. \n",
      " Function <sim> ends! Time cost = 15.523195 msec. \n",
      " Function <sim> starts. \n",
      " Function <sim> ends! Time cost = 17.443895 msec. \n",
      " Function <sim> starts. \n",
      " Function <sim> ends! Time cost = 13.420582 msec. \n",
      " Function <sim> starts. \n",
      " Function <sim> ends! Time cost = 8.087397 msec. \n",
      " Function <sim> starts. \n",
      " Function <sim> ends! Time cost = 13.277292 msec. \n",
      " Function <sim> starts. \n",
      " Function <sim> ends! Time cost = 13.118505 msec. \n",
      " Function <sim> starts. \n",
      " Function <sim> ends! Time cost = 19.469976 msec. \n",
      " Function <sim> starts. \n",
      " Function <sim> ends! Time cost = 13.525724 msec. \n",
      " Function <sim> starts. \n",
      " Function <sim> ends! Time cost = 15.546083 msec. \n",
      " Function <sim> starts. \n",
      " Function <sim> ends! Time cost = 19.824505 msec. \n",
      " Function <sim> starts. \n",
      " Function <sim> ends! Time cost = 18.908739 msec. \n",
      " Function <sim> starts. \n",
      " Function <sim> ends! Time cost = 19.156933 msec. \n",
      " Function <sim> starts. \n",
      " Function <sim> ends! Time cost = 10.844469 msec. \n",
      " Function <sim> starts. \n",
      " Function <sim> ends! Time cost = 13.559103 msec. \n",
      " Function <sim> starts. \n",
      " Function <sim> ends! Time cost = 13.520241 msec. \n",
      " Function <sim> starts. \n",
      " Function <sim> ends! Time cost = 10.496616 msec. \n",
      " Function <sim> starts. \n",
      " Function <sim> ends! Time cost = 17.294645 msec. \n",
      " Function <sim> starts. \n",
      " Function <sim> ends! Time cost = 17.491579 msec. \n",
      " Function <sim> starts. \n",
      " Function <sim> ends! Time cost = 13.527155 msec. \n",
      " Function <sim> starts. \n",
      " Function <sim> ends! Time cost = 11.001348 msec. \n",
      " Function <sim> starts. \n",
      " Function <sim> ends! Time cost = 17.817259 msec. \n",
      " Function <sim> starts. \n",
      " Function <sim> ends! Time cost = 22.055626 msec. \n",
      " Function <sim> starts. \n",
      " Function <sim> ends! Time cost = 18.465281 msec. \n",
      " Function <sim> starts. \n",
      " Function <sim> ends! Time cost = 15.435696 msec. \n",
      " Function <sim> starts. \n",
      " Function <sim> ends! Time cost = 14.689207 msec. \n",
      " Function <sim> starts. \n",
      " Function <sim> ends! Time cost = 9.638548 msec. \n",
      " Function <sim> starts. \n",
      " Function <sim> ends! Time cost = 12.793779 msec. \n",
      " Function <sim> starts. \n",
      " Function <sim> ends! Time cost = 17.294407 msec. \n",
      " Function <sim> starts. \n",
      " Function <sim> ends! Time cost = 17.266750 msec. \n",
      " Function <sim> starts. \n",
      " Function <sim> ends! Time cost = 13.428450 msec. \n",
      " Function <sim> starts. \n",
      " Function <sim> ends! Time cost = 13.450146 msec. \n",
      " Function <sim> starts. \n",
      " Function <sim> ends! Time cost = 10.787249 msec. \n",
      " Function <sim> starts. \n",
      " Function <sim> ends! Time cost = 19.912481 msec. \n",
      " Function <sim> starts. \n",
      " Function <sim> ends! Time cost = 22.739172 msec. \n",
      " Function <sim> starts. \n",
      " Function <sim> ends! Time cost = 13.419628 msec. \n",
      " Function <sim> starts. \n",
      " Function <sim> ends! Time cost = 13.324976 msec. \n",
      " Function <sim> starts. \n",
      " Function <sim> ends! Time cost = 13.455153 msec. \n",
      " Function <sim> starts. \n",
      " Function <sim> ends! Time cost = 13.438940 msec. \n",
      " Function <sim> starts. \n",
      " Function <sim> ends! Time cost = 18.605709 msec. \n",
      " Function <sim> starts. \n",
      " Function <sim> ends! Time cost = 17.770052 msec. \n",
      " Function <sim> starts. \n",
      " Function <sim> ends! Time cost = 13.674498 msec. \n",
      " Function <sim> starts. \n",
      " Function <sim> ends! Time cost = 13.582230 msec. \n",
      " Function <sim> starts. \n",
      " Function <sim> ends! Time cost = 13.379574 msec. \n",
      " Function <sim> starts. \n",
      " Function <sim> ends! Time cost = 25.983095 msec. \n",
      " Function <sim> starts. \n",
      " Function <sim> ends! Time cost = 19.921303 msec. \n",
      " Function <sim> starts. \n",
      " Function <sim> ends! Time cost = 10.851383 msec. \n",
      " Function <sim> starts. \n",
      " Function <sim> ends! Time cost = 13.538599 msec. \n",
      " Function <sim> starts. \n",
      " Function <sim> ends! Time cost = 13.599873 msec. \n",
      " Function <sim> starts. \n",
      " Function <sim> ends! Time cost = 17.322779 msec. \n",
      " Function <sim> starts. \n",
      " Function <sim> ends! Time cost = 15.119791 msec. \n",
      " Function <sim> starts. \n",
      " Function <sim> ends! Time cost = 13.341188 msec. \n",
      " Function <sim> starts. \n",
      " Function <sim> ends! Time cost = 13.464212 msec. \n",
      " Function <sim> starts. \n",
      " Function <sim> ends! Time cost = 11.095762 msec. \n",
      " Function <sim> starts. \n",
      " Function <sim> ends! Time cost = 15.769243 msec. \n",
      " Function <sim> starts. \n",
      " Function <sim> ends! Time cost = 21.431923 msec. \n",
      " Function <sim> starts. \n",
      " Function <sim> ends! Time cost = 19.778013 msec. \n",
      " Function <sim> starts. \n",
      " Function <sim> ends! Time cost = 17.073631 msec. \n",
      " Function <sim> starts. \n",
      " Function <sim> ends! Time cost = 13.365269 msec. \n",
      " Function <sim> starts. \n",
      " Function <sim> ends! Time cost = 11.068821 msec. \n",
      " Function <sim> starts. \n",
      " Function <sim> ends! Time cost = 19.617319 msec. \n",
      " Function <sim> starts. \n",
      " Function <sim> ends! Time cost = 15.483141 msec. \n",
      " Function <sim> starts. \n",
      " Function <sim> ends! Time cost = 10.740042 msec. \n",
      " Function <sim> starts. \n",
      " Function <sim> ends! Time cost = 13.468266 msec. \n",
      " Function <sim> starts. \n",
      " Function <sim> ends! Time cost = 13.305664 msec. \n",
      " Function <sim> starts. \n",
      " Function <sim> ends! Time cost = 19.693375 msec. \n",
      " Function <sim> starts. \n",
      " Function <sim> ends! Time cost = 12.898207 msec. \n",
      " Function <sim> starts. \n",
      " Function <sim> ends! Time cost = 17.848730 msec. \n",
      " Function <sim> starts. \n",
      " Function <sim> ends! Time cost = 19.957304 msec. \n",
      " Function <sim> starts. \n",
      " Function <sim> ends! Time cost = 14.845371 msec. \n",
      " Function <sim> starts. \n",
      " Function <sim> ends! Time cost = 17.477274 msec. \n",
      " Function <sim> starts. \n",
      " Function <sim> ends! Time cost = 17.560482 msec. \n",
      " Function <sim> starts. \n",
      " Function <sim> ends! Time cost = 13.354301 msec. \n",
      " Function <sim> starts. \n",
      " Function <sim> ends! Time cost = 10.458708 msec. \n",
      " Function <sim> starts. \n",
      " Function <sim> ends! Time cost = 11.300802 msec. \n",
      " Function <sim> starts. \n",
      " Function <sim> ends! Time cost = 13.476610 msec. \n",
      " Function <sim> starts. \n",
      " Function <sim> ends! Time cost = 19.497395 msec. \n",
      " Function <sim> starts. \n",
      " Function <sim> ends! Time cost = 15.398741 msec. \n",
      " Function <benchmark> ends! Time cost = 1520.342827 msec. \n"
     ]
    }
   ],
   "source": [
    "benchmark()"
   ]
  },
  {
   "cell_type": "code",
   "execution_count": null,
   "id": "b659a593-0c64-4ed6-a610-060035078c04",
   "metadata": {},
   "outputs": [],
   "source": []
  }
 ],
 "metadata": {
  "kernelspec": {
   "display_name": "Python 3 (ipykernel)",
   "language": "python",
   "name": "python3"
  },
  "language_info": {
   "codemirror_mode": {
    "name": "ipython",
    "version": 3
   },
   "file_extension": ".py",
   "mimetype": "text/x-python",
   "name": "python",
   "nbconvert_exporter": "python",
   "pygments_lexer": "ipython3",
   "version": "3.10.3"
  }
 },
 "nbformat": 4,
 "nbformat_minor": 5
}

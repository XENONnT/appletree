{
 "cells": [
  {
   "cell_type": "code",
   "execution_count": 32,
   "id": "ce795eeb-5b40-4db7-824d-a27012f82cd8",
   "metadata": {},
   "outputs": [],
   "source": [
    "import jax.numpy as jnp\n",
    "import numpy as np\n",
    "import os\n",
    "from jax import jit\n",
    "from functools import partial\n",
    "import matplotlib.pyplot as plt\n",
    "\n",
    "import appletree as apt\n",
    "from appletree import flex\n",
    "from appletree import ipm\n",
    "from appletree import imm\n",
    "from appletree.flex import randgen\n",
    "from appletree.flex.plugin import *"
   ]
  },
  {
   "cell_type": "code",
   "execution_count": 3,
   "id": "393025af-5ffb-4b6f-b8f1-50d748a8ee00",
   "metadata": {},
   "outputs": [],
   "source": [
    "apt.utils.set_gpu_memory_usage(0.2)\n",
    "par_manager = ipm.ParManager()"
   ]
  },
  {
   "cell_type": "markdown",
   "id": "0c9a2e03-1239-455d-80df-416c8f7cf558",
   "metadata": {},
   "source": [
    "#### Microphysics plugins"
   ]
  },
  {
   "cell_type": "code",
   "execution_count": 4,
   "id": "f96d0e6c-8677-49ef-a609-b39d50ac33fc",
   "metadata": {},
   "outputs": [],
   "source": [
    "plugin1 = EnergySpectra(par_manager, 0.01, 20.)\n",
    "plugin2 = Quenching(par_manager)\n",
    "plugin3 = Ionization(par_manager)\n",
    "plugin4 = mTI(par_manager)\n",
    "plugin5 = RecombFluct(par_manager)\n",
    "plugin6 = TrueRecomb(par_manager)\n",
    "plugin7 = Recombination(par_manager)"
   ]
  },
  {
   "cell_type": "markdown",
   "id": "9d262a44-2e3b-4ba4-9e5e-6c0e1278b67a",
   "metadata": {},
   "source": [
    "#### Detector plugins"
   ]
  },
  {
   "cell_type": "code",
   "execution_count": 5,
   "id": "81a0aeda-52da-4edf-b645-a704b7d69221",
   "metadata": {},
   "outputs": [],
   "source": [
    "s1_lce_map = imm.MapRegBin(os.path.join(imm.DATAPATH, 's1_correction_map_regbin.json'))\n",
    "s2_lce_map = imm.MapRegBin(os.path.join(imm.DATAPATH, 's2_correction_map_regbin.json'))\n",
    "elife_map = imm.Map(os.path.join(imm.DATAPATH, 'elife.json'))\n",
    "\n",
    "plugin8 = PositionSpectra(par_manager)\n",
    "plugin9 = S1Correction(par_manager, s1_lce_map)\n",
    "plugin10 = S2Correction(par_manager, s2_lce_map)\n",
    "plugin11 = PhotonDetection(par_manager)\n",
    "plugin12 = S1PE(par_manager)\n",
    "plugin13 = DriftLoss(par_manager, elife_map)\n",
    "plugin14 = ElectronDrifted(par_manager)\n",
    "plugin15 = S2PE(par_manager)"
   ]
  },
  {
   "cell_type": "markdown",
   "id": "a2eb4c50-b232-4b85-83d9-b39a9030db4e",
   "metadata": {},
   "source": [
    "#### Reconstruction plugins"
   ]
  },
  {
   "cell_type": "code",
   "execution_count": 11,
   "id": "8455182d-d9a1-4c7d-960f-1f8bfd132c1d",
   "metadata": {},
   "outputs": [],
   "source": [
    "s1_bias = imm.Map(os.path.join(imm.DATAPATH, 's1_bias.json'))\n",
    "s1_smear = imm.Map(os.path.join(imm.DATAPATH, 's1_smearing.json'))\n",
    "s2_bias = imm.Map(os.path.join(imm.DATAPATH, 's2_bias.json'))\n",
    "s2_smear = imm.Map(os.path.join(imm.DATAPATH, 's2_smearing.json'))\n",
    "\n",
    "plugin16 = S1(par_manager, s1_bias, s1_smear)\n",
    "plugin17 = S2(par_manager, s2_bias, s2_smear)\n",
    "plugin18 = cS1(par_manager)\n",
    "plugin19 = cS2(par_manager)"
   ]
  },
  {
   "cell_type": "markdown",
   "id": "7e925c6a-42bf-414e-b94f-44d38be6bedc",
   "metadata": {},
   "source": [
    "#### Efficiency plugins"
   ]
  },
  {
   "cell_type": "code",
   "execution_count": 13,
   "id": "8eb088e4-e9f7-4dce-b521-c275a8911b22",
   "metadata": {},
   "outputs": [],
   "source": [
    "s1_eff = imm.Map(os.path.join(imm.DATAPATH, '3fold_recon_eff.json'))\n",
    "\n",
    "plugin20 = S2Threshold(par_manager)\n",
    "plugin21 = S1ReconEff(par_manager, s1_eff)"
   ]
  },
  {
   "cell_type": "markdown",
   "id": "5c2a2c5b-598a-4e7a-8ac2-dd2bbd4642e3",
   "metadata": {},
   "source": [
    "# Pipeline"
   ]
  },
  {
   "cell_type": "code",
   "execution_count": 14,
   "id": "bf7d4eb5-826e-41e6-ae20-90bb6820fd47",
   "metadata": {},
   "outputs": [],
   "source": [
    "@apt.utils.timeit\n",
    "@partial(jit, static_argnums=(1, ))\n",
    "def sim(key, n):\n",
    "    key, energy = plugin1(key, n)\n",
    "    key, n_q = plugin2(key, energy)\n",
    "    key, n_i = plugin3(key, n_q)\n",
    "    key, r_mean = plugin4(key, energy)\n",
    "    key, r_std = plugin5(key, energy)\n",
    "    key, r = plugin6(key, r_mean, r_std)\n",
    "    key, n_ph, n_e = plugin7(key, n_q, n_i, r)\n",
    "    \n",
    "    key, x, y, z = plugin8(key, n)\n",
    "    key, s1_correction = plugin9(key, x, y, z)\n",
    "    key, s2_correction = plugin10(key, x, y)\n",
    "    key, n_s1_phd = plugin11(key, n_ph, s1_correction)\n",
    "    key, n_s1_pe = plugin12(key, n_s1_phd)\n",
    "    key, surv_prob = plugin13(key, z)\n",
    "    key, n_e_drifted = plugin14(key, n_e, surv_prob)\n",
    "    key, n_s2_pe = plugin15(key, n_e_drifted, s2_correction)\n",
    "    \n",
    "    key, s1 = plugin16(key, n_s1_phd, n_s1_pe)\n",
    "    key, s2 = plugin17(key, n_s2_pe)\n",
    "    key, cs1 = plugin18(key, s1, s1_correction)\n",
    "    key, cs2 = plugin19(key, s2, s2_correction, surv_prob)\n",
    "    \n",
    "    key, acc_s2_threshold = plugin20(key, s2)\n",
    "    key, acc_s1_recon_eff = plugin21(key, n_s1_phd)\n",
    "    \n",
    "    eff = acc_s2_threshold*acc_s1_recon_eff\n",
    "    \n",
    "    hist, be = jnp.histogramdd(\n",
    "        jnp.asarray([cs1, cs2]).T,\n",
    "        bins=(jnp.linspace(0,100,101), jnp.logspace(2.5,4.1,81)),\n",
    "        weights=eff\n",
    "    )\n",
    "    \n",
    "    return key, hist, be"
   ]
  },
  {
   "cell_type": "code",
   "execution_count": 15,
   "id": "9eae65d9-1ebd-4c80-96e1-ad3285d3c5d4",
   "metadata": {},
   "outputs": [],
   "source": [
    "batch_size = int(1e6)\n",
    "key = flex.randgen.get_key()"
   ]
  },
  {
   "cell_type": "markdown",
   "id": "08468bf7-369e-436c-8860-8be332cade10",
   "metadata": {},
   "source": [
    "#### Build"
   ]
  },
  {
   "cell_type": "code",
   "execution_count": 26,
   "id": "69ef1c0d-6be6-4a56-a9b3-4aaa1673cdc2",
   "metadata": {},
   "outputs": [
    {
     "name": "stdout",
     "output_type": "stream",
     "text": [
      " Function <sim> starts. \n",
      " Function <sim> ends! Time cost = 3.471851 msec. \n"
     ]
    }
   ],
   "source": [
    "key, hist, be = sim(key, batch_size)"
   ]
  },
  {
   "cell_type": "code",
   "execution_count": 27,
   "id": "de2d8f6a-c940-4706-a517-f75e11ba9a48",
   "metadata": {},
   "outputs": [
    {
     "data": {
      "image/png": "[encoded data removed]",
      "text/plain": [
       "<Figure size 432x288 with 2 Axes>"
      ]
     },
     "metadata": {
      "needs_background": "light"
     },
     "output_type": "display_data"
    }
   ],
   "source": [
    "import numpy as np\n",
    "import multihist as mh\n",
    "from matplotlib.colors import LogNorm\n",
    "import matplotlib.pyplot as plt\n",
    "\n",
    "hist = mh.Histdd.from_histogram(\n",
    "    np.array(hist), \n",
    "    be, \n",
    "    axis_names=['cs1', 'cs2']\n",
    ")\n",
    "hist.plot(norm=LogNorm())\n",
    "plt.yscale('log')\n",
    "plt.show()"
   ]
  },
  {
   "cell_type": "markdown",
   "id": "adf3bc52-4fda-4523-894e-0784f81dcfee",
   "metadata": {},
   "source": [
    "#### Speed test"
   ]
  },
  {
   "cell_type": "code",
   "execution_count": 33,
   "id": "30fd0ad7-12f3-42cf-a77c-cb7153b8cfbf",
   "metadata": {},
   "outputs": [],
   "source": [
    "@apt.utils.timeit\n",
    "def benchmark():\n",
    "    key = randgen.get_key()\n",
    "    for itr in range(100):\n",
    "        key, _, _ = sim(key, int(1e6))"
   ]
  },
  {
   "cell_type": "code",
   "execution_count": 34,
   "id": "8d233501-a06f-44aa-8308-2a4c979831ed",
   "metadata": {},
   "outputs": [
    {
     "name": "stdout",
     "output_type": "stream",
     "text": [
      " Function <benchmark> starts. \n",
      " Function <sim> starts. \n",
      " Function <sim> ends! Time cost = 3.857851 msec. \n",
      " Function <sim> starts. \n",
      " Function <sim> ends! Time cost = 2.415419 msec. \n",
      " Function <sim> starts. \n",
      " Function <sim> ends! Time cost = 9.947538 msec. \n",
      " Function <sim> starts. \n",
      " Function <sim> ends! Time cost = 16.908646 msec. \n",
      " Function <sim> starts. \n",
      " Function <sim> ends! Time cost = 17.529249 msec. \n",
      " Function <sim> starts. \n",
      " Function <sim> ends! Time cost = 15.424013 msec. \n",
      " Function <sim> starts. \n",
      " Function <sim> ends! Time cost = 15.437126 msec. \n",
      " Function <sim> starts. \n",
      " Function <sim> ends! Time cost = 13.357639 msec. \n",
      " Function <sim> starts. \n",
      " Function <sim> ends! Time cost = 13.141870 msec. \n",
      " Function <sim> starts. \n",
      " Function <sim> ends! Time cost = 16.897202 msec. \n",
      " Function <sim> starts. \n",
      " Function <sim> ends! Time cost = 15.310049 msec. \n",
      " Function <sim> starts. \n",
      " Function <sim> ends! Time cost = 17.514467 msec. \n",
      " Function <sim> starts. \n",
      " Function <sim> ends! Time cost = 13.545513 msec. \n",
      " Function <sim> starts. \n",
      " Function <sim> ends! Time cost = 13.510466 msec. \n",
      " Function <sim> starts. \n",
      " Function <sim> ends! Time cost = 17.168522 msec. \n",
      " Function <sim> starts. \n",
      " Function <sim> ends! Time cost = 17.366886 msec. \n",
      " Function <sim> starts. \n",
      " Function <sim> ends! Time cost = 15.211821 msec. \n",
      " Function <sim> starts. \n",
      " Function <sim> ends! Time cost = 13.463736 msec. \n",
      " Function <sim> starts. \n",
      " Function <sim> ends! Time cost = 13.661861 msec. \n",
      " Function <sim> starts. \n",
      " Function <sim> ends! Time cost = 15.616655 msec. \n",
      " Function <sim> starts. \n",
      " Function <sim> ends! Time cost = 22.808790 msec. \n",
      " Function <sim> starts. \n",
      " Function <sim> ends! Time cost = 17.169237 msec. \n",
      " Function <sim> starts. \n",
      " Function <sim> ends! Time cost = 13.412714 msec. \n",
      " Function <sim> starts. \n",
      " Function <sim> ends! Time cost = 10.949373 msec. \n",
      " Function <sim> starts. \n",
      " Function <sim> ends! Time cost = 13.514757 msec. \n",
      " Function <sim> starts. \n",
      " Function <sim> ends! Time cost = 17.864466 msec. \n",
      " Function <sim> starts. \n",
      " Function <sim> ends! Time cost = 18.673182 msec. \n",
      " Function <sim> starts. \n",
      " Function <sim> ends! Time cost = 15.275717 msec. \n",
      " Function <sim> starts. \n",
      " Function <sim> ends! Time cost = 13.422251 msec. \n",
      " Function <sim> starts. \n",
      " Function <sim> ends! Time cost = 13.493299 msec. \n",
      " Function <sim> starts. \n",
      " Function <sim> ends! Time cost = 10.951281 msec. \n",
      " Function <sim> starts. \n",
      " Function <sim> ends! Time cost = 24.085045 msec. \n",
      " Function <sim> starts. \n",
      " Function <sim> ends! Time cost = 18.848658 msec. \n",
      " Function <sim> starts. \n",
      " Function <sim> ends! Time cost = 13.419867 msec. \n",
      " Function <sim> starts. \n",
      " Function <sim> ends! Time cost = 13.424397 msec. \n",
      " Function <sim> starts. \n",
      " Function <sim> ends! Time cost = 13.424873 msec. \n",
      " Function <sim> starts. \n",
      " Function <sim> ends! Time cost = 15.008211 msec. \n",
      " Function <sim> starts. \n",
      " Function <sim> ends! Time cost = 21.480799 msec. \n",
      " Function <sim> starts. \n",
      " Function <sim> ends! Time cost = 13.484716 msec. \n",
      " Function <sim> starts. \n",
      " Function <sim> ends! Time cost = 13.490677 msec. \n",
      " Function <sim> starts. \n",
      " Function <sim> ends! Time cost = 13.496637 msec. \n",
      " Function <sim> starts. \n",
      " Function <sim> ends! Time cost = 17.353058 msec. \n",
      " Function <sim> starts. \n",
      " Function <sim> ends! Time cost = 23.852825 msec. \n",
      " Function <sim> starts. \n",
      " Function <sim> ends! Time cost = 12.269020 msec. \n",
      " Function <sim> starts. \n",
      " Function <sim> ends! Time cost = 13.539791 msec. \n",
      " Function <sim> starts. \n",
      " Function <sim> ends! Time cost = 13.684034 msec. \n",
      " Function <sim> starts. \n",
      " Function <sim> ends! Time cost = 15.721560 msec. \n",
      " Function <sim> starts. \n",
      " Function <sim> ends! Time cost = 17.491579 msec. \n",
      " Function <sim> starts. \n",
      " Function <sim> ends! Time cost = 15.220881 msec. \n",
      " Function <sim> starts. \n",
      " Function <sim> ends! Time cost = 13.494492 msec. \n",
      " Function <sim> starts. \n",
      " Function <sim> ends! Time cost = 13.578892 msec. \n",
      " Function <sim> starts. \n",
      " Function <sim> ends! Time cost = 11.081219 msec. \n",
      " Function <sim> starts. \n",
      " Function <sim> ends! Time cost = 17.690420 msec. \n",
      " Function <sim> starts. \n",
      " Function <sim> ends! Time cost = 19.740105 msec. \n",
      " Function <sim> starts. \n",
      " Function <sim> ends! Time cost = 20.134926 msec. \n",
      " Function <sim> starts. \n",
      " Function <sim> ends! Time cost = 14.495373 msec. \n",
      " Function <sim> starts. \n",
      " Function <sim> ends! Time cost = 13.376951 msec. \n",
      " Function <sim> starts. \n",
      " Function <sim> ends! Time cost = 14.854670 msec. \n",
      " Function <sim> starts. \n",
      " Function <sim> ends! Time cost = 17.478228 msec. \n",
      " Function <sim> starts. \n",
      " Function <sim> ends! Time cost = 13.581276 msec. \n",
      " Function <sim> starts. \n",
      " Function <sim> ends! Time cost = 13.085604 msec. \n",
      " Function <sim> starts. \n",
      " Function <sim> ends! Time cost = 13.408661 msec. \n",
      " Function <sim> starts. \n",
      " Function <sim> ends! Time cost = 17.581224 msec. \n",
      " Function <sim> starts. \n",
      " Function <sim> ends! Time cost = 17.334700 msec. \n",
      " Function <sim> starts. \n",
      " Function <sim> ends! Time cost = 13.689995 msec. \n",
      " Function <sim> starts. \n",
      " Function <sim> ends! Time cost = 10.845661 msec. \n",
      " Function <sim> starts. \n",
      " Function <sim> ends! Time cost = 19.111633 msec. \n",
      " Function <sim> starts. \n",
      " Function <sim> ends! Time cost = 15.571356 msec. \n",
      " Function <sim> starts. \n",
      " Function <sim> ends! Time cost = 19.359827 msec. \n",
      " Function <sim> starts. \n",
      " Function <sim> ends! Time cost = 13.412714 msec. \n",
      " Function <sim> starts. \n",
      " Function <sim> ends! Time cost = 13.424397 msec. \n",
      " Function <sim> starts. \n",
      " Function <sim> ends! Time cost = 15.605927 msec. \n",
      " Function <sim> starts. \n",
      " Function <sim> ends! Time cost = 13.695717 msec. \n",
      " Function <sim> starts. \n",
      " Function <sim> ends! Time cost = 19.682646 msec. \n",
      " Function <sim> starts. \n",
      " Function <sim> ends! Time cost = 15.460491 msec. \n",
      " Function <sim> starts. \n",
      " Function <sim> ends! Time cost = 13.413906 msec. \n",
      " Function <sim> starts. \n",
      " Function <sim> ends! Time cost = 13.406992 msec. \n",
      " Function <sim> starts. \n",
      " Function <sim> ends! Time cost = 17.924070 msec. \n",
      " Function <sim> starts. \n",
      " Function <sim> ends! Time cost = 20.936251 msec. \n",
      " Function <sim> starts. \n",
      " Function <sim> ends! Time cost = 12.790918 msec. \n",
      " Function <sim> starts. \n",
      " Function <sim> ends! Time cost = 13.549328 msec. \n",
      " Function <sim> starts. \n",
      " Function <sim> ends! Time cost = 13.475657 msec. \n",
      " Function <sim> starts. \n",
      " Function <sim> ends! Time cost = 13.521194 msec. \n",
      " Function <sim> starts. \n",
      " Function <sim> ends! Time cost = 22.892237 msec. \n",
      " Function <sim> starts. \n",
      " Function <sim> ends! Time cost = 17.239332 msec. \n",
      " Function <sim> starts. \n",
      " Function <sim> ends! Time cost = 13.505936 msec. \n",
      " Function <sim> starts. \n",
      " Function <sim> ends! Time cost = 11.000872 msec. \n",
      " Function <sim> starts. \n",
      " Function <sim> ends! Time cost = 13.622046 msec. \n",
      " Function <sim> starts. \n",
      " Function <sim> ends! Time cost = 17.851114 msec. \n",
      " Function <sim> starts. \n",
      " Function <sim> ends! Time cost = 23.826838 msec. \n",
      " Function <sim> starts. \n",
      " Function <sim> ends! Time cost = 13.339996 msec. \n",
      " Function <sim> starts. \n",
      " Function <sim> ends! Time cost = 13.420582 msec. \n",
      " Function <sim> starts. \n",
      " Function <sim> ends! Time cost = 13.434410 msec. \n",
      " Function <sim> starts. \n",
      " Function <sim> ends! Time cost = 10.998726 msec. \n",
      " Function <sim> starts. \n",
      " Function <sim> ends! Time cost = 21.632195 msec. \n",
      " Function <sim> starts. \n",
      " Function <sim> ends! Time cost = 16.595602 msec. \n",
      " Function <sim> starts. \n",
      " Function <sim> ends! Time cost = 13.361692 msec. \n",
      " Function <sim> starts. \n",
      " Function <sim> ends! Time cost = 13.443470 msec. \n",
      " Function <sim> starts. \n",
      " Function <sim> ends! Time cost = 13.600826 msec. \n",
      " Function <sim> starts. \n",
      " Function <sim> ends! Time cost = 14.855623 msec. \n",
      " Function <benchmark> ends! Time cost = 1528.154850 msec. \n"
     ]
    }
   ],
   "source": [
    "benchmark()"
   ]
  },
  {
   "cell_type": "code",
   "execution_count": null,
   "id": "8cb4f757-da12-4b8f-8b10-d61bc6e7d326",
   "metadata": {},
   "outputs": [],
   "source": []
  },
  {
   "cell_type": "code",
   "execution_count": null,
   "id": "b659a593-0c64-4ed6-a610-060035078c04",
   "metadata": {},
   "outputs": [],
   "source": []
  }
 ],
 "metadata": {
  "kernelspec": {
   "display_name": "Python 3 (ipykernel)",
   "language": "python",
   "name": "python3"
  },
  "language_info": {
   "codemirror_mode": {
    "name": "ipython",
    "version": 3
   },
   "file_extension": ".py",
   "mimetype": "text/x-python",
   "name": "python",
   "nbconvert_exporter": "python",
   "pygments_lexer": "ipython3",
   "version": "3.10.3"
  }
 },
 "nbformat": 4,
 "nbformat_minor": 5
}

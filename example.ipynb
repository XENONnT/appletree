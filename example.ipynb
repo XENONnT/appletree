{
 "cells": [
  {
   "cell_type": "code",
   "execution_count": null,
   "id": "ce795eeb-5b40-4db7-824d-a27012f82cd8",
   "metadata": {},
   "outputs": [],
   "source": [
    "import jax.numpy as jnp\n",
    "import numpy as np\n",
    "import os\n",
    "from jax import jit\n",
    "from functools import partial\n",
    "import matplotlib.pyplot as plt\n",
    "\n",
    "import appletree as apt\n",
    "from appletree import flex\n",
    "from appletree import ipm\n",
    "from appletree import imm\n",
    "from appletree.flex import randgen\n",
    "from appletree.flex.plugin import *"
   ]
  },
  {
   "cell_type": "code",
   "execution_count": null,
   "id": "393025af-5ffb-4b6f-b8f1-50d748a8ee00",
   "metadata": {},
   "outputs": [],
   "source": [
    "apt.utils.set_gpu_memory_usage(0.2)\n",
    "par_manager = ipm.ParManager('./appletree/ipm/par_config/par_config.json')\n",
    "map_manager = imm.MapManager()"
   ]
  },
  {
   "cell_type": "code",
   "execution_count": null,
   "id": "26d97061-84d6-4ee9-9c2a-49a095702f18",
   "metadata": {},
   "outputs": [],
   "source": [
    "par_manager.sample_init()\n",
    "par_manager.get_all_parameter()"
   ]
  },
  {
   "cell_type": "code",
   "execution_count": null,
   "id": "54d05cac-3013-49a7-a8c1-79967cfc2cd8",
   "metadata": {},
   "outputs": [],
   "source": [
    "map_manager.register_json_map(os.path.join(imm.MAPPATH, 's1_correction_map_regbin.json'), coord_type='regbin', map_name='s1_lce')\n",
    "map_manager.register_json_map(os.path.join(imm.MAPPATH, 's2_correction_map_regbin.json'), coord_type='regbin', map_name='s2_lce')\n",
    "map_manager.register_json_map(os.path.join(imm.MAPPATH, 'elife.json'), coord_type='point', map_name='elife')\n",
    "map_manager.register_json_map(os.path.join(imm.MAPPATH, 's1_bias.json'), coord_type='point', map_name='s1_bias')\n",
    "map_manager.register_json_map(os.path.join(imm.MAPPATH, 's1_smearing.json'), coord_type='point', map_name='s1_smear')\n",
    "map_manager.register_json_map(os.path.join(imm.MAPPATH, 's2_bias.json'), coord_type='point', map_name='s2_bias')\n",
    "map_manager.register_json_map(os.path.join(imm.MAPPATH, 's2_smearing.json'), coord_type='point', map_name='s2_smear')\n",
    "map_manager.register_json_map(os.path.join(imm.MAPPATH, '3fold_recon_eff.json'), coord_type='point', map_name='s1_eff')"
   ]
  },
  {
   "cell_type": "code",
   "execution_count": null,
   "id": "4a311475-ce79-4764-b325-77194e164cfe",
   "metadata": {},
   "outputs": [],
   "source": [
    "map_manager.registration"
   ]
  },
  {
   "cell_type": "code",
   "execution_count": null,
   "id": "c0ee1f6a-07c6-462f-ae76-3d7f936aace7",
   "metadata": {},
   "outputs": [],
   "source": [
    "args = (par_manager, map_manager)"
   ]
  },
  {
   "cell_type": "markdown",
   "id": "0c9a2e03-1239-455d-80df-416c8f7cf558",
   "metadata": {},
   "source": [
    "#### Microphysics plugins"
   ]
  },
  {
   "cell_type": "code",
   "execution_count": null,
   "id": "f96d0e6c-8677-49ef-a609-b39d50ac33fc",
   "metadata": {},
   "outputs": [],
   "source": [
    "plugin1 = EnergySpectra(*args)\n",
    "plugin2 = Quenching(*args)\n",
    "plugin3 = Ionization(*args)\n",
    "plugin4 = mTI(*args)\n",
    "plugin5 = RecombFluct(*args)\n",
    "plugin6 = TrueRecomb(*args)\n",
    "plugin7 = Recombination(*args)"
   ]
  },
  {
   "cell_type": "markdown",
   "id": "9d262a44-2e3b-4ba4-9e5e-6c0e1278b67a",
   "metadata": {},
   "source": [
    "#### Detector plugins"
   ]
  },
  {
   "cell_type": "code",
   "execution_count": null,
   "id": "81a0aeda-52da-4edf-b645-a704b7d69221",
   "metadata": {},
   "outputs": [],
   "source": [
    "plugin8 = PositionSpectra(*args)\n",
    "plugin9 = S1Correction(*args)\n",
    "plugin10 = S2Correction(*args)\n",
    "plugin11 = PhotonDetection(*args)\n",
    "plugin12 = S1PE(*args)\n",
    "plugin13 = DriftLoss(*args)\n",
    "plugin14 = ElectronDrifted(*args)\n",
    "plugin15 = S2PE(*args)"
   ]
  },
  {
   "cell_type": "markdown",
   "id": "a2eb4c50-b232-4b85-83d9-b39a9030db4e",
   "metadata": {},
   "source": [
    "#### Reconstruction plugins"
   ]
  },
  {
   "cell_type": "code",
   "execution_count": null,
   "id": "8455182d-d9a1-4c7d-960f-1f8bfd132c1d",
   "metadata": {},
   "outputs": [],
   "source": [
    "plugin16 = S1(*args)\n",
    "plugin17 = S2(*args)\n",
    "plugin18 = cS1(*args)\n",
    "plugin19 = cS2(*args)"
   ]
  },
  {
   "cell_type": "markdown",
   "id": "7e925c6a-42bf-414e-b94f-44d38be6bedc",
   "metadata": {},
   "source": [
    "#### Efficiency plugins"
   ]
  },
  {
   "cell_type": "code",
   "execution_count": null,
   "id": "8eb088e4-e9f7-4dce-b521-c275a8911b22",
   "metadata": {},
   "outputs": [],
   "source": [
    "plugin20 = S2Threshold(*args)\n",
    "plugin21 = S1ReconEff(*args)"
   ]
  },
  {
   "cell_type": "markdown",
   "id": "481604f6-69c7-48c7-ac60-3a77805ed1df",
   "metadata": {},
   "source": [
    "# Get binning"
   ]
  },
  {
   "cell_type": "code",
   "execution_count": null,
   "id": "f12368ab-9113-4c37-9b34-0d8dada522fe",
   "metadata": {},
   "outputs": [],
   "source": [
    "import pandas as pd\n",
    "data = pd.read_csv('./appletree/bbf/data/data_XENONnT_Rn220_v8_strax_v1.2.2_straxen_v1.7.1_cutax_v1.9.0.csv')\n",
    "x_bins, y_bins = apt.utils.get_equiprob_bins_2d(\n",
    "    data[['cs1', 'cs2']].to_numpy(),\n",
    "    [15, 15],\n",
    "    order=[0, 1],\n",
    "    x_clip=[0, 100],\n",
    "    y_clip=[1e2, 1e4]\n",
    ")"
   ]
  },
  {
   "cell_type": "markdown",
   "id": "5c2a2c5b-598a-4e7a-8ac2-dd2bbd4642e3",
   "metadata": {},
   "source": [
    "# Pipeline"
   ]
  },
  {
   "cell_type": "code",
   "execution_count": null,
   "id": "bf7d4eb5-826e-41e6-ae20-90bb6820fd47",
   "metadata": {},
   "outputs": [],
   "source": [
    "@apt.utils.timeit\n",
    "@partial(jit, static_argnums=(1, ))\n",
    "def sim(key, n):\n",
    "    key, energy = plugin1(key, n)\n",
    "    key, n_q = plugin2(key, energy)\n",
    "    key, n_i = plugin3(key, n_q)\n",
    "    key, r_mean = plugin4(key, energy)\n",
    "    key, r_std = plugin5(key, energy)\n",
    "    key, r = plugin6(key, r_mean, r_std)\n",
    "    key, n_ph, n_e = plugin7(key, n_q, n_i, r)\n",
    "    \n",
    "    key, x, y, z = plugin8(key, n)\n",
    "    key, s1_correction = plugin9(key, x, y, z)\n",
    "    key, s2_correction = plugin10(key, x, y)\n",
    "    key, n_s1_phd = plugin11(key, n_ph, s1_correction)\n",
    "    key, n_s1_pe = plugin12(key, n_s1_phd)\n",
    "    key, surv_prob = plugin13(key, z)\n",
    "    key, n_e_drifted = plugin14(key, n_e, surv_prob)\n",
    "    key, n_s2_pe = plugin15(key, n_e_drifted, s2_correction)\n",
    "    \n",
    "    key, s1 = plugin16(key, n_s1_phd, n_s1_pe)\n",
    "    key, s2 = plugin17(key, n_s2_pe)\n",
    "    key, cs1 = plugin18(key, s1, s1_correction)\n",
    "    key, cs2 = plugin19(key, s2, s2_correction, surv_prob)\n",
    "    \n",
    "    key, acc_s2_threshold = plugin20(key, s2)\n",
    "    key, acc_s1_recon_eff = plugin21(key, n_s1_phd)\n",
    "    \n",
    "    eff = acc_s2_threshold*acc_s1_recon_eff\n",
    "    \n",
    "    hist = flex.hist.make_hist_irreg_bin_2d(\n",
    "        jnp.asarray([cs1, cs2]).T,\n",
    "        x_bins, y_bins, weights=eff\n",
    "    )\n",
    "    \n",
    "    return key, hist"
   ]
  },
  {
   "cell_type": "code",
   "execution_count": null,
   "id": "9eae65d9-1ebd-4c80-96e1-ad3285d3c5d4",
   "metadata": {},
   "outputs": [],
   "source": [
    "batch_size = int(1e6)\n",
    "key = flex.randgen.get_key()"
   ]
  },
  {
   "cell_type": "markdown",
   "id": "08468bf7-369e-436c-8860-8be332cade10",
   "metadata": {},
   "source": [
    "#### Build"
   ]
  },
  {
   "cell_type": "code",
   "execution_count": null,
   "id": "69ef1c0d-6be6-4a56-a9b3-4aaa1673cdc2",
   "metadata": {},
   "outputs": [],
   "source": [
    "key, hist = sim(key, batch_size)"
   ]
  },
  {
   "cell_type": "code",
   "execution_count": null,
   "id": "9d2d140f-ef42-419e-80e9-04db4c608d1f",
   "metadata": {},
   "outputs": [],
   "source": [
    "apt.utils.plot_irreg_histogram_2d(x_bins, y_bins, hist, density=False)\n",
    "plt.yscale('log')\n",
    "plt.ylim(5e2, 1e4)"
   ]
  },
  {
   "cell_type": "markdown",
   "id": "adf3bc52-4fda-4523-894e-0784f81dcfee",
   "metadata": {},
   "source": [
    "#### Speed test"
   ]
  },
  {
   "cell_type": "code",
   "execution_count": 64,
   "id": "30fd0ad7-12f3-42cf-a77c-cb7153b8cfbf",
   "metadata": {},
   "outputs": [],
   "source": [
    "@apt.utils.timeit\n",
    "def benchmark():\n",
    "    key = randgen.get_key()\n",
    "    for itr in range(100):\n",
    "        key, _ = sim(key, int(1e6))"
   ]
  },
  {
   "cell_type": "code",
   "execution_count": 65,
   "id": "8d233501-a06f-44aa-8308-2a4c979831ed",
   "metadata": {},
   "outputs": [
    {
     "name": "stdout",
     "output_type": "stream",
     "text": [
      " Function <benchmark> starts. \n",
      " Function <sim> starts. \n",
      " Function <sim> ends! Time cost = 1.127958 msec. \n",
      " Function <sim> starts. \n",
      " Function <sim> ends! Time cost = 1.078367 msec. \n",
      " Function <sim> starts. \n",
      " Function <sim> ends! Time cost = 9.681702 msec. \n",
      " Function <sim> starts. \n",
      " Function <sim> ends! Time cost = 13.568640 msec. \n",
      " Function <sim> starts. \n",
      " Function <sim> ends! Time cost = 13.511658 msec. \n",
      " Function <sim> starts. \n",
      " Function <sim> ends! Time cost = 19.915819 msec. \n",
      " Function <sim> starts. \n",
      " Function <sim> ends! Time cost = 19.883871 msec. \n",
      " Function <sim> starts. \n",
      " Function <sim> ends! Time cost = 17.416954 msec. \n",
      " Function <sim> starts. \n",
      " Function <sim> ends! Time cost = 13.598919 msec. \n",
      " Function <sim> starts. \n",
      " Function <sim> ends! Time cost = 10.976315 msec. \n",
      " Function <sim> starts. \n",
      " Function <sim> ends! Time cost = 17.527580 msec. \n",
      " Function <sim> starts. \n",
      " Function <sim> ends! Time cost = 15.602827 msec. \n",
      " Function <sim> starts. \n",
      " Function <sim> ends! Time cost = 18.872499 msec. \n",
      " Function <sim> starts. \n",
      " Function <sim> ends! Time cost = 13.535023 msec. \n",
      " Function <sim> starts. \n",
      " Function <sim> ends! Time cost = 13.547421 msec. \n",
      " Function <sim> starts. \n",
      " Function <sim> ends! Time cost = 17.789602 msec. \n",
      " Function <sim> starts. \n",
      " Function <sim> ends! Time cost = 15.577316 msec. \n",
      " Function <sim> starts. \n",
      " Function <sim> ends! Time cost = 17.447233 msec. \n",
      " Function <sim> starts. \n",
      " Function <sim> ends! Time cost = 16.730070 msec. \n",
      " Function <sim> starts. \n",
      " Function <sim> ends! Time cost = 13.496399 msec. \n",
      " Function <sim> starts. \n",
      " Function <sim> ends! Time cost = 15.897751 msec. \n",
      " Function <sim> starts. \n",
      " Function <sim> ends! Time cost = 15.594721 msec. \n",
      " Function <sim> starts. \n",
      " Function <sim> ends! Time cost = 15.751362 msec. \n",
      " Function <sim> starts. \n",
      " Function <sim> ends! Time cost = 16.611338 msec. \n",
      " Function <sim> starts. \n",
      " Function <sim> ends! Time cost = 13.621569 msec. \n",
      " Function <sim> starts. \n",
      " Function <sim> ends! Time cost = 10.995626 msec. \n",
      " Function <sim> starts. \n",
      " Function <sim> ends! Time cost = 17.448187 msec. \n",
      " Function <sim> starts. \n",
      " Function <sim> ends! Time cost = 13.575554 msec. \n",
      " Function <sim> starts. \n",
      " Function <sim> ends! Time cost = 23.969173 msec. \n",
      " Function <sim> starts. \n",
      " Function <sim> ends! Time cost = 17.337322 msec. \n",
      " Function <sim> starts. \n",
      " Function <sim> ends! Time cost = 13.671875 msec. \n",
      " Function <sim> starts. \n",
      " Function <sim> ends! Time cost = 17.745972 msec. \n",
      " Function <sim> starts. \n",
      " Function <sim> ends! Time cost = 13.421774 msec. \n",
      " Function <sim> starts. \n",
      " Function <sim> ends! Time cost = 17.456770 msec. \n",
      " Function <sim> starts. \n",
      " Function <sim> ends! Time cost = 9.926319 msec. \n",
      " Function <sim> starts. \n",
      " Function <sim> ends! Time cost = 13.443708 msec. \n",
      " Function <sim> starts. \n",
      " Function <sim> ends! Time cost = 15.798807 msec. \n",
      " Function <sim> starts. \n",
      " Function <sim> ends! Time cost = 15.468121 msec. \n",
      " Function <sim> starts. \n",
      " Function <sim> ends! Time cost = 13.727665 msec. \n",
      " Function <sim> starts. \n",
      " Function <sim> ends! Time cost = 22.039652 msec. \n",
      " Function <sim> starts. \n",
      " Function <sim> ends! Time cost = 19.262791 msec. \n",
      " Function <sim> starts. \n",
      " Function <sim> ends! Time cost = 15.588760 msec. \n",
      " Function <sim> starts. \n",
      " Function <sim> ends! Time cost = 15.465498 msec. \n",
      " Function <sim> starts. \n",
      " Function <sim> ends! Time cost = 11.002064 msec. \n",
      " Function <sim> starts. \n",
      " Function <sim> ends! Time cost = 17.538071 msec. \n",
      " Function <sim> starts. \n",
      " Function <sim> ends! Time cost = 13.218403 msec. \n",
      " Function <sim> starts. \n",
      " Function <sim> ends! Time cost = 11.432171 msec. \n",
      " Function <sim> starts. \n",
      " Function <sim> ends! Time cost = 17.626524 msec. \n",
      " Function <sim> starts. \n",
      " Function <sim> ends! Time cost = 13.643742 msec. \n",
      " Function <sim> starts. \n",
      " Function <sim> ends! Time cost = 17.530680 msec. \n",
      " Function <sim> starts. \n",
      " Function <sim> ends! Time cost = 15.708923 msec. \n",
      " Function <sim> starts. \n",
      " Function <sim> ends! Time cost = 19.901991 msec. \n",
      " Function <sim> starts. \n",
      " Function <sim> ends! Time cost = 18.761873 msec. \n",
      " Function <sim> starts. \n",
      " Function <sim> ends! Time cost = 13.200283 msec. \n",
      " Function <sim> starts. \n",
      " Function <sim> ends! Time cost = 17.550230 msec. \n",
      " Function <sim> starts. \n",
      " Function <sim> ends! Time cost = 13.513327 msec. \n",
      " Function <sim> starts. \n",
      " Function <sim> ends! Time cost = 13.649464 msec. \n",
      " Function <sim> starts. \n",
      " Function <sim> ends! Time cost = 13.356924 msec. \n",
      " Function <sim> starts. \n",
      " Function <sim> ends! Time cost = 15.585184 msec. \n",
      " Function <sim> starts. \n",
      " Function <sim> ends! Time cost = 15.619040 msec. \n",
      " Function <sim> starts. \n",
      " Function <sim> ends! Time cost = 15.418053 msec. \n",
      " Function <sim> starts. \n",
      " Function <sim> ends! Time cost = 10.915518 msec. \n",
      " Function <sim> starts. \n",
      " Function <sim> ends! Time cost = 17.771482 msec. \n",
      " Function <sim> starts. \n",
      " Function <sim> ends! Time cost = 24.142981 msec. \n",
      " Function <sim> starts. \n",
      " Function <sim> ends! Time cost = 14.980793 msec. \n",
      " Function <sim> starts. \n",
      " Function <sim> ends! Time cost = 17.819643 msec. \n",
      " Function <sim> starts. \n",
      " Function <sim> ends! Time cost = 13.580322 msec. \n",
      " Function <sim> starts. \n",
      " Function <sim> ends! Time cost = 15.719891 msec. \n",
      " Function <sim> starts. \n",
      " Function <sim> ends! Time cost = 12.612343 msec. \n",
      " Function <sim> starts. \n",
      " Function <sim> ends! Time cost = 13.474703 msec. \n",
      " Function <sim> starts. \n",
      " Function <sim> ends! Time cost = 13.195515 msec. \n",
      " Function <sim> starts. \n",
      " Function <sim> ends! Time cost = 15.377522 msec. \n",
      " Function <sim> starts. \n",
      " Function <sim> ends! Time cost = 13.414145 msec. \n",
      " Function <sim> starts. \n",
      " Function <sim> ends! Time cost = 19.861221 msec. \n",
      " Function <sim> starts. \n",
      " Function <sim> ends! Time cost = 20.069122 msec. \n",
      " Function <sim> starts. \n",
      " Function <sim> ends! Time cost = 17.394781 msec. \n",
      " Function <sim> starts. \n",
      " Function <sim> ends! Time cost = 13.615370 msec. \n",
      " Function <sim> starts. \n",
      " Function <sim> ends! Time cost = 19.705057 msec. \n",
      " Function <sim> starts. \n",
      " Function <sim> ends! Time cost = 12.714148 msec. \n",
      " Function <sim> starts. \n",
      " Function <sim> ends! Time cost = 13.602972 msec. \n",
      " Function <sim> starts. \n",
      " Function <sim> ends! Time cost = 10.360956 msec. \n",
      " Function <sim> starts. \n",
      " Function <sim> ends! Time cost = 13.560295 msec. \n",
      " Function <sim> starts. \n",
      " Function <sim> ends! Time cost = 17.520905 msec. \n",
      " Function <sim> starts. \n",
      " Function <sim> ends! Time cost = 17.765522 msec. \n",
      " Function <sim> starts. \n",
      " Function <sim> ends! Time cost = 13.700962 msec. \n",
      " Function <sim> starts. \n",
      " Function <sim> ends! Time cost = 17.827988 msec. \n",
      " Function <sim> starts. \n",
      " Function <sim> ends! Time cost = 19.434214 msec. \n",
      " Function <sim> starts. \n",
      " Function <sim> ends! Time cost = 17.495632 msec. \n",
      " Function <sim> starts. \n",
      " Function <sim> ends! Time cost = 14.906406 msec. \n",
      " Function <sim> starts. \n",
      " Function <sim> ends! Time cost = 13.449430 msec. \n",
      " Function <sim> starts. \n",
      " Function <sim> ends! Time cost = 13.678551 msec. \n",
      " Function <sim> starts. \n",
      " Function <sim> ends! Time cost = 13.159513 msec. \n",
      " Function <sim> starts. \n",
      " Function <sim> ends! Time cost = 17.674446 msec. \n",
      " Function <sim> starts. \n",
      " Function <sim> ends! Time cost = 15.608788 msec. \n",
      " Function <sim> starts. \n",
      " Function <sim> ends! Time cost = 15.199423 msec. \n",
      " Function <sim> starts. \n",
      " Function <sim> ends! Time cost = 13.615608 msec. \n",
      " Function <sim> starts. \n",
      " Function <sim> ends! Time cost = 10.961533 msec. \n",
      " Function <sim> starts. \n",
      " Function <sim> ends! Time cost = 22.075891 msec. \n",
      " Function <sim> starts. \n",
      " Function <sim> ends! Time cost = 18.974304 msec. \n",
      " Function <sim> starts. \n",
      " Function <sim> ends! Time cost = 17.474174 msec. \n",
      " Function <benchmark> ends! Time cost = 1538.436174 msec. \n"
     ]
    }
   ],
   "source": [
    "benchmark()"
   ]
  },
  {
   "cell_type": "code",
   "execution_count": null,
   "id": "b659a593-0c64-4ed6-a610-060035078c04",
   "metadata": {},
   "outputs": [],
   "source": []
  }
 ],
 "metadata": {
  "kernelspec": {
   "display_name": "Python 3 (ipykernel)",
   "language": "python",
   "name": "python3"
  },
  "language_info": {
   "codemirror_mode": {
    "name": "ipython",
    "version": 3
   },
   "file_extension": ".py",
   "mimetype": "text/x-python",
   "name": "python",
   "nbconvert_exporter": "python",
   "pygments_lexer": "ipython3",
   "version": "3.10.3"
  }
 },
 "nbformat": 4,
 "nbformat_minor": 5
}

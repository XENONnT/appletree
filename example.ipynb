{
 "cells": [
  {
   "cell_type": "code",
   "execution_count": 1,
   "id": "ce795eeb-5b40-4db7-824d-a27012f82cd8",
   "metadata": {},
   "outputs": [],
   "source": [
    "import jax.numpy as jnp\n",
    "import numpy as np\n",
    "import os\n",
    "from jax import jit\n",
    "from functools import partial\n",
    "import matplotlib.pyplot as plt\n",
    "\n",
    "import appletree as apt\n",
    "from appletree import flex\n",
    "from appletree import ipm\n",
    "from appletree import imm\n",
    "from appletree.flex import randgen\n",
    "from appletree.flex.plugin import *"
   ]
  },
  {
   "cell_type": "code",
   "execution_count": 2,
   "id": "393025af-5ffb-4b6f-b8f1-50d748a8ee00",
   "metadata": {},
   "outputs": [],
   "source": [
    "apt.utils.set_gpu_memory_usage(0.2)\n",
    "par_manager = ipm.ParManager()\n",
    "map_manager = imm.MapManager()"
   ]
  },
  {
   "cell_type": "code",
   "execution_count": 3,
   "id": "54d05cac-3013-49a7-a8c1-79967cfc2cd8",
   "metadata": {},
   "outputs": [],
   "source": [
    "map_manager.register_json_map(os.path.join(imm.DATAPATH, 's1_correction_map_regbin.json'), coord_type='regbin', map_name='s1_lce')\n",
    "map_manager.register_json_map(os.path.join(imm.DATAPATH, 's2_correction_map_regbin.json'), coord_type='regbin', map_name='s2_lce')\n",
    "map_manager.register_json_map(os.path.join(imm.DATAPATH, 'elife.json'), coord_type='point', map_name='elife')\n",
    "map_manager.register_json_map(os.path.join(imm.DATAPATH, 's1_bias.json'), coord_type='point', map_name='s1_bias')\n",
    "map_manager.register_json_map(os.path.join(imm.DATAPATH, 's1_smearing.json'), coord_type='point', map_name='s1_smear')\n",
    "map_manager.register_json_map(os.path.join(imm.DATAPATH, 's2_bias.json'), coord_type='point', map_name='s2_bias')\n",
    "map_manager.register_json_map(os.path.join(imm.DATAPATH, 's2_smearing.json'), coord_type='point', map_name='s2_smear')\n",
    "map_manager.register_json_map(os.path.join(imm.DATAPATH, '3fold_recon_eff.json'), coord_type='point', map_name='s1_3fold_eff')"
   ]
  },
  {
   "cell_type": "code",
   "execution_count": 6,
   "id": "4a311475-ce79-4764-b325-77194e164cfe",
   "metadata": {},
   "outputs": [
    {
     "data": {
      "text/plain": [
       "{'s1_lce': '/home/zihaoxu/appletree/appletree/imm/data/s1_correction_map_regbin.json',\n",
       " 's2_lce': '/home/zihaoxu/appletree/appletree/imm/data/s2_correction_map_regbin.json',\n",
       " 'elife': '/home/zihaoxu/appletree/appletree/imm/data/elife.json',\n",
       " 's1_bias': '/home/zihaoxu/appletree/appletree/imm/data/s1_bias.json',\n",
       " 's1_smear': '/home/zihaoxu/appletree/appletree/imm/data/s1_smearing.json',\n",
       " 's2_bias': '/home/zihaoxu/appletree/appletree/imm/data/s2_bias.json',\n",
       " 's2_smear': '/home/zihaoxu/appletree/appletree/imm/data/s2_smearing.json',\n",
       " 's1_3fold_eff': '/home/zihaoxu/appletree/appletree/imm/data/3fold_recon_eff.json'}"
      ]
     },
     "execution_count": 6,
     "metadata": {},
     "output_type": "execute_result"
    }
   ],
   "source": [
    "map_manager.get_registration()"
   ]
  },
  {
   "cell_type": "markdown",
   "id": "0c9a2e03-1239-455d-80df-416c8f7cf558",
   "metadata": {},
   "source": [
    "#### Microphysics plugins"
   ]
  },
  {
   "cell_type": "code",
   "execution_count": 4,
   "id": "f96d0e6c-8677-49ef-a609-b39d50ac33fc",
   "metadata": {},
   "outputs": [],
   "source": [
    "plugin1 = EnergySpectra(par_manager, 0.01, 20.)\n",
    "plugin2 = Quenching(par_manager)\n",
    "plugin3 = Ionization(par_manager)\n",
    "plugin4 = mTI(par_manager)\n",
    "plugin5 = RecombFluct(par_manager)\n",
    "plugin6 = TrueRecomb(par_manager)\n",
    "plugin7 = Recombination(par_manager)"
   ]
  },
  {
   "cell_type": "markdown",
   "id": "9d262a44-2e3b-4ba4-9e5e-6c0e1278b67a",
   "metadata": {},
   "source": [
    "#### Detector plugins"
   ]
  },
  {
   "cell_type": "code",
   "execution_count": 7,
   "id": "81a0aeda-52da-4edf-b645-a704b7d69221",
   "metadata": {},
   "outputs": [],
   "source": [
    "plugin8 = PositionSpectra(par_manager)\n",
    "plugin9 = S1Correction(par_manager, map_manager.get_map('s1_lce'))\n",
    "plugin10 = S2Correction(par_manager, map_manager.get_map('s2_lce'))\n",
    "plugin11 = PhotonDetection(par_manager)\n",
    "plugin12 = S1PE(par_manager)\n",
    "plugin13 = DriftLoss(par_manager, map_manager.get_map('elife'))\n",
    "plugin14 = ElectronDrifted(par_manager)\n",
    "plugin15 = S2PE(par_manager)"
   ]
  },
  {
   "cell_type": "markdown",
   "id": "a2eb4c50-b232-4b85-83d9-b39a9030db4e",
   "metadata": {},
   "source": [
    "#### Reconstruction plugins"
   ]
  },
  {
   "cell_type": "code",
   "execution_count": 8,
   "id": "8455182d-d9a1-4c7d-960f-1f8bfd132c1d",
   "metadata": {},
   "outputs": [],
   "source": [
    "plugin16 = S1(par_manager, map_manager.get_map('s1_bias'), map_manager.get_map('s1_smear'))\n",
    "plugin17 = S2(par_manager, map_manager.get_map('s2_bias'), map_manager.get_map('s2_smear'))\n",
    "plugin18 = cS1(par_manager)\n",
    "plugin19 = cS2(par_manager)"
   ]
  },
  {
   "cell_type": "markdown",
   "id": "7e925c6a-42bf-414e-b94f-44d38be6bedc",
   "metadata": {},
   "source": [
    "#### Efficiency plugins"
   ]
  },
  {
   "cell_type": "code",
   "execution_count": 9,
   "id": "8eb088e4-e9f7-4dce-b521-c275a8911b22",
   "metadata": {},
   "outputs": [],
   "source": [
    "plugin20 = S2Threshold(par_manager)\n",
    "plugin21 = S1ReconEff(par_manager, map_manager.get_map('s1_3fold_eff'))"
   ]
  },
  {
   "cell_type": "markdown",
   "id": "5c2a2c5b-598a-4e7a-8ac2-dd2bbd4642e3",
   "metadata": {},
   "source": [
    "# Pipeline"
   ]
  },
  {
   "cell_type": "code",
   "execution_count": 10,
   "id": "bf7d4eb5-826e-41e6-ae20-90bb6820fd47",
   "metadata": {},
   "outputs": [],
   "source": [
    "@apt.utils.timeit\n",
    "@partial(jit, static_argnums=(1, ))\n",
    "def sim(key, n):\n",
    "    key, energy = plugin1(key, n)\n",
    "    key, n_q = plugin2(key, energy)\n",
    "    key, n_i = plugin3(key, n_q)\n",
    "    key, r_mean = plugin4(key, energy)\n",
    "    key, r_std = plugin5(key, energy)\n",
    "    key, r = plugin6(key, r_mean, r_std)\n",
    "    key, n_ph, n_e = plugin7(key, n_q, n_i, r)\n",
    "    \n",
    "    key, x, y, z = plugin8(key, n)\n",
    "    key, s1_correction = plugin9(key, x, y, z)\n",
    "    key, s2_correction = plugin10(key, x, y)\n",
    "    key, n_s1_phd = plugin11(key, n_ph, s1_correction)\n",
    "    key, n_s1_pe = plugin12(key, n_s1_phd)\n",
    "    key, surv_prob = plugin13(key, z)\n",
    "    key, n_e_drifted = plugin14(key, n_e, surv_prob)\n",
    "    key, n_s2_pe = plugin15(key, n_e_drifted, s2_correction)\n",
    "    \n",
    "    key, s1 = plugin16(key, n_s1_phd, n_s1_pe)\n",
    "    key, s2 = plugin17(key, n_s2_pe)\n",
    "    key, cs1 = plugin18(key, s1, s1_correction)\n",
    "    key, cs2 = plugin19(key, s2, s2_correction, surv_prob)\n",
    "    \n",
    "    key, acc_s2_threshold = plugin20(key, s2)\n",
    "    key, acc_s1_recon_eff = plugin21(key, n_s1_phd)\n",
    "    \n",
    "    eff = acc_s2_threshold*acc_s1_recon_eff\n",
    "    \n",
    "    hist, be = jnp.histogramdd(\n",
    "        jnp.asarray([cs1, cs2]).T,\n",
    "        bins=(jnp.linspace(0,100,101), jnp.logspace(2.5,4.1,81)),\n",
    "        weights=eff\n",
    "    )\n",
    "    \n",
    "    return key, hist, be"
   ]
  },
  {
   "cell_type": "code",
   "execution_count": 11,
   "id": "9eae65d9-1ebd-4c80-96e1-ad3285d3c5d4",
   "metadata": {},
   "outputs": [],
   "source": [
    "batch_size = int(1e6)\n",
    "key = flex.randgen.get_key()"
   ]
  },
  {
   "cell_type": "markdown",
   "id": "08468bf7-369e-436c-8860-8be332cade10",
   "metadata": {},
   "source": [
    "#### Build"
   ]
  },
  {
   "cell_type": "code",
   "execution_count": 12,
   "id": "69ef1c0d-6be6-4a56-a9b3-4aaa1673cdc2",
   "metadata": {},
   "outputs": [
    {
     "name": "stdout",
     "output_type": "stream",
     "text": [
      " Function <sim> starts. \n",
      " Function <sim> ends! Time cost = 5151.892185 msec. \n"
     ]
    }
   ],
   "source": [
    "key, hist, be = sim(key, batch_size)"
   ]
  },
  {
   "cell_type": "code",
   "execution_count": 13,
   "id": "de2d8f6a-c940-4706-a517-f75e11ba9a48",
   "metadata": {},
   "outputs": [
    {
     "data": {
      "image/png": "[encoded data removed]",
      "text/plain": [
       "<Figure size 432x288 with 2 Axes>"
      ]
     },
     "metadata": {
      "needs_background": "light"
     },
     "output_type": "display_data"
    }
   ],
   "source": [
    "import numpy as np\n",
    "import multihist as mh\n",
    "from matplotlib.colors import LogNorm\n",
    "import matplotlib.pyplot as plt\n",
    "\n",
    "hist = mh.Histdd.from_histogram(\n",
    "    np.array(hist), \n",
    "    be, \n",
    "    axis_names=['cs1', 'cs2']\n",
    ")\n",
    "hist.plot(norm=LogNorm())\n",
    "plt.yscale('log')\n",
    "plt.show()"
   ]
  },
  {
   "cell_type": "markdown",
   "id": "adf3bc52-4fda-4523-894e-0784f81dcfee",
   "metadata": {},
   "source": [
    "#### Speed test"
   ]
  },
  {
   "cell_type": "code",
   "execution_count": 14,
   "id": "30fd0ad7-12f3-42cf-a77c-cb7153b8cfbf",
   "metadata": {},
   "outputs": [],
   "source": [
    "@apt.utils.timeit\n",
    "def benchmark():\n",
    "    key = randgen.get_key()\n",
    "    for itr in range(100):\n",
    "        key, _, _ = sim(key, int(1e6))"
   ]
  },
  {
   "cell_type": "code",
   "execution_count": 15,
   "id": "8d233501-a06f-44aa-8308-2a4c979831ed",
   "metadata": {},
   "outputs": [
    {
     "name": "stdout",
     "output_type": "stream",
     "text": [
      " Function <benchmark> starts. \n",
      " Function <sim> starts. \n",
      " Function <sim> ends! Time cost = 4.128218 msec. \n",
      " Function <sim> starts. \n",
      " Function <sim> ends! Time cost = 3.060818 msec. \n",
      " Function <sim> starts. \n",
      " Function <sim> ends! Time cost = 5.967379 msec. \n",
      " Function <sim> starts. \n",
      " Function <sim> ends! Time cost = 17.715693 msec. \n",
      " Function <sim> starts. \n",
      " Function <sim> ends! Time cost = 17.577887 msec. \n",
      " Function <sim> starts. \n",
      " Function <sim> ends! Time cost = 13.336420 msec. \n",
      " Function <sim> starts. \n",
      " Function <sim> ends! Time cost = 15.454531 msec. \n",
      " Function <sim> starts. \n",
      " Function <sim> ends! Time cost = 19.866228 msec. \n",
      " Function <sim> starts. \n",
      " Function <sim> ends! Time cost = 17.364264 msec. \n",
      " Function <sim> starts. \n",
      " Function <sim> ends! Time cost = 15.374422 msec. \n",
      " Function <sim> starts. \n",
      " Function <sim> ends! Time cost = 15.302181 msec. \n",
      " Function <sim> starts. \n",
      " Function <sim> ends! Time cost = 13.527393 msec. \n",
      " Function <sim> starts. \n",
      " Function <sim> ends! Time cost = 13.462782 msec. \n",
      " Function <sim> starts. \n",
      " Function <sim> ends! Time cost = 10.601997 msec. \n",
      " Function <sim> starts. \n",
      " Function <sim> ends! Time cost = 17.587900 msec. \n",
      " Function <sim> starts. \n",
      " Function <sim> ends! Time cost = 15.332699 msec. \n",
      " Function <sim> starts. \n",
      " Function <sim> ends! Time cost = 10.815859 msec. \n",
      " Function <sim> starts. \n",
      " Function <sim> ends! Time cost = 13.689995 msec. \n",
      " Function <sim> starts. \n",
      " Function <sim> ends! Time cost = 15.915394 msec. \n",
      " Function <sim> starts. \n",
      " Function <sim> ends! Time cost = 24.142265 msec. \n",
      " Function <sim> starts. \n",
      " Function <sim> ends! Time cost = 20.943880 msec. \n",
      " Function <sim> starts. \n",
      " Function <sim> ends! Time cost = 13.483524 msec. \n",
      " Function <sim> starts. \n",
      " Function <sim> ends! Time cost = 13.638973 msec. \n",
      " Function <sim> starts. \n",
      " Function <sim> ends! Time cost = 13.684034 msec. \n",
      " Function <sim> starts. \n",
      " Function <sim> ends! Time cost = 16.997099 msec. \n",
      " Function <sim> starts. \n",
      " Function <sim> ends! Time cost = 14.727831 msec. \n",
      " Function <sim> starts. \n",
      " Function <sim> ends! Time cost = 13.269901 msec. \n",
      " Function <sim> starts. \n",
      " Function <sim> ends! Time cost = 13.704062 msec. \n",
      " Function <sim> starts. \n",
      " Function <sim> ends! Time cost = 13.584852 msec. \n",
      " Function <sim> starts. \n",
      " Function <sim> ends! Time cost = 17.754078 msec. \n",
      " Function <sim> starts. \n",
      " Function <sim> ends! Time cost = 21.881104 msec. \n",
      " Function <sim> starts. \n",
      " Function <sim> ends! Time cost = 21.015882 msec. \n",
      " Function <sim> starts. \n",
      " Function <sim> ends! Time cost = 13.348579 msec. \n",
      " Function <sim> starts. \n",
      " Function <sim> ends! Time cost = 10.990620 msec. \n",
      " Function <sim> starts. \n",
      " Function <sim> ends! Time cost = 13.773680 msec. \n",
      " Function <sim> starts. \n",
      " Function <sim> ends! Time cost = 17.924547 msec. \n",
      " Function <sim> starts. \n",
      " Function <sim> ends! Time cost = 14.725208 msec. \n",
      " Function <sim> starts. \n",
      " Function <sim> ends! Time cost = 13.641357 msec. \n",
      " Function <sim> starts. \n",
      " Function <sim> ends! Time cost = 13.422489 msec. \n",
      " Function <sim> starts. \n",
      " Function <sim> ends! Time cost = 13.394594 msec. \n",
      " Function <sim> starts. \n",
      " Function <sim> ends! Time cost = 17.684221 msec. \n",
      " Function <sim> starts. \n",
      " Function <sim> ends! Time cost = 23.672104 msec. \n",
      " Function <sim> starts. \n",
      " Function <sim> ends! Time cost = 15.301228 msec. \n",
      " Function <sim> starts. \n",
      " Function <sim> ends! Time cost = 15.954733 msec. \n",
      " Function <sim> starts. \n",
      " Function <sim> ends! Time cost = 13.734341 msec. \n",
      " Function <sim> starts. \n",
      " Function <sim> ends! Time cost = 15.794039 msec. \n",
      " Function <sim> starts. \n",
      " Function <sim> ends! Time cost = 19.280910 msec. \n",
      " Function <sim> starts. \n",
      " Function <sim> ends! Time cost = 12.115240 msec. \n",
      " Function <sim> starts. \n",
      " Function <sim> ends! Time cost = 13.190031 msec. \n",
      " Function <sim> starts. \n",
      " Function <sim> ends! Time cost = 10.949850 msec. \n",
      " Function <sim> starts. \n",
      " Function <sim> ends! Time cost = 13.478518 msec. \n",
      " Function <sim> starts. \n",
      " Function <sim> ends! Time cost = 19.898415 msec. \n",
      " Function <sim> starts. \n",
      " Function <sim> ends! Time cost = 15.361071 msec. \n",
      " Function <sim> starts. \n",
      " Function <sim> ends! Time cost = 19.974709 msec. \n",
      " Function <sim> starts. \n",
      " Function <sim> ends! Time cost = 17.105818 msec. \n",
      " Function <sim> starts. \n",
      " Function <sim> ends! Time cost = 13.290644 msec. \n",
      " Function <sim> starts. \n",
      " Function <sim> ends! Time cost = 19.518614 msec. \n",
      " Function <sim> starts. \n",
      " Function <sim> ends! Time cost = 12.857437 msec. \n",
      " Function <sim> starts. \n",
      " Function <sim> ends! Time cost = 13.547897 msec. \n",
      " Function <sim> starts. \n",
      " Function <sim> ends! Time cost = 12.868166 msec. \n",
      " Function <sim> starts. \n",
      " Function <sim> ends! Time cost = 13.464451 msec. \n",
      " Function <sim> starts. \n",
      " Function <sim> ends! Time cost = 17.665863 msec. \n",
      " Function <sim> starts. \n",
      " Function <sim> ends! Time cost = 17.278671 msec. \n",
      " Function <sim> starts. \n",
      " Function <sim> ends! Time cost = 13.402700 msec. \n",
      " Function <sim> starts. \n",
      " Function <sim> ends! Time cost = 13.036728 msec. \n",
      " Function <sim> starts. \n",
      " Function <sim> ends! Time cost = 20.095348 msec. \n",
      " Function <sim> starts. \n",
      " Function <sim> ends! Time cost = 14.620543 msec. \n",
      " Function <sim> starts. \n",
      " Function <sim> ends! Time cost = 17.842293 msec. \n",
      " Function <sim> starts. \n",
      " Function <sim> ends! Time cost = 17.198563 msec. \n",
      " Function <sim> starts. \n",
      " Function <sim> ends! Time cost = 13.521910 msec. \n",
      " Function <sim> starts. \n",
      " Function <sim> ends! Time cost = 12.860537 msec. \n",
      " Function <sim> starts. \n",
      " Function <sim> ends! Time cost = 13.319492 msec. \n",
      " Function <sim> starts. \n",
      " Function <sim> ends! Time cost = 12.962341 msec. \n",
      " Function <sim> starts. \n",
      " Function <sim> ends! Time cost = 19.524574 msec. \n",
      " Function <sim> starts. \n",
      " Function <sim> ends! Time cost = 13.394117 msec. \n",
      " Function <sim> starts. \n",
      " Function <sim> ends! Time cost = 13.368130 msec. \n",
      " Function <sim> starts. \n",
      " Function <sim> ends! Time cost = 19.852161 msec. \n",
      " Function <sim> starts. \n",
      " Function <sim> ends! Time cost = 20.236254 msec. \n",
      " Function <sim> starts. \n",
      " Function <sim> ends! Time cost = 19.149303 msec. \n",
      " Function <sim> starts. \n",
      " Function <sim> ends! Time cost = 10.926723 msec. \n",
      " Function <sim> starts. \n",
      " Function <sim> ends! Time cost = 13.630867 msec. \n",
      " Function <sim> starts. \n",
      " Function <sim> ends! Time cost = 13.539553 msec. \n",
      " Function <sim> starts. \n",
      " Function <sim> ends! Time cost = 14.858484 msec. \n",
      " Function <sim> starts. \n",
      " Function <sim> ends! Time cost = 17.518997 msec. \n",
      " Function <sim> starts. \n",
      " Function <sim> ends! Time cost = 15.145063 msec. \n",
      " Function <sim> starts. \n",
      " Function <sim> ends! Time cost = 13.594866 msec. \n",
      " Function <sim> starts. \n",
      " Function <sim> ends! Time cost = 11.012316 msec. \n",
      " Function <sim> starts. \n",
      " Function <sim> ends! Time cost = 17.797232 msec. \n",
      " Function <sim> starts. \n",
      " Function <sim> ends! Time cost = 24.284840 msec. \n",
      " Function <sim> starts. \n",
      " Function <sim> ends! Time cost = 18.300533 msec. \n",
      " Function <sim> starts. \n",
      " Function <sim> ends! Time cost = 13.554573 msec. \n",
      " Function <sim> starts. \n",
      " Function <sim> ends! Time cost = 13.483286 msec. \n",
      " Function <sim> starts. \n",
      " Function <sim> ends! Time cost = 13.442993 msec. \n",
      " Function <sim> starts. \n",
      " Function <sim> ends! Time cost = 14.101028 msec. \n",
      " Function <sim> starts. \n",
      " Function <sim> ends! Time cost = 17.382383 msec. \n",
      " Function <sim> starts. \n",
      " Function <sim> ends! Time cost = 13.406992 msec. \n",
      " Function <sim> starts. \n",
      " Function <sim> ends! Time cost = 13.458729 msec. \n",
      " Function <sim> starts. \n",
      " Function <sim> ends! Time cost = 13.375998 msec. \n",
      " Function <sim> starts. \n",
      " Function <sim> ends! Time cost = 19.801617 msec. \n",
      " Function <sim> starts. \n",
      " Function <sim> ends! Time cost = 19.153357 msec. \n",
      " Function <benchmark> ends! Time cost = 1535.971880 msec. \n"
     ]
    }
   ],
   "source": [
    "benchmark()"
   ]
  },
  {
   "cell_type": "code",
   "execution_count": null,
   "id": "b659a593-0c64-4ed6-a610-060035078c04",
   "metadata": {},
   "outputs": [],
   "source": []
  }
 ],
 "metadata": {
  "kernelspec": {
   "display_name": "Python 3 (ipykernel)",
   "language": "python",
   "name": "python3"
  },
  "language_info": {
   "codemirror_mode": {
    "name": "ipython",
    "version": 3
   },
   "file_extension": ".py",
   "mimetype": "text/x-python",
   "name": "python",
   "nbconvert_exporter": "python",
   "pygments_lexer": "ipython3",
   "version": "3.10.3"
  }
 },
 "nbformat": 4,
 "nbformat_minor": 5
}

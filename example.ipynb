{
 "cells": [
  {
   "cell_type": "code",
   "execution_count": 1,
   "id": "ce795eeb-5b40-4db7-824d-a27012f82cd8",
   "metadata": {},
   "outputs": [],
   "source": [
    "import jax.numpy as jnp\n",
    "import numpy as np\n",
    "import os\n",
    "from jax import jit\n",
    "from functools import partial\n",
    "import matplotlib.pyplot as plt\n",
    "\n",
    "import appletree as apt\n",
    "from appletree import flex\n",
    "from appletree import ipm\n",
    "from appletree import imm\n",
    "from appletree.flex import randgen\n",
    "from appletree.flex.plugin import *"
   ]
  },
  {
   "cell_type": "code",
   "execution_count": 2,
   "id": "393025af-5ffb-4b6f-b8f1-50d748a8ee00",
   "metadata": {},
   "outputs": [],
   "source": [
    "apt.utils.set_gpu_memory_usage(0.2)\n",
    "par_manager = ipm.ParManager()\n",
    "map_manager = imm.MapManager()"
   ]
  },
  {
   "cell_type": "code",
   "execution_count": 3,
   "id": "54d05cac-3013-49a7-a8c1-79967cfc2cd8",
   "metadata": {},
   "outputs": [],
   "source": [
    "map_manager.register_json_map(os.path.join(imm.DATAPATH, 's1_correction_map_regbin.json'), coord_type='regbin', map_name='s1_lce')\n",
    "map_manager.register_json_map(os.path.join(imm.DATAPATH, 's2_correction_map_regbin.json'), coord_type='regbin', map_name='s2_lce')\n",
    "map_manager.register_json_map(os.path.join(imm.DATAPATH, 'elife.json'), coord_type='point', map_name='elife')\n",
    "map_manager.register_json_map(os.path.join(imm.DATAPATH, 's1_bias.json'), coord_type='point', map_name='s1_bias')\n",
    "map_manager.register_json_map(os.path.join(imm.DATAPATH, 's1_smearing.json'), coord_type='point', map_name='s1_smear')\n",
    "map_manager.register_json_map(os.path.join(imm.DATAPATH, 's2_bias.json'), coord_type='point', map_name='s2_bias')\n",
    "map_manager.register_json_map(os.path.join(imm.DATAPATH, 's2_smearing.json'), coord_type='point', map_name='s2_smear')\n",
    "map_manager.register_json_map(os.path.join(imm.DATAPATH, '3fold_recon_eff.json'), coord_type='point', map_name='s1_eff')"
   ]
  },
  {
   "cell_type": "code",
   "execution_count": 4,
   "id": "4a311475-ce79-4764-b325-77194e164cfe",
   "metadata": {},
   "outputs": [
    {
     "data": {
      "text/plain": [
       "{'s1_lce': '/home/zihaoxu/appletree/appletree/imm/data/s1_correction_map_regbin.json',\n",
       " 's2_lce': '/home/zihaoxu/appletree/appletree/imm/data/s2_correction_map_regbin.json',\n",
       " 'elife': '/home/zihaoxu/appletree/appletree/imm/data/elife.json',\n",
       " 's1_bias': '/home/zihaoxu/appletree/appletree/imm/data/s1_bias.json',\n",
       " 's1_smear': '/home/zihaoxu/appletree/appletree/imm/data/s1_smearing.json',\n",
       " 's2_bias': '/home/zihaoxu/appletree/appletree/imm/data/s2_bias.json',\n",
       " 's2_smear': '/home/zihaoxu/appletree/appletree/imm/data/s2_smearing.json',\n",
       " 's1_eff': '/home/zihaoxu/appletree/appletree/imm/data/3fold_recon_eff.json'}"
      ]
     },
     "execution_count": 4,
     "metadata": {},
     "output_type": "execute_result"
    }
   ],
   "source": [
    "map_manager.registration"
   ]
  },
  {
   "cell_type": "code",
   "execution_count": 5,
   "id": "c0ee1f6a-07c6-462f-ae76-3d7f936aace7",
   "metadata": {},
   "outputs": [],
   "source": [
    "args = (par_manager, map_manager)"
   ]
  },
  {
   "cell_type": "markdown",
   "id": "0c9a2e03-1239-455d-80df-416c8f7cf558",
   "metadata": {},
   "source": [
    "#### Microphysics plugins"
   ]
  },
  {
   "cell_type": "code",
   "execution_count": 6,
   "id": "f96d0e6c-8677-49ef-a609-b39d50ac33fc",
   "metadata": {},
   "outputs": [],
   "source": [
    "plugin1 = EnergySpectra(*args)\n",
    "plugin2 = Quenching(*args)\n",
    "plugin3 = Ionization(*args)\n",
    "plugin4 = mTI(*args)\n",
    "plugin5 = RecombFluct(*args)\n",
    "plugin6 = TrueRecomb(*args)\n",
    "plugin7 = Recombination(*args)"
   ]
  },
  {
   "cell_type": "markdown",
   "id": "9d262a44-2e3b-4ba4-9e5e-6c0e1278b67a",
   "metadata": {},
   "source": [
    "#### Detector plugins"
   ]
  },
  {
   "cell_type": "code",
   "execution_count": 7,
   "id": "81a0aeda-52da-4edf-b645-a704b7d69221",
   "metadata": {},
   "outputs": [],
   "source": [
    "plugin8 = PositionSpectra(*args)\n",
    "plugin9 = S1Correction(*args)\n",
    "plugin10 = S2Correction(*args)\n",
    "plugin11 = PhotonDetection(*args)\n",
    "plugin12 = S1PE(*args)\n",
    "plugin13 = DriftLoss(*args)\n",
    "plugin14 = ElectronDrifted(*args)\n",
    "plugin15 = S2PE(*args)"
   ]
  },
  {
   "cell_type": "markdown",
   "id": "a2eb4c50-b232-4b85-83d9-b39a9030db4e",
   "metadata": {},
   "source": [
    "#### Reconstruction plugins"
   ]
  },
  {
   "cell_type": "code",
   "execution_count": 8,
   "id": "8455182d-d9a1-4c7d-960f-1f8bfd132c1d",
   "metadata": {},
   "outputs": [],
   "source": [
    "plugin16 = S1(*args)\n",
    "plugin17 = S2(*args)\n",
    "plugin18 = cS1(*args)\n",
    "plugin19 = cS2(*args)"
   ]
  },
  {
   "cell_type": "markdown",
   "id": "7e925c6a-42bf-414e-b94f-44d38be6bedc",
   "metadata": {},
   "source": [
    "#### Efficiency plugins"
   ]
  },
  {
   "cell_type": "code",
   "execution_count": 9,
   "id": "8eb088e4-e9f7-4dce-b521-c275a8911b22",
   "metadata": {},
   "outputs": [],
   "source": [
    "plugin20 = S2Threshold(*args)\n",
    "plugin21 = S1ReconEff(*args)"
   ]
  },
  {
   "cell_type": "markdown",
   "id": "5c2a2c5b-598a-4e7a-8ac2-dd2bbd4642e3",
   "metadata": {},
   "source": [
    "# Pipeline"
   ]
  },
  {
   "cell_type": "code",
   "execution_count": 10,
   "id": "bf7d4eb5-826e-41e6-ae20-90bb6820fd47",
   "metadata": {},
   "outputs": [],
   "source": [
    "@apt.utils.timeit\n",
    "@partial(jit, static_argnums=(1, ))\n",
    "def sim(key, n):\n",
    "    key, energy = plugin1(key, n)\n",
    "    key, n_q = plugin2(key, energy)\n",
    "    key, n_i = plugin3(key, n_q)\n",
    "    key, r_mean = plugin4(key, energy)\n",
    "    key, r_std = plugin5(key, energy)\n",
    "    key, r = plugin6(key, r_mean, r_std)\n",
    "    key, n_ph, n_e = plugin7(key, n_q, n_i, r)\n",
    "    \n",
    "    key, x, y, z = plugin8(key, n)\n",
    "    key, s1_correction = plugin9(key, x, y, z)\n",
    "    key, s2_correction = plugin10(key, x, y)\n",
    "    key, n_s1_phd = plugin11(key, n_ph, s1_correction)\n",
    "    key, n_s1_pe = plugin12(key, n_s1_phd)\n",
    "    key, surv_prob = plugin13(key, z)\n",
    "    key, n_e_drifted = plugin14(key, n_e, surv_prob)\n",
    "    key, n_s2_pe = plugin15(key, n_e_drifted, s2_correction)\n",
    "    \n",
    "    key, s1 = plugin16(key, n_s1_phd, n_s1_pe)\n",
    "    key, s2 = plugin17(key, n_s2_pe)\n",
    "    key, cs1 = plugin18(key, s1, s1_correction)\n",
    "    key, cs2 = plugin19(key, s2, s2_correction, surv_prob)\n",
    "    \n",
    "    key, acc_s2_threshold = plugin20(key, s2)\n",
    "    key, acc_s1_recon_eff = plugin21(key, n_s1_phd)\n",
    "    \n",
    "    eff = acc_s2_threshold*acc_s1_recon_eff\n",
    "    \n",
    "    hist, be = jnp.histogramdd(\n",
    "        jnp.asarray([cs1, cs2]).T,\n",
    "        bins=(jnp.linspace(0,100,101), jnp.logspace(2.5,4.1,81)),\n",
    "        weights=eff\n",
    "    )\n",
    "    \n",
    "    return key, hist, be"
   ]
  },
  {
   "cell_type": "code",
   "execution_count": 11,
   "id": "9eae65d9-1ebd-4c80-96e1-ad3285d3c5d4",
   "metadata": {},
   "outputs": [],
   "source": [
    "batch_size = int(1e6)\n",
    "key = flex.randgen.get_key()"
   ]
  },
  {
   "cell_type": "markdown",
   "id": "08468bf7-369e-436c-8860-8be332cade10",
   "metadata": {},
   "source": [
    "#### Build"
   ]
  },
  {
   "cell_type": "code",
   "execution_count": 12,
   "id": "69ef1c0d-6be6-4a56-a9b3-4aaa1673cdc2",
   "metadata": {},
   "outputs": [
    {
     "name": "stdout",
     "output_type": "stream",
     "text": [
      " Function <sim> starts. \n",
      " Function <sim> ends! Time cost = 5075.199842 msec. \n"
     ]
    }
   ],
   "source": [
    "key, hist, be = sim(key, batch_size)"
   ]
  },
  {
   "cell_type": "code",
   "execution_count": 13,
   "id": "de2d8f6a-c940-4706-a517-f75e11ba9a48",
   "metadata": {},
   "outputs": [
    {
     "data": {
      "image/png": "[encoded data removed]",
      "text/plain": [
       "<Figure size 432x288 with 2 Axes>"
      ]
     },
     "metadata": {
      "needs_background": "light"
     },
     "output_type": "display_data"
    }
   ],
   "source": [
    "import numpy as np\n",
    "import multihist as mh\n",
    "from matplotlib.colors import LogNorm\n",
    "import matplotlib.pyplot as plt\n",
    "\n",
    "hist = mh.Histdd.from_histogram(\n",
    "    np.array(hist), \n",
    "    be, \n",
    "    axis_names=['cs1', 'cs2']\n",
    ")\n",
    "hist.plot(norm=LogNorm())\n",
    "plt.yscale('log')\n",
    "plt.show()"
   ]
  },
  {
   "cell_type": "markdown",
   "id": "adf3bc52-4fda-4523-894e-0784f81dcfee",
   "metadata": {},
   "source": [
    "#### Speed test"
   ]
  },
  {
   "cell_type": "code",
   "execution_count": 14,
   "id": "30fd0ad7-12f3-42cf-a77c-cb7153b8cfbf",
   "metadata": {},
   "outputs": [],
   "source": [
    "@apt.utils.timeit\n",
    "def benchmark():\n",
    "    key = randgen.get_key()\n",
    "    for itr in range(100):\n",
    "        key, _, _ = sim(key, int(1e6))"
   ]
  },
  {
   "cell_type": "code",
   "execution_count": 15,
   "id": "8d233501-a06f-44aa-8308-2a4c979831ed",
   "metadata": {},
   "outputs": [
    {
     "name": "stdout",
     "output_type": "stream",
     "text": [
      " Function <benchmark> starts. \n",
      " Function <sim> starts. \n",
      " Function <sim> ends! Time cost = 1.925468 msec. \n",
      " Function <sim> starts. \n",
      " Function <sim> ends! Time cost = 4.731894 msec. \n",
      " Function <sim> starts. \n",
      " Function <sim> ends! Time cost = 12.906551 msec. \n",
      " Function <sim> starts. \n",
      " Function <sim> ends! Time cost = 17.430782 msec. \n",
      " Function <sim> starts. \n",
      " Function <sim> ends! Time cost = 13.391733 msec. \n",
      " Function <sim> starts. \n",
      " Function <sim> ends! Time cost = 13.414621 msec. \n",
      " Function <sim> starts. \n",
      " Function <sim> ends! Time cost = 17.232418 msec. \n",
      " Function <sim> starts. \n",
      " Function <sim> ends! Time cost = 17.248869 msec. \n",
      " Function <sim> starts. \n",
      " Function <sim> ends! Time cost = 10.820150 msec. \n",
      " Function <sim> starts. \n",
      " Function <sim> ends! Time cost = 17.580986 msec. \n",
      " Function <sim> starts. \n",
      " Function <sim> ends! Time cost = 13.461351 msec. \n",
      " Function <sim> starts. \n",
      " Function <sim> ends! Time cost = 13.469934 msec. \n",
      " Function <sim> starts. \n",
      " Function <sim> ends! Time cost = 21.349669 msec. \n",
      " Function <sim> starts. \n",
      " Function <sim> ends! Time cost = 15.247583 msec. \n",
      " Function <sim> starts. \n",
      " Function <sim> ends! Time cost = 17.267704 msec. \n",
      " Function <sim> starts. \n",
      " Function <sim> ends! Time cost = 11.047840 msec. \n",
      " Function <sim> starts. \n",
      " Function <sim> ends! Time cost = 13.564348 msec. \n",
      " Function <sim> starts. \n",
      " Function <sim> ends! Time cost = 15.702248 msec. \n",
      " Function <sim> starts. \n",
      " Function <sim> ends! Time cost = 21.219969 msec. \n",
      " Function <sim> starts. \n",
      " Function <sim> ends! Time cost = 17.481089 msec. \n",
      " Function <sim> starts. \n",
      " Function <sim> ends! Time cost = 13.514280 msec. \n",
      " Function <sim> starts. \n",
      " Function <sim> ends! Time cost = 13.449907 msec. \n",
      " Function <sim> starts. \n",
      " Function <sim> ends! Time cost = 11.019707 msec. \n",
      " Function <sim> starts. \n",
      " Function <sim> ends! Time cost = 22.002935 msec. \n",
      " Function <sim> starts. \n",
      " Function <sim> ends! Time cost = 18.291712 msec. \n",
      " Function <sim> starts. \n",
      " Function <sim> ends! Time cost = 15.258074 msec. \n",
      " Function <sim> starts. \n",
      " Function <sim> ends! Time cost = 13.444662 msec. \n",
      " Function <sim> starts. \n",
      " Function <sim> ends! Time cost = 13.544083 msec. \n",
      " Function <sim> starts. \n",
      " Function <sim> ends! Time cost = 15.704393 msec. \n",
      " Function <sim> starts. \n",
      " Function <sim> ends! Time cost = 17.015934 msec. \n",
      " Function <sim> starts. \n",
      " Function <sim> ends! Time cost = 17.320395 msec. \n",
      " Function <sim> starts. \n",
      " Function <sim> ends! Time cost = 13.605595 msec. \n",
      " Function <sim> starts. \n",
      " Function <sim> ends! Time cost = 13.349056 msec. \n",
      " Function <sim> starts. \n",
      " Function <sim> ends! Time cost = 13.412237 msec. \n",
      " Function <sim> starts. \n",
      " Function <sim> ends! Time cost = 19.499779 msec. \n",
      " Function <sim> starts. \n",
      " Function <sim> ends! Time cost = 18.601179 msec. \n",
      " Function <sim> starts. \n",
      " Function <sim> ends! Time cost = 13.416529 msec. \n",
      " Function <sim> starts. \n",
      " Function <sim> ends! Time cost = 13.639688 msec. \n",
      " Function <sim> starts. \n",
      " Function <sim> ends! Time cost = 13.720274 msec. \n",
      " Function <sim> starts. \n",
      " Function <sim> ends! Time cost = 17.535448 msec. \n",
      " Function <sim> starts. \n",
      " Function <sim> ends! Time cost = 19.649506 msec. \n",
      " Function <sim> starts. \n",
      " Function <sim> ends! Time cost = 16.691923 msec. \n",
      " Function <sim> starts. \n",
      " Function <sim> ends! Time cost = 10.836124 msec. \n",
      " Function <sim> starts. \n",
      " Function <sim> ends! Time cost = 13.485909 msec. \n",
      " Function <sim> starts. \n",
      " Function <sim> ends! Time cost = 15.747547 msec. \n",
      " Function <sim> starts. \n",
      " Function <sim> ends! Time cost = 15.337229 msec. \n",
      " Function <sim> starts. \n",
      " Function <sim> ends! Time cost = 21.426439 msec. \n",
      " Function <sim> starts. \n",
      " Function <sim> ends! Time cost = 13.395071 msec. \n",
      " Function <sim> starts. \n",
      " Function <sim> ends! Time cost = 13.454914 msec. \n",
      " Function <sim> starts. \n",
      " Function <sim> ends! Time cost = 11.104822 msec. \n",
      " Function <sim> starts. \n",
      " Function <sim> ends! Time cost = 17.634153 msec. \n",
      " Function <sim> starts. \n",
      " Function <sim> ends! Time cost = 19.687653 msec. \n",
      " Function <sim> starts. \n",
      " Function <sim> ends! Time cost = 19.129753 msec. \n",
      " Function <sim> starts. \n",
      " Function <sim> ends! Time cost = 13.370037 msec. \n",
      " Function <sim> starts. \n",
      " Function <sim> ends! Time cost = 13.379097 msec. \n",
      " Function <sim> starts. \n",
      " Function <sim> ends! Time cost = 17.542601 msec. \n",
      " Function <sim> starts. \n",
      " Function <sim> ends! Time cost = 14.776468 msec. \n",
      " Function <sim> starts. \n",
      " Function <sim> ends! Time cost = 13.448954 msec. \n",
      " Function <sim> starts. \n",
      " Function <sim> ends! Time cost = 14.708996 msec. \n",
      " Function <sim> starts. \n",
      " Function <sim> ends! Time cost = 13.382673 msec. \n",
      " Function <sim> starts. \n",
      " Function <sim> ends! Time cost = 13.402700 msec. \n",
      " Function <sim> starts. \n",
      " Function <sim> ends! Time cost = 21.282434 msec. \n",
      " Function <sim> starts. \n",
      " Function <sim> ends! Time cost = 10.850668 msec. \n",
      " Function <sim> starts. \n",
      " Function <sim> ends! Time cost = 20.109415 msec. \n",
      " Function <sim> starts. \n",
      " Function <sim> ends! Time cost = 16.855240 msec. \n",
      " Function <sim> starts. \n",
      " Function <sim> ends! Time cost = 13.649702 msec. \n",
      " Function <sim> starts. \n",
      " Function <sim> ends! Time cost = 19.753933 msec. \n",
      " Function <sim> starts. \n",
      " Function <sim> ends! Time cost = 15.385628 msec. \n",
      " Function <sim> starts. \n",
      " Function <sim> ends! Time cost = 13.554335 msec. \n",
      " Function <sim> starts. \n",
      " Function <sim> ends! Time cost = 15.985489 msec. \n",
      " Function <sim> starts. \n",
      " Function <sim> ends! Time cost = 10.882378 msec. \n",
      " Function <sim> starts. \n",
      " Function <sim> ends! Time cost = 17.725468 msec. \n",
      " Function <sim> starts. \n",
      " Function <sim> ends! Time cost = 17.294884 msec. \n",
      " Function <sim> starts. \n",
      " Function <sim> ends! Time cost = 13.487339 msec. \n",
      " Function <sim> starts. \n",
      " Function <sim> ends! Time cost = 15.585899 msec. \n",
      " Function <sim> starts. \n",
      " Function <sim> ends! Time cost = 19.114971 msec. \n",
      " Function <sim> starts. \n",
      " Function <sim> ends! Time cost = 15.348434 msec. \n",
      " Function <sim> starts. \n",
      " Function <sim> ends! Time cost = 15.035391 msec. \n",
      " Function <sim> starts. \n",
      " Function <sim> ends! Time cost = 15.307426 msec. \n",
      " Function <sim> starts. \n",
      " Function <sim> ends! Time cost = 13.523579 msec. \n",
      " Function <sim> starts. \n",
      " Function <sim> ends! Time cost = 13.541222 msec. \n",
      " Function <sim> starts. \n",
      " Function <sim> ends! Time cost = 12.490988 msec. \n",
      " Function <sim> starts. \n",
      " Function <sim> ends! Time cost = 19.523144 msec. \n",
      " Function <sim> starts. \n",
      " Function <sim> ends! Time cost = 12.681961 msec. \n",
      " Function <sim> starts. \n",
      " Function <sim> ends! Time cost = 13.384581 msec. \n",
      " Function <sim> starts. \n",
      " Function <sim> ends! Time cost = 13.562202 msec. \n",
      " Function <sim> starts. \n",
      " Function <sim> ends! Time cost = 17.939091 msec. \n",
      " Function <sim> starts. \n",
      " Function <sim> ends! Time cost = 23.487568 msec. \n",
      " Function <sim> starts. \n",
      " Function <sim> ends! Time cost = 17.322302 msec. \n",
      " Function <sim> starts. \n",
      " Function <sim> ends! Time cost = 13.196945 msec. \n",
      " Function <sim> starts. \n",
      " Function <sim> ends! Time cost = 10.984898 msec. \n",
      " Function <sim> starts. \n",
      " Function <sim> ends! Time cost = 13.714314 msec. \n",
      " Function <sim> starts. \n",
      " Function <sim> ends! Time cost = 17.014980 msec. \n",
      " Function <sim> starts. \n",
      " Function <sim> ends! Time cost = 15.140295 msec. \n",
      " Function <sim> starts. \n",
      " Function <sim> ends! Time cost = 17.342329 msec. \n",
      " Function <sim> starts. \n",
      " Function <sim> ends! Time cost = 13.540506 msec. \n",
      " Function <sim> starts. \n",
      " Function <sim> ends! Time cost = 13.430834 msec. \n",
      " Function <sim> starts. \n",
      " Function <sim> ends! Time cost = 13.210535 msec. \n",
      " Function <sim> starts. \n",
      " Function <sim> ends! Time cost = 24.055958 msec. \n",
      " Function <sim> starts. \n",
      " Function <sim> ends! Time cost = 20.467758 msec. \n",
      " Function <benchmark> ends! Time cost = 1539.253712 msec. \n"
     ]
    }
   ],
   "source": [
    "benchmark()"
   ]
  },
  {
   "cell_type": "code",
   "execution_count": null,
   "id": "b659a593-0c64-4ed6-a610-060035078c04",
   "metadata": {},
   "outputs": [],
   "source": []
  }
 ],
 "metadata": {
  "kernelspec": {
   "display_name": "Python 3 (ipykernel)",
   "language": "python",
   "name": "python3"
  },
  "language_info": {
   "codemirror_mode": {
    "name": "ipython",
    "version": 3
   },
   "file_extension": ".py",
   "mimetype": "text/x-python",
   "name": "python",
   "nbconvert_exporter": "python",
   "pygments_lexer": "ipython3",
   "version": "3.10.3"
  }
 },
 "nbformat": 4,
 "nbformat_minor": 5
}

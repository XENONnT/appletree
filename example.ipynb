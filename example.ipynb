{
 "cells": [
  {
   "cell_type": "code",
   "execution_count": 1,
   "id": "ce795eeb-5b40-4db7-824d-a27012f82cd8",
   "metadata": {},
   "outputs": [],
   "source": [
    "import jax.numpy as jnp\n",
    "import numpy as np\n",
    "import os\n",
    "from jax import jit\n",
    "from functools import partial\n",
    "import matplotlib.pyplot as plt\n",
    "\n",
    "import appletree as apt\n",
    "from appletree import flex\n",
    "from appletree import ipm\n",
    "from appletree import imm\n",
    "from appletree.flex.plugin import *"
   ]
  },
  {
   "cell_type": "code",
   "execution_count": 2,
   "id": "393025af-5ffb-4b6f-b8f1-50d748a8ee00",
   "metadata": {},
   "outputs": [],
   "source": [
    "flex.utils.set_gpu_memory_usage(0.2)\n",
    "par_manager = ipm.ParManager()"
   ]
  },
  {
   "cell_type": "markdown",
   "id": "0c9a2e03-1239-455d-80df-416c8f7cf558",
   "metadata": {},
   "source": [
    "#### Microphysics plugins"
   ]
  },
  {
   "cell_type": "code",
   "execution_count": 3,
   "id": "f96d0e6c-8677-49ef-a609-b39d50ac33fc",
   "metadata": {},
   "outputs": [],
   "source": [
    "plugin1 = EnergySpectra(par_manager, 0.01, 20.)\n",
    "plugin2 = Quenching(par_manager)\n",
    "plugin3 = Ionization(par_manager)\n",
    "plugin4 = mTI(par_manager)\n",
    "plugin5 = RecombFluct(par_manager)\n",
    "plugin6 = TrueRecomb(par_manager)\n",
    "plugin7 = Recombination(par_manager)"
   ]
  },
  {
   "cell_type": "markdown",
   "id": "9d262a44-2e3b-4ba4-9e5e-6c0e1278b67a",
   "metadata": {},
   "source": [
    "#### Detector plugins"
   ]
  },
  {
   "cell_type": "code",
   "execution_count": 4,
   "id": "81a0aeda-52da-4edf-b645-a704b7d69221",
   "metadata": {},
   "outputs": [],
   "source": [
    "s1_lce_map = imm.MapRegBin(os.path.join(imm.DATAPATH, 's1_correction_map_regbin.json'))\n",
    "s2_lce_map = imm.MapRegBin(os.path.join(imm.DATAPATH, 's2_correction_map_regbin.json'))\n",
    "elife_map = imm.Map(os.path.join(imm.DATAPATH, 'elife.json'))\n",
    "\n",
    "plugin8 = PositionSpectra(par_manager)\n",
    "plugin9 = S1Correction(par_manager, s1_lce_map)\n",
    "plugin10 = S2Correction(par_manager, s2_lce_map)\n",
    "plugin11 = PhotonDetection(par_manager)\n",
    "plugin12 = S1PE(par_manager)\n",
    "plugin13 = DriftLoss(par_manager, elife_map)\n",
    "plugin14 = ElectronDrifted(par_manager)\n",
    "plugin15 = S2PE(par_manager)"
   ]
  },
  {
   "cell_type": "markdown",
   "id": "a2eb4c50-b232-4b85-83d9-b39a9030db4e",
   "metadata": {},
   "source": [
    "#### Reconstruction plugins"
   ]
  },
  {
   "cell_type": "code",
   "execution_count": 5,
   "id": "8455182d-d9a1-4c7d-960f-1f8bfd132c1d",
   "metadata": {},
   "outputs": [],
   "source": [
    "s1_bias = Map(os.path.join(imm.DATAPATH, 's1_bias.json'))\n",
    "s1_smear = Map(os.path.join(imm.DATAPATH, 's1_smearing.json'))\n",
    "s2_bias = Map(os.path.join(imm.DATAPATH, 's2_bias.json'))\n",
    "s2_smear = Map(os.path.join(imm.DATAPATH, 's2_smearing.json'))\n",
    "\n",
    "plugin16 = S1(par_manager, s1_bias, s1_smear)\n",
    "plugin17 = S2(par_manager, s2_bias, s2_smear)\n",
    "plugin18 = cS1(par_manager)\n",
    "plugin19 = cS2(par_manager)"
   ]
  },
  {
   "cell_type": "markdown",
   "id": "7e925c6a-42bf-414e-b94f-44d38be6bedc",
   "metadata": {},
   "source": [
    "#### Efficiency plugins"
   ]
  },
  {
   "cell_type": "code",
   "execution_count": 6,
   "id": "8eb088e4-e9f7-4dce-b521-c275a8911b22",
   "metadata": {},
   "outputs": [],
   "source": [
    "s1_eff = Map(os.path.join(imm.DATAPATH, '3fold_recon_eff.json'))\n",
    "\n",
    "plugin20 = S2Threshold(par_manager)\n",
    "plugin21 = S1ReconEff(par_manager, s1_eff)"
   ]
  },
  {
   "cell_type": "markdown",
   "id": "5c2a2c5b-598a-4e7a-8ac2-dd2bbd4642e3",
   "metadata": {},
   "source": [
    "# Pipeline"
   ]
  },
  {
   "cell_type": "code",
   "execution_count": 7,
   "id": "bf7d4eb5-826e-41e6-ae20-90bb6820fd47",
   "metadata": {},
   "outputs": [],
   "source": [
    "@flex.utils.timeit\n",
    "@partial(jit, static_argnums=(1, ))\n",
    "def sim(key, n):\n",
    "    key, energy = plugin1(key, n)\n",
    "    key, n_q = plugin2(key, energy)\n",
    "    key, n_i = plugin3(key, n_q)\n",
    "    key, r_mean = plugin4(key, energy)\n",
    "    key, r_std = plugin5(key, energy)\n",
    "    key, r = plugin6(key, r_mean, r_std)\n",
    "    key, n_ph, n_e = plugin7(key, n_q, n_i, r)\n",
    "    \n",
    "    key, x, y, z = plugin8(key, n)\n",
    "    key, s1_correction = plugin9(key, x, y, z)\n",
    "    key, s2_correction = plugin10(key, x, y)\n",
    "    key, n_s1_phd = plugin11(key, n_ph, s1_correction)\n",
    "    key, n_s1_pe = plugin12(key, n_s1_phd)\n",
    "    key, surv_prob = plugin13(key, z)\n",
    "    key, n_e_drifted = plugin14(key, n_e, surv_prob)\n",
    "    key, n_s2_pe = plugin15(key, n_e_drifted, s2_correction)\n",
    "    \n",
    "    key, s1 = plugin16(key, n_s1_phd, n_s1_pe)\n",
    "    key, s2 = plugin17(key, n_s2_pe)\n",
    "    key, cs1 = plugin18(key, s1, s1_correction)\n",
    "    key, cs2 = plugin19(key, s2, s2_correction, surv_prob)\n",
    "    \n",
    "    key, acc_s2_threshold = plugin20(key, s2)\n",
    "    key, acc_s1_recon_eff = plugin21(key, n_s1_phd)\n",
    "    \n",
    "    eff = acc_s2_threshold*acc_s1_recon_eff\n",
    "    \n",
    "    hist, be = jnp.histogramdd(\n",
    "        jnp.asarray([cs1, cs2]).T,\n",
    "        bins=(jnp.linspace(0,100,101), jnp.logspace(2.5,4.1,81)),\n",
    "        weights=eff\n",
    "    )\n",
    "    \n",
    "    return key, hist, be"
   ]
  },
  {
   "cell_type": "code",
   "execution_count": 8,
   "id": "9eae65d9-1ebd-4c80-96e1-ad3285d3c5d4",
   "metadata": {},
   "outputs": [],
   "source": [
    "batch_size = int(1e6)\n",
    "key = flex.randgen.get_key()"
   ]
  },
  {
   "cell_type": "markdown",
   "id": "08468bf7-369e-436c-8860-8be332cade10",
   "metadata": {},
   "source": [
    "#### Build"
   ]
  },
  {
   "cell_type": "code",
   "execution_count": 9,
   "id": "69ef1c0d-6be6-4a56-a9b3-4aaa1673cdc2",
   "metadata": {},
   "outputs": [
    {
     "name": "stdout",
     "output_type": "stream",
     "text": [
      " Function <sim> starts. \n",
      " Function <sim> ends! Time cost = 4978.225231 msec. \n"
     ]
    }
   ],
   "source": [
    "key, hist, be = sim(key, int(1e6))"
   ]
  },
  {
   "cell_type": "code",
   "execution_count": 10,
   "id": "de2d8f6a-c940-4706-a517-f75e11ba9a48",
   "metadata": {},
   "outputs": [
    {
     "data": {
      "image/png": "[encoded data removed]",
      "text/plain": [
       "<Figure size 432x288 with 2 Axes>"
      ]
     },
     "metadata": {
      "needs_background": "light"
     },
     "output_type": "display_data"
    }
   ],
   "source": [
    "import numpy as np\n",
    "import multihist as mh\n",
    "from matplotlib.colors import LogNorm\n",
    "import matplotlib.pyplot as plt\n",
    "\n",
    "hist = mh.Histdd.from_histogram(\n",
    "    np.array(hist), \n",
    "    be, \n",
    "    axis_names=['cs1', 'cs2']\n",
    ")\n",
    "hist.plot(norm=LogNorm())\n",
    "plt.yscale('log')\n",
    "plt.show()"
   ]
  },
  {
   "cell_type": "markdown",
   "id": "adf3bc52-4fda-4523-894e-0784f81dcfee",
   "metadata": {},
   "source": [
    "#### Speed test"
   ]
  },
  {
   "cell_type": "code",
   "execution_count": 11,
   "id": "30fd0ad7-12f3-42cf-a77c-cb7153b8cfbf",
   "metadata": {},
   "outputs": [],
   "source": [
    "@flex.utils.timeit\n",
    "def benchmark():\n",
    "    key = randgen.get_key()\n",
    "    for itr in range(100):\n",
    "        key, _, _ = sim(key, int(1e6))"
   ]
  },
  {
   "cell_type": "code",
   "execution_count": 12,
   "id": "8d233501-a06f-44aa-8308-2a4c979831ed",
   "metadata": {},
   "outputs": [
    {
     "name": "stdout",
     "output_type": "stream",
     "text": [
      " Function <benchmark> starts. \n",
      " Function <sim> starts. \n",
      " Function <sim> ends! Time cost = 3.457546 msec. \n",
      " Function <sim> starts. \n",
      " Function <sim> ends! Time cost = 2.907991 msec. \n",
      " Function <sim> starts. \n",
      " Function <sim> ends! Time cost = 14.282465 msec. \n",
      " Function <sim> starts. \n",
      " Function <sim> ends! Time cost = 13.599873 msec. \n",
      " Function <sim> starts. \n",
      " Function <sim> ends! Time cost = 13.660908 msec. \n",
      " Function <sim> starts. \n",
      " Function <sim> ends! Time cost = 15.032768 msec. \n",
      " Function <sim> starts. \n",
      " Function <sim> ends! Time cost = 17.453671 msec. \n",
      " Function <sim> starts. \n",
      " Function <sim> ends! Time cost = 17.307281 msec. \n",
      " Function <sim> starts. \n",
      " Function <sim> ends! Time cost = 10.874510 msec. \n",
      " Function <sim> starts. \n",
      " Function <sim> ends! Time cost = 13.659000 msec. \n",
      " Function <sim> starts. \n",
      " Function <sim> ends! Time cost = 15.675545 msec. \n",
      " Function <sim> starts. \n",
      " Function <sim> ends! Time cost = 21.920681 msec. \n",
      " Function <sim> starts. \n",
      " Function <sim> ends! Time cost = 17.508030 msec. \n",
      " Function <sim> starts. \n",
      " Function <sim> ends! Time cost = 15.410662 msec. \n",
      " Function <sim> starts. \n",
      " Function <sim> ends! Time cost = 13.501883 msec. \n",
      " Function <sim> starts. \n",
      " Function <sim> ends! Time cost = 11.062622 msec. \n",
      " Function <sim> starts. \n",
      " Function <sim> ends! Time cost = 13.704538 msec. \n",
      " Function <sim> starts. \n",
      " Function <sim> ends! Time cost = 17.852783 msec. \n",
      " Function <sim> starts. \n",
      " Function <sim> ends! Time cost = 17.273903 msec. \n",
      " Function <sim> starts. \n",
      " Function <sim> ends! Time cost = 13.236046 msec. \n",
      " Function <sim> starts. \n",
      " Function <sim> ends! Time cost = 13.430119 msec. \n",
      " Function <sim> starts. \n",
      " Function <sim> ends! Time cost = 13.529778 msec. \n",
      " Function <sim> starts. \n",
      " Function <sim> ends! Time cost = 17.502546 msec. \n",
      " Function <sim> starts. \n",
      " Function <sim> ends! Time cost = 21.820784 msec. \n",
      " Function <sim> starts. \n",
      " Function <sim> ends! Time cost = 17.787933 msec. \n",
      " Function <sim> starts. \n",
      " Function <sim> ends! Time cost = 13.573408 msec. \n",
      " Function <sim> starts. \n",
      " Function <sim> ends! Time cost = 13.461113 msec. \n",
      " Function <sim> starts. \n",
      " Function <sim> ends! Time cost = 15.549898 msec. \n",
      " Function <sim> starts. \n",
      " Function <sim> ends! Time cost = 12.145996 msec. \n",
      " Function <sim> starts. \n",
      " Function <sim> ends! Time cost = 14.837503 msec. \n",
      " Function <sim> starts. \n",
      " Function <sim> ends! Time cost = 13.573170 msec. \n",
      " Function <sim> starts. \n",
      " Function <sim> ends! Time cost = 13.486385 msec. \n",
      " Function <sim> starts. \n",
      " Function <sim> ends! Time cost = 13.450623 msec. \n",
      " Function <sim> starts. \n",
      " Function <sim> ends! Time cost = 17.874479 msec. \n",
      " Function <sim> starts. \n",
      " Function <sim> ends! Time cost = 25.874853 msec. \n",
      " Function <sim> starts. \n",
      " Function <sim> ends! Time cost = 14.179468 msec. \n",
      " Function <sim> starts. \n",
      " Function <sim> ends! Time cost = 13.597727 msec. \n",
      " Function <sim> starts. \n",
      " Function <sim> ends! Time cost = 13.667345 msec. \n",
      " Function <sim> starts. \n",
      " Function <sim> ends! Time cost = 15.769720 msec. \n",
      " Function <sim> starts. \n",
      " Function <sim> ends! Time cost = 19.369125 msec. \n",
      " Function <sim> starts. \n",
      " Function <sim> ends! Time cost = 11.308432 msec. \n",
      " Function <sim> starts. \n",
      " Function <sim> ends! Time cost = 13.430357 msec. \n",
      " Function <sim> starts. \n",
      " Function <sim> ends! Time cost = 13.430119 msec. \n",
      " Function <sim> starts. \n",
      " Function <sim> ends! Time cost = 11.052370 msec. \n",
      " Function <sim> starts. \n",
      " Function <sim> ends! Time cost = 19.884586 msec. \n",
      " Function <sim> starts. \n",
      " Function <sim> ends! Time cost = 17.370701 msec. \n",
      " Function <sim> starts. \n",
      " Function <sim> ends! Time cost = 19.845247 msec. \n",
      " Function <sim> starts. \n",
      " Function <sim> ends! Time cost = 14.633656 msec. \n",
      " Function <sim> starts. \n",
      " Function <sim> ends! Time cost = 13.526678 msec. \n",
      " Function <sim> starts. \n",
      " Function <sim> ends! Time cost = 19.740582 msec. \n",
      " Function <sim> starts. \n",
      " Function <sim> ends! Time cost = 12.617350 msec. \n",
      " Function <sim> starts. \n",
      " Function <sim> ends! Time cost = 13.473272 msec. \n",
      " Function <sim> starts. \n",
      " Function <sim> ends! Time cost = 12.411594 msec. \n",
      " Function <sim> starts. \n",
      " Function <sim> ends! Time cost = 13.432741 msec. \n",
      " Function <sim> starts. \n",
      " Function <sim> ends! Time cost = 15.544176 msec. \n",
      " Function <sim> starts. \n",
      " Function <sim> ends! Time cost = 19.696236 msec. \n",
      " Function <sim> starts. \n",
      " Function <sim> ends! Time cost = 13.263702 msec. \n",
      " Function <sim> starts. \n",
      " Function <sim> ends! Time cost = 13.257980 msec. \n",
      " Function <sim> starts. \n",
      " Function <sim> ends! Time cost = 20.040274 msec. \n",
      " Function <sim> starts. \n",
      " Function <sim> ends! Time cost = 13.734579 msec. \n",
      " Function <sim> starts. \n",
      " Function <sim> ends! Time cost = 19.877434 msec. \n",
      " Function <sim> starts. \n",
      " Function <sim> ends! Time cost = 15.250921 msec. \n",
      " Function <sim> starts. \n",
      " Function <sim> ends! Time cost = 13.447523 msec. \n",
      " Function <sim> starts. \n",
      " Function <sim> ends! Time cost = 12.418509 msec. \n",
      " Function <sim> starts. \n",
      " Function <sim> ends! Time cost = 10.729790 msec. \n",
      " Function <sim> starts. \n",
      " Function <sim> ends! Time cost = 15.811682 msec. \n",
      " Function <sim> starts. \n",
      " Function <sim> ends! Time cost = 19.395113 msec. \n",
      " Function <sim> starts. \n",
      " Function <sim> ends! Time cost = 13.200283 msec. \n",
      " Function <sim> starts. \n",
      " Function <sim> ends! Time cost = 13.574362 msec. \n",
      " Function <sim> starts. \n",
      " Function <sim> ends! Time cost = 20.001411 msec. \n",
      " Function <sim> starts. \n",
      " Function <sim> ends! Time cost = 14.616728 msec. \n",
      " Function <sim> starts. \n",
      " Function <sim> ends! Time cost = 17.325878 msec. \n",
      " Function <sim> starts. \n",
      " Function <sim> ends! Time cost = 17.532349 msec. \n",
      " Function <sim> starts. \n",
      " Function <sim> ends! Time cost = 13.663769 msec. \n",
      " Function <sim> starts. \n",
      " Function <sim> ends! Time cost = 13.503790 msec. \n",
      " Function <sim> starts. \n",
      " Function <sim> ends! Time cost = 10.418415 msec. \n",
      " Function <sim> starts. \n",
      " Function <sim> ends! Time cost = 17.454624 msec. \n",
      " Function <sim> starts. \n",
      " Function <sim> ends! Time cost = 17.592669 msec. \n",
      " Function <sim> starts. \n",
      " Function <sim> ends! Time cost = 11.069775 msec. \n",
      " Function <sim> starts. \n",
      " Function <sim> ends! Time cost = 13.613701 msec. \n",
      " Function <sim> starts. \n",
      " Function <sim> ends! Time cost = 15.673399 msec. \n",
      " Function <sim> starts. \n",
      " Function <sim> ends! Time cost = 24.085522 msec. \n",
      " Function <sim> starts. \n",
      " Function <sim> ends! Time cost = 20.726442 msec. \n",
      " Function <sim> starts. \n",
      " Function <sim> ends! Time cost = 13.336182 msec. \n",
      " Function <sim> starts. \n",
      " Function <sim> ends! Time cost = 13.413429 msec. \n",
      " Function <sim> starts. \n",
      " Function <sim> ends! Time cost = 10.982275 msec. \n",
      " Function <sim> starts. \n",
      " Function <sim> ends! Time cost = 15.733480 msec. \n",
      " Function <sim> starts. \n",
      " Function <sim> ends! Time cost = 16.426086 msec. \n",
      " Function <sim> starts. \n",
      " Function <sim> ends! Time cost = 15.142441 msec. \n",
      " Function <sim> starts. \n",
      " Function <sim> ends! Time cost = 13.529539 msec. \n",
      " Function <sim> starts. \n",
      " Function <sim> ends! Time cost = 13.381720 msec. \n",
      " Function <sim> starts. \n",
      " Function <sim> ends! Time cost = 10.803699 msec. \n",
      " Function <sim> starts. \n",
      " Function <sim> ends! Time cost = 21.920919 msec. \n",
      " Function <sim> starts. \n",
      " Function <sim> ends! Time cost = 23.175240 msec. \n",
      " Function <sim> starts. \n",
      " Function <sim> ends! Time cost = 13.324022 msec. \n",
      " Function <sim> starts. \n",
      " Function <sim> ends! Time cost = 13.489962 msec. \n",
      " Function <sim> starts. \n",
      " Function <sim> ends! Time cost = 13.438702 msec. \n",
      " Function <sim> starts. \n",
      " Function <sim> ends! Time cost = 17.509937 msec. \n",
      " Function <sim> starts. \n",
      " Function <sim> ends! Time cost = 12.157440 msec. \n",
      " Function <sim> starts. \n",
      " Function <sim> ends! Time cost = 15.278816 msec. \n",
      " Function <benchmark> ends! Time cost = 1517.818213 msec. \n"
     ]
    }
   ],
   "source": [
    "benchmark()"
   ]
  },
  {
   "cell_type": "code",
   "execution_count": null,
   "id": "8cb4f757-da12-4b8f-8b10-d61bc6e7d326",
   "metadata": {},
   "outputs": [],
   "source": []
  },
  {
   "cell_type": "code",
   "execution_count": null,
   "id": "b659a593-0c64-4ed6-a610-060035078c04",
   "metadata": {},
   "outputs": [],
   "source": []
  }
 ],
 "metadata": {
  "kernelspec": {
   "display_name": "Python 3 (ipykernel)",
   "language": "python",
   "name": "python3"
  },
  "language_info": {
   "codemirror_mode": {
    "name": "ipython",
    "version": 3
   },
   "file_extension": ".py",
   "mimetype": "text/x-python",
   "name": "python",
   "nbconvert_exporter": "python",
   "pygments_lexer": "ipython3",
   "version": "3.10.3"
  }
 },
 "nbformat": 4,
 "nbformat_minor": 5
}

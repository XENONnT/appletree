{
 "cells": [
  {
   "cell_type": "code",
   "execution_count": 1,
   "id": "ebf3ebb3-9230-4f79-a0d1-10b6e8199671",
   "metadata": {},
   "outputs": [],
   "source": [
    "import numpy as np\n",
    "import pandas as pd\n",
    "import matplotlib.pyplot as plt\n",
    "import jax.numpy as jnp\n",
    "\n",
    "import appletree as apt\n",
    "from appletree import randgen\n",
    "from appletree import Parameter\n",
    "from appletree.components import *"
   ]
  },
  {
   "cell_type": "code",
   "execution_count": 2,
   "id": "67e4a172-4cb9-4bf3-beda-e782aca63e50",
   "metadata": {},
   "outputs": [],
   "source": [
    "apt.set_gpu_memory_usage(0.2)"
   ]
  },
  {
   "cell_type": "markdown",
   "id": "4a24414c-251f-42f0-bbe6-f362b97f24e6",
   "metadata": {},
   "source": [
    "# Define parameters"
   ]
  },
  {
   "cell_type": "code",
   "execution_count": 3,
   "id": "ea901cf1-b413-4e48-92f0-2ec6890e5047",
   "metadata": {},
   "outputs": [],
   "source": [
    "par_config_file_name = '/home/zihaoxu/appletree/appletree/parameters/apt_sr0_er.json'\n",
    "par_manager = Parameter(par_config_file_name)"
   ]
  },
  {
   "cell_type": "markdown",
   "id": "35871f41-b4ff-4b2c-94d3-325c8c0dcb4c",
   "metadata": {},
   "source": [
    "# Equiprob data hist"
   ]
  },
  {
   "cell_type": "code",
   "execution_count": 4,
   "id": "9188acc7-8d75-44c9-af9b-d918e114ac35",
   "metadata": {},
   "outputs": [],
   "source": [
    "data = pd.read_csv('./appletree/data/data_XENONnT_Rn220_v8_strax_v1.2.2_straxen_v1.7.1_cutax_v1.9.0.csv')\n",
    "\n",
    "bins_cs1, bins_cs2 = apt.utils.get_equiprob_bins_2d(\n",
    "    data[['cs1', 'cs2']].to_numpy(),\n",
    "    [15, 15],\n",
    "    order=[0, 1],\n",
    "    x_clip=[0, 100],\n",
    "    y_clip=[4e2, 1e4],\n",
    "    which_np=jnp\n",
    ")"
   ]
  },
  {
   "cell_type": "code",
   "execution_count": 5,
   "id": "22ef7e71-9116-4c8f-8c42-811ab3844890",
   "metadata": {},
   "outputs": [],
   "source": [
    "data_hist = apt.hist.make_hist_irreg_bin_2d(data[['cs1', 'cs2']].to_numpy(), bins_cs1, bins_cs2, weights=jnp.ones(len(data)))"
   ]
  },
  {
   "cell_type": "markdown",
   "id": "64c339f7-06c9-4b71-bd1d-434e4fe88b91",
   "metadata": {},
   "source": [
    "# Define component"
   ]
  },
  {
   "cell_type": "code",
   "execution_count": 6,
   "id": "c98dc316-2a6a-4fb1-b1c4-8b092add2b69",
   "metadata": {},
   "outputs": [],
   "source": [
    "observables = ['cs1', 'cs2']"
   ]
  },
  {
   "cell_type": "code",
   "execution_count": 7,
   "id": "613e8210-d3a5-4094-827e-e935d16f6849",
   "metadata": {},
   "outputs": [],
   "source": [
    "er = ERBand()\n",
    "er.deduce(\n",
    "    data_names = observables + ['eff'],\n",
    "    func_name = 'er_sim',\n",
    "    bins = [bins_cs1, bins_cs2],\n",
    "    bins_type = 'irreg'\n",
    ")\n",
    "er.compile()"
   ]
  },
  {
   "cell_type": "code",
   "execution_count": 8,
   "id": "a6e70f94-9708-4fc3-952a-8537e0a6e69e",
   "metadata": {},
   "outputs": [],
   "source": [
    "ac = AC()\n",
    "ac.deduce(\n",
    "    data_names = observables,\n",
    "    bins = [bins_cs1, bins_cs2],\n",
    "    bins_type = 'irreg'\n",
    ")\n",
    "ac.compile()"
   ]
  },
  {
   "cell_type": "markdown",
   "id": "78ea61c6-17cd-4f29-88b4-b847a8195ffd",
   "metadata": {},
   "source": [
    "# Define posterior"
   ]
  },
  {
   "cell_type": "code",
   "execution_count": 10,
   "id": "a99416f7-49cd-4fd9-b167-515e4827dbde",
   "metadata": {},
   "outputs": [],
   "source": [
    "def log_posterior(pars, batch_size=int(1e6)):\n",
    "    par_manager.set_parameter_fit_from_array(pars)\n",
    "    parameters = par_manager.get_all_parameter()\n",
    "    \n",
    "    key = randgen.get_key()\n",
    "    key, er_hist = er.simulate_hist(key, batch_size, parameters)\n",
    "    ac_hist = ac.simulate_hist(parameters)\n",
    "    model_hist = er_hist + ac_hist\n",
    "    \n",
    "    log_likelihood = float(jnp.sum(data_hist * jnp.log(model_hist) - model_hist))\n",
    "    log_prior = par_manager.log_prior\n",
    "    \n",
    "    # This check is required. Consider a non-sensible parameter which\n",
    "    # has -np.inf prior, and could have np.nan likelihood, then the\n",
    "    # prior would be -np.inf + np.nan = np.nan\n",
    "    if np.isnan(log_likelihood + log_prior):\n",
    "        return -np.inf\n",
    "    \n",
    "    return log_likelihood + log_prior"
   ]
  },
  {
   "cell_type": "markdown",
   "id": "bf6b7243-175c-4025-8e8c-c4f466fe30c6",
   "metadata": {},
   "source": [
    "# Fit"
   ]
  },
  {
   "cell_type": "code",
   "execution_count": 13,
   "id": "769ee77f-8ad5-4a0d-8efb-002fe150ad1c",
   "metadata": {},
   "outputs": [],
   "source": [
    "import emcee"
   ]
  },
  {
   "cell_type": "code",
   "execution_count": 14,
   "id": "c01bd8f2-de24-4384-94ff-0c598c2dd327",
   "metadata": {},
   "outputs": [
    {
     "name": "stderr",
     "output_type": "stream",
     "text": [
      " 14%|█▍        | 71/500 [02:04<12:35,  1.76s/it]Traceback (most recent call last):\n",
      "  File \"/home/zihaoxu/.local/lib/python3.8/site-packages/emcee/ensemble.py\", line 624, in __call__\n",
      "    return self.f(x, *self.args, **self.kwargs)\n",
      "  File \"/tmp/ipykernel_2438074/2858313472.py\", line 10, in log_posterior\n",
      "    log_likelihood = float(jnp.sum(data_hist * jnp.log(model_hist) - model_hist))\n",
      "  File \"/home/zihaoxu/.local/lib/python3.8/site-packages/jax/_src/device_array.py\", line 296, in <lambda>\n",
      "    setattr(device_array, \"__float__\", lambda self: self._value.__float__())\n",
      "KeyboardInterrupt\n",
      " 14%|█▍        | 71/500 [02:05<12:38,  1.77s/it]"
     ]
    },
    {
     "name": "stdout",
     "output_type": "stream",
     "text": [
      "emcee: Exception while calling your likelihood function:\n",
      "  params: [ 1.35475609e-02  1.11820870e-01  1.49962880e-01  1.62399855e+01\n",
      "  2.23058263e-01  1.29262789e-01  4.40947397e+01 -3.13343452e-01\n",
      "  1.25523575e+00  5.59294849e-01  3.24341160e-02  1.99717784e-01\n",
      "  1.19512459e+01  2.00709158e+03]\n",
      "  args: []\n",
      "  kwargs: {}\n",
      "  exception:\n"
     ]
    },
    {
     "name": "stderr",
     "output_type": "stream",
     "text": [
      "\n"
     ]
    },
    {
     "ename": "KeyboardInterrupt",
     "evalue": "",
     "output_type": "error",
     "traceback": [
      "\u001b[0;31m---------------------------------------------------------------------------\u001b[0m",
      "\u001b[0;31mKeyboardInterrupt\u001b[0m                         Traceback (most recent call last)",
      "Input \u001b[0;32mIn [14]\u001b[0m, in \u001b[0;36m<cell line: 10>\u001b[0;34m()\u001b[0m\n\u001b[1;32m      7\u001b[0m     par_manager\u001b[38;5;241m.\u001b[39msample_init()\n\u001b[1;32m      8\u001b[0m     p0\u001b[38;5;241m.\u001b[39mappend(par_manager\u001b[38;5;241m.\u001b[39mparameter_fit_array)\n\u001b[0;32m---> 10\u001b[0m _ \u001b[38;5;241m=\u001b[39m \u001b[43msampler\u001b[49m\u001b[38;5;241;43m.\u001b[39;49m\u001b[43mrun_mcmc\u001b[49m\u001b[43m(\u001b[49m\u001b[43mp0\u001b[49m\u001b[43m,\u001b[49m\u001b[43m \u001b[49m\u001b[38;5;241;43m500\u001b[39;49m\u001b[43m,\u001b[49m\u001b[43m \u001b[49m\u001b[43mprogress\u001b[49m\u001b[38;5;241;43m=\u001b[39;49m\u001b[38;5;28;43;01mTrue\u001b[39;49;00m\u001b[43m)\u001b[49m\n",
      "File \u001b[0;32m~/.local/lib/python3.8/site-packages/emcee/ensemble.py:443\u001b[0m, in \u001b[0;36mEnsembleSampler.run_mcmc\u001b[0;34m(self, initial_state, nsteps, **kwargs)\u001b[0m\n\u001b[1;32m    440\u001b[0m     initial_state \u001b[38;5;241m=\u001b[39m \u001b[38;5;28mself\u001b[39m\u001b[38;5;241m.\u001b[39m_previous_state\n\u001b[1;32m    442\u001b[0m results \u001b[38;5;241m=\u001b[39m \u001b[38;5;28;01mNone\u001b[39;00m\n\u001b[0;32m--> 443\u001b[0m \u001b[38;5;28;01mfor\u001b[39;00m results \u001b[38;5;129;01min\u001b[39;00m \u001b[38;5;28mself\u001b[39m\u001b[38;5;241m.\u001b[39msample(initial_state, iterations\u001b[38;5;241m=\u001b[39mnsteps, \u001b[38;5;241m*\u001b[39m\u001b[38;5;241m*\u001b[39mkwargs):\n\u001b[1;32m    444\u001b[0m     \u001b[38;5;28;01mpass\u001b[39;00m\n\u001b[1;32m    446\u001b[0m \u001b[38;5;66;03m# Store so that the ``initial_state=None`` case will work\u001b[39;00m\n",
      "File \u001b[0;32m~/.local/lib/python3.8/site-packages/emcee/ensemble.py:402\u001b[0m, in \u001b[0;36mEnsembleSampler.sample\u001b[0;34m(self, initial_state, log_prob0, rstate0, blobs0, iterations, tune, skip_initial_state_check, thin_by, thin, store, progress, progress_kwargs)\u001b[0m\n\u001b[1;32m    399\u001b[0m move \u001b[38;5;241m=\u001b[39m \u001b[38;5;28mself\u001b[39m\u001b[38;5;241m.\u001b[39m_random\u001b[38;5;241m.\u001b[39mchoice(\u001b[38;5;28mself\u001b[39m\u001b[38;5;241m.\u001b[39m_moves, p\u001b[38;5;241m=\u001b[39m\u001b[38;5;28mself\u001b[39m\u001b[38;5;241m.\u001b[39m_weights)\n\u001b[1;32m    401\u001b[0m \u001b[38;5;66;03m# Propose\u001b[39;00m\n\u001b[0;32m--> 402\u001b[0m state, accepted \u001b[38;5;241m=\u001b[39m \u001b[43mmove\u001b[49m\u001b[38;5;241;43m.\u001b[39;49m\u001b[43mpropose\u001b[49m\u001b[43m(\u001b[49m\u001b[43mmodel\u001b[49m\u001b[43m,\u001b[49m\u001b[43m \u001b[49m\u001b[43mstate\u001b[49m\u001b[43m)\u001b[49m\n\u001b[1;32m    403\u001b[0m state\u001b[38;5;241m.\u001b[39mrandom_state \u001b[38;5;241m=\u001b[39m \u001b[38;5;28mself\u001b[39m\u001b[38;5;241m.\u001b[39mrandom_state\n\u001b[1;32m    405\u001b[0m \u001b[38;5;28;01mif\u001b[39;00m tune:\n",
      "File \u001b[0;32m~/.local/lib/python3.8/site-packages/emcee/moves/red_blue.py:93\u001b[0m, in \u001b[0;36mRedBlueMove.propose\u001b[0;34m(self, model, state)\u001b[0m\n\u001b[1;32m     90\u001b[0m q, factors \u001b[38;5;241m=\u001b[39m \u001b[38;5;28mself\u001b[39m\u001b[38;5;241m.\u001b[39mget_proposal(s, c, model\u001b[38;5;241m.\u001b[39mrandom)\n\u001b[1;32m     92\u001b[0m \u001b[38;5;66;03m# Compute the lnprobs of the proposed position.\u001b[39;00m\n\u001b[0;32m---> 93\u001b[0m new_log_probs, new_blobs \u001b[38;5;241m=\u001b[39m \u001b[43mmodel\u001b[49m\u001b[38;5;241;43m.\u001b[39;49m\u001b[43mcompute_log_prob_fn\u001b[49m\u001b[43m(\u001b[49m\u001b[43mq\u001b[49m\u001b[43m)\u001b[49m\n\u001b[1;32m     95\u001b[0m \u001b[38;5;66;03m# Loop over the walkers and update them accordingly.\u001b[39;00m\n\u001b[1;32m     96\u001b[0m \u001b[38;5;28;01mfor\u001b[39;00m i, (j, f, nlp) \u001b[38;5;129;01min\u001b[39;00m \u001b[38;5;28menumerate\u001b[39m(\n\u001b[1;32m     97\u001b[0m     \u001b[38;5;28mzip\u001b[39m(all_inds[S1], factors, new_log_probs)\n\u001b[1;32m     98\u001b[0m ):\n",
      "File \u001b[0;32m~/.local/lib/python3.8/site-packages/emcee/ensemble.py:489\u001b[0m, in \u001b[0;36mEnsembleSampler.compute_log_prob\u001b[0;34m(self, coords)\u001b[0m\n\u001b[1;32m    487\u001b[0m     \u001b[38;5;28;01melse\u001b[39;00m:\n\u001b[1;32m    488\u001b[0m         map_func \u001b[38;5;241m=\u001b[39m \u001b[38;5;28mmap\u001b[39m\n\u001b[0;32m--> 489\u001b[0m     results \u001b[38;5;241m=\u001b[39m \u001b[38;5;28;43mlist\u001b[39;49m\u001b[43m(\u001b[49m\u001b[43mmap_func\u001b[49m\u001b[43m(\u001b[49m\u001b[38;5;28;43mself\u001b[39;49m\u001b[38;5;241;43m.\u001b[39;49m\u001b[43mlog_prob_fn\u001b[49m\u001b[43m,\u001b[49m\u001b[43m \u001b[49m\u001b[43mp\u001b[49m\u001b[43m)\u001b[49m\u001b[43m)\u001b[49m\n\u001b[1;32m    491\u001b[0m \u001b[38;5;28;01mtry\u001b[39;00m:\n\u001b[1;32m    492\u001b[0m     log_prob \u001b[38;5;241m=\u001b[39m np\u001b[38;5;241m.\u001b[39marray([\u001b[38;5;28mfloat\u001b[39m(l[\u001b[38;5;241m0\u001b[39m]) \u001b[38;5;28;01mfor\u001b[39;00m l \u001b[38;5;129;01min\u001b[39;00m results])\n",
      "File \u001b[0;32m~/.local/lib/python3.8/site-packages/emcee/ensemble.py:624\u001b[0m, in \u001b[0;36m_FunctionWrapper.__call__\u001b[0;34m(self, x)\u001b[0m\n\u001b[1;32m    622\u001b[0m \u001b[38;5;28;01mdef\u001b[39;00m \u001b[38;5;21m__call__\u001b[39m(\u001b[38;5;28mself\u001b[39m, x):\n\u001b[1;32m    623\u001b[0m     \u001b[38;5;28;01mtry\u001b[39;00m:\n\u001b[0;32m--> 624\u001b[0m         \u001b[38;5;28;01mreturn\u001b[39;00m \u001b[38;5;28;43mself\u001b[39;49m\u001b[38;5;241;43m.\u001b[39;49m\u001b[43mf\u001b[49m\u001b[43m(\u001b[49m\u001b[43mx\u001b[49m\u001b[43m,\u001b[49m\u001b[43m \u001b[49m\u001b[38;5;241;43m*\u001b[39;49m\u001b[38;5;28;43mself\u001b[39;49m\u001b[38;5;241;43m.\u001b[39;49m\u001b[43margs\u001b[49m\u001b[43m,\u001b[49m\u001b[43m \u001b[49m\u001b[38;5;241;43m*\u001b[39;49m\u001b[38;5;241;43m*\u001b[39;49m\u001b[38;5;28;43mself\u001b[39;49m\u001b[38;5;241;43m.\u001b[39;49m\u001b[43mkwargs\u001b[49m\u001b[43m)\u001b[49m\n\u001b[1;32m    625\u001b[0m     \u001b[38;5;28;01mexcept\u001b[39;00m:  \u001b[38;5;66;03m# pragma: no cover\u001b[39;00m\n\u001b[1;32m    626\u001b[0m         \u001b[38;5;28;01mimport\u001b[39;00m \u001b[38;5;21;01mtraceback\u001b[39;00m\n",
      "Input \u001b[0;32mIn [10]\u001b[0m, in \u001b[0;36mlog_posterior\u001b[0;34m(pars, batch_size)\u001b[0m\n\u001b[1;32m      7\u001b[0m ac_hist \u001b[38;5;241m=\u001b[39m ac\u001b[38;5;241m.\u001b[39msimulate_hist(parameters)\n\u001b[1;32m      8\u001b[0m model_hist \u001b[38;5;241m=\u001b[39m er_hist \u001b[38;5;241m+\u001b[39m ac_hist\n\u001b[0;32m---> 10\u001b[0m log_likelihood \u001b[38;5;241m=\u001b[39m \u001b[38;5;28;43mfloat\u001b[39;49m\u001b[43m(\u001b[49m\u001b[43mjnp\u001b[49m\u001b[38;5;241;43m.\u001b[39;49m\u001b[43msum\u001b[49m\u001b[43m(\u001b[49m\u001b[43mdata_hist\u001b[49m\u001b[43m \u001b[49m\u001b[38;5;241;43m*\u001b[39;49m\u001b[43m \u001b[49m\u001b[43mjnp\u001b[49m\u001b[38;5;241;43m.\u001b[39;49m\u001b[43mlog\u001b[49m\u001b[43m(\u001b[49m\u001b[43mmodel_hist\u001b[49m\u001b[43m)\u001b[49m\u001b[43m \u001b[49m\u001b[38;5;241;43m-\u001b[39;49m\u001b[43m \u001b[49m\u001b[43mmodel_hist\u001b[49m\u001b[43m)\u001b[49m\u001b[43m)\u001b[49m\n\u001b[1;32m     11\u001b[0m log_prior \u001b[38;5;241m=\u001b[39m par_manager\u001b[38;5;241m.\u001b[39mlog_prior\n\u001b[1;32m     13\u001b[0m \u001b[38;5;66;03m# This check is required. Consider a non-sensible parameter which\u001b[39;00m\n\u001b[1;32m     14\u001b[0m \u001b[38;5;66;03m# has -np.inf prior, and could have np.nan likelihood, then the\u001b[39;00m\n\u001b[1;32m     15\u001b[0m \u001b[38;5;66;03m# prior would be -np.inf + np.nan = np.nan\u001b[39;00m\n",
      "File \u001b[0;32m~/.local/lib/python3.8/site-packages/jax/_src/device_array.py:296\u001b[0m, in \u001b[0;36m<lambda>\u001b[0;34m(self)\u001b[0m\n\u001b[1;32m    294\u001b[0m \u001b[38;5;28msetattr\u001b[39m(device_array, \u001b[38;5;124m\"\u001b[39m\u001b[38;5;124m__bool__\u001b[39m\u001b[38;5;124m\"\u001b[39m, partialmethod(_forward_to_value, \u001b[38;5;28mbool\u001b[39m))\n\u001b[1;32m    295\u001b[0m \u001b[38;5;28msetattr\u001b[39m(device_array, \u001b[38;5;124m\"\u001b[39m\u001b[38;5;124m__nonzero__\u001b[39m\u001b[38;5;124m\"\u001b[39m, partialmethod(_forward_to_value, \u001b[38;5;28mbool\u001b[39m))\n\u001b[0;32m--> 296\u001b[0m \u001b[38;5;28msetattr\u001b[39m(device_array, \u001b[38;5;124m\"\u001b[39m\u001b[38;5;124m__float__\u001b[39m\u001b[38;5;124m\"\u001b[39m, \u001b[38;5;28;01mlambda\u001b[39;00m \u001b[38;5;28mself\u001b[39m: \u001b[38;5;28;43mself\u001b[39;49m\u001b[38;5;241;43m.\u001b[39;49m\u001b[43m_value\u001b[49m\u001b[38;5;241m.\u001b[39m\u001b[38;5;21m__float__\u001b[39m())\n\u001b[1;32m    297\u001b[0m \u001b[38;5;28msetattr\u001b[39m(device_array, \u001b[38;5;124m\"\u001b[39m\u001b[38;5;124m__int__\u001b[39m\u001b[38;5;124m\"\u001b[39m, \u001b[38;5;28;01mlambda\u001b[39;00m \u001b[38;5;28mself\u001b[39m: \u001b[38;5;28mself\u001b[39m\u001b[38;5;241m.\u001b[39m_value\u001b[38;5;241m.\u001b[39m\u001b[38;5;21m__int__\u001b[39m())\n\u001b[1;32m    298\u001b[0m \u001b[38;5;28msetattr\u001b[39m(device_array, \u001b[38;5;124m\"\u001b[39m\u001b[38;5;124m__complex__\u001b[39m\u001b[38;5;124m\"\u001b[39m, \u001b[38;5;28;01mlambda\u001b[39;00m \u001b[38;5;28mself\u001b[39m: \u001b[38;5;28mself\u001b[39m\u001b[38;5;241m.\u001b[39m_value\u001b[38;5;241m.\u001b[39m\u001b[38;5;21m__complex__\u001b[39m())\n",
      "\u001b[0;31mKeyboardInterrupt\u001b[0m: "
     ]
    }
   ],
   "source": [
    "nwalkers = 200\n",
    "ndim = len(par_manager.parameter_fit_array)\n",
    "sampler = emcee.EnsembleSampler(nwalkers, ndim, log_posterior)\n",
    "\n",
    "p0 = []\n",
    "for _ in range(nwalkers):\n",
    "    par_manager.sample_init()\n",
    "    p0.append(par_manager.parameter_fit_array)\n",
    "    \n",
    "_ = sampler.run_mcmc(p0, 500, progress=True)"
   ]
  },
  {
   "cell_type": "code",
   "execution_count": 11,
   "id": "c153e5c1-b46c-4903-850a-796bcf758634",
   "metadata": {},
   "outputs": [
    {
     "data": {
      "image/png": "[encoded data removed]",
      "text/plain": [
       "<Figure size 432x288 with 1 Axes>"
      ]
     },
     "metadata": {
      "needs_background": "light"
     },
     "output_type": "display_data"
    }
   ],
   "source": [
    "logp = sampler.get_log_prob()\n",
    "\n",
    "for _logp in logp.T:\n",
    "    plt.plot(_logp, lw=0.1)\n",
    "\n",
    "plt.ylim(0, 2400)\n",
    "plt.xlabel('iteration')\n",
    "plt.ylabel('log posterior')\n",
    "plt.show()"
   ]
  },
  {
   "cell_type": "code",
   "execution_count": null,
   "id": "34c38c0a-9ace-490e-8c4b-9740fc288954",
   "metadata": {},
   "outputs": [],
   "source": []
  }
 ],
 "metadata": {
  "kernelspec": {
   "display_name": "Python [conda env:XENONnT_2022.06.2] *",
   "language": "python",
   "name": "conda-env-XENONnT_2022.06.2-py"
  },
  "language_info": {
   "codemirror_mode": {
    "name": "ipython",
    "version": 3
   },
   "file_extension": ".py",
   "mimetype": "text/x-python",
   "name": "python",
   "nbconvert_exporter": "python",
   "pygments_lexer": "ipython3",
   "version": "3.8.13"
  }
 },
 "nbformat": 4,
 "nbformat_minor": 5
}

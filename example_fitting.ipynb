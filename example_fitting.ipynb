{
 "cells": [
  {
   "cell_type": "code",
   "execution_count": 1,
   "id": "ebf3ebb3-9230-4f79-a0d1-10b6e8199671",
   "metadata": {},
   "outputs": [],
   "source": [
    "import numpy as np\n",
    "import pandas as pd\n",
    "import matplotlib.pyplot as plt\n",
    "import jax.numpy as jnp\n",
    "\n",
    "import appletree as apt\n",
    "from appletree import randgen\n",
    "from appletree import Parameter\n",
    "from appletree.components import *"
   ]
  },
  {
   "cell_type": "code",
   "execution_count": 2,
   "id": "67e4a172-4cb9-4bf3-beda-e782aca63e50",
   "metadata": {},
   "outputs": [],
   "source": [
    "apt.set_gpu_memory_usage(0.2)"
   ]
  },
  {
   "cell_type": "markdown",
   "id": "4a24414c-251f-42f0-bbe6-f362b97f24e6",
   "metadata": {},
   "source": [
    "# Define parameters"
   ]
  },
  {
   "cell_type": "code",
   "execution_count": 3,
   "id": "ea901cf1-b413-4e48-92f0-2ec6890e5047",
   "metadata": {},
   "outputs": [],
   "source": [
    "par_config_file_name = '/home/zihaoxu/appletree/appletree/parameters/apt_sr0_er.json'\n",
    "par_manager = Parameter(par_config_file_name)"
   ]
  },
  {
   "cell_type": "markdown",
   "id": "35871f41-b4ff-4b2c-94d3-325c8c0dcb4c",
   "metadata": {},
   "source": [
    "# Equiprob data hist"
   ]
  },
  {
   "cell_type": "code",
   "execution_count": 4,
   "id": "9188acc7-8d75-44c9-af9b-d918e114ac35",
   "metadata": {},
   "outputs": [],
   "source": [
    "data = pd.read_csv('./appletree/data/data_XENONnT_Rn220_v8_strax_v1.2.2_straxen_v1.7.1_cutax_v1.9.0.csv')\n",
    "\n",
    "bins_cs1, bins_cs2 = apt.utils.get_equiprob_bins_2d(\n",
    "    data[['cs1', 'cs2']].to_numpy(),\n",
    "    [15, 15],\n",
    "    order=[0, 1],\n",
    "    x_clip=[0, 100],\n",
    "    y_clip=[4e2, 1e4],\n",
    "    which_np=jnp\n",
    ")"
   ]
  },
  {
   "cell_type": "code",
   "execution_count": 5,
   "id": "22ef7e71-9116-4c8f-8c42-811ab3844890",
   "metadata": {},
   "outputs": [],
   "source": [
    "data_hist = apt.hist.make_hist_irreg_bin_2d(data[['cs1', 'cs2']].to_numpy(), bins_cs1, bins_cs2, weights=jnp.ones(len(data)))"
   ]
  },
  {
   "cell_type": "markdown",
   "id": "64c339f7-06c9-4b71-bd1d-434e4fe88b91",
   "metadata": {},
   "source": [
    "# Define component"
   ]
  },
  {
   "cell_type": "code",
   "execution_count": 6,
   "id": "c98dc316-2a6a-4fb1-b1c4-8b092add2b69",
   "metadata": {},
   "outputs": [],
   "source": [
    "observables = ['cs1', 'cs2']"
   ]
  },
  {
   "cell_type": "code",
   "execution_count": 7,
   "id": "613e8210-d3a5-4094-827e-e935d16f6849",
   "metadata": {},
   "outputs": [],
   "source": [
    "er = ERBand()\n",
    "er.deduce(\n",
    "    data_names = observables + ['eff'],\n",
    "    func_name = 'er_sim',\n",
    "    bins = [bins_cs1, bins_cs2],\n",
    "    bins_type = 'irreg'\n",
    ")\n",
    "er.compile()"
   ]
  },
  {
   "cell_type": "code",
   "execution_count": 8,
   "id": "a6e70f94-9708-4fc3-952a-8537e0a6e69e",
   "metadata": {},
   "outputs": [],
   "source": [
    "ac = AC()\n",
    "ac.deduce(\n",
    "    data_names = observables,\n",
    "    bins = [bins_cs1, bins_cs2],\n",
    "    bins_type = 'irreg'\n",
    ")\n",
    "ac.compile()"
   ]
  },
  {
   "cell_type": "markdown",
   "id": "78ea61c6-17cd-4f29-88b4-b847a8195ffd",
   "metadata": {},
   "source": [
    "# Define posterior"
   ]
  },
  {
   "cell_type": "code",
   "execution_count": 9,
   "id": "a99416f7-49cd-4fd9-b167-515e4827dbde",
   "metadata": {},
   "outputs": [],
   "source": [
    "def log_posterior(pars, batch_size=int(1e6)):\n",
    "    par_manager.set_parameter_fit_from_array(pars)\n",
    "    parameters = par_manager.get_all_parameter()\n",
    "    \n",
    "    key = randgen.get_key()\n",
    "    key, er_hist = er.simulate_hist(key, batch_size, parameters)\n",
    "    ac_hist = ac.simulate_hist(parameters)\n",
    "    model_hist = er_hist + ac_hist\n",
    "    \n",
    "    log_likelihood = float(jnp.sum(data_hist * jnp.log(model_hist) - model_hist))\n",
    "    log_prior = par_manager.log_prior\n",
    "    \n",
    "    # This check is required. Consider a non-sensible parameter which\n",
    "    # has -np.inf prior, and could have np.nan likelihood, then the\n",
    "    # prior would be -np.inf + np.nan = np.nan\n",
    "    if np.isnan(log_likelihood + log_prior):\n",
    "        return -np.inf\n",
    "    \n",
    "    return log_likelihood + log_prior"
   ]
  },
  {
   "cell_type": "markdown",
   "id": "bf6b7243-175c-4025-8e8c-c4f466fe30c6",
   "metadata": {},
   "source": [
    "# Fit"
   ]
  },
  {
   "cell_type": "code",
   "execution_count": 10,
   "id": "769ee77f-8ad5-4a0d-8efb-002fe150ad1c",
   "metadata": {},
   "outputs": [],
   "source": [
    "import emcee"
   ]
  },
  {
   "cell_type": "code",
   "execution_count": 11,
   "id": "c01bd8f2-de24-4384-94ff-0c598c2dd327",
   "metadata": {},
   "outputs": [
    {
     "name": "stderr",
     "output_type": "stream",
     "text": [
      "100%|██████████| 500/500 [14:39<00:00,  1.76s/it]\n"
     ]
    }
   ],
   "source": [
    "nwalkers = 200\n",
    "ndim = len(par_manager.parameter_fit_array)\n",
    "sampler = emcee.EnsembleSampler(nwalkers, ndim, log_posterior)\n",
    "\n",
    "p0 = []\n",
    "for _ in range(nwalkers):\n",
    "    par_manager.sample_init()\n",
    "    p0.append(par_manager.parameter_fit_array)\n",
    "    \n",
    "_ = sampler.run_mcmc(p0, 500, progress=True)"
   ]
  },
  {
   "cell_type": "code",
   "execution_count": 12,
   "id": "c153e5c1-b46c-4903-850a-796bcf758634",
   "metadata": {},
   "outputs": [
    {
     "data": {
      "image/png": "[encoded data removed]",
      "text/plain": [
       "<Figure size 432x288 with 1 Axes>"
      ]
     },
     "metadata": {
      "needs_background": "light"
     },
     "output_type": "display_data"
    }
   ],
   "source": [
    "logp = sampler.get_log_prob()\n",
    "\n",
    "for _logp in logp.T:\n",
    "    plt.plot(_logp, lw=0.1)\n",
    "\n",
    "plt.ylim(0, 2400)\n",
    "plt.xlabel('iteration')\n",
    "plt.ylabel('log posterior')\n",
    "plt.show()"
   ]
  },
  {
   "cell_type": "code",
   "execution_count": null,
   "id": "34c38c0a-9ace-490e-8c4b-9740fc288954",
   "metadata": {},
   "outputs": [],
   "source": []
  }
 ],
 "metadata": {
  "kernelspec": {
   "display_name": "Python [conda env:XENONnT_2022.06.2] *",
   "language": "python",
   "name": "conda-env-XENONnT_2022.06.2-py"
  },
  "language_info": {
   "codemirror_mode": {
    "name": "ipython",
    "version": 3
   },
   "file_extension": ".py",
   "mimetype": "text/x-python",
   "name": "python",
   "nbconvert_exporter": "python",
   "pygments_lexer": "ipython3",
   "version": "3.8.13"
  }
 },
 "nbformat": 4,
 "nbformat_minor": 5
}

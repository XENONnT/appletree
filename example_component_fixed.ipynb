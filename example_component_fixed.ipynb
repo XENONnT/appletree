{
 "cells": [
  {
   "cell_type": "code",
   "execution_count": 1,
   "id": "ef4e8a99-1ea6-49a4-9cce-a84c460d3416",
   "metadata": {},
   "outputs": [],
   "source": [
    "import appletree as apt\n",
    "from appletree.components import AC\n",
    "from appletree import Parameter\n",
    "\n",
    "import pandas as pd\n",
    "import jax.numpy as jnp\n",
    "import matplotlib.pyplot as plt"
   ]
  },
  {
   "cell_type": "code",
   "execution_count": 2,
   "id": "2bde69de-05ce-4b6f-94b4-a2ce6666e7da",
   "metadata": {},
   "outputs": [],
   "source": [
    "par_manager = Parameter('./appletree/parameters/apt_sr0_er.json')\n",
    "par_manager.sample_init()\n",
    "parameters = par_manager.get_all_parameter()"
   ]
  },
  {
   "cell_type": "code",
   "execution_count": 3,
   "id": "868c09c3-9828-4d99-8896-6f14b1f9ad2b",
   "metadata": {},
   "outputs": [],
   "source": [
    "ac = AC()"
   ]
  },
  {
   "cell_type": "code",
   "execution_count": 4,
   "id": "71598947-1f26-4a5b-9719-b0bafe1c2984",
   "metadata": {},
   "outputs": [],
   "source": [
    "data = pd.read_csv('./appletree/data/data_XENONnT_Rn220_v8_strax_v1.2.2_straxen_v1.7.1_cutax_v1.9.0.csv')\n",
    "bins_cs1, bins_cs2 = apt.utils.get_equiprob_bins_2d(\n",
    "    data[['cs1', 'cs2']].to_numpy(),\n",
    "    [15, 15],\n",
    "    order=[0, 1],\n",
    "    x_clip=[0, 100],\n",
    "    y_clip=[1e2, 1e4],\n",
    "    which_np=jnp\n",
    ")"
   ]
  },
  {
   "cell_type": "code",
   "execution_count": 5,
   "id": "7557c13c-8e84-4dbe-a85d-31772fec95a0",
   "metadata": {},
   "outputs": [],
   "source": [
    "ac.deduce(\n",
    "    bins = [bins_cs1, bins_cs2],\n",
    "    bins_type = 'irreg'\n",
    ")\n",
    "_ = ac.compile()"
   ]
  },
  {
   "cell_type": "code",
   "execution_count": 6,
   "id": "1a5b7fdb-0858-46b2-afbd-3bd867464baf",
   "metadata": {},
   "outputs": [
    {
     "data": {
      "image/png": "[encoded data removed]",
      "text/plain": [
       "<Figure size 432x288 with 2 Axes>"
      ]
     },
     "metadata": {
      "needs_background": "light"
     },
     "output_type": "display_data"
    }
   ],
   "source": [
    "h = ac.simulate_hist(parameters)\n",
    "\n",
    "apt.plot_irreg_histogram_2d(*ac.bins, h)\n",
    "plt.yscale('log')\n",
    "plt.show()"
   ]
  },
  {
   "cell_type": "code",
   "execution_count": null,
   "id": "30b26c63-9d89-4989-9267-7f838b08d146",
   "metadata": {},
   "outputs": [],
   "source": []
  },
  {
   "cell_type": "code",
   "execution_count": null,
   "id": "5bf8f036-713b-4ddc-9269-1279ae736c79",
   "metadata": {},
   "outputs": [],
   "source": []
  }
 ],
 "metadata": {
  "kernelspec": {
   "display_name": "Python [conda env:XENONnT_2022.06.2] *",
   "language": "python",
   "name": "conda-env-XENONnT_2022.06.2-py"
  },
  "language_info": {
   "codemirror_mode": {
    "name": "ipython",
    "version": 3
   },
   "file_extension": ".py",
   "mimetype": "text/x-python",
   "name": "python",
   "nbconvert_exporter": "python",
   "pygments_lexer": "ipython3",
   "version": "3.8.13"
  }
 },
 "nbformat": 4,
 "nbformat_minor": 5
}

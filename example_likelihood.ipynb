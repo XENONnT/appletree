{
 "cells": [
  {
   "cell_type": "code",
   "execution_count": 1,
   "id": "9f79d871-874a-425e-83c9-ab33a4515d8e",
   "metadata": {},
   "outputs": [],
   "source": [
    "import os\n",
    "import matplotlib.pyplot as plt\n",
    "\n",
    "import appletree as apt\n",
    "from appletree.likelihood import Likelihood\n",
    "from appletree.parameter import Parameter\n",
    "from appletree.components import *\n",
    "\n",
    "import jax.numpy as jnp\n",
    "import numpy as np"
   ]
  },
  {
   "cell_type": "code",
   "execution_count": 2,
   "id": "f28fac9a-8714-4022-99a7-c5a6363e1124",
   "metadata": {},
   "outputs": [],
   "source": [
    "apt.set_gpu_memory_usage(0.2)"
   ]
  },
  {
   "cell_type": "code",
   "execution_count": 3,
   "id": "d91318c8-8130-4cfe-99e0-ecf1a24de3d4",
   "metadata": {},
   "outputs": [],
   "source": [
    "config = dict(\n",
    "    data_file_name = os.path.join(apt.DATAPATH, 'data_XENONnT_Rn220_v8_strax_v1.2.2_straxen_v1.7.1_cutax_v1.9.0.csv'),\n",
    "    bins_type = 'equiprob',\n",
    "    bins_on = ['cs1', 'cs2'],\n",
    "    bins = [15, 15],\n",
    "    x_clip = [0, 100],\n",
    "    y_clip = [2e2, 1e4],\n",
    ")\n",
    "llh = Likelihood(**config)"
   ]
  },
  {
   "cell_type": "code",
   "execution_count": 4,
   "id": "44cefc08-01ac-4d5b-8250-dc7d4fb4a2e7",
   "metadata": {},
   "outputs": [
    {
     "name": "stdout",
     "output_type": "stream",
     "text": [
      "\n",
      "========================================\n",
      "BINNING\n",
      "\n",
      "    bins_type: equiprob\n",
      "    bins_on: ['cs1', 'cs2']\n",
      "\n",
      "========================================\n",
      "DATA\n",
      "\n",
      "    file_name: /home/zihaoxu/appletree/appletree/data/data_XENONnT_Rn220_v8_strax_v1.2.2_straxen_v1.7.1_cutax_v1.9.0.csv\n",
      "    data_rate: 2058.0\n",
      "\n",
      "========================================\n",
      "MODEL\n",
      "\n",
      "    COMPONENT 0: rn220_ac\n",
      "        type: fixed\n",
      "        rate_par: ac_rate\n",
      "        pars: ['ac_rate']\n",
      "\n",
      "    COMPONENT 1: rn220_er\n",
      "        type: simulation\n",
      "        rate_par: er_rate\n",
      "        pars: ['drift_velocity', 'er_rate', 'fano', 'field', 'g1', 'g2', 'gas_gain', 'nex_ni_ratio', 'p_dpe', 'py0', 'py1', 'py2', 'py3', 'py4', 'rf0', 'rf1', 's2_threshold', 'w']\n",
      "\n",
      "========================================\n"
     ]
    }
   ],
   "source": [
    "llh.register_component(AC, 'rn220_ac')\n",
    "llh.register_component(ERBand, 'rn220_er')\n",
    "llh.print_likelihood_summary(short=True)"
   ]
  },
  {
   "cell_type": "code",
   "execution_count": 5,
   "id": "c62de767-55cf-48ba-a588-805c685a770d",
   "metadata": {},
   "outputs": [],
   "source": [
    "par_manager = Parameter('./appletree/parameters/apt_sr0_er.json')\n",
    "par_manager.sample_init()"
   ]
  },
  {
   "cell_type": "code",
   "execution_count": 6,
   "id": "0c9b5a96-2fad-4940-9ab3-ec39073865e1",
   "metadata": {},
   "outputs": [
    {
     "data": {
      "image/png": "[encoded data removed]",
      "text/plain": [
       "<Figure size 432x288 with 2 Axes>"
      ]
     },
     "metadata": {
      "needs_background": "light"
     },
     "output_type": "display_data"
    },
    {
     "data": {
      "text/plain": [
       "(DeviceArray([3498318930, 4266031893], dtype=uint32), 1964.41650390625)"
      ]
     },
     "execution_count": 6,
     "metadata": {},
     "output_type": "execute_result"
    }
   ],
   "source": [
    "key = apt.get_key()\n",
    "par_manager.sample_init()\n",
    "\n",
    "key, hist = llh.simulate_model_hist(key, int(1e6), par_manager.get_all_parameter())\n",
    "apt.plot_irreg_histogram_2d(*llh.bins, hist)\n",
    "plt.show()\n",
    "\n",
    "llh.get_log_likelihood(key, int(1e6), par_manager.get_all_parameter())"
   ]
  },
  {
   "cell_type": "code",
   "execution_count": null,
   "id": "f6505d1a-07b5-4d9a-b027-a5c875a32c28",
   "metadata": {},
   "outputs": [],
   "source": []
  }
 ],
 "metadata": {
  "kernelspec": {
   "display_name": "Python [conda env:XENONnT_2022.06.2] *",
   "language": "python",
   "name": "conda-env-XENONnT_2022.06.2-py"
  },
  "language_info": {
   "codemirror_mode": {
    "name": "ipython",
    "version": 3
   },
   "file_extension": ".py",
   "mimetype": "text/x-python",
   "name": "python",
   "nbconvert_exporter": "python",
   "pygments_lexer": "ipython3",
   "version": "3.8.13"
  }
 },
 "nbformat": 4,
 "nbformat_minor": 5
}

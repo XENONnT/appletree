{
 "cells": [
  {
   "cell_type": "code",
   "execution_count": 1,
   "id": "ebf3ebb3-9230-4f79-a0d1-10b6e8199671",
   "metadata": {},
   "outputs": [],
   "source": [
    "import numpy as np\n",
    "import jax.numpy as jnp\n",
    "import pandas as pd\n",
    "import matplotlib.pyplot as plt\n",
    "\n",
    "import appletree as apt\n",
    "from appletree import randgen\n",
    "from appletree import Parameter\n",
    "from appletree import Likelihood\n",
    "from appletree.share import DATAPATH, PARPATH\n",
    "from appletree.components import *"
   ]
  },
  {
   "cell_type": "code",
   "execution_count": 2,
   "id": "67e4a172-4cb9-4bf3-beda-e782aca63e50",
   "metadata": {},
   "outputs": [],
   "source": [
    "apt.set_gpu_memory_usage(0.2)"
   ]
  },
  {
   "cell_type": "markdown",
   "id": "4a24414c-251f-42f0-bbe6-f362b97f24e6",
   "metadata": {},
   "source": [
    "# Define parameters"
   ]
  },
  {
   "cell_type": "code",
   "execution_count": 3,
   "id": "ea901cf1-b413-4e48-92f0-2ec6890e5047",
   "metadata": {},
   "outputs": [],
   "source": [
    "par_manager = Parameter(os.path.join(PARPATH, 'apt_sr0_er.json'))"
   ]
  },
  {
   "cell_type": "markdown",
   "id": "64c339f7-06c9-4b71-bd1d-434e4fe88b91",
   "metadata": {},
   "source": [
    "# Define likelihood"
   ]
  },
  {
   "cell_type": "code",
   "execution_count": 4,
   "id": "c98dc316-2a6a-4fb1-b1c4-8b092add2b69",
   "metadata": {},
   "outputs": [],
   "source": [
    "config = dict(\n",
    "    data_file_name = os.path.join(apt.DATAPATH, 'data_XENONnT_Rn220_v8_strax_v1.2.2_straxen_v1.7.1_cutax_v1.9.0.csv'),\n",
    "    bins_type = 'equiprob',\n",
    "    bins_on = ['cs1', 'cs2'],\n",
    "    bins = [15, 15],\n",
    "    x_clip = [0, 100],\n",
    "    y_clip = [2e2, 1e4],\n",
    ")\n",
    "llh = Likelihood(**config)"
   ]
  },
  {
   "cell_type": "code",
   "execution_count": 5,
   "id": "613e8210-d3a5-4094-827e-e935d16f6849",
   "metadata": {},
   "outputs": [
    {
     "name": "stdout",
     "output_type": "stream",
     "text": [
      "\n",
      "========================================\n",
      "BINNING\n",
      "\n",
      "    bins_type: equiprob\n",
      "    bins_on: ['cs1', 'cs2']\n",
      "\n",
      "========================================\n",
      "DATA\n",
      "\n",
      "    file_name: /home/xudc/appletree/appletree/data/data_XENONnT_Rn220_v8_strax_v1.2.2_straxen_v1.7.1_cutax_v1.9.0.csv\n",
      "    data_rate: 2058.0\n",
      "\n",
      "========================================\n",
      "MODEL\n",
      "\n",
      "    COMPONENT 0: rn220_ac\n",
      "        type: fixed\n",
      "        rate_par: ac_rate\n",
      "        pars: ['ac_rate']\n",
      "\n",
      "    COMPONENT 1: rn220_er\n",
      "        type: simulation\n",
      "        rate_par: er_rate\n",
      "        pars: ['drift_velocity', 'er_rate', 'fano', 'field', 'g1', 'g2', 'gas_gain', 'nex_ni_ratio', 'p_dpe', 'py0', 'py1', 'py2', 'py3', 'py4', 'rf0', 'rf1', 's2_threshold', 'w']\n",
      "\n",
      "========================================\n"
     ]
    }
   ],
   "source": [
    "llh.register_component(AC, 'rn220_ac')\n",
    "llh.register_component(ERBand, 'rn220_er')\n",
    "llh.print_likelihood_summary(short=True)"
   ]
  },
  {
   "cell_type": "code",
   "execution_count": 6,
   "id": "58dfa5bc-bb50-42ef-a130-a6a93f953c35",
   "metadata": {},
   "outputs": [
    {
     "data": {
      "text/plain": [
       "\u001b[0;31mSignature:\u001b[0m \u001b[0mllh\u001b[0m\u001b[0;34m.\u001b[0m\u001b[0mget_log_likelihood\u001b[0m\u001b[0;34m(\u001b[0m\u001b[0mkey\u001b[0m\u001b[0;34m,\u001b[0m \u001b[0mbatch_size\u001b[0m\u001b[0;34m,\u001b[0m \u001b[0mparameters\u001b[0m\u001b[0;34m)\u001b[0m\u001b[0;34m\u001b[0m\u001b[0;34m\u001b[0m\u001b[0m\n",
       "\u001b[0;31mDocstring:\u001b[0m <no docstring>\n",
       "\u001b[0;31mFile:\u001b[0m      ~/appletree/appletree/likelihood.py\n",
       "\u001b[0;31mType:\u001b[0m      method\n"
      ]
     },
     "metadata": {},
     "output_type": "display_data"
    }
   ],
   "source": [
    "llh.get_log_likelihood?"
   ]
  },
  {
   "cell_type": "markdown",
   "id": "78ea61c6-17cd-4f29-88b4-b847a8195ffd",
   "metadata": {},
   "source": [
    "# Define posterior"
   ]
  },
  {
   "cell_type": "code",
   "execution_count": 7,
   "id": "a99416f7-49cd-4fd9-b167-515e4827dbde",
   "metadata": {},
   "outputs": [],
   "source": [
    "def log_posterior(pars, batch_size=int(1e6)):\n",
    "    par_manager.set_parameter_fit_from_array(pars)\n",
    "    \n",
    "    key = randgen.get_key()\n",
    "    key, log_likelihood = llh.get_log_likelihood(key, batch_size, par_manager.get_all_parameter())\n",
    "    log_prior = par_manager.log_prior\n",
    "    \n",
    "    return log_likelihood + log_prior"
   ]
  },
  {
   "cell_type": "code",
   "execution_count": 8,
   "id": "2e4c2bd8-2534-4b63-ac0a-4ccc714c8d2f",
   "metadata": {},
   "outputs": [
    {
     "data": {
      "text/plain": [
       "541.5253355096947"
      ]
     },
     "execution_count": 8,
     "metadata": {},
     "output_type": "execute_result"
    }
   ],
   "source": [
    "log_posterior(par_manager.parameter_fit_array)"
   ]
  },
  {
   "cell_type": "markdown",
   "id": "bf6b7243-175c-4025-8e8c-c4f466fe30c6",
   "metadata": {},
   "source": [
    "# Fit"
   ]
  },
  {
   "cell_type": "code",
   "execution_count": 9,
   "id": "769ee77f-8ad5-4a0d-8efb-002fe150ad1c",
   "metadata": {},
   "outputs": [],
   "source": [
    "import emcee"
   ]
  },
  {
   "cell_type": "code",
   "execution_count": 10,
   "id": "c01bd8f2-de24-4384-94ff-0c598c2dd327",
   "metadata": {},
   "outputs": [
    {
     "name": "stderr",
     "output_type": "stream",
     "text": [
      "100%|████████████████████████████████████████████████████████████████████████████████████████████████| 100/100 [02:59<00:00,  1.79s/it]\n"
     ]
    }
   ],
   "source": [
    "nwalkers = 200\n",
    "ndim = len(par_manager.parameter_fit_array)\n",
    "sampler = emcee.EnsembleSampler(nwalkers, ndim, log_posterior)\n",
    "\n",
    "p0 = []\n",
    "for _ in range(nwalkers):\n",
    "    par_manager.sample_init()\n",
    "    p0.append(par_manager.parameter_fit_array)\n",
    "    \n",
    "_ = sampler.run_mcmc(p0, 100, progress=True)"
   ]
  },
  {
   "cell_type": "code",
   "execution_count": 11,
   "id": "c153e5c1-b46c-4903-850a-796bcf758634",
   "metadata": {},
   "outputs": [
    {
     "data": {
      "image/png": "[encoded data removed]",
      "text/plain": [
       "<Figure size 432x288 with 1 Axes>"
      ]
     },
     "metadata": {
      "needs_background": "light"
     },
     "output_type": "display_data"
    }
   ],
   "source": [
    "logp = sampler.get_log_prob()\n",
    "\n",
    "for _logp in logp.T:\n",
    "    plt.plot(_logp, lw=0.1)\n",
    "\n",
    "plt.ylim(0, 2400)\n",
    "plt.xlabel('iteration')\n",
    "plt.ylabel('log posterior')\n",
    "plt.show()"
   ]
  }
 ],
 "metadata": {
  "kernelspec": {
   "display_name": "Python [conda env:XENONnT_2022.06.2] *",
   "language": "python",
   "name": "conda-env-XENONnT_2022.06.2-py"
  },
  "language_info": {
   "codemirror_mode": {
    "name": "ipython",
    "version": 3
   },
   "file_extension": ".py",
   "mimetype": "text/x-python",
   "name": "python",
   "nbconvert_exporter": "python",
   "pygments_lexer": "ipython3",
   "version": "3.8.13"
  }
 },
 "nbformat": 4,
 "nbformat_minor": 5
}

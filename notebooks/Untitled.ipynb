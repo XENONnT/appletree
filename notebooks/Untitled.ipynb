{
 "cells": [
  {
   "cell_type": "code",
   "execution_count": 1,
   "id": "716ffa10-79b3-4a26-b49e-2262407d0af3",
   "metadata": {},
   "outputs": [],
   "source": [
    "import appletree as apt"
   ]
  },
  {
   "cell_type": "code",
   "execution_count": 2,
   "id": "831edcdc-0d0e-4679-bd95-22466b33b97e",
   "metadata": {},
   "outputs": [
    {
     "data": {
      "text/plain": [
       "appletree.likelihood.Likelihood"
      ]
     },
     "execution_count": 2,
     "metadata": {},
     "output_type": "execute_result"
    }
   ],
   "source": [
    "apt.Likelihood"
   ]
  },
  {
   "cell_type": "code",
   "execution_count": null,
   "id": "f0705027-627b-4062-b832-eb395c0f203f",
   "metadata": {},
   "outputs": [],
   "source": []
  }
 ],
 "metadata": {
  "kernelspec": {
   "display_name": "Python [conda env:XENONnT_2022.06.2] *",
   "language": "python",
   "name": "conda-env-XENONnT_2022.06.2-py"
  },
  "language_info": {
   "codemirror_mode": {
    "name": "ipython",
    "version": 3
   },
   "file_extension": ".py",
   "mimetype": "text/x-python",
   "name": "python",
   "nbconvert_exporter": "python",
   "pygments_lexer": "ipython3",
   "version": "3.8.13"
  }
 },
 "nbformat": 4,
 "nbformat_minor": 5
}

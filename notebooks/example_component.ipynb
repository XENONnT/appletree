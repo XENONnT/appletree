{
 "cells": [
  {
   "cell_type": "code",
   "execution_count": 1,
   "id": "0bf412e3-73d7-439a-bd59-e35c9543c1b7",
   "metadata": {},
   "outputs": [],
   "source": [
    "import numpy as np\n",
    "import pandas as pd\n",
    "import matplotlib.pyplot as plt\n",
    "from matplotlib.colors import LogNorm\n",
    "import jax.numpy as jnp\n",
    "import multihist as mh\n",
    "\n",
    "import appletree as apt\n",
    "from appletree import randgen\n",
    "from appletree import Parameter\n",
    "from appletree.components import ERBand"
   ]
  },
  {
   "cell_type": "code",
   "execution_count": 2,
   "id": "b988e7ba-f325-47f8-ad0f-c004ce215ccf",
   "metadata": {},
   "outputs": [],
   "source": [
    "apt.set_gpu_memory_usage(0.2)"
   ]
  },
  {
   "cell_type": "markdown",
   "id": "bdef7717-ff2b-4e27-9d09-c400062d606b",
   "metadata": {},
   "source": [
    "# Define context"
   ]
  },
  {
   "cell_type": "code",
   "execution_count": 3,
   "id": "c2bb21e0-bc18-4878-86ba-8edea6ced391",
   "metadata": {},
   "outputs": [],
   "source": [
    "tree = ERBand()"
   ]
  },
  {
   "cell_type": "code",
   "execution_count": 4,
   "id": "e076733b-b248-446f-a744-ef4dfb73a01d",
   "metadata": {},
   "outputs": [],
   "source": [
    "tree.deduce(\n",
    "    data_names = ['cs1', 'cs2', 'eff'],\n",
    "    func_name = 'simulate',\n",
    ")\n",
    "tree.compile()"
   ]
  },
  {
   "cell_type": "markdown",
   "id": "18bd657b-9b02-4960-9a6f-5bed457a1c2d",
   "metadata": {},
   "source": [
    "# Parameters"
   ]
  },
  {
   "cell_type": "code",
   "execution_count": 5,
   "id": "8a3bdb6f-89f8-4c50-b94e-faf9675c3df8",
   "metadata": {},
   "outputs": [],
   "source": [
    "par_manager = Parameter('./appletree/parameters/apt_sr0_er.json')\n",
    "par_manager.sample_init()\n",
    "parameters = par_manager.get_all_parameter()"
   ]
  },
  {
   "cell_type": "markdown",
   "id": "d80c7208-fbf3-4ddd-b16c-2b891c282fcd",
   "metadata": {},
   "source": [
    "# Simulation"
   ]
  },
  {
   "cell_type": "code",
   "execution_count": 6,
   "id": "62d9f11a-ee5e-49f9-85ae-a3ebaab510c6",
   "metadata": {},
   "outputs": [],
   "source": [
    "batch_size = int(1e6)\n",
    "key = randgen.get_key(seed=137)\n",
    "\n",
    "key, (cs1, cs2, eff) = tree.simulate(key, batch_size, parameters)"
   ]
  },
  {
   "cell_type": "code",
   "execution_count": 7,
   "id": "b2ddc2dc-543d-47b3-8cd3-e508bce4328b",
   "metadata": {},
   "outputs": [
    {
     "data": {
      "image/png": "[encoded data removed]",
      "text/plain": [
       "<Figure size 432x288 with 2 Axes>"
      ]
     },
     "metadata": {
      "needs_background": "light"
     },
     "output_type": "display_data"
    }
   ],
   "source": [
    "h, be = jnp.histogramdd(\n",
    "    jnp.asarray([cs1, cs2]).T,\n",
    "    bins=(jnp.linspace(0, 100, 101), jnp.logspace(2.5, 4.1, 81)),\n",
    "    weights=eff\n",
    ")\n",
    "\n",
    "h = mh.Histdd.from_histogram(\n",
    "    np.array(h), \n",
    "    be, \n",
    "    axis_names=['cs1', 'cs2']\n",
    ")\n",
    "h.plot(norm=LogNorm())\n",
    "plt.yscale('log')\n",
    "plt.show()"
   ]
  },
  {
   "cell_type": "markdown",
   "id": "61cf40ac-1b60-49b4-825d-49967ad8ade6",
   "metadata": {},
   "source": [
    "# Simulation and make equiprob hist"
   ]
  },
  {
   "cell_type": "code",
   "execution_count": 8,
   "id": "619e5580-96ec-4ccc-80e5-a6f0de00e0a8",
   "metadata": {},
   "outputs": [],
   "source": [
    "data = pd.read_csv('./appletree/data/data_XENONnT_Rn220_v8_strax_v1.2.2_straxen_v1.7.1_cutax_v1.9.0.csv')\n",
    "bins_cs1, bins_cs2 = apt.utils.get_equiprob_bins_2d(\n",
    "    data[['cs1', 'cs2']].to_numpy(),\n",
    "    [15, 15],\n",
    "    order=[0, 1],\n",
    "    x_clip=[0, 100],\n",
    "    y_clip=[1e2, 1e4],\n",
    "    which_np=jnp\n",
    ")"
   ]
  },
  {
   "cell_type": "code",
   "execution_count": 9,
   "id": "0edfeafb-4bb9-469e-9be9-95e171372611",
   "metadata": {},
   "outputs": [
    {
     "name": "stderr",
     "output_type": "stream",
     "text": [
      "/home/zihaoxu/appletree/appletree/component.py:196: UserWarning: function name simulate is already cached. Running compile() will overwrite it.\n",
      "  warn(warning)\n"
     ]
    }
   ],
   "source": [
    "tree.deduce(\n",
    "    data_names = ['cs1', 'cs2', 'eff'],\n",
    "    func_name = 'simulate',\n",
    "    bins = [bins_cs1, bins_cs2],\n",
    "    bins_type = 'irreg'\n",
    ")\n",
    "tree.compile()"
   ]
  },
  {
   "cell_type": "code",
   "execution_count": 10,
   "id": "95034a59-ed46-4323-bc98-6292221155b5",
   "metadata": {},
   "outputs": [],
   "source": [
    "batch_size = int(1e6)\n",
    "key = randgen.get_key(seed=137)\n",
    "key, h = tree.simulate_hist(key, int(1e6), parameters)"
   ]
  },
  {
   "cell_type": "code",
   "execution_count": 11,
   "id": "035e5c1a-6585-4c1a-9f78-df6c6cb1dd2b",
   "metadata": {},
   "outputs": [
    {
     "data": {
      "image/png": "[encoded data removed]",
      "text/plain": [
       "<Figure size 432x288 with 2 Axes>"
      ]
     },
     "metadata": {
      "needs_background": "light"
     },
     "output_type": "display_data"
    }
   ],
   "source": [
    "apt.utils.plot_irreg_histogram_2d(bins_cs1, bins_cs2, h, density=False)\n",
    "plt.yscale('log')\n",
    "plt.ylim(5e2, 1e4)\n",
    "plt.show()"
   ]
  },
  {
   "cell_type": "markdown",
   "id": "dd131c74-69e7-4946-b5c7-6dc651a1fdef",
   "metadata": {},
   "source": [
    "# Speed test"
   ]
  },
  {
   "cell_type": "code",
   "execution_count": 12,
   "id": "ef8dc578-f677-49ca-86c6-aecbbd7d093c",
   "metadata": {},
   "outputs": [],
   "source": [
    "@apt.utils.timeit\n",
    "def test(key, batch_size, parameters):\n",
    "    return tree.simulate_hist(key, batch_size, parameters)"
   ]
  },
  {
   "cell_type": "code",
   "execution_count": 13,
   "id": "0679c7af-66dc-4bdd-8810-1469aa05dac5",
   "metadata": {},
   "outputs": [],
   "source": [
    "@apt.utils.timeit\n",
    "def benchmark():\n",
    "    key = randgen.get_key()\n",
    "    for _ in range(100):\n",
    "        key, _ = test(key, int(1e6), parameters)"
   ]
  },
  {
   "cell_type": "code",
   "execution_count": 14,
   "id": "317a32ef-9860-4113-882c-de5ff0941285",
   "metadata": {},
   "outputs": [
    {
     "name": "stdout",
     "output_type": "stream",
     "text": [
      " Function <benchmark> starts. \n",
      " Function <test> starts. \n",
      " Function <test> ends! Time cost = 4.225254 msec. \n",
      " Function <test> starts. \n",
      " Function <test> ends! Time cost = 4.340410 msec. \n",
      " Function <test> starts. \n",
      " Function <test> ends! Time cost = 3.981829 msec. \n",
      " Function <test> starts. \n",
      " Function <test> ends! Time cost = 3.807545 msec. \n",
      " Function <test> starts. \n",
      " Function <test> ends! Time cost = 4.450798 msec. \n",
      " Function <test> starts. \n",
      " Function <test> ends! Time cost = 6.415844 msec. \n",
      " Function <test> starts. \n",
      " Function <test> ends! Time cost = 6.502390 msec. \n",
      " Function <test> starts. \n",
      " Function <test> ends! Time cost = 6.524801 msec. \n",
      " Function <test> starts. \n",
      " Function <test> ends! Time cost = 6.372929 msec. \n",
      " Function <test> starts. \n",
      " Function <test> ends! Time cost = 6.526232 msec. \n",
      " Function <test> starts. \n",
      " Function <test> ends! Time cost = 6.426811 msec. \n",
      " Function <test> starts. \n",
      " Function <test> ends! Time cost = 6.468058 msec. \n",
      " Function <test> starts. \n",
      " Function <test> ends! Time cost = 6.168604 msec. \n",
      " Function <test> starts. \n",
      " Function <test> ends! Time cost = 6.457806 msec. \n",
      " Function <test> starts. \n",
      " Function <test> ends! Time cost = 6.496191 msec. \n",
      " Function <test> starts. \n",
      " Function <test> ends! Time cost = 6.442308 msec. \n",
      " Function <test> starts. \n",
      " Function <test> ends! Time cost = 6.492853 msec. \n",
      " Function <test> starts. \n",
      " Function <test> ends! Time cost = 6.422520 msec. \n",
      " Function <test> starts. \n",
      " Function <test> ends! Time cost = 6.468534 msec. \n",
      " Function <test> starts. \n",
      " Function <test> ends! Time cost = 6.458521 msec. \n",
      " Function <test> starts. \n",
      " Function <test> ends! Time cost = 6.478548 msec. \n",
      " Function <test> starts. \n",
      " Function <test> ends! Time cost = 6.478786 msec. \n",
      " Function <test> starts. \n",
      " Function <test> ends! Time cost = 6.422043 msec. \n",
      " Function <test> starts. \n",
      " Function <test> ends! Time cost = 6.652594 msec. \n",
      " Function <test> starts. \n",
      " Function <test> ends! Time cost = 6.588697 msec. \n",
      " Function <test> starts. \n",
      " Function <test> ends! Time cost = 6.288528 msec. \n",
      " Function <test> starts. \n",
      " Function <test> ends! Time cost = 6.419897 msec. \n",
      " Function <test> starts. \n",
      " Function <test> ends! Time cost = 6.387949 msec. \n",
      " Function <test> starts. \n",
      " Function <test> ends! Time cost = 6.394625 msec. \n",
      " Function <test> starts. \n",
      " Function <test> ends! Time cost = 6.472588 msec. \n",
      " Function <test> starts. \n",
      " Function <test> ends! Time cost = 6.311417 msec. \n",
      " Function <test> starts. \n",
      " Function <test> ends! Time cost = 6.350517 msec. \n",
      " Function <test> starts. \n",
      " Function <test> ends! Time cost = 6.340981 msec. \n",
      " Function <test> starts. \n",
      " Function <test> ends! Time cost = 6.450176 msec. \n",
      " Function <test> starts. \n",
      " Function <test> ends! Time cost = 6.278515 msec. \n",
      " Function <test> starts. \n",
      " Function <test> ends! Time cost = 6.160259 msec. \n",
      " Function <test> starts. \n",
      " Function <test> ends! Time cost = 6.405592 msec. \n",
      " Function <test> starts. \n",
      " Function <test> ends! Time cost = 6.464243 msec. \n",
      " Function <test> starts. \n",
      " Function <test> ends! Time cost = 6.429672 msec. \n",
      " Function <test> starts. \n",
      " Function <test> ends! Time cost = 6.212950 msec. \n",
      " Function <test> starts. \n",
      " Function <test> ends! Time cost = 6.427765 msec. \n",
      " Function <test> starts. \n",
      " Function <test> ends! Time cost = 6.345510 msec. \n",
      " Function <test> starts. \n",
      " Function <test> ends! Time cost = 6.032705 msec. \n",
      " Function <test> starts. \n",
      " Function <test> ends! Time cost = 6.336927 msec. \n",
      " Function <test> starts. \n",
      " Function <test> ends! Time cost = 6.295204 msec. \n",
      " Function <test> starts. \n",
      " Function <test> ends! Time cost = 6.448984 msec. \n",
      " Function <test> starts. \n",
      " Function <test> ends! Time cost = 6.188869 msec. \n",
      " Function <test> starts. \n",
      " Function <test> ends! Time cost = 6.290674 msec. \n",
      " Function <test> starts. \n",
      " Function <test> ends! Time cost = 6.254673 msec. \n",
      " Function <test> starts. \n",
      " Function <test> ends! Time cost = 6.449699 msec. \n",
      " Function <test> starts. \n",
      " Function <test> ends! Time cost = 6.309032 msec. \n",
      " Function <test> starts. \n",
      " Function <test> ends! Time cost = 6.197214 msec. \n",
      " Function <test> starts. \n",
      " Function <test> ends! Time cost = 6.279945 msec. \n",
      " Function <test> starts. \n",
      " Function <test> ends! Time cost = 6.605625 msec. \n",
      " Function <test> starts. \n",
      " Function <test> ends! Time cost = 6.383181 msec. \n",
      " Function <test> starts. \n",
      " Function <test> ends! Time cost = 6.278515 msec. \n",
      " Function <test> starts. \n",
      " Function <test> ends! Time cost = 6.080389 msec. \n",
      " Function <test> starts. \n",
      " Function <test> ends! Time cost = 6.350040 msec. \n",
      " Function <test> starts. \n",
      " Function <test> ends! Time cost = 6.512880 msec. \n",
      " Function <test> starts. \n",
      " Function <test> ends! Time cost = 6.181002 msec. \n",
      " Function <test> starts. \n",
      " Function <test> ends! Time cost = 6.359100 msec. \n",
      " Function <test> starts. \n",
      " Function <test> ends! Time cost = 6.156206 msec. \n",
      " Function <test> starts. \n",
      " Function <test> ends! Time cost = 6.287098 msec. \n",
      " Function <test> starts. \n",
      " Function <test> ends! Time cost = 6.284475 msec. \n",
      " Function <test> starts. \n",
      " Function <test> ends! Time cost = 6.315231 msec. \n",
      " Function <test> starts. \n",
      " Function <test> ends! Time cost = 6.351709 msec. \n",
      " Function <test> starts. \n",
      " Function <test> ends! Time cost = 6.297588 msec. \n",
      " Function <test> starts. \n",
      " Function <test> ends! Time cost = 6.185055 msec. \n",
      " Function <test> starts. \n",
      " Function <test> ends! Time cost = 6.327391 msec. \n",
      " Function <test> starts. \n",
      " Function <test> ends! Time cost = 6.291389 msec. \n",
      " Function <test> starts. \n",
      " Function <test> ends! Time cost = 6.330490 msec. \n",
      " Function <test> starts. \n",
      " Function <test> ends! Time cost = 6.523132 msec. \n",
      " Function <test> starts. \n",
      " Function <test> ends! Time cost = 6.329775 msec. \n",
      " Function <test> starts. \n",
      " Function <test> ends! Time cost = 6.204605 msec. \n",
      " Function <test> starts. \n",
      " Function <test> ends! Time cost = 6.375074 msec. \n",
      " Function <test> starts. \n",
      " Function <test> ends! Time cost = 6.045103 msec. \n",
      " Function <test> starts. \n",
      " Function <test> ends! Time cost = 6.240368 msec. \n",
      " Function <test> starts. \n",
      " Function <test> ends! Time cost = 6.348848 msec. \n",
      " Function <test> starts. \n",
      " Function <test> ends! Time cost = 6.538391 msec. \n",
      " Function <test> starts. \n",
      " Function <test> ends! Time cost = 6.030560 msec. \n",
      " Function <test> starts. \n",
      " Function <test> ends! Time cost = 6.228209 msec. \n",
      " Function <test> starts. \n",
      " Function <test> ends! Time cost = 6.318092 msec. \n",
      " Function <test> starts. \n",
      " Function <test> ends! Time cost = 6.617785 msec. \n",
      " Function <test> starts. \n",
      " Function <test> ends! Time cost = 6.259918 msec. \n",
      " Function <test> starts. \n",
      " Function <test> ends! Time cost = 6.308317 msec. \n",
      " Function <test> starts. \n",
      " Function <test> ends! Time cost = 6.082058 msec. \n",
      " Function <test> starts. \n",
      " Function <test> ends! Time cost = 6.267548 msec. \n",
      " Function <test> starts. \n",
      " Function <test> ends! Time cost = 6.519556 msec. \n",
      " Function <test> starts. \n",
      " Function <test> ends! Time cost = 6.059170 msec. \n",
      " Function <test> starts. \n",
      " Function <test> ends! Time cost = 5.988836 msec. \n",
      " Function <test> starts. \n",
      " Function <test> ends! Time cost = 6.329060 msec. \n",
      " Function <test> starts. \n",
      " Function <test> ends! Time cost = 6.323338 msec. \n",
      " Function <test> starts. \n",
      " Function <test> ends! Time cost = 6.268263 msec. \n",
      " Function <test> starts. \n",
      " Function <test> ends! Time cost = 6.279469 msec. \n",
      " Function <test> starts. \n",
      " Function <test> ends! Time cost = 6.245852 msec. \n",
      " Function <test> starts. \n",
      " Function <test> ends! Time cost = 6.330013 msec. \n",
      " Function <test> starts. \n",
      " Function <test> ends! Time cost = 6.275892 msec. \n",
      " Function <test> starts. \n",
      " Function <test> ends! Time cost = 6.488323 msec. \n",
      " Function <test> starts. \n",
      " Function <test> ends! Time cost = 6.362677 msec. \n",
      " Function <test> starts. \n",
      " Function <test> ends! Time cost = 6.002188 msec. \n",
      " Function <benchmark> ends! Time cost = 632.237434 msec. \n"
     ]
    }
   ],
   "source": [
    "benchmark()"
   ]
  },
  {
   "cell_type": "code",
   "execution_count": null,
   "id": "dc7767c6-1b78-460d-9777-aee67039be40",
   "metadata": {},
   "outputs": [],
   "source": []
  }
 ],
 "metadata": {
  "kernelspec": {
   "display_name": "Python 3 (ipykernel)",
   "language": "python",
   "name": "python3"
  },
  "language_info": {
   "codemirror_mode": {
    "name": "ipython",
    "version": 3
   },
   "file_extension": ".py",
   "mimetype": "text/x-python",
   "name": "python",
   "nbconvert_exporter": "python",
   "pygments_lexer": "ipython3",
   "version": "3.8.13"
  }
 },
 "nbformat": 4,
 "nbformat_minor": 5
}

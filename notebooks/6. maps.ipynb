{
 "cells": [
  {
   "cell_type": "markdown",
   "id": "e893b227-d561-4133-8059-7bc0848204b1",
   "metadata": {},
   "source": [
    "# Examples on how to generate maps"
   ]
  },
  {
   "cell_type": "code",
   "execution_count": 1,
   "id": "cb3f0b0b-59b8-49e9-af64-a5105d75a960",
   "metadata": {},
   "outputs": [],
   "source": [
    "import json\n",
    "import numpy as np\n",
    "from scipy.interpolate import interp1d"
   ]
  },
  {
   "cell_type": "code",
   "execution_count": 2,
   "id": "5d94db65-7706-431d-afb0-2f4449e77614",
   "metadata": {},
   "outputs": [],
   "source": [
    "file_name = './3fold_recon_eff.json'\n",
    "\n",
    "data = {}\n",
    "coordinate_system = np.linspace(0, 5, 6)\n",
    "_map = np.where(coordinate_system >= 3.0, 1.0, 0).tolist()\n",
    "\n",
    "data['coordinate_system'] = coordinate_system.tolist()\n",
    "data['coordinate_type'] = 'point'\n",
    "data['coordinate_name'] = 'hit'\n",
    "data['map'] = _map\n",
    "    \n",
    "with open(file_name, 'w') as file:\n",
    "    json.dump(data, file)"
   ]
  },
  {
   "cell_type": "code",
   "execution_count": 3,
   "id": "d68434df-1297-4a5d-976c-ad2008797863",
   "metadata": {},
   "outputs": [],
   "source": [
    "file_name = './elife.json'\n",
    "\n",
    "data = {}\n",
    "\n",
    "data['coordinate_system'] = [0, 0.5, 1.0]\n",
    "data['coordinate_type'] = 'point'\n",
    "data['coordinate_name'] = 'cdf'\n",
    "data['map'] = [1.2e4, 1.2e4, 1.2e4]\n",
    "    \n",
    "with open(file_name, 'w') as file:\n",
    "    json.dump(data, file)"
   ]
  },
  {
   "cell_type": "code",
   "execution_count": 4,
   "id": "c0a00ab4-53f4-477e-aa55-e34c818f6850",
   "metadata": {},
   "outputs": [],
   "source": [
    "file_name = './s1_bias_3f.json'\n",
    "\n",
    "data = {}\n",
    "\n",
    "data['coordinate_system'] = [0, 1, 2, 3]\n",
    "data['coordinate_type'] = 'point'\n",
    "data['coordinate_name'] = 'hit'\n",
    "data['map'] = [0, 0, 0, 0]\n",
    "\n",
    "with open(file_name, 'w') as file:\n",
    "    json.dump(data, file)"
   ]
  },
  {
   "cell_type": "code",
   "execution_count": 5,
   "id": "94449373-9d94-4e6b-bf24-006341306e22",
   "metadata": {},
   "outputs": [],
   "source": [
    "file_name = './s2_bias.json'\n",
    "\n",
    "data = {}\n",
    "    \n",
    "data['coordinate_system'] = [0, 100, 200, 300]\n",
    "data['coordinate_type'] = 'point'\n",
    "data['coordinate_name'] = 'hit'\n",
    "data['map'] = [0, 0, 0, 0]\n",
    "\n",
    "with open(file_name, 'w') as file:\n",
    "    json.dump(data, file)"
   ]
  },
  {
   "cell_type": "code",
   "execution_count": 6,
   "id": "da326149-ef29-4e82-8040-d55a784adfe5",
   "metadata": {},
   "outputs": [],
   "source": [
    "file_name = './s1_correction_map_regbin.json'\n",
    "\n",
    "data = {}\n",
    "    \n",
    "data['coordinate_lowers'] = [-70, -70, -140]\n",
    "data['coordinate_uppers'] = [70, 70, 0]\n",
    "data['coordinate_type'] = 'regbin'\n",
    "data['coordinate_name'] = ['x', 'y', 'z']\n",
    "data['map'] = np.ones((5, 5, 5)).tolist()\n",
    "\n",
    "with open(file_name, 'w') as file:\n",
    "    json.dump(data, file)"
   ]
  },
  {
   "cell_type": "code",
   "execution_count": 7,
   "id": "32758e23-b74d-4cae-85dc-e68233422e4f",
   "metadata": {},
   "outputs": [],
   "source": [
    "file_name = './s2_correction_map_regbin.json'\n",
    "\n",
    "data = {}\n",
    "    \n",
    "data['coordinate_lowers'] = [-70, -70]\n",
    "data['coordinate_uppers'] = [70, 70]\n",
    "data['coordinate_type'] = 'regbin'\n",
    "data['coordinate_name'] = ['x', 'y']\n",
    "data['map'] = np.ones((5, 5)).tolist()\n",
    "\n",
    "with open(file_name, 'w') as file:\n",
    "    json.dump(data, file)"
   ]
  },
  {
   "cell_type": "code",
   "execution_count": 8,
   "id": "996d7b05-d364-4bb0-b840-8b1027ffd92c",
   "metadata": {},
   "outputs": [],
   "source": [
    "file_name = './s1_cut_acc.json'\n",
    "\n",
    "data = {}\n",
    "    \n",
    "data['coordinate_system'] = [0, 50, 100]\n",
    "data['coordinate_type'] = 'point'\n",
    "data['coordinate_name'] = 's1_area'\n",
    "data['map'] = [1.0, 1.0, 1.0]\n",
    "\n",
    "with open(file_name, 'w') as file:\n",
    "    json.dump(data, file)"
   ]
  },
  {
   "cell_type": "code",
   "execution_count": 9,
   "id": "c1812bd3-1b24-41fd-a815-72df94e268e7",
   "metadata": {},
   "outputs": [],
   "source": [
    "file_name = './s2_cut_acc.json'\n",
    "\n",
    "data = {}\n",
    "    \n",
    "data['coordinate_system'] = [0, 500, 1000]\n",
    "data['coordinate_type'] = 'point'\n",
    "data['coordinate_name'] = 's2_area'\n",
    "data['map'] = [1.0, 1.0, 1.0]\n",
    "\n",
    "with open(file_name, 'w') as file:\n",
    "    json.dump(data, file)"
   ]
  },
  {
   "cell_type": "code",
   "execution_count": 10,
   "id": "a9f0b113-f832-4bc1-85e6-0a3d903dd9c1",
   "metadata": {},
   "outputs": [],
   "source": [
    "file_name = './s1_smearing_3f.json'\n",
    "\n",
    "data = {}\n",
    "    \n",
    "coordinate_system = np.linspace(3, 100, 98)\n",
    "_map = 0.4 / np.sqrt(coordinate_system)\n",
    "data['coordinate_system'] = coordinate_system.tolist()\n",
    "data['coordinate_type'] = 'point'\n",
    "data['coordinate_name'] = 'hit'\n",
    "data['map'] = _map.tolist()\n",
    "\n",
    "with open(file_name, 'w') as file:\n",
    "    json.dump(data, file)"
   ]
  },
  {
   "cell_type": "code",
   "execution_count": 11,
   "id": "a320dd05-c99e-4d7f-91af-769f5fd820dc",
   "metadata": {},
   "outputs": [],
   "source": [
    "file_name = './s2_smearing.json'\n",
    "\n",
    "data = {}\n",
    "    \n",
    "coordinate_system = np.linspace(2e2, 1e4, 100)\n",
    "_map = 0.6 / np.sqrt(coordinate_system)\n",
    "data['coordinate_system'] = coordinate_system.tolist()\n",
    "data['coordinate_type'] = 'point'\n",
    "data['coordinate_name'] = 'hit'\n",
    "data['map'] = _map.tolist()\n",
    "\n",
    "with open(file_name, 'w') as file:\n",
    "    json.dump(data, file)"
   ]
  }
 ],
 "metadata": {
  "kernelspec": {
   "display_name": "Python 3 (ipykernel)",
   "language": "python",
   "name": "python3"
  },
  "language_info": {
   "codemirror_mode": {
    "name": "ipython",
    "version": 3
   },
   "file_extension": ".py",
   "mimetype": "text/x-python",
   "name": "python",
   "nbconvert_exporter": "python",
   "pygments_lexer": "ipython3",
   "version": "3.8.16"
  }
 },
 "nbformat": 4,
 "nbformat_minor": 5
}

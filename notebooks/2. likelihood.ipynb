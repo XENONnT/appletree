{
 "cells": [
  {
   "cell_type": "markdown",
   "id": "4247d008-55ad-4811-ac4a-9db28e40abc9",
   "metadata": {},
   "source": [
    "# Example of likelihood"
   ]
  },
  {
   "cell_type": "code",
   "execution_count": 1,
   "id": "9f79d871-874a-425e-83c9-ab33a4515d8e",
   "metadata": {},
   "outputs": [
    {
     "name": "stdout",
     "output_type": "stream",
     "text": [
      "Using Normal as an approximation of Binomial\n",
      "Using aptext package from https://github.com/XENONnT/applefiles\n"
     ]
    }
   ],
   "source": [
    "import os\n",
    "\n",
    "import numpy as np\n",
    "import jax.numpy as jnp\n",
    "import matplotlib.pyplot as plt\n",
    "\n",
    "import appletree as apt\n",
    "from appletree.utils import get_file_path"
   ]
  },
  {
   "cell_type": "code",
   "execution_count": 2,
   "id": "f28fac9a-8714-4022-99a7-c5a6363e1124",
   "metadata": {},
   "outputs": [],
   "source": [
    "apt.set_gpu_memory_usage(0.2)"
   ]
  },
  {
   "cell_type": "markdown",
   "id": "1a374360-de4f-49dc-83ea-e0147f38c4bd",
   "metadata": {},
   "source": [
    "## Likelihood configuration"
   ]
  },
  {
   "cell_type": "code",
   "execution_count": 3,
   "id": "d91318c8-8130-4cfe-99e0-ecf1a24de3d4",
   "metadata": {},
   "outputs": [],
   "source": [
    "config = dict(\n",
    "    data_file_name = get_file_path('data_Rn220.csv'),\n",
    "    bins_type = 'equiprob',\n",
    "    bins_on = ['cs1', 'cs2'],\n",
    "    bins = [15, 15],\n",
    "    x_clip = [0, 100],\n",
    "    y_clip = [2e2, 1e4],\n",
    ")\n",
    "\n",
    "llh = apt.Likelihood(**config)"
   ]
  },
  {
   "cell_type": "markdown",
   "id": "5cb5202a-1e75-451e-8869-24fc36713428",
   "metadata": {},
   "source": [
    "## Register components"
   ]
  },
  {
   "cell_type": "code",
   "execution_count": 4,
   "id": "44cefc08-01ac-4d5b-8250-dc7d4fb4a2e7",
   "metadata": {},
   "outputs": [
    {
     "name": "stdout",
     "output_type": "stream",
     "text": [
      "\n",
      "----------------------------------------\n",
      "BINNING\n",
      "\n",
      "    bins_type: equiprob\n",
      "    bins_on: ['cs1', 'cs2']\n",
      "\n",
      "----------------------------------------\n",
      "DATA\n",
      "\n",
      "    file_name: /home/xudc/appletree/appletree/data/data_Rn220.csv\n",
      "    data_rate: 2000.0\n",
      "\n",
      "----------------------------------------\n",
      "MODEL\n",
      "\n",
      "    COMPONENT 0: rn220_er\n",
      "        type: simulation\n",
      "        rate_par: rn220_er_rate\n",
      "        pars: {'py1', 'rf1', 'drift_velocity', 'p_dpe', 'rf0', 'py4', 'py0', 'nex_ni_ratio', 'g2', 'g1', 's2_cut_acc_sigma', 'w', 's1_cut_acc_sigma', 's2_threshold', 's1_eff_3f_sigma', 'field', 'rn220_er_rate', 'py2', 'gas_gain', 'fano', 'py3', 'elife_sigma'}\n",
      "\n",
      "    COMPONENT 1: rn220_ac\n",
      "        type: fixed\n",
      "        file_name: AC_Rn220.pkl\n",
      "        rate_par: rn220_ac_rate\n",
      "        pars: {'rn220_ac_rate'}\n",
      "\n",
      "----------------------------------------\n"
     ]
    }
   ],
   "source": [
    "# Register components\n",
    "llh.register_component(apt.ERBand, 'rn220_er')\n",
    "llh.register_component(apt.AC, 'rn220_ac', file_name='AC_Rn220.pkl')\n",
    "\n",
    "# To see all the components\n",
    "llh.print_likelihood_summary(short=True)"
   ]
  },
  {
   "cell_type": "markdown",
   "id": "d3c54a04-f500-4df1-a41a-4cbfd327fe34",
   "metadata": {},
   "source": [
    "## Load parameters"
   ]
  },
  {
   "cell_type": "code",
   "execution_count": 5,
   "id": "c62de767-55cf-48ba-a588-805c685a770d",
   "metadata": {},
   "outputs": [],
   "source": [
    "# Load parameters(and their priors) in simulation. Note: these parameters will be shared among components\n",
    "\n",
    "par_manager = apt.Parameter(get_file_path('er.json'))\n",
    "\n",
    "par_manager.sample_init()\n",
    "\n",
    "parameters = par_manager.get_all_parameter()\n",
    "\n",
    "# Have to specify the normalization factor of each component\n",
    "parameters['rn220_ac_rate'] = parameters['ac_rate']\n",
    "parameters['rn220_er_rate'] = parameters['er_rate']"
   ]
  },
  {
   "cell_type": "code",
   "execution_count": 6,
   "id": "ec69b81f-6d71-429d-a05f-8f154a1691e0",
   "metadata": {
    "tags": []
   },
   "outputs": [
    {
     "data": {
      "text/plain": [
       "{'w': 0.014274272336585105,\n",
       " 'fano': 0.059,\n",
       " 'gas_gain': 31.3,\n",
       " 'drift_velocity': 0.0677,\n",
       " 's2_threshold': 500.0,\n",
       " 'field': 23.0,\n",
       " 'nex_ni_ratio': 0.10151185848273721,\n",
       " 'g1': 0.15351120578938598,\n",
       " 'g2': 16.44133119465396,\n",
       " 'p_dpe': 0.22178487445536998,\n",
       " 'elife_sigma': -0.008225975273542147,\n",
       " 's1_eff_3f_sigma': 0.26542639778743793,\n",
       " 's1_cut_acc_sigma': 0.13441954291258612,\n",
       " 's2_cut_acc_sigma': 0.9857380490961171,\n",
       " 'py0': 0.09164779636874743,\n",
       " 'py1': 43.42783454398944,\n",
       " 'py2': -0.2609731511199965,\n",
       " 'py3': 0.8929235275852672,\n",
       " 'py4': 0.669344602200388,\n",
       " 'rf0': 0.024649716781456686,\n",
       " 'rf1': 0.1436405417797817,\n",
       " 'ac_rate': 8.781138062834259,\n",
       " 'er_rate': 1988.3417164358577,\n",
       " 'rn220_ac_rate': 8.781138062834259,\n",
       " 'rn220_er_rate': 1988.3417164358577}"
      ]
     },
     "execution_count": 6,
     "metadata": {},
     "output_type": "execute_result"
    }
   ],
   "source": [
    "parameters"
   ]
  },
  {
   "cell_type": "markdown",
   "id": "b37b66a7-d73e-4b38-9976-4b2637ccae1f",
   "metadata": {},
   "source": [
    "## Generate histogram under parameters"
   ]
  },
  {
   "cell_type": "code",
   "execution_count": 7,
   "id": "0c9b5a96-2fad-4940-9ab3-ec39073865e1",
   "metadata": {},
   "outputs": [
    {
     "data": {
      "image/png": "[encoded data removed]",
      "text/plain": [
       "<Figure size 640x480 with 2 Axes>"
      ]
     },
     "metadata": {},
     "output_type": "display_data"
    }
   ],
   "source": [
    "key = apt.get_key()\n",
    "\n",
    "key, hist = llh._simulate_model_hist(key, int(1e6), parameters)\n",
    "apt.plot_irreg_histogram_2d(*llh._bins, hist)\n",
    "plt.show()\n",
    "\n",
    "key, log_llh = llh.get_log_likelihood(key, int(1e6), parameters)"
   ]
  },
  {
   "cell_type": "code",
   "execution_count": 8,
   "id": "ebfaec0b-b531-4ba8-94ab-1174fd3d263a",
   "metadata": {
    "tags": []
   },
   "outputs": [
    {
     "name": "stdout",
     "output_type": "stream",
     "text": [
      "The log (posterior) LLH is 1978.69 now.\n"
     ]
    }
   ],
   "source": [
    "print(f'The log (posterior) LLH is {log_llh:.2f} now.')"
   ]
  }
 ],
 "metadata": {
  "kernelspec": {
   "display_name": "Python 3 (ipykernel)",
   "language": "python",
   "name": "python3"
  },
  "language_info": {
   "codemirror_mode": {
    "name": "ipython",
    "version": 3
   },
   "file_extension": ".py",
   "mimetype": "text/x-python",
   "name": "python",
   "nbconvert_exporter": "python",
   "pygments_lexer": "ipython3",
   "version": "3.8.16"
  }
 },
 "nbformat": 4,
 "nbformat_minor": 5
}

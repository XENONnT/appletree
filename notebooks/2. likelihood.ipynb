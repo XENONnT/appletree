{
 "cells": [
  {
   "cell_type": "raw",
   "id": "ef6fb1b0-7eb1-403a-8845-296ef9e8a582",
   "metadata": {},
   "source": [
    "Likelihood is a kind of combination of all component is a dataset. It usually represent a kind of calibration data, e.g. Rn220."
   ]
  },
  {
   "cell_type": "code",
   "execution_count": 1,
   "id": "9f79d871-874a-425e-83c9-ab33a4515d8e",
   "metadata": {},
   "outputs": [],
   "source": [
    "import os\n",
    "\n",
    "import numpy as np\n",
    "import jax.numpy as jnp\n",
    "import matplotlib.pyplot as plt\n",
    "\n",
    "import appletree as apt\n",
    "from appletree.utils import get_file_path"
   ]
  },
  {
   "cell_type": "code",
   "execution_count": 2,
   "id": "f28fac9a-8714-4022-99a7-c5a6363e1124",
   "metadata": {},
   "outputs": [],
   "source": [
    "apt.set_gpu_memory_usage(0.2)"
   ]
  },
  {
   "cell_type": "markdown",
   "id": "1a374360-de4f-49dc-83ea-e0147f38c4bd",
   "metadata": {},
   "source": [
    "# Likelihood configuration"
   ]
  },
  {
   "cell_type": "code",
   "execution_count": 3,
   "id": "d91318c8-8130-4cfe-99e0-ecf1a24de3d4",
   "metadata": {},
   "outputs": [],
   "source": [
    "config = dict(\n",
    "    data_file_name = get_file_path('data_Rn220.csv'),\n",
    "    bins_type = 'equiprob',\n",
    "    bins_on = ['cs1', 'cs2'],\n",
    "    bins = [15, 15],\n",
    "    x_clip = [0, 100],\n",
    "    y_clip = [2e2, 1e4],\n",
    ")\n",
    "\n",
    "llh = apt.Likelihood(**config)"
   ]
  },
  {
   "cell_type": "markdown",
   "id": "5cb5202a-1e75-451e-8869-24fc36713428",
   "metadata": {},
   "source": [
    "# Register components"
   ]
  },
  {
   "cell_type": "code",
   "execution_count": 4,
   "id": "44cefc08-01ac-4d5b-8250-dc7d4fb4a2e7",
   "metadata": {},
   "outputs": [
    {
     "name": "stdout",
     "output_type": "stream",
     "text": [
      "\n",
      "----------------------------------------\n",
      "BINNING\n",
      "\n",
      "    bins_type: equiprob\n",
      "    bins_on: ['cs1', 'cs2']\n",
      "\n",
      "----------------------------------------\n",
      "DATA\n",
      "\n",
      "    file_name: /home/xudc/appletree/appletree/data/data_Rn220.csv\n",
      "    data_rate: 2000.0\n",
      "\n",
      "----------------------------------------\n",
      "MODEL\n",
      "\n",
      "    COMPONENT 0: rn220_er\n",
      "        type: simulation\n",
      "        rate_par: rn220_er_rate\n",
      "        pars: {'rn220_er_rate', 'drift_velocity', 'g2', 'py0', 'py1', 'py3', 'field', 'fano', 'rf0', 'w', 'rf1', 'py2', 'py4', 'nex_ni_ratio', 'gas_gain', 'g1', 'p_dpe', 's2_threshold'}\n",
      "\n",
      "    COMPONENT 1: rn220_ac\n",
      "        type: fixed\n",
      "        file_name: AC_Rn220.pkl\n",
      "        rate_par: rn220_ac_rate\n",
      "        pars: {'rn220_ac_rate'}\n",
      "\n",
      "----------------------------------------\n"
     ]
    }
   ],
   "source": [
    "# Register components\n",
    "llh.register_component(apt.ERBand, 'rn220_er')\n",
    "llh.register_component(apt.AC, 'rn220_ac', file_name='AC_Rn220.pkl')\n",
    "\n",
    "# To see all the components\n",
    "llh.print_likelihood_summary(short=True)"
   ]
  },
  {
   "cell_type": "markdown",
   "id": "d3c54a04-f500-4df1-a41a-4cbfd327fe34",
   "metadata": {},
   "source": [
    "# Load parameters"
   ]
  },
  {
   "cell_type": "code",
   "execution_count": 5,
   "id": "c62de767-55cf-48ba-a588-805c685a770d",
   "metadata": {},
   "outputs": [],
   "source": [
    "# Load parameters(and their priors) in simulation. Note: these parameters will be shared among components\n",
    "\n",
    "par_manager = apt.Parameter(get_file_path('er_sr0.json'))\n",
    "\n",
    "par_manager.sample_init()\n",
    "\n",
    "parameters = par_manager.get_all_parameter()\n",
    "\n",
    "# Have to specify the normalization factor of each component\n",
    "parameters['rn220_ac_rate'] = parameters['ac_rate']\n",
    "parameters['rn220_er_rate'] = parameters['er_rate']"
   ]
  },
  {
   "cell_type": "markdown",
   "id": "b37b66a7-d73e-4b38-9976-4b2637ccae1f",
   "metadata": {},
   "source": [
    "# Generate histogram under parameters"
   ]
  },
  {
   "cell_type": "code",
   "execution_count": 6,
   "id": "0c9b5a96-2fad-4940-9ab3-ec39073865e1",
   "metadata": {},
   "outputs": [
    {
     "data": {
      "image/png": "[encoded data removed]",
      "text/plain": [
       "<Figure size 432x288 with 2 Axes>"
      ]
     },
     "metadata": {
      "needs_background": "light"
     },
     "output_type": "display_data"
    }
   ],
   "source": [
    "key = apt.get_key()\n",
    "\n",
    "key, hist = llh._simulate_model_hist(key, int(1e6), parameters)\n",
    "apt.plot_irreg_histogram_2d(*llh._bins, hist)\n",
    "plt.show()\n",
    "\n",
    "key, log_llh = llh.get_log_likelihood(key, int(1e6), parameters)"
   ]
  },
  {
   "cell_type": "code",
   "execution_count": 7,
   "id": "ebfaec0b-b531-4ba8-94ab-1174fd3d263a",
   "metadata": {},
   "outputs": [
    {
     "name": "stdout",
     "output_type": "stream",
     "text": [
      "The log (posterior) LLH is 1934.18 now.\n"
     ]
    }
   ],
   "source": [
    "print(f'The log (posterior) LLH is {log_llh:.2f} now.')"
   ]
  }
 ],
 "metadata": {
  "kernelspec": {
   "display_name": "Python [conda env:XENONnT_2022.06.2] *",
   "language": "python",
   "name": "conda-env-XENONnT_2022.06.2-py"
  },
  "language_info": {
   "codemirror_mode": {
    "name": "ipython",
    "version": 3
   },
   "file_extension": ".py",
   "mimetype": "text/x-python",
   "name": "python",
   "nbconvert_exporter": "python",
   "pygments_lexer": "ipython3",
   "version": "3.8.13"
  }
 },
 "nbformat": 4,
 "nbformat_minor": 5
}

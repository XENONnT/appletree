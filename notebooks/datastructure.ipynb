{
 "cells": [
  {
   "cell_type": "code",
   "execution_count": 1,
   "id": "5be47339-4fc8-41bb-8da2-aa2f88533939",
   "metadata": {},
   "outputs": [],
   "source": [
    "import os\n",
    "\n",
    "import graphviz\n",
    "import pandas as pd\n",
    "import jax.numpy as jnp\n",
    "\n",
    "import appletree as apt\n",
    "from appletree.share import DATAPATH\n",
    "from appletree.components import ERBand"
   ]
  },
  {
   "cell_type": "code",
   "execution_count": 2,
   "id": "26dd8ac7-0abc-4521-9378-28b33eec3606",
   "metadata": {},
   "outputs": [],
   "source": [
    "apt.set_gpu_memory_usage(0.2)"
   ]
  },
  {
   "cell_type": "code",
   "execution_count": 3,
   "id": "5c48559b-4c1b-47aa-8dde-f9a1ced31372",
   "metadata": {},
   "outputs": [],
   "source": [
    "data = pd.read_csv(os.path.join(DATAPATH, 'data_XENONnT_Rn220_v8_strax_v1.2.2_straxen_v1.7.1_cutax_v1.9.0.csv'))\n",
    "bins_cs1, bins_cs2 = apt.utils.get_equiprob_bins_2d(\n",
    "    data[['cs1', 'cs2']].to_numpy(),\n",
    "    [15, 15],\n",
    "    order=[0, 1],\n",
    "    x_clip=[0, 100],\n",
    "    y_clip=[1e2, 1e4],\n",
    "    which_np=jnp\n",
    ")"
   ]
  },
  {
   "cell_type": "code",
   "execution_count": 4,
   "id": "c91259f4-7573-40fa-9493-c0d68b04e710",
   "metadata": {},
   "outputs": [],
   "source": [
    "er = ERBand(bins=[bins_cs1, bins_cs2], bins_type='irreg')"
   ]
  },
  {
   "cell_type": "code",
   "execution_count": 5,
   "id": "3e66343d-1a5d-493f-826c-6e3a930214d6",
   "metadata": {},
   "outputs": [],
   "source": [
    "er.deduce(\n",
    "    data_names=['cs1', 'cs2'], \n",
    "    func_name='simulate'\n",
    ")\n",
    "\n",
    "# er.compile()"
   ]
  },
  {
   "cell_type": "code",
   "execution_count": 6,
   "id": "063e89c1-6f36-4fa3-92f8-205c2e8b60f3",
   "metadata": {},
   "outputs": [],
   "source": [
    "def add_spaces(x):\n",
    "    \"\"\"Add four spaces to every line in x\n",
    "    This is needed to make html raw blocks in rst format correctly\n",
    "    \"\"\"\n",
    "    y = ''\n",
    "    if isinstance(x, str):\n",
    "        x = x.split('\\n')\n",
    "    for q in x:\n",
    "        y += '    ' + q\n",
    "    return y\n",
    "\n",
    "def tree_to_svg(graph_tree, save_as='data_types'):\n",
    "    # Where to save this node\n",
    "    graph_tree.render(save_as)\n",
    "    with open(f'{save_as}.svg', mode='r') as f:\n",
    "        svg = add_spaces(f.readlines()[5:])\n",
    "    # os.remove(f'{save_as}.svg')\n",
    "    os.remove(save_as)\n",
    "    return svg"
   ]
  },
  {
   "cell_type": "code",
   "execution_count": 7,
   "id": "74025e7f-a1a0-4323-96e0-824a924eb39e",
   "metadata": {},
   "outputs": [],
   "source": [
    "def add_deps_to_graph_tree(graph_tree, \n",
    "                           data_names: list = ['cs1', 'cs2', 'eff'], \n",
    "                           _seen = None):\n",
    "    \"\"\"Recursively add nodes to graph base on plugin.deps\"\"\"\n",
    "    if _seen is None:\n",
    "        _seen = []\n",
    "    for data_name in data_names:\n",
    "        if data_name in _seen:\n",
    "            continue\n",
    "\n",
    "        # Add new one\n",
    "        graph_tree.node(data_name,\n",
    "                        style='filled',\n",
    "                        href='#' + data_name.replace('_', '-'),\n",
    "                        fillcolor='white')\n",
    "        if data_name == 'batch_size':\n",
    "            continue\n",
    "        dep_plugin = er._plugin_class_registry[data_name]\n",
    "        for dep in dep_plugin.depends_on:\n",
    "            graph_tree.edge(data_name, dep)\n",
    "            graph_tree, _seen = add_deps_to_graph_tree(graph_tree,\n",
    "                                                       dep_plugin.depends_on,\n",
    "                                                       _seen)\n",
    "        _seen.append(data_name)\n",
    "    return graph_tree, _seen\n",
    "\n",
    "def add_plugins_to_graph_tree(graph_tree, \n",
    "                              data_names: list = ['cs1', 'cs2', 'eff'], \n",
    "                              _seen = None,\n",
    "                              with_data_names=False):\n",
    "    \"\"\"Recursively add nodes to graph base on plugin.deps\"\"\"\n",
    "    if _seen is None:\n",
    "        _seen = []\n",
    "    for data_name in data_names:\n",
    "        if data_name == 'batch_size':\n",
    "            continue\n",
    "\n",
    "        plugin = er._plugin_class_registry[data_name]\n",
    "        plugin_name = plugin.__name__\n",
    "        if plugin_name in _seen:\n",
    "            continue\n",
    "\n",
    "        # Add new one\n",
    "        label = f'{plugin_name}'\n",
    "        if with_data_names:\n",
    "            label += f\"\\n{', '.join(plugin.depends_on)}\\n{', '.join(plugin.provides)}\"\n",
    "        graph_tree.node(plugin_name,\n",
    "                        label=label,\n",
    "                        style='filled',\n",
    "                        href='#' + plugin_name.replace('_', '-'),\n",
    "                        fillcolor='white')\n",
    "\n",
    "        for dep in plugin.depends_on:\n",
    "            if dep == 'batch_size':\n",
    "                continue\n",
    "            dep_plugin = er._plugin_class_registry[dep]\n",
    "            graph_tree.edge(plugin_name, dep_plugin.__name__)\n",
    "            graph_tree, _seen = add_plugins_to_graph_tree(\n",
    "                graph_tree,\n",
    "                plugin.depends_on,\n",
    "                _seen\n",
    "            )\n",
    "        _seen.append(data_name)\n",
    "    return graph_tree, _seen"
   ]
  },
  {
   "cell_type": "code",
   "execution_count": 8,
   "id": "341c5d65-9319-4b46-84a9-9326dbe2d247",
   "metadata": {},
   "outputs": [],
   "source": [
    "graph_tree = graphviz.Digraph(format='svg', strict=True)\n",
    "_ = add_deps_to_graph_tree(graph_tree)\n",
    "_ = tree_to_svg(graph_tree, 'dtypes')"
   ]
  },
  {
   "cell_type": "code",
   "execution_count": 9,
   "id": "8cbf37d2-781e-400c-89a6-a6b9d77c8576",
   "metadata": {},
   "outputs": [],
   "source": [
    "graph_tree = graphviz.Digraph(format='svg', strict=True)\n",
    "_ = add_plugins_to_graph_tree(graph_tree)\n",
    "_ = tree_to_svg(graph_tree, 'plugins')"
   ]
  }
 ],
 "metadata": {
  "kernelspec": {
   "display_name": "Python 3 (ipykernel)",
   "language": "python",
   "name": "python3"
  },
  "language_info": {
   "codemirror_mode": {
    "name": "ipython",
    "version": 3
   },
   "file_extension": ".py",
   "mimetype": "text/x-python",
   "name": "python",
   "nbconvert_exporter": "python",
   "pygments_lexer": "ipython3",
   "version": "3.8.13"
  }
 },
 "nbformat": 4,
 "nbformat_minor": 5
}

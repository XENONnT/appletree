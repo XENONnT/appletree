{
 "cells": [
  {
   "cell_type": "markdown",
   "id": "8724625a-3dce-4c71-a883-4a5f89f12132",
   "metadata": {},
   "source": [
    "# Example of component"
   ]
  },
  {
   "cell_type": "code",
   "execution_count": 1,
   "id": "0bf412e3-73d7-439a-bd59-e35c9543c1b7",
   "metadata": {},
   "outputs": [
    {
     "name": "stdout",
     "output_type": "stream",
     "text": [
      "XLA_PYTHON_CLIENT_PREALLOCATE is set to false\n",
      "XLA_PYTHON_CLIENT_ALLOCATOR is set to platform\n",
      "Cannot find aptext\n"
     ]
    },
    {
     "name": "stderr",
     "output_type": "stream",
     "text": [
      "/home/dantonmartin/.local/lib/python3.9/site-packages/appletree/__init__.py:51: UserWarning: You are running appletree on CPU, which usually results in low performance.\n",
      "  warn(warning)\n"
     ]
    }
   ],
   "source": [
    "import os\n",
    "from time import time\n",
    "\n",
    "import numpy as np\n",
    "import pandas as pd\n",
    "import matplotlib.pyplot as plt\n",
    "from matplotlib.colors import LogNorm\n",
    "import jax.numpy as jnp\n",
    "import multihist as mh\n",
    "\n",
    "import appletree as apt\n",
    "from appletree.utils import get_file_path\n",
    "from multihist import Hist1d, Histdd"
   ]
  },
  {
   "cell_type": "code",
   "execution_count": 5,
   "id": "fcd0ed5f-8b96-4daa-92d1-7018a1f2a420",
   "metadata": {},
   "outputs": [
    {
     "data": {
      "text/plain": [
       "'/home/dantonmartin/.local/lib/python3.9/site-packages/appletree/__init__.py'"
      ]
     },
     "execution_count": 5,
     "metadata": {},
     "output_type": "execute_result"
    }
   ],
   "source": [
    "apt.__file__"
   ]
  },
  {
   "cell_type": "code",
   "execution_count": 2,
   "id": "b988e7ba-f325-47f8-ad0f-c004ce215ccf",
   "metadata": {},
   "outputs": [],
   "source": [
    "# constrain the GPU memory usage\n",
    "\n",
    "apt.set_gpu_memory_usage(0.2)"
   ]
  },
  {
   "cell_type": "markdown",
   "id": "bdef7717-ff2b-4e27-9d09-c400062d606b",
   "metadata": {},
   "source": [
    "## Define component"
   ]
  },
  {
   "cell_type": "markdown",
   "id": "000e231e-83cf-4a6b-8eca-81d417c08877",
   "metadata": {},
   "source": [
    "### ComponentSim"
   ]
  },
  {
   "cell_type": "code",
   "execution_count": 3,
   "id": "619e5580-96ec-4ccc-80e5-a6f0de00e0a8",
   "metadata": {},
   "outputs": [],
   "source": [
    "# The components is associated with bins, so first we load bins\n",
    "data = pd.read_csv(get_file_path(\"data_Neutron.csv\"))\n",
    "bins_cs1, bins_cs2 = apt.utils.get_equiprob_bins_2d(\n",
    "    data[[\"num_s1_phd\", \"cs2\"]].to_numpy(),\n",
    "    [15, 15],\n",
    "    order=[0, 1],\n",
    "    x_clip=[0, 100],\n",
    "    y_clip=[1e2, 1e4],\n",
    "    which_np=jnp,\n",
    ")"
   ]
  },
  {
   "cell_type": "code",
   "execution_count": 5,
   "id": "c2bb21e0-bc18-4878-86ba-8edea6ced391",
   "metadata": {},
   "outputs": [],
   "source": [
    "# Initialize component\n",
    "er = apt.NR(bins=[bins_cs1, bins_cs2], bins_type=\"irreg\")"
   ]
  },
  {
   "cell_type": "code",
   "execution_count": 12,
   "id": "e076733b-b248-446f-a744-ef4dfb73a01d",
   "metadata": {},
   "outputs": [
    {
     "name": "stdout",
     "output_type": "stream",
     "text": [
      "NR_llh's map s2_cut_acc is using the parameter s2_cut_acc_sigma.\n",
      "NR_llh's map s1_cut_acc is using the parameter s1_cut_acc_sigma.\n",
      "NR_llh's map s1_eff_3f is static and not using any parameter.\n"
     ]
    }
   ],
   "source": [
    "# Deduce the workflow(datastructure)\n",
    "er.deduce(data_names=[\"cs1\", \"cs2\"], func_name=\"simulate\")  # 'eff'(efficiency) is always simulated\n",
    "er.rate_name = \"er_rate\"  # also we have to specify a normalization factor of the component\n",
    "\n",
    "# Compile ER script\n",
    "# This is meta-programing because  appletree can generate codes dynamically\n",
    "er.compile()"
   ]
  },
  {
   "cell_type": "code",
   "execution_count": 13,
   "id": "64dfeace-d67b-450a-8ecc-0183c2ca0223",
   "metadata": {},
   "outputs": [
    {
     "name": "stdout",
     "output_type": "stream",
     "text": [
      "from functools import partial\n",
      "from jax import jit\n",
      "from appletree.plugins import PositionSpectra\n",
      "from appletree.plugins import FixedEnergySpectra\n",
      "from appletree.plugins import ChargeYield\n",
      "from appletree.plugins import DriftLoss\n",
      "from appletree.plugins import NumberElectron\n",
      "from appletree.plugins import S2LCE\n",
      "from appletree.plugins import ElectronDrifted\n",
      "from appletree.plugins import S2PE\n",
      "from appletree.plugins import S2\n",
      "from appletree.plugins import LightYield\n",
      "from appletree.plugins import S1LCE\n",
      "from appletree.plugins import NumberPhoton\n",
      "from appletree.plugins import PhotonDetection\n",
      "from appletree.plugins import S1PE\n",
      "from appletree.plugins import S1\n",
      "from appletree.plugins import S2CutAccept\n",
      "from appletree.plugins import S1CutAccept\n",
      "from appletree.plugins import S1ReconEff\n",
      "from appletree.plugins import S2Threshold\n",
      "from appletree.plugins import PositionRecon\n",
      "from appletree.plugins import S2Correction\n",
      "from appletree.plugins import S1Correction\n",
      "from appletree.plugins import Eff\n",
      "from appletree.plugins import cS2\n",
      "from appletree.plugins import cS1\n",
      "PositionSpectra_NR = PositionSpectra('NR_llh')\n",
      "FixedEnergySpectra_NR = FixedEnergySpectra('NR_llh')\n",
      "ChargeYield_NR = ChargeYield('NR_llh')\n",
      "DriftLoss_NR = DriftLoss('NR_llh')\n",
      "NumberElectron_NR = NumberElectron('NR_llh')\n",
      "S2LCE_NR = S2LCE('NR_llh')\n",
      "ElectronDrifted_NR = ElectronDrifted('NR_llh')\n",
      "S2PE_NR = S2PE('NR_llh')\n",
      "S2_NR = S2('NR_llh')\n",
      "LightYield_NR = LightYield('NR_llh')\n",
      "S1LCE_NR = S1LCE('NR_llh')\n",
      "NumberPhoton_NR = NumberPhoton('NR_llh')\n",
      "PhotonDetection_NR = PhotonDetection('NR_llh')\n",
      "S1PE_NR = S1PE('NR_llh')\n",
      "S1_NR = S1('NR_llh')\n",
      "S2CutAccept_NR = S2CutAccept('NR_llh')\n",
      "S1CutAccept_NR = S1CutAccept('NR_llh')\n",
      "S1ReconEff_NR = S1ReconEff('NR_llh')\n",
      "S2Threshold_NR = S2Threshold('NR_llh')\n",
      "PositionRecon_NR = PositionRecon('NR_llh')\n",
      "S2Correction_NR = S2Correction('NR_llh')\n",
      "S1Correction_NR = S1Correction('NR_llh')\n",
      "Eff_NR = Eff('NR_llh')\n",
      "cS2_NR = cS2('NR_llh')\n",
      "cS1_NR = cS1('NR_llh')\n",
      "\n",
      "@partial(jit, static_argnums=(1, ))\n",
      "def simulate(key, batch_size, parameters):\n",
      "    key, x, y, z = PositionSpectra_NR(key, parameters, batch_size)\n",
      "    key, energy = FixedEnergySpectra_NR(key, parameters, batch_size)\n",
      "    key, charge_yield = ChargeYield_NR(key, parameters, energy)\n",
      "    key, drift_survive_prob = DriftLoss_NR(key, parameters, z)\n",
      "    key, num_electron = NumberElectron_NR(key, parameters, energy, charge_yield)\n",
      "    key, s2_lce = S2LCE_NR(key, parameters, x, y)\n",
      "    key, num_electron_drifted = ElectronDrifted_NR(key, parameters, num_electron, drift_survive_prob)\n",
      "    key, num_s2_pe = S2PE_NR(key, parameters, num_electron_drifted, s2_lce, x, y)\n",
      "    key, s2_area = S2_NR(key, parameters, num_s2_pe)\n",
      "    key, light_yield = LightYield_NR(key, parameters, energy)\n",
      "    key, s1_lce = S1LCE_NR(key, parameters, x, y, z)\n",
      "    key, num_photon = NumberPhoton_NR(key, parameters, energy, light_yield)\n",
      "    key, num_s1_phd = PhotonDetection_NR(key, parameters, num_photon, s1_lce)\n",
      "    key, num_s1_pe = S1PE_NR(key, parameters, num_s1_phd)\n",
      "    key, s1_area = S1_NR(key, parameters, num_s1_pe)\n",
      "    key, cut_acc_s2 = S2CutAccept_NR(key, parameters, s2_area)\n",
      "    key, cut_acc_s1 = S1CutAccept_NR(key, parameters, s1_area)\n",
      "    key, acc_s1_recon_eff = S1ReconEff_NR(key, parameters, num_s1_phd)\n",
      "    key, acc_s2_threshold = S2Threshold_NR(key, parameters, s2_area)\n",
      "    key, rec_x, rec_y, rec_z, rec_r = PositionRecon_NR(key, parameters, x, y, z, num_electron_drifted)\n",
      "    key, s2_correction = S2Correction_NR(key, parameters, rec_x, rec_y)\n",
      "    key, s1_correction = S1Correction_NR(key, parameters, rec_x, rec_y, rec_z)\n",
      "    key, eff = Eff_NR(key, parameters, acc_s2_threshold, acc_s1_recon_eff, cut_acc_s1, cut_acc_s2)\n",
      "    key, cs2 = cS2_NR(key, parameters, s2_area, s2_correction, drift_survive_prob)\n",
      "    key, cs1 = cS1_NR(key, parameters, s1_area, s1_correction)\n",
      "    return key, [cs1, cs2, eff]\n",
      "\n"
     ]
    }
   ],
   "source": [
    "# For reference, this is the compiled code, the function is stored in appletree.share._cached_functions\n",
    "print(er.code)"
   ]
  },
  {
   "cell_type": "markdown",
   "id": "e347b267-d70c-4fc6-8619-f4f1252ec44a",
   "metadata": {},
   "source": [
    "### ComponentFixed"
   ]
  },
  {
   "cell_type": "code",
   "execution_count": 14,
   "id": "8a3bdb6f-89f8-4c50-b94e-faf9675c3df8",
   "metadata": {},
   "outputs": [],
   "source": [
    "# Of course we have to load parameters(and their priors) in simulation\n",
    "\n",
    "par_manager = apt.Parameter(get_file_path(\"nr_low.json\"))\n",
    "par_manager.sample_init()\n",
    "parameters = par_manager.get_all_parameter()"
   ]
  },
  {
   "cell_type": "code",
   "execution_count": 15,
   "id": "e0fd1b1a-32d8-4f9b-9a06-9191947693ae",
   "metadata": {},
   "outputs": [
    {
     "data": {
      "text/plain": [
       "{'gas_gain': 31.3,\n",
       " 'drift_velocity': 0.0677,\n",
       " 's2_threshold': 500.0,\n",
       " 'g1': 0.14946783047307236,\n",
       " 'g2': 15.209807898410835,\n",
       " 'p_dpe': 0.23059254778142838,\n",
       " 'elife_sigma': -0.040670699262600356,\n",
       " 's1_eff_3f_sigma': -1.2110858477329205,\n",
       " 's1_cut_acc_sigma': -1.6020670939499586,\n",
       " 's2_cut_acc_sigma': -0.7721007561291306,\n",
       " 't_ly': -0.07316822924863073,\n",
       " 't_qy': 0.26539738630341353,\n",
       " 'nr_rate': 2012.1782919754278}"
      ]
     },
     "execution_count": 15,
     "metadata": {},
     "output_type": "execute_result"
    }
   ],
   "source": [
    "parameters"
   ]
  },
  {
   "cell_type": "markdown",
   "id": "d80c7208-fbf3-4ddd-b16c-2b891c282fcd",
   "metadata": {},
   "source": [
    "## Simulation"
   ]
  },
  {
   "cell_type": "code",
   "execution_count": 25,
   "id": "62d9f11a-ee5e-49f9-85ae-a3ebaab510c6",
   "metadata": {},
   "outputs": [],
   "source": [
    "# Really do the simulation\n",
    "\n",
    "batch_size = int(1e3)\n",
    "key = apt.randgen.get_key(seed=137)\n",
    "\n",
    "key, (cs1, cs2, eff) = er.simulate(key, batch_size, parameters)"
   ]
  },
  {
   "cell_type": "code",
   "execution_count": 26,
   "id": "e6cf9736-4efb-4312-81ee-36292442665e",
   "metadata": {},
   "outputs": [
    {
     "data": {
      "text/plain": [
       "[<matplotlib.lines.Line2D at 0x7fd335b31940>]"
      ]
     },
     "execution_count": 26,
     "metadata": {},
     "output_type": "execute_result"
    },
    {
     "data": {
      "image/png": "[encoded data removed]",
      "text/plain": [
       "<Figure size 640x480 with 1 Axes>"
      ]
     },
     "metadata": {},
     "output_type": "display_data"
    }
   ],
   "source": [
    "plt.plot(cs1, cs2, 'o')"
   ]
  },
  {
   "cell_type": "code",
   "execution_count": 32,
   "id": "d009f9ff-d4df-4d06-b9bc-681c4c43f6a2",
   "metadata": {},
   "outputs": [
    {
     "data": {
      "image/png": "[encoded data removed]",
      "text/plain": [
       "<Figure size 640x480 with 2 Axes>"
      ]
     },
     "metadata": {},
     "output_type": "display_data"
    }
   ],
   "source": [
    "h = Histdd(cs1, cs2, bins = 101)\n",
    "h.plot('log')\n",
    "plt.show()"
   ]
  },
  {
   "cell_type": "markdown",
   "id": "61cf40ac-1b60-49b4-825d-49967ad8ade6",
   "metadata": {},
   "source": [
    "## Simulation and make equiprob hist"
   ]
  },
  {
   "cell_type": "code",
   "execution_count": 11,
   "id": "95034a59-ed46-4323-bc98-6292221155b5",
   "metadata": {},
   "outputs": [],
   "source": [
    "# Actually `simulate_hist` is just a wrapper of `simulate`\n",
    "\n",
    "batch_size = int(1e6)\n",
    "key = apt.randgen.get_key(seed=137)\n",
    "key, h = er.simulate_hist(key, batch_size, parameters)"
   ]
  },
  {
   "cell_type": "code",
   "execution_count": 12,
   "id": "035e5c1a-6585-4c1a-9f78-df6c6cb1dd2b",
   "metadata": {},
   "outputs": [
    {
     "data": {
      "image/png": "[encoded data removed]",
      "text/plain": [
       "<Figure size 640x480 with 2 Axes>"
      ]
     },
     "metadata": {},
     "output_type": "display_data"
    }
   ],
   "source": [
    "apt.utils.plot_irreg_histogram_2d(bins_cs1, bins_cs2, h, density=False)\n",
    "plt.yscale(\"log\")\n",
    "plt.ylim(5e2, 1e4)\n",
    "plt.show()"
   ]
  },
  {
   "cell_type": "code",
   "execution_count": 13,
   "id": "71611698-2469-44a7-b8ca-b7bdcf3dd4f2",
   "metadata": {},
   "outputs": [],
   "source": [
    "h = ac.simulate_hist(parameters)"
   ]
  },
  {
   "cell_type": "code",
   "execution_count": 14,
   "id": "7339256c-9cd7-4206-801a-9e956bbca3fa",
   "metadata": {},
   "outputs": [
    {
     "data": {
      "image/png": "[encoded data removed]",
      "text/plain": [
       "<Figure size 640x480 with 2 Axes>"
      ]
     },
     "metadata": {},
     "output_type": "display_data"
    }
   ],
   "source": [
    "apt.utils.plot_irreg_histogram_2d(bins_cs1, bins_cs2, h, density=False)\n",
    "plt.yscale(\"log\")\n",
    "plt.ylim(5e2, 1e4)\n",
    "plt.show()"
   ]
  },
  {
   "cell_type": "markdown",
   "id": "dd131c74-69e7-4946-b5c7-6dc651a1fdef",
   "metadata": {},
   "source": [
    "## Speed test"
   ]
  },
  {
   "cell_type": "code",
   "execution_count": 15,
   "id": "ef8dc578-f677-49ca-86c6-aecbbd7d093c",
   "metadata": {},
   "outputs": [],
   "source": [
    "@apt.utils.timeit\n",
    "def test(key, batch_size, parameters):\n",
    "    return er.simulate_hist(key, batch_size, parameters)"
   ]
  },
  {
   "cell_type": "code",
   "execution_count": 16,
   "id": "0679c7af-66dc-4bdd-8810-1469aa05dac5",
   "metadata": {},
   "outputs": [],
   "source": [
    "@apt.utils.timeit\n",
    "def benchmark():\n",
    "    key = apt.randgen.get_key()\n",
    "    for _ in range(100):\n",
    "        key, _ = test(key, int(1e6), parameters)"
   ]
  },
  {
   "cell_type": "code",
   "execution_count": 17,
   "id": "317a32ef-9860-4113-882c-de5ff0941285",
   "metadata": {
    "tags": []
   },
   "outputs": [
    {
     "name": "stdout",
     "output_type": "stream",
     "text": [
      " Function <benchmark> starts.\n",
      " Function <test> starts.\n",
      " Function <test> ends! Time cost = 2400.12 msec.\n",
      " Function <test> starts.\n",
      " Function <test> ends! Time cost = 2493.61 msec.\n",
      " Function <test> starts.\n",
      " Function <test> ends! Time cost = 2467.75 msec.\n",
      " Function <test> starts.\n",
      " Function <test> ends! Time cost = 2298.71 msec.\n",
      " Function <test> starts.\n",
      " Function <test> ends! Time cost = 2548.38 msec.\n",
      " Function <test> starts.\n",
      " Function <test> ends! Time cost = 2486.91 msec.\n",
      " Function <test> starts.\n",
      " Function <test> ends! Time cost = 2261.94 msec.\n",
      " Function <test> starts.\n",
      " Function <test> ends! Time cost = 2388.15 msec.\n",
      " Function <test> starts.\n",
      " Function <test> ends! Time cost = 2429.06 msec.\n",
      " Function <test> starts.\n",
      " Function <test> ends! Time cost = 2689.71 msec.\n",
      " Function <test> starts.\n",
      " Function <test> ends! Time cost = 2301.48 msec.\n",
      " Function <test> starts.\n",
      " Function <test> ends! Time cost = 2714.10 msec.\n",
      " Function <test> starts.\n",
      " Function <test> ends! Time cost = 2488.10 msec.\n",
      " Function <test> starts.\n",
      " Function <test> ends! Time cost = 2572.35 msec.\n",
      " Function <test> starts.\n",
      " Function <test> ends! Time cost = 2383.17 msec.\n",
      " Function <test> starts.\n",
      " Function <test> ends! Time cost = 2701.28 msec.\n",
      " Function <test> starts.\n",
      " Function <test> ends! Time cost = 2321.10 msec.\n",
      " Function <test> starts.\n",
      " Function <test> ends! Time cost = 2215.54 msec.\n",
      " Function <test> starts.\n",
      " Function <test> ends! Time cost = 2913.83 msec.\n",
      " Function <test> starts.\n",
      " Function <test> ends! Time cost = 2439.21 msec.\n",
      " Function <test> starts.\n",
      " Function <test> ends! Time cost = 2583.85 msec.\n",
      " Function <test> starts.\n",
      " Function <test> ends! Time cost = 2705.53 msec.\n",
      " Function <test> starts.\n",
      " Function <test> ends! Time cost = 2542.86 msec.\n",
      " Function <test> starts.\n",
      " Function <test> ends! Time cost = 2484.94 msec.\n",
      " Function <test> starts.\n",
      " Function <test> ends! Time cost = 2552.91 msec.\n",
      " Function <test> starts.\n",
      " Function <test> ends! Time cost = 2325.20 msec.\n",
      " Function <test> starts.\n",
      " Function <test> ends! Time cost = 2368.09 msec.\n",
      " Function <test> starts.\n",
      " Function <test> ends! Time cost = 2563.76 msec.\n",
      " Function <test> starts.\n",
      " Function <test> ends! Time cost = 2338.94 msec.\n",
      " Function <test> starts.\n",
      " Function <test> ends! Time cost = 2699.87 msec.\n",
      " Function <test> starts.\n",
      " Function <test> ends! Time cost = 2602.33 msec.\n",
      " Function <test> starts.\n",
      " Function <test> ends! Time cost = 2457.71 msec.\n",
      " Function <test> starts.\n",
      " Function <test> ends! Time cost = 2383.56 msec.\n",
      " Function <test> starts.\n",
      " Function <test> ends! Time cost = 2695.16 msec.\n",
      " Function <test> starts.\n",
      " Function <test> ends! Time cost = 2282.25 msec.\n",
      " Function <test> starts.\n",
      " Function <test> ends! Time cost = 2434.62 msec.\n",
      " Function <test> starts.\n",
      " Function <test> ends! Time cost = 2557.74 msec.\n",
      " Function <test> starts.\n",
      " Function <test> ends! Time cost = 2265.11 msec.\n",
      " Function <test> starts.\n",
      " Function <test> ends! Time cost = 2577.65 msec.\n",
      " Function <test> starts.\n",
      " Function <test> ends! Time cost = 2762.39 msec.\n",
      " Function <test> starts.\n",
      " Function <test> ends! Time cost = 2493.67 msec.\n",
      " Function <test> starts.\n",
      " Function <test> ends! Time cost = 2202.82 msec.\n",
      " Function <test> starts.\n",
      " Function <test> ends! Time cost = 2505.71 msec.\n",
      " Function <test> starts.\n",
      " Function <test> ends! Time cost = 2332.60 msec.\n",
      " Function <test> starts.\n",
      " Function <test> ends! Time cost = 2638.64 msec.\n",
      " Function <test> starts.\n",
      " Function <test> ends! Time cost = 2450.68 msec.\n",
      " Function <test> starts.\n",
      " Function <test> ends! Time cost = 2359.58 msec.\n",
      " Function <test> starts.\n",
      " Function <test> ends! Time cost = 2656.12 msec.\n",
      " Function <test> starts.\n",
      " Function <test> ends! Time cost = 2279.33 msec.\n",
      " Function <test> starts.\n",
      " Function <test> ends! Time cost = 2579.66 msec.\n",
      " Function <test> starts.\n",
      " Function <test> ends! Time cost = 2622.03 msec.\n",
      " Function <test> starts.\n",
      " Function <test> ends! Time cost = 2286.08 msec.\n",
      " Function <test> starts.\n",
      " Function <test> ends! Time cost = 2568.27 msec.\n",
      " Function <test> starts.\n",
      " Function <test> ends! Time cost = 2499.04 msec.\n",
      " Function <test> starts.\n",
      " Function <test> ends! Time cost = 2503.31 msec.\n",
      " Function <test> starts.\n",
      " Function <test> ends! Time cost = 2666.84 msec.\n",
      " Function <test> starts.\n",
      " Function <test> ends! Time cost = 2497.29 msec.\n",
      " Function <test> starts.\n",
      " Function <test> ends! Time cost = 2336.79 msec.\n",
      " Function <test> starts.\n",
      " Function <test> ends! Time cost = 2490.53 msec.\n",
      " Function <test> starts.\n",
      " Function <test> ends! Time cost = 2349.24 msec.\n",
      " Function <test> starts.\n",
      " Function <test> ends! Time cost = 2385.62 msec.\n",
      " Function <test> starts.\n",
      " Function <test> ends! Time cost = 2417.30 msec.\n",
      " Function <test> starts.\n",
      " Function <test> ends! Time cost = 2695.75 msec.\n",
      " Function <test> starts.\n",
      " Function <test> ends! Time cost = 2498.68 msec.\n",
      " Function <test> starts.\n",
      " Function <test> ends! Time cost = 2551.67 msec.\n",
      " Function <test> starts.\n",
      " Function <test> ends! Time cost = 2541.96 msec.\n",
      " Function <test> starts.\n",
      " Function <test> ends! Time cost = 2583.18 msec.\n",
      " Function <test> starts.\n",
      " Function <test> ends! Time cost = 2572.54 msec.\n",
      " Function <test> starts.\n",
      " Function <test> ends! Time cost = 2298.06 msec.\n",
      " Function <test> starts.\n",
      " Function <test> ends! Time cost = 3028.99 msec.\n",
      " Function <test> starts.\n",
      " Function <test> ends! Time cost = 2704.81 msec.\n",
      " Function <test> starts.\n",
      " Function <test> ends! Time cost = 2321.23 msec.\n",
      " Function <test> starts.\n",
      " Function <test> ends! Time cost = 2652.37 msec.\n",
      " Function <test> starts.\n",
      " Function <test> ends! Time cost = 2805.34 msec.\n",
      " Function <test> starts.\n",
      " Function <test> ends! Time cost = 2442.95 msec.\n",
      " Function <test> starts.\n",
      " Function <test> ends! Time cost = 2771.54 msec.\n",
      " Function <test> starts.\n",
      " Function <test> ends! Time cost = 2571.93 msec.\n",
      " Function <test> starts.\n",
      " Function <test> ends! Time cost = 2433.60 msec.\n",
      " Function <test> starts.\n",
      " Function <test> ends! Time cost = 2613.16 msec.\n",
      " Function <test> starts.\n",
      " Function <test> ends! Time cost = 2653.68 msec.\n",
      " Function <test> starts.\n",
      " Function <test> ends! Time cost = 2534.20 msec.\n",
      " Function <test> starts.\n",
      " Function <test> ends! Time cost = 2324.79 msec.\n",
      " Function <test> starts.\n",
      " Function <test> ends! Time cost = 2571.43 msec.\n",
      " Function <test> starts.\n",
      " Function <test> ends! Time cost = 2426.25 msec.\n",
      " Function <test> starts.\n",
      " Function <test> ends! Time cost = 2247.89 msec.\n",
      " Function <test> starts.\n"
     ]
    },
    {
     "ename": "KeyboardInterrupt",
     "evalue": "",
     "output_type": "error",
     "traceback": [
      "\u001b[0;31m---------------------------------------------------------------------------\u001b[0m",
      "\u001b[0;31mKeyboardInterrupt\u001b[0m                         Traceback (most recent call last)",
      "Cell \u001b[0;32mIn[17], line 1\u001b[0m\n\u001b[0;32m----> 1\u001b[0m \u001b[43mbenchmark\u001b[49m\u001b[43m(\u001b[49m\u001b[43m)\u001b[49m\n",
      "File \u001b[0;32m~/.local/lib/python3.9/site-packages/appletree/utils.py:220\u001b[0m, in \u001b[0;36mtimeit.<locals>._timeit.<locals>._func\u001b[0;34m(*args, **kwargs)\u001b[0m\n\u001b[1;32m    218\u001b[0m \u001b[38;5;28mprint\u001b[39m(indent \u001b[38;5;241m+\u001b[39m \u001b[38;5;124mf\u001b[39m\u001b[38;5;124m\"\u001b[39m\u001b[38;5;124m Function <\u001b[39m\u001b[38;5;132;01m{\u001b[39;00mname\u001b[38;5;132;01m}\u001b[39;00m\u001b[38;5;124m> starts.\u001b[39m\u001b[38;5;124m\"\u001b[39m)\n\u001b[1;32m    219\u001b[0m start \u001b[38;5;241m=\u001b[39m time()\n\u001b[0;32m--> 220\u001b[0m res \u001b[38;5;241m=\u001b[39m \u001b[43mfunc\u001b[49m\u001b[43m(\u001b[49m\u001b[38;5;241;43m*\u001b[39;49m\u001b[43margs\u001b[49m\u001b[43m,\u001b[49m\u001b[43m \u001b[49m\u001b[38;5;241;43m*\u001b[39;49m\u001b[38;5;241;43m*\u001b[39;49m\u001b[43mkwargs\u001b[49m\u001b[43m)\u001b[49m\n\u001b[1;32m    221\u001b[0m time_ \u001b[38;5;241m=\u001b[39m (time() \u001b[38;5;241m-\u001b[39m start) \u001b[38;5;241m*\u001b[39m \u001b[38;5;241m1e3\u001b[39m\n\u001b[1;32m    222\u001b[0m \u001b[38;5;28mprint\u001b[39m(indent \u001b[38;5;241m+\u001b[39m \u001b[38;5;124mf\u001b[39m\u001b[38;5;124m\"\u001b[39m\u001b[38;5;124m Function <\u001b[39m\u001b[38;5;132;01m{\u001b[39;00mname\u001b[38;5;132;01m}\u001b[39;00m\u001b[38;5;124m> ends! Time cost = \u001b[39m\u001b[38;5;132;01m{\u001b[39;00mtime_\u001b[38;5;132;01m:\u001b[39;00m\u001b[38;5;124m.2f\u001b[39m\u001b[38;5;132;01m}\u001b[39;00m\u001b[38;5;124m msec.\u001b[39m\u001b[38;5;124m\"\u001b[39m)\n",
      "Cell \u001b[0;32mIn[16], line 5\u001b[0m, in \u001b[0;36mbenchmark\u001b[0;34m()\u001b[0m\n\u001b[1;32m      3\u001b[0m key \u001b[38;5;241m=\u001b[39m apt\u001b[38;5;241m.\u001b[39mrandgen\u001b[38;5;241m.\u001b[39mget_key()\n\u001b[1;32m      4\u001b[0m \u001b[38;5;28;01mfor\u001b[39;00m _ \u001b[38;5;129;01min\u001b[39;00m \u001b[38;5;28mrange\u001b[39m(\u001b[38;5;241m100\u001b[39m):\n\u001b[0;32m----> 5\u001b[0m     key, _ \u001b[38;5;241m=\u001b[39m \u001b[43mtest\u001b[49m\u001b[43m(\u001b[49m\u001b[43mkey\u001b[49m\u001b[43m,\u001b[49m\u001b[43m \u001b[49m\u001b[38;5;28;43mint\u001b[39;49m\u001b[43m(\u001b[49m\u001b[38;5;241;43m1e6\u001b[39;49m\u001b[43m)\u001b[49m\u001b[43m,\u001b[49m\u001b[43m \u001b[49m\u001b[43mparameters\u001b[49m\u001b[43m)\u001b[49m\n",
      "File \u001b[0;32m~/.local/lib/python3.9/site-packages/appletree/utils.py:220\u001b[0m, in \u001b[0;36mtimeit.<locals>._timeit.<locals>._func\u001b[0;34m(*args, **kwargs)\u001b[0m\n\u001b[1;32m    218\u001b[0m \u001b[38;5;28mprint\u001b[39m(indent \u001b[38;5;241m+\u001b[39m \u001b[38;5;124mf\u001b[39m\u001b[38;5;124m\"\u001b[39m\u001b[38;5;124m Function <\u001b[39m\u001b[38;5;132;01m{\u001b[39;00mname\u001b[38;5;132;01m}\u001b[39;00m\u001b[38;5;124m> starts.\u001b[39m\u001b[38;5;124m\"\u001b[39m)\n\u001b[1;32m    219\u001b[0m start \u001b[38;5;241m=\u001b[39m time()\n\u001b[0;32m--> 220\u001b[0m res \u001b[38;5;241m=\u001b[39m \u001b[43mfunc\u001b[49m\u001b[43m(\u001b[49m\u001b[38;5;241;43m*\u001b[39;49m\u001b[43margs\u001b[49m\u001b[43m,\u001b[49m\u001b[43m \u001b[49m\u001b[38;5;241;43m*\u001b[39;49m\u001b[38;5;241;43m*\u001b[39;49m\u001b[43mkwargs\u001b[49m\u001b[43m)\u001b[49m\n\u001b[1;32m    221\u001b[0m time_ \u001b[38;5;241m=\u001b[39m (time() \u001b[38;5;241m-\u001b[39m start) \u001b[38;5;241m*\u001b[39m \u001b[38;5;241m1e3\u001b[39m\n\u001b[1;32m    222\u001b[0m \u001b[38;5;28mprint\u001b[39m(indent \u001b[38;5;241m+\u001b[39m \u001b[38;5;124mf\u001b[39m\u001b[38;5;124m\"\u001b[39m\u001b[38;5;124m Function <\u001b[39m\u001b[38;5;132;01m{\u001b[39;00mname\u001b[38;5;132;01m}\u001b[39;00m\u001b[38;5;124m> ends! Time cost = \u001b[39m\u001b[38;5;132;01m{\u001b[39;00mtime_\u001b[38;5;132;01m:\u001b[39;00m\u001b[38;5;124m.2f\u001b[39m\u001b[38;5;132;01m}\u001b[39;00m\u001b[38;5;124m msec.\u001b[39m\u001b[38;5;124m\"\u001b[39m)\n",
      "Cell \u001b[0;32mIn[15], line 3\u001b[0m, in \u001b[0;36mtest\u001b[0;34m(key, batch_size, parameters)\u001b[0m\n\u001b[1;32m      1\u001b[0m \u001b[38;5;129m@apt\u001b[39m\u001b[38;5;241m.\u001b[39mutils\u001b[38;5;241m.\u001b[39mtimeit\n\u001b[1;32m      2\u001b[0m \u001b[38;5;28;01mdef\u001b[39;00m \u001b[38;5;21mtest\u001b[39m(key, batch_size, parameters):\n\u001b[0;32m----> 3\u001b[0m     \u001b[38;5;28;01mreturn\u001b[39;00m \u001b[43mer\u001b[49m\u001b[38;5;241;43m.\u001b[39;49m\u001b[43msimulate_hist\u001b[49m\u001b[43m(\u001b[49m\u001b[43mkey\u001b[49m\u001b[43m,\u001b[49m\u001b[43m \u001b[49m\u001b[43mbatch_size\u001b[49m\u001b[43m,\u001b[49m\u001b[43m \u001b[49m\u001b[43mparameters\u001b[49m\u001b[43m)\u001b[49m\n",
      "File \u001b[0;32m~/.local/lib/python3.9/site-packages/appletree/component.py:441\u001b[0m, in \u001b[0;36mComponentSim.simulate_hist\u001b[0;34m(self, key, batch_size, parameters)\u001b[0m\n\u001b[1;32m    432\u001b[0m \u001b[38;5;28;01mdef\u001b[39;00m \u001b[38;5;21msimulate_hist\u001b[39m(\u001b[38;5;28mself\u001b[39m, key, batch_size, parameters):\n\u001b[1;32m    433\u001b[0m \u001b[38;5;250m    \u001b[39m\u001b[38;5;124;03m\"\"\"Simulate and return histogram.\u001b[39;00m\n\u001b[1;32m    434\u001b[0m \n\u001b[1;32m    435\u001b[0m \u001b[38;5;124;03m    Args:\u001b[39;00m\n\u001b[0;32m   (...)\u001b[0m\n\u001b[1;32m    439\u001b[0m \n\u001b[1;32m    440\u001b[0m \u001b[38;5;124;03m    \"\"\"\u001b[39;00m\n\u001b[0;32m--> 441\u001b[0m     key, result \u001b[38;5;241m=\u001b[39m \u001b[38;5;28;43mself\u001b[39;49m\u001b[38;5;241;43m.\u001b[39;49m\u001b[43msimulate\u001b[49m\u001b[43m(\u001b[49m\u001b[43mkey\u001b[49m\u001b[43m,\u001b[49m\u001b[43m \u001b[49m\u001b[43mbatch_size\u001b[49m\u001b[43m,\u001b[49m\u001b[43m \u001b[49m\u001b[43mparameters\u001b[49m\u001b[43m)\u001b[49m\n\u001b[1;32m    442\u001b[0m     \u001b[38;5;28;01mif\u001b[39;00m \u001b[38;5;28mself\u001b[39m\u001b[38;5;241m.\u001b[39mforce_no_eff:\n\u001b[1;32m    443\u001b[0m         mc \u001b[38;5;241m=\u001b[39m jnp\u001b[38;5;241m.\u001b[39masarray(result)\u001b[38;5;241m.\u001b[39mT\n",
      "\u001b[0;31mKeyboardInterrupt\u001b[0m: "
     ]
    }
   ],
   "source": [
    "benchmark()"
   ]
  },
  {
   "cell_type": "code",
   "execution_count": null,
   "id": "35ab65c3-2a11-457e-9bdc-f53a7eb7d06b",
   "metadata": {},
   "outputs": [],
   "source": []
  }
 ],
 "metadata": {
  "kernelspec": {
   "display_name": "Python 3 (ipykernel)",
   "language": "python",
   "name": "python3"
  },
  "language_info": {
   "codemirror_mode": {
    "name": "ipython",
    "version": 3
   },
   "file_extension": ".py",
   "mimetype": "text/x-python",
   "name": "python",
   "nbconvert_exporter": "python",
   "pygments_lexer": "ipython3",
   "version": "3.9.19"
  }
 },
 "nbformat": 4,
 "nbformat_minor": 5
}

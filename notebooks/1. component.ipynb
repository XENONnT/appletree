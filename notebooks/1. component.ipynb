{
 "cells": [
  {
   "cell_type": "markdown",
   "id": "8724625a-3dce-4c71-a883-4a5f89f12132",
   "metadata": {},
   "source": [
    "# Example of component"
   ]
  },
  {
   "cell_type": "code",
   "execution_count": 1,
   "id": "0bf412e3-73d7-439a-bd59-e35c9543c1b7",
   "metadata": {},
   "outputs": [
    {
     "name": "stdout",
     "output_type": "stream",
     "text": [
      "Using Normal as an approximation of Binomial\n",
      "Using aptext package from https://github.com/XENONnT/applefiles\n"
     ]
    }
   ],
   "source": [
    "import os\n",
    "from time import time\n",
    "\n",
    "import numpy as np\n",
    "import pandas as pd\n",
    "import matplotlib.pyplot as plt\n",
    "from matplotlib.colors import LogNorm\n",
    "import jax.numpy as jnp\n",
    "import multihist as mh\n",
    "\n",
    "import appletree as apt\n",
    "from appletree.utils import get_file_path"
   ]
  },
  {
   "cell_type": "code",
   "execution_count": 2,
   "id": "b988e7ba-f325-47f8-ad0f-c004ce215ccf",
   "metadata": {},
   "outputs": [],
   "source": [
    "# constrain the GPU memory usage\n",
    "\n",
    "apt.set_gpu_memory_usage(0.2)"
   ]
  },
  {
   "cell_type": "markdown",
   "id": "bdef7717-ff2b-4e27-9d09-c400062d606b",
   "metadata": {},
   "source": [
    "## Define component"
   ]
  },
  {
   "cell_type": "markdown",
   "id": "000e231e-83cf-4a6b-8eca-81d417c08877",
   "metadata": {},
   "source": [
    "### ComponentSim"
   ]
  },
  {
   "cell_type": "code",
   "execution_count": 3,
   "id": "619e5580-96ec-4ccc-80e5-a6f0de00e0a8",
   "metadata": {},
   "outputs": [],
   "source": [
    "# The components is associated with bins, so first we load bins\n",
    "data = pd.read_csv(get_file_path('data_Rn220.csv'))\n",
    "bins_cs1, bins_cs2 = apt.utils.get_equiprob_bins_2d(\n",
    "    data[['cs1', 'cs2']].to_numpy(),\n",
    "    [15, 15],\n",
    "    order=[0, 1],\n",
    "    x_clip=[0, 100],\n",
    "    y_clip=[1e2, 1e4],\n",
    "    which_np=jnp\n",
    ")"
   ]
  },
  {
   "cell_type": "code",
   "execution_count": 4,
   "id": "c2bb21e0-bc18-4878-86ba-8edea6ced391",
   "metadata": {},
   "outputs": [],
   "source": [
    "# Initialize component\n",
    "er = apt.ERBand(bins=[bins_cs1, bins_cs2], bins_type='irreg')"
   ]
  },
  {
   "cell_type": "code",
   "execution_count": 5,
   "id": "e076733b-b248-446f-a744-ef4dfb73a01d",
   "metadata": {},
   "outputs": [],
   "source": [
    "# Deduce the workflow(datastructure)\n",
    "er.deduce(\n",
    "    data_names=['cs1', 'cs2'], # 'eff'(efficiency) is always simulated\n",
    "    func_name='simulate'\n",
    ")\n",
    "er.rate_name = 'er_rate' # also we have to specify a normalization factor of the component\n",
    "\n",
    "# Compile ER script\n",
    "# This is meta-programing because  appletree can generate codes dynamically\n",
    "er.compile()"
   ]
  },
  {
   "cell_type": "code",
   "execution_count": 6,
   "id": "64dfeace-d67b-450a-8ecc-0183c2ca0223",
   "metadata": {},
   "outputs": [
    {
     "name": "stdout",
     "output_type": "stream",
     "text": [
      "from functools import partial\n",
      "from jax import jit\n",
      "from appletree.plugins import PositionSpectra\n",
      "from appletree.plugins import UniformEnergySpectra\n",
      "from appletree.plugins import RecombFluct\n",
      "from appletree.plugins import mTI\n",
      "from appletree.plugins import Quanta\n",
      "from appletree.plugins import TrueRecombER\n",
      "from appletree.plugins import IonizationER\n",
      "from appletree.plugins import DriftLoss\n",
      "from appletree.plugins import RecombinationER\n",
      "from appletree.plugins import ElectronDrifted\n",
      "from appletree.plugins import PositionRecon\n",
      "from appletree.plugins import S2Correction\n",
      "from appletree.plugins import S2PE\n",
      "from appletree.plugins import S2\n",
      "from appletree.plugins import S1Correction\n",
      "from appletree.plugins import PhotonDetection\n",
      "from appletree.plugins import S1PE\n",
      "from appletree.plugins import S1\n",
      "from appletree.plugins import S2CutAccept\n",
      "from appletree.plugins import S1CutAccept\n",
      "from appletree.plugins import S1ReconEff\n",
      "from appletree.plugins import S2Threshold\n",
      "from appletree.plugins import Eff\n",
      "from appletree.plugins import cS2\n",
      "from appletree.plugins import cS1\n",
      "PositionSpectra_ERBand = PositionSpectra('ERBand_llh')\n",
      "UniformEnergySpectra_ERBand = UniformEnergySpectra('ERBand_llh')\n",
      "RecombFluct_ERBand = RecombFluct('ERBand_llh')\n",
      "mTI_ERBand = mTI('ERBand_llh')\n",
      "Quanta_ERBand = Quanta('ERBand_llh')\n",
      "TrueRecombER_ERBand = TrueRecombER('ERBand_llh')\n",
      "IonizationER_ERBand = IonizationER('ERBand_llh')\n",
      "DriftLoss_ERBand = DriftLoss('ERBand_llh')\n",
      "RecombinationER_ERBand = RecombinationER('ERBand_llh')\n",
      "ElectronDrifted_ERBand = ElectronDrifted('ERBand_llh')\n",
      "PositionRecon_ERBand = PositionRecon('ERBand_llh')\n",
      "S2Correction_ERBand = S2Correction('ERBand_llh')\n",
      "S2PE_ERBand = S2PE('ERBand_llh')\n",
      "S2_ERBand = S2('ERBand_llh')\n",
      "S1Correction_ERBand = S1Correction('ERBand_llh')\n",
      "PhotonDetection_ERBand = PhotonDetection('ERBand_llh')\n",
      "S1PE_ERBand = S1PE('ERBand_llh')\n",
      "S1_ERBand = S1('ERBand_llh')\n",
      "S2CutAccept_ERBand = S2CutAccept('ERBand_llh')\n",
      "S1CutAccept_ERBand = S1CutAccept('ERBand_llh')\n",
      "S1ReconEff_ERBand = S1ReconEff('ERBand_llh')\n",
      "S2Threshold_ERBand = S2Threshold('ERBand_llh')\n",
      "Eff_ERBand = Eff('ERBand_llh')\n",
      "cS2_ERBand = cS2('ERBand_llh')\n",
      "cS1_ERBand = cS1('ERBand_llh')\n",
      "\n",
      "@partial(jit, static_argnums=(1, ))\n",
      "def simulate(key, batch_size, parameters):\n",
      "    key, x, y, z = PositionSpectra_ERBand(key, parameters, batch_size)\n",
      "    key, energy = UniformEnergySpectra_ERBand(key, parameters, batch_size)\n",
      "    key, recomb_std = RecombFluct_ERBand(key, parameters, energy)\n",
      "    key, recomb_mean = mTI_ERBand(key, parameters, energy)\n",
      "    key, num_quanta = Quanta_ERBand(key, parameters, energy)\n",
      "    key, recomb = TrueRecombER_ERBand(key, parameters, recomb_mean, recomb_std)\n",
      "    key, num_ion = IonizationER_ERBand(key, parameters, num_quanta)\n",
      "    key, drift_survive_prob = DriftLoss_ERBand(key, parameters, z)\n",
      "    key, num_photon, num_electron = RecombinationER_ERBand(key, parameters, num_quanta, num_ion, recomb)\n",
      "    key, num_electron_drifted = ElectronDrifted_ERBand(key, parameters, num_electron, drift_survive_prob)\n",
      "    key, rec_x, rec_y, rec_z, rec_r = PositionRecon_ERBand(key, parameters, x, y, z, num_electron_drifted)\n",
      "    key, s2_correction = S2Correction_ERBand(key, parameters, rec_x, rec_y)\n",
      "    key, num_s2_pe = S2PE_ERBand(key, parameters, num_electron_drifted, s2_correction)\n",
      "    key, s2_area = S2_ERBand(key, parameters, num_s2_pe)\n",
      "    key, s1_correction = S1Correction_ERBand(key, parameters, rec_x, rec_y, rec_z)\n",
      "    key, num_s1_phd = PhotonDetection_ERBand(key, parameters, num_photon, s1_correction)\n",
      "    key, num_s1_pe = S1PE_ERBand(key, parameters, num_s1_phd)\n",
      "    key, s1_area = S1_ERBand(key, parameters, num_s1_phd, num_s1_pe)\n",
      "    key, cut_acc_s2 = S2CutAccept_ERBand(key, parameters, s2_area)\n",
      "    key, cut_acc_s1 = S1CutAccept_ERBand(key, parameters, s1_area)\n",
      "    key, acc_s1_recon_eff = S1ReconEff_ERBand(key, parameters, num_s1_phd)\n",
      "    key, acc_s2_threshold = S2Threshold_ERBand(key, parameters, s2_area)\n",
      "    key, eff = Eff_ERBand(key, parameters, acc_s2_threshold, acc_s1_recon_eff, cut_acc_s1, cut_acc_s2)\n",
      "    key, cs2 = cS2_ERBand(key, parameters, s2_area, s2_correction, drift_survive_prob)\n",
      "    key, cs1 = cS1_ERBand(key, parameters, s1_area, s1_correction)\n",
      "    return key, [cs1, cs2, eff]\n",
      "\n"
     ]
    }
   ],
   "source": [
    "# For reference, this is the compiled code, the function is stored in appletree.share._cached_functions\n",
    "print(er.code)"
   ]
  },
  {
   "cell_type": "markdown",
   "id": "e347b267-d70c-4fc6-8619-f4f1252ec44a",
   "metadata": {},
   "source": [
    "### ComponentFixed"
   ]
  },
  {
   "cell_type": "code",
   "execution_count": 7,
   "id": "48d4aaef-30f0-48bd-b778-11f93a1eb655",
   "metadata": {},
   "outputs": [],
   "source": [
    "# Initialize component, not based on simulation, but the input template\n",
    "ac = apt.AC(bins=[bins_cs1, bins_cs2], bins_type='irreg', file_name='AC_Rn220.pkl')\n",
    "ac.rate_name = 'ac_rate'\n",
    "\n",
    "# Do not forget to deduce\n",
    "ac.deduce()\n",
    "\n",
    "# Of course these initialization process looks messy, but we will do the initialization automatically in context"
   ]
  },
  {
   "cell_type": "markdown",
   "id": "18bd657b-9b02-4960-9a6f-5bed457a1c2d",
   "metadata": {},
   "source": [
    "## Load parameters"
   ]
  },
  {
   "cell_type": "code",
   "execution_count": 8,
   "id": "8a3bdb6f-89f8-4c50-b94e-faf9675c3df8",
   "metadata": {},
   "outputs": [],
   "source": [
    "# Of course we have to load parameters(and their priors) in simulation\n",
    "\n",
    "par_manager = apt.Parameter(get_file_path('er.json'))\n",
    "par_manager.sample_init()\n",
    "parameters = par_manager.get_all_parameter()"
   ]
  },
  {
   "cell_type": "markdown",
   "id": "d80c7208-fbf3-4ddd-b16c-2b891c282fcd",
   "metadata": {},
   "source": [
    "## Simulation"
   ]
  },
  {
   "cell_type": "code",
   "execution_count": 9,
   "id": "62d9f11a-ee5e-49f9-85ae-a3ebaab510c6",
   "metadata": {},
   "outputs": [],
   "source": [
    "# Really do the simulation\n",
    "\n",
    "batch_size = int(1e6)\n",
    "key = apt.randgen.get_key(seed=137)\n",
    "\n",
    "key, (cs1, cs2, eff) = er.simulate(key, batch_size, parameters)"
   ]
  },
  {
   "cell_type": "code",
   "execution_count": 10,
   "id": "b2ddc2dc-543d-47b3-8cd3-e508bce4328b",
   "metadata": {},
   "outputs": [
    {
     "data": {
      "image/png": "[encoded data removed]",
      "text/plain": [
       "<Figure size 640x480 with 2 Axes>"
      ]
     },
     "metadata": {},
     "output_type": "display_data"
    }
   ],
   "source": [
    "# Just to show the histogram\n",
    "\n",
    "h, be = jnp.histogramdd(\n",
    "    jnp.asarray([cs1, cs2]).T,\n",
    "    bins=(jnp.linspace(0, 100, 101), jnp.logspace(2.5, 4.1, 81)),\n",
    "    weights=eff\n",
    ")\n",
    "\n",
    "h = mh.Histdd.from_histogram(\n",
    "    np.array(h), \n",
    "    be, \n",
    "    axis_names=['cs1', 'cs2']\n",
    ")\n",
    "h.plot(norm=LogNorm())\n",
    "plt.yscale('log')\n",
    "plt.show()"
   ]
  },
  {
   "cell_type": "markdown",
   "id": "61cf40ac-1b60-49b4-825d-49967ad8ade6",
   "metadata": {},
   "source": [
    "## Simulation and make equiprob hist"
   ]
  },
  {
   "cell_type": "code",
   "execution_count": 11,
   "id": "95034a59-ed46-4323-bc98-6292221155b5",
   "metadata": {},
   "outputs": [],
   "source": [
    "# Actually `simulate_hist` is just a wrapper of `simulate`\n",
    "\n",
    "batch_size = int(1e6)\n",
    "key = apt.randgen.get_key(seed=137)\n",
    "key, h = er.simulate_hist(key, batch_size, parameters)"
   ]
  },
  {
   "cell_type": "code",
   "execution_count": 12,
   "id": "035e5c1a-6585-4c1a-9f78-df6c6cb1dd2b",
   "metadata": {},
   "outputs": [
    {
     "data": {
      "image/png": "[encoded data removed]",
      "text/plain": [
       "<Figure size 640x480 with 2 Axes>"
      ]
     },
     "metadata": {},
     "output_type": "display_data"
    }
   ],
   "source": [
    "apt.utils.plot_irreg_histogram_2d(bins_cs1, bins_cs2, h, density=False)\n",
    "plt.yscale('log')\n",
    "plt.ylim(5e2, 1e4)\n",
    "plt.show()"
   ]
  },
  {
   "cell_type": "code",
   "execution_count": 13,
   "id": "71611698-2469-44a7-b8ca-b7bdcf3dd4f2",
   "metadata": {},
   "outputs": [],
   "source": [
    "h = ac.simulate_hist(parameters)"
   ]
  },
  {
   "cell_type": "code",
   "execution_count": 14,
   "id": "7339256c-9cd7-4206-801a-9e956bbca3fa",
   "metadata": {},
   "outputs": [
    {
     "data": {
      "image/png": "[encoded data removed]",
      "text/plain": [
       "<Figure size 640x480 with 2 Axes>"
      ]
     },
     "metadata": {},
     "output_type": "display_data"
    }
   ],
   "source": [
    "apt.utils.plot_irreg_histogram_2d(bins_cs1, bins_cs2, h, density=False)\n",
    "plt.yscale('log')\n",
    "plt.ylim(5e2, 1e4)\n",
    "plt.show()"
   ]
  },
  {
   "cell_type": "markdown",
   "id": "dd131c74-69e7-4946-b5c7-6dc651a1fdef",
   "metadata": {},
   "source": [
    "## Speed test"
   ]
  },
  {
   "cell_type": "code",
   "execution_count": 15,
   "id": "ef8dc578-f677-49ca-86c6-aecbbd7d093c",
   "metadata": {},
   "outputs": [],
   "source": [
    "@apt.utils.timeit\n",
    "def test(key, batch_size, parameters):\n",
    "    return er.simulate_hist(key, batch_size, parameters)"
   ]
  },
  {
   "cell_type": "code",
   "execution_count": 16,
   "id": "0679c7af-66dc-4bdd-8810-1469aa05dac5",
   "metadata": {},
   "outputs": [],
   "source": [
    "@apt.utils.timeit\n",
    "def benchmark():\n",
    "    key = apt.randgen.get_key()\n",
    "    for _ in range(100):\n",
    "        key, _ = test(key, int(1e6), parameters)"
   ]
  },
  {
   "cell_type": "code",
   "execution_count": 17,
   "id": "317a32ef-9860-4113-882c-de5ff0941285",
   "metadata": {
    "tags": []
   },
   "outputs": [
    {
     "name": "stdout",
     "output_type": "stream",
     "text": [
      " Function <benchmark> starts.\n",
      " Function <test> starts.\n",
      " Function <test> ends! Time cost = 8.48 msec.\n",
      " Function <test> starts.\n",
      " Function <test> ends! Time cost = 4.53 msec.\n",
      " Function <test> starts.\n",
      " Function <test> ends! Time cost = 8.02 msec.\n",
      " Function <test> starts.\n",
      " Function <test> ends! Time cost = 7.70 msec.\n",
      " Function <test> starts.\n",
      " Function <test> ends! Time cost = 4.23 msec.\n",
      " Function <test> starts.\n",
      " Function <test> ends! Time cost = 7.32 msec.\n",
      " Function <test> starts.\n",
      " Function <test> ends! Time cost = 4.84 msec.\n",
      " Function <test> starts.\n",
      " Function <test> ends! Time cost = 4.98 msec.\n",
      " Function <test> starts.\n",
      " Function <test> ends! Time cost = 4.15 msec.\n",
      " Function <test> starts.\n",
      " Function <test> ends! Time cost = 4.27 msec.\n",
      " Function <test> starts.\n",
      " Function <test> ends! Time cost = 6.68 msec.\n",
      " Function <test> starts.\n",
      " Function <test> ends! Time cost = 3.86 msec.\n",
      " Function <test> starts.\n",
      " Function <test> ends! Time cost = 5.78 msec.\n",
      " Function <test> starts.\n",
      " Function <test> ends! Time cost = 5.54 msec.\n",
      " Function <test> starts.\n",
      " Function <test> ends! Time cost = 8.88 msec.\n",
      " Function <test> starts.\n",
      " Function <test> ends! Time cost = 4.76 msec.\n",
      " Function <test> starts.\n",
      " Function <test> ends! Time cost = 4.54 msec.\n",
      " Function <test> starts.\n",
      " Function <test> ends! Time cost = 3.63 msec.\n",
      " Function <test> starts.\n",
      " Function <test> ends! Time cost = 3.32 msec.\n",
      " Function <test> starts.\n",
      " Function <test> ends! Time cost = 5.68 msec.\n",
      " Function <test> starts.\n",
      " Function <test> ends! Time cost = 7.80 msec.\n",
      " Function <test> starts.\n",
      " Function <test> ends! Time cost = 4.42 msec.\n",
      " Function <test> starts.\n",
      " Function <test> ends! Time cost = 6.34 msec.\n",
      " Function <test> starts.\n",
      " Function <test> ends! Time cost = 7.96 msec.\n",
      " Function <test> starts.\n",
      " Function <test> ends! Time cost = 5.27 msec.\n",
      " Function <test> starts.\n",
      " Function <test> ends! Time cost = 4.65 msec.\n",
      " Function <test> starts.\n",
      " Function <test> ends! Time cost = 4.82 msec.\n",
      " Function <test> starts.\n",
      " Function <test> ends! Time cost = 8.28 msec.\n",
      " Function <test> starts.\n",
      " Function <test> ends! Time cost = 4.91 msec.\n",
      " Function <test> starts.\n",
      " Function <test> ends! Time cost = 5.11 msec.\n",
      " Function <test> starts.\n",
      " Function <test> ends! Time cost = 5.19 msec.\n",
      " Function <test> starts.\n",
      " Function <test> ends! Time cost = 8.61 msec.\n",
      " Function <test> starts.\n",
      " Function <test> ends! Time cost = 7.04 msec.\n",
      " Function <test> starts.\n",
      " Function <test> ends! Time cost = 3.81 msec.\n",
      " Function <test> starts.\n",
      " Function <test> ends! Time cost = 4.02 msec.\n",
      " Function <test> starts.\n",
      " Function <test> ends! Time cost = 5.60 msec.\n",
      " Function <test> starts.\n",
      " Function <test> ends! Time cost = 6.13 msec.\n",
      " Function <test> starts.\n",
      " Function <test> ends! Time cost = 5.87 msec.\n",
      " Function <test> starts.\n",
      " Function <test> ends! Time cost = 5.91 msec.\n",
      " Function <test> starts.\n",
      " Function <test> ends! Time cost = 5.58 msec.\n",
      " Function <test> starts.\n",
      " Function <test> ends! Time cost = 5.89 msec.\n",
      " Function <test> starts.\n",
      " Function <test> ends! Time cost = 6.54 msec.\n",
      " Function <test> starts.\n",
      " Function <test> ends! Time cost = 8.76 msec.\n",
      " Function <test> starts.\n",
      " Function <test> ends! Time cost = 7.29 msec.\n",
      " Function <test> starts.\n",
      " Function <test> ends! Time cost = 5.63 msec.\n",
      " Function <test> starts.\n",
      " Function <test> ends! Time cost = 4.72 msec.\n",
      " Function <test> starts.\n",
      " Function <test> ends! Time cost = 4.47 msec.\n",
      " Function <test> starts.\n",
      " Function <test> ends! Time cost = 3.44 msec.\n",
      " Function <test> starts.\n",
      " Function <test> ends! Time cost = 6.00 msec.\n",
      " Function <test> starts.\n",
      " Function <test> ends! Time cost = 5.77 msec.\n",
      " Function <test> starts.\n",
      " Function <test> ends! Time cost = 5.67 msec.\n",
      " Function <test> starts.\n",
      " Function <test> ends! Time cost = 5.90 msec.\n",
      " Function <test> starts.\n",
      " Function <test> ends! Time cost = 6.52 msec.\n",
      " Function <test> starts.\n",
      " Function <test> ends! Time cost = 7.54 msec.\n",
      " Function <test> starts.\n",
      " Function <test> ends! Time cost = 4.80 msec.\n",
      " Function <test> starts.\n",
      " Function <test> ends! Time cost = 5.01 msec.\n",
      " Function <test> starts.\n",
      " Function <test> ends! Time cost = 8.54 msec.\n",
      " Function <test> starts.\n",
      " Function <test> ends! Time cost = 4.54 msec.\n",
      " Function <test> starts.\n",
      " Function <test> ends! Time cost = 4.44 msec.\n",
      " Function <test> starts.\n",
      " Function <test> ends! Time cost = 4.75 msec.\n",
      " Function <test> starts.\n",
      " Function <test> ends! Time cost = 5.30 msec.\n",
      " Function <test> starts.\n",
      " Function <test> ends! Time cost = 5.66 msec.\n",
      " Function <test> starts.\n",
      " Function <test> ends! Time cost = 5.84 msec.\n",
      " Function <test> starts.\n",
      " Function <test> ends! Time cost = 5.30 msec.\n",
      " Function <test> starts.\n",
      " Function <test> ends! Time cost = 5.73 msec.\n",
      " Function <test> starts.\n",
      " Function <test> ends! Time cost = 6.04 msec.\n",
      " Function <test> starts.\n",
      " Function <test> ends! Time cost = 5.72 msec.\n",
      " Function <test> starts.\n",
      " Function <test> ends! Time cost = 8.51 msec.\n",
      " Function <test> starts.\n",
      " Function <test> ends! Time cost = 6.50 msec.\n",
      " Function <test> starts.\n",
      " Function <test> ends! Time cost = 5.19 msec.\n",
      " Function <test> starts.\n",
      " Function <test> ends! Time cost = 3.97 msec.\n",
      " Function <test> starts.\n",
      " Function <test> ends! Time cost = 5.05 msec.\n",
      " Function <test> starts.\n",
      " Function <test> ends! Time cost = 5.44 msec.\n",
      " Function <test> starts.\n",
      " Function <test> ends! Time cost = 5.41 msec.\n",
      " Function <test> starts.\n",
      " Function <test> ends! Time cost = 5.43 msec.\n",
      " Function <test> starts.\n",
      " Function <test> ends! Time cost = 5.71 msec.\n",
      " Function <test> starts.\n",
      " Function <test> ends! Time cost = 5.42 msec.\n",
      " Function <test> starts.\n",
      " Function <test> ends! Time cost = 5.94 msec.\n",
      " Function <test> starts.\n",
      " Function <test> ends! Time cost = 5.54 msec.\n",
      " Function <test> starts.\n",
      " Function <test> ends! Time cost = 5.88 msec.\n",
      " Function <test> starts.\n",
      " Function <test> ends! Time cost = 7.84 msec.\n",
      " Function <test> starts.\n",
      " Function <test> ends! Time cost = 8.60 msec.\n",
      " Function <test> starts.\n",
      " Function <test> ends! Time cost = 8.21 msec.\n",
      " Function <test> starts.\n",
      " Function <test> ends! Time cost = 5.22 msec.\n",
      " Function <test> starts.\n",
      " Function <test> ends! Time cost = 4.73 msec.\n",
      " Function <test> starts.\n",
      " Function <test> ends! Time cost = 3.78 msec.\n",
      " Function <test> starts.\n",
      " Function <test> ends! Time cost = 3.65 msec.\n",
      " Function <test> starts.\n",
      " Function <test> ends! Time cost = 3.48 msec.\n",
      " Function <test> starts.\n",
      " Function <test> ends! Time cost = 5.77 msec.\n",
      " Function <test> starts.\n",
      " Function <test> ends! Time cost = 5.53 msec.\n",
      " Function <test> starts.\n",
      " Function <test> ends! Time cost = 5.89 msec.\n",
      " Function <test> starts.\n",
      " Function <test> ends! Time cost = 5.75 msec.\n",
      " Function <test> starts.\n",
      " Function <test> ends! Time cost = 5.65 msec.\n",
      " Function <test> starts.\n",
      " Function <test> ends! Time cost = 5.67 msec.\n",
      " Function <test> starts.\n",
      " Function <test> ends! Time cost = 6.39 msec.\n",
      " Function <test> starts.\n",
      " Function <test> ends! Time cost = 8.08 msec.\n",
      " Function <test> starts.\n",
      " Function <test> ends! Time cost = 5.54 msec.\n",
      " Function <test> starts.\n",
      " Function <test> ends! Time cost = 9.05 msec.\n",
      " Function <test> starts.\n",
      " Function <test> ends! Time cost = 5.62 msec.\n",
      " Function <test> starts.\n",
      " Function <test> ends! Time cost = 4.42 msec.\n",
      " Function <benchmark> ends! Time cost = 582.11 msec.\n"
     ]
    }
   ],
   "source": [
    "benchmark()"
   ]
  }
 ],
 "metadata": {
  "kernelspec": {
   "display_name": "Python 3 (ipykernel)",
   "language": "python",
   "name": "python3"
  },
  "language_info": {
   "codemirror_mode": {
    "name": "ipython",
    "version": 3
   },
   "file_extension": ".py",
   "mimetype": "text/x-python",
   "name": "python",
   "nbconvert_exporter": "python",
   "pygments_lexer": "ipython3",
   "version": "3.8.16"
  }
 },
 "nbformat": 4,
 "nbformat_minor": 5
}

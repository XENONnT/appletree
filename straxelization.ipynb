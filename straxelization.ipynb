{
 "cells": [
  {
   "cell_type": "code",
   "execution_count": 1,
   "id": "0bf412e3-73d7-439a-bd59-e35c9543c1b7",
   "metadata": {},
   "outputs": [],
   "source": [
    "import numpy as np\n",
    "import pandas as pd\n",
    "import matplotlib.pyplot as plt\n",
    "from matplotlib.colors import LogNorm\n",
    "import jax.numpy as jnp\n",
    "\n",
    "import multihist as mh\n",
    "import appletree as apt\n",
    "from appletree import randgen\n",
    "from appletree import hist\n",
    "from appletree.context import Context, ERBand"
   ]
  },
  {
   "cell_type": "markdown",
   "id": "bdef7717-ff2b-4e27-9d09-c400062d606b",
   "metadata": {},
   "source": [
    "# Define context"
   ]
  },
  {
   "cell_type": "code",
   "execution_count": 2,
   "id": "c2bb21e0-bc18-4878-86ba-8edea6ced391",
   "metadata": {},
   "outputs": [],
   "source": [
    "tree = ERBand()"
   ]
  },
  {
   "cell_type": "markdown",
   "id": "34efa88f-11a0-49b7-a969-40c7e94f61e6",
   "metadata": {},
   "source": [
    "## show registered plugins in context"
   ]
  },
  {
   "cell_type": "code",
   "execution_count": 3,
   "id": "9dd29aa3-0492-4186-bf1f-ad84db601880",
   "metadata": {},
   "outputs": [
    {
     "data": {
      "text/plain": [
       "{'drift_survive_prob': appletree.plugins.detector.DriftLoss,\n",
       " 'eff': appletree.plugins.efficiency.Eff,\n",
       " 'num_electron_drifted': appletree.plugins.detector.ElectronDrifted,\n",
       " 'energy': appletree.plugins.common.EnergySpectra,\n",
       " 'num_ion': appletree.plugins.microphys.Ionization,\n",
       " 'num_s1_phd': appletree.plugins.detector.PhotonDetection,\n",
       " 'x': appletree.plugins.common.PositionSpectra,\n",
       " 'y': appletree.plugins.common.PositionSpectra,\n",
       " 'z': appletree.plugins.common.PositionSpectra,\n",
       " 'num_quanta': appletree.plugins.microphys.Quenching,\n",
       " 'recomb_std': appletree.plugins.microphys.RecombFluct,\n",
       " 'num_photon': appletree.plugins.microphys.Recombination,\n",
       " 'num_electron': appletree.plugins.microphys.Recombination,\n",
       " 's1': appletree.plugins.reconstruction.S1,\n",
       " 's1_correction': appletree.plugins.detector.S1Correction,\n",
       " 'num_s1_pe': appletree.plugins.detector.S1PE,\n",
       " 'acc_s1_recon_eff': appletree.plugins.efficiency.S1ReconEff,\n",
       " 's2': appletree.plugins.reconstruction.S2,\n",
       " 's2_correction': appletree.plugins.detector.S2Correction,\n",
       " 'num_s2_pe': appletree.plugins.detector.S2PE,\n",
       " 'acc_s2_threshold': appletree.plugins.efficiency.S2Threshold,\n",
       " 'recomb': appletree.plugins.microphys.TrueRecomb,\n",
       " 'cs1': appletree.plugins.reconstruction.cS1,\n",
       " 'cs2': appletree.plugins.reconstruction.cS2,\n",
       " 'recomb_mean': appletree.plugins.microphys.mTI}"
      ]
     },
     "execution_count": 3,
     "metadata": {},
     "output_type": "execute_result"
    }
   ],
   "source": [
    "tree._plugin_class_registry"
   ]
  },
  {
   "cell_type": "markdown",
   "id": "70115dd3-f868-4394-8041-c51b232b4694",
   "metadata": {},
   "source": [
    "## deduce dependency relation network"
   ]
  },
  {
   "cell_type": "code",
   "execution_count": 4,
   "id": "e076733b-b248-446f-a744-ef4dfb73a01d",
   "metadata": {},
   "outputs": [],
   "source": [
    "tree.deduce()"
   ]
  },
  {
   "cell_type": "markdown",
   "id": "861586e3-b0d1-4335-8d6d-c267f733cf91",
   "metadata": {},
   "source": [
    "## show worksheet in simulation"
   ]
  },
  {
   "cell_type": "code",
   "execution_count": 5,
   "id": "b8ed6b7e-29cf-44e8-a4aa-4d28f721c01a",
   "metadata": {},
   "outputs": [
    {
     "data": {
      "text/plain": [
       "[['PositionSpectra', ['x', 'y', 'z'], ['batch_size']],\n",
       " ['EnergySpectra', ['energy'], ['batch_size']],\n",
       " ['RecombFluct', ['recomb_std'], ['energy']],\n",
       " ['mTI', ['recomb_mean'], ['energy']],\n",
       " ['Quenching', ['num_quanta'], ['energy']],\n",
       " ['TrueRecomb', ['recomb'], ['recomb_mean', 'recomb_std']],\n",
       " ['Ionization', ['num_ion'], ['num_quanta']],\n",
       " ['S1Correction', ['s1_correction'], ['x', 'y', 'z']],\n",
       " ['Recombination',\n",
       "  ['num_photon', 'num_electron'],\n",
       "  ['num_quanta', 'num_ion', 'recomb']],\n",
       " ['PhotonDetection', ['num_s1_phd'], ['num_photon', 's1_correction']],\n",
       " ['DriftLoss', ['drift_survive_prob'], ['z']],\n",
       " ['S2Correction', ['s2_correction'], ['x', 'y']],\n",
       " ['ElectronDrifted',\n",
       "  ['num_electron_drifted'],\n",
       "  ['num_electron', 'drift_survive_prob']],\n",
       " ['S2PE', ['num_s2_pe'], ['num_electron_drifted', 's2_correction']],\n",
       " ['S2', ['s2'], ['num_s2_pe']],\n",
       " ['S1ReconEff', ['acc_s1_recon_eff'], ['num_s1_phd']],\n",
       " ['S2Threshold', ['acc_s2_threshold'], ['s2']],\n",
       " ['S1PE', ['num_s1_pe'], ['num_s1_phd']],\n",
       " ['S1', ['s1'], ['num_s1_phd', 'num_s1_pe']],\n",
       " ['Eff', ['eff'], ['acc_s2_threshold', 'acc_s1_recon_eff']],\n",
       " ['cS2', ['cs2'], ['s2', 's2_correction', 'drift_survive_prob']],\n",
       " ['cS1', ['cs1'], ['s1', 's1_correction']]]"
      ]
     },
     "execution_count": 5,
     "metadata": {},
     "output_type": "execute_result"
    }
   ],
   "source": [
    "tree.worksheet"
   ]
  },
  {
   "cell_type": "markdown",
   "id": "fce1b512-9e74-461b-a38b-06b422d514c3",
   "metadata": {},
   "source": [
    "## show codes deduced"
   ]
  },
  {
   "cell_type": "code",
   "execution_count": 6,
   "id": "d8931d11-1336-407e-a749-2a569ac257b7",
   "metadata": {},
   "outputs": [
    {
     "name": "stdout",
     "output_type": "stream",
     "text": [
      "from functools import partial\n",
      "from jax import jit\n",
      "from appletree.plugins import PositionSpectra\n",
      "from appletree.plugins import EnergySpectra\n",
      "from appletree.plugins import RecombFluct\n",
      "from appletree.plugins import mTI\n",
      "from appletree.plugins import Quenching\n",
      "from appletree.plugins import TrueRecomb\n",
      "from appletree.plugins import Ionization\n",
      "from appletree.plugins import S1Correction\n",
      "from appletree.plugins import Recombination\n",
      "from appletree.plugins import PhotonDetection\n",
      "from appletree.plugins import DriftLoss\n",
      "from appletree.plugins import S2Correction\n",
      "from appletree.plugins import ElectronDrifted\n",
      "from appletree.plugins import S2PE\n",
      "from appletree.plugins import S2\n",
      "from appletree.plugins import S1ReconEff\n",
      "from appletree.plugins import S2Threshold\n",
      "from appletree.plugins import S1PE\n",
      "from appletree.plugins import S1\n",
      "from appletree.plugins import Eff\n",
      "from appletree.plugins import cS2\n",
      "from appletree.plugins import cS1\n",
      "PositionSpectra_ = PositionSpectra()\n",
      "EnergySpectra_ = EnergySpectra()\n",
      "RecombFluct_ = RecombFluct()\n",
      "mTI_ = mTI()\n",
      "Quenching_ = Quenching()\n",
      "TrueRecomb_ = TrueRecomb()\n",
      "Ionization_ = Ionization()\n",
      "S1Correction_ = S1Correction()\n",
      "Recombination_ = Recombination()\n",
      "PhotonDetection_ = PhotonDetection()\n",
      "DriftLoss_ = DriftLoss()\n",
      "S2Correction_ = S2Correction()\n",
      "ElectronDrifted_ = ElectronDrifted()\n",
      "S2PE_ = S2PE()\n",
      "S2_ = S2()\n",
      "S1ReconEff_ = S1ReconEff()\n",
      "S2Threshold_ = S2Threshold()\n",
      "S1PE_ = S1PE()\n",
      "S1_ = S1()\n",
      "Eff_ = Eff()\n",
      "cS2_ = cS2()\n",
      "cS1_ = cS1()\n",
      "\n",
      "@partial(jit, static_argnums=(1, ))\n",
      "def simulate(key, batch_size, parameters):\n",
      "    key, x, y, z = PositionSpectra_(key, parameters, batch_size)\n",
      "    key, energy = EnergySpectra_(key, parameters, batch_size)\n",
      "    key, recomb_std = RecombFluct_(key, parameters, energy)\n",
      "    key, recomb_mean = mTI_(key, parameters, energy)\n",
      "    key, num_quanta = Quenching_(key, parameters, energy)\n",
      "    key, recomb = TrueRecomb_(key, parameters, recomb_mean, recomb_std)\n",
      "    key, num_ion = Ionization_(key, parameters, num_quanta)\n",
      "    key, s1_correction = S1Correction_(key, parameters, x, y, z)\n",
      "    key, num_photon, num_electron = Recombination_(key, parameters, num_quanta, num_ion, recomb)\n",
      "    key, num_s1_phd = PhotonDetection_(key, parameters, num_photon, s1_correction)\n",
      "    key, drift_survive_prob = DriftLoss_(key, parameters, z)\n",
      "    key, s2_correction = S2Correction_(key, parameters, x, y)\n",
      "    key, num_electron_drifted = ElectronDrifted_(key, parameters, num_electron, drift_survive_prob)\n",
      "    key, num_s2_pe = S2PE_(key, parameters, num_electron_drifted, s2_correction)\n",
      "    key, s2 = S2_(key, parameters, num_s2_pe)\n",
      "    key, acc_s1_recon_eff = S1ReconEff_(key, parameters, num_s1_phd)\n",
      "    key, acc_s2_threshold = S2Threshold_(key, parameters, s2)\n",
      "    key, num_s1_pe = S1PE_(key, parameters, num_s1_phd)\n",
      "    key, s1 = S1_(key, parameters, num_s1_phd, num_s1_pe)\n",
      "    key, eff = Eff_(key, parameters, acc_s2_threshold, acc_s1_recon_eff)\n",
      "    key, cs2 = cS2_(key, parameters, s2, s2_correction, drift_survive_prob)\n",
      "    key, cs1 = cS1_(key, parameters, s1, s1_correction)\n",
      "    return key, [cs1, cs2, eff]\n"
     ]
    }
   ],
   "source": [
    "print(tree.code)"
   ]
  },
  {
   "cell_type": "markdown",
   "id": "c085d1ca-d843-4447-984a-f9fb1fc58c7b",
   "metadata": {},
   "source": [
    "# Compilation"
   ]
  },
  {
   "cell_type": "code",
   "execution_count": 7,
   "id": "ef5c3268-d1ef-4231-8059-5be80759d6dc",
   "metadata": {},
   "outputs": [],
   "source": [
    "tree.compile()"
   ]
  },
  {
   "cell_type": "markdown",
   "id": "d80c7208-fbf3-4ddd-b16c-2b891c282fcd",
   "metadata": {},
   "source": [
    "# Simulation"
   ]
  },
  {
   "cell_type": "code",
   "execution_count": 8,
   "id": "62d9f11a-ee5e-49f9-85ae-a3ebaab510c6",
   "metadata": {},
   "outputs": [],
   "source": [
    "batch_size = int(1e6)\n",
    "key = randgen.get_key()\n",
    "\n",
    "key, _ = simulate(key, batch_size, tree.parameters)\n",
    "      \n",
    "cs1, cs2, eff = _"
   ]
  },
  {
   "cell_type": "markdown",
   "id": "692a8359-2b27-41a5-afc9-cee6960e782d",
   "metadata": {},
   "source": [
    "## draw histogram and compare with data"
   ]
  },
  {
   "cell_type": "code",
   "execution_count": 9,
   "id": "b2ddc2dc-543d-47b3-8cd3-e508bce4328b",
   "metadata": {},
   "outputs": [
    {
     "data": {
      "image/png": "[encoded data removed]",
      "text/plain": [
       "<Figure size 432x288 with 2 Axes>"
      ]
     },
     "metadata": {
      "needs_background": "light"
     },
     "output_type": "display_data"
    }
   ],
   "source": [
    "h, be = jnp.histogramdd(\n",
    "    jnp.asarray([cs1, cs2]).T,\n",
    "    bins=(jnp.linspace(0, 100, 101), jnp.logspace(2.5, 4.1, 81)),\n",
    "    weights=eff\n",
    ")\n",
    "\n",
    "h = mh.Histdd.from_histogram(\n",
    "    np.array(h), \n",
    "    be, \n",
    "    axis_names=['cs1', 'cs2']\n",
    ")\n",
    "h.plot(norm=LogNorm())\n",
    "plt.yscale('log')\n",
    "plt.show()"
   ]
  },
  {
   "cell_type": "markdown",
   "id": "61cf40ac-1b60-49b4-825d-49967ad8ade6",
   "metadata": {},
   "source": [
    "### read data and binning"
   ]
  },
  {
   "cell_type": "code",
   "execution_count": 10,
   "id": "619e5580-96ec-4ccc-80e5-a6f0de00e0a8",
   "metadata": {},
   "outputs": [],
   "source": [
    "data = pd.read_csv('./appletree/data/data_XENONnT_Rn220_v8_strax_v1.2.2_straxen_v1.7.1_cutax_v1.9.0.csv')\n",
    "x_bins, y_bins = apt.utils.get_equiprob_bins_2d(\n",
    "    data[['cs1', 'cs2']].to_numpy(),\n",
    "    [15, 15],\n",
    "    order=[0, 1],\n",
    "    x_clip=[0, 100],\n",
    "    y_clip=[1e2, 1e4]\n",
    ")"
   ]
  },
  {
   "cell_type": "code",
   "execution_count": 11,
   "id": "035e5c1a-6585-4c1a-9f78-df6c6cb1dd2b",
   "metadata": {},
   "outputs": [
    {
     "data": {
      "text/plain": [
       "(500.0, 10000.0)"
      ]
     },
     "execution_count": 11,
     "metadata": {},
     "output_type": "execute_result"
    },
    {
     "data": {
      "image/png": "[encoded data removed]",
      "text/plain": [
       "<Figure size 432x288 with 2 Axes>"
      ]
     },
     "metadata": {
      "needs_background": "light"
     },
     "output_type": "display_data"
    }
   ],
   "source": [
    "h = hist.make_hist_irreg_bin_2d(jnp.asarray([cs1, cs2]).T, x_bins, y_bins, weights=eff)\n",
    "\n",
    "apt.utils.plot_irreg_histogram_2d(x_bins, y_bins, h, density=False)\n",
    "plt.yscale('log')\n",
    "plt.ylim(5e2, 1e4)"
   ]
  },
  {
   "cell_type": "markdown",
   "id": "dd131c74-69e7-4946-b5c7-6dc651a1fdef",
   "metadata": {},
   "source": [
    "# Speed test"
   ]
  },
  {
   "cell_type": "code",
   "execution_count": 12,
   "id": "ef8dc578-f677-49ca-86c6-aecbbd7d093c",
   "metadata": {},
   "outputs": [],
   "source": [
    "@apt.utils.timeit\n",
    "def test(key, batch_size, parameters):\n",
    "    return simulate(key, batch_size, parameters)"
   ]
  },
  {
   "cell_type": "code",
   "execution_count": 13,
   "id": "0679c7af-66dc-4bdd-8810-1469aa05dac5",
   "metadata": {},
   "outputs": [
    {
     "name": "stdout",
     "output_type": "stream",
     "text": [
      " Function <test> starts. \n",
      " Function <test> ends! Time cost = 4.263401 msec. \n"
     ]
    }
   ],
   "source": [
    "test(key, int(1e6), tree.parameters)\n",
    "\n",
    "@apt.utils.timeit\n",
    "def benchmark():\n",
    "    key = randgen.get_key()\n",
    "    for _ in range(100):\n",
    "        # tree.init_parameters()\n",
    "        key, _ = test(key, int(1e6), tree.parameters)"
   ]
  },
  {
   "cell_type": "code",
   "execution_count": 14,
   "id": "317a32ef-9860-4113-882c-de5ff0941285",
   "metadata": {},
   "outputs": [
    {
     "name": "stdout",
     "output_type": "stream",
     "text": [
      " Function <benchmark> starts. \n",
      " Function <test> starts. \n",
      " Function <test> ends! Time cost = 2.155304 msec. \n",
      " Function <test> starts. \n",
      " Function <test> ends! Time cost = 2.698421 msec. \n",
      " Function <test> starts. \n",
      " Function <test> ends! Time cost = 2.440691 msec. \n",
      " Function <test> starts. \n",
      " Function <test> ends! Time cost = 2.225161 msec. \n",
      " Function <test> starts. \n",
      " Function <test> ends! Time cost = 4.819870 msec. \n",
      " Function <test> starts. \n",
      " Function <test> ends! Time cost = 5.062819 msec. \n",
      " Function <test> starts. \n",
      " Function <test> ends! Time cost = 5.036831 msec. \n",
      " Function <test> starts. \n",
      " Function <test> ends! Time cost = 5.042076 msec. \n",
      " Function <test> starts. \n",
      " Function <test> ends! Time cost = 5.059719 msec. \n",
      " Function <test> starts. \n",
      " Function <test> ends! Time cost = 5.015135 msec. \n",
      " Function <test> starts. \n",
      " Function <test> ends! Time cost = 5.037069 msec. \n",
      " Function <test> starts. \n",
      " Function <test> ends! Time cost = 5.069971 msec. \n",
      " Function <test> starts. \n",
      " Function <test> ends! Time cost = 5.025864 msec. \n",
      " Function <test> starts. \n",
      " Function <test> ends! Time cost = 5.052805 msec. \n",
      " Function <test> starts. \n",
      " Function <test> ends! Time cost = 5.033255 msec. \n",
      " Function <test> starts. \n",
      " Function <test> ends! Time cost = 5.027056 msec. \n",
      " Function <test> starts. \n",
      " Function <test> ends! Time cost = 5.037308 msec. \n",
      " Function <test> starts. \n",
      " Function <test> ends! Time cost = 5.079031 msec. \n",
      " Function <test> starts. \n",
      " Function <test> ends! Time cost = 5.011320 msec. \n",
      " Function <test> starts. \n",
      " Function <test> ends! Time cost = 5.055666 msec. \n",
      " Function <test> starts. \n",
      " Function <test> ends! Time cost = 5.056381 msec. \n",
      " Function <test> starts. \n",
      " Function <test> ends! Time cost = 5.077124 msec. \n",
      " Function <test> starts. \n",
      " Function <test> ends! Time cost = 5.034208 msec. \n",
      " Function <test> starts. \n",
      " Function <test> ends! Time cost = 5.068541 msec. \n",
      " Function <test> starts. \n",
      " Function <test> ends! Time cost = 5.054474 msec. \n",
      " Function <test> starts. \n",
      " Function <test> ends! Time cost = 5.079508 msec. \n",
      " Function <test> starts. \n",
      " Function <test> ends! Time cost = 5.041361 msec. \n",
      " Function <test> starts. \n",
      " Function <test> ends! Time cost = 5.040407 msec. \n",
      " Function <test> starts. \n",
      " Function <test> ends! Time cost = 5.074024 msec. \n",
      " Function <test> starts. \n",
      " Function <test> ends! Time cost = 5.053282 msec. \n",
      " Function <test> starts. \n",
      " Function <test> ends! Time cost = 5.033255 msec. \n",
      " Function <test> starts. \n",
      " Function <test> ends! Time cost = 5.049944 msec. \n",
      " Function <test> starts. \n",
      " Function <test> ends! Time cost = 5.078554 msec. \n",
      " Function <test> starts. \n",
      " Function <test> ends! Time cost = 5.078316 msec. \n",
      " Function <test> starts. \n",
      " Function <test> ends! Time cost = 5.020618 msec. \n",
      " Function <test> starts. \n",
      " Function <test> ends! Time cost = 5.033493 msec. \n",
      " Function <test> starts. \n",
      " Function <test> ends! Time cost = 5.071163 msec. \n",
      " Function <test> starts. \n",
      " Function <test> ends! Time cost = 5.072355 msec. \n",
      " Function <test> starts. \n",
      " Function <test> ends! Time cost = 5.025625 msec. \n",
      " Function <test> starts. \n",
      " Function <test> ends! Time cost = 5.030632 msec. \n",
      " Function <test> starts. \n",
      " Function <test> ends! Time cost = 5.041122 msec. \n",
      " Function <test> starts. \n",
      " Function <test> ends! Time cost = 5.046368 msec. \n",
      " Function <test> starts. \n",
      " Function <test> ends! Time cost = 5.052567 msec. \n",
      " Function <test> starts. \n",
      " Function <test> ends! Time cost = 5.035639 msec. \n",
      " Function <test> starts. \n",
      " Function <test> ends! Time cost = 5.063295 msec. \n",
      " Function <test> starts. \n",
      " Function <test> ends! Time cost = 5.073309 msec. \n",
      " Function <test> starts. \n",
      " Function <test> ends! Time cost = 4.989862 msec. \n",
      " Function <test> starts. \n",
      " Function <test> ends! Time cost = 4.975557 msec. \n",
      " Function <test> starts. \n",
      " Function <test> ends! Time cost = 5.002022 msec. \n",
      " Function <test> starts. \n",
      " Function <test> ends! Time cost = 4.984856 msec. \n",
      " Function <test> starts. \n",
      " Function <test> ends! Time cost = 4.989862 msec. \n",
      " Function <test> starts. \n",
      " Function <test> ends! Time cost = 4.999161 msec. \n",
      " Function <test> starts. \n",
      " Function <test> ends! Time cost = 4.977226 msec. \n",
      " Function <test> starts. \n",
      " Function <test> ends! Time cost = 4.989624 msec. \n",
      " Function <test> starts. \n",
      " Function <test> ends! Time cost = 5.002022 msec. \n",
      " Function <test> starts. \n",
      " Function <test> ends! Time cost = 4.981518 msec. \n",
      " Function <test> starts. \n",
      " Function <test> ends! Time cost = 4.962206 msec. \n",
      " Function <test> starts. \n",
      " Function <test> ends! Time cost = 4.987955 msec. \n",
      " Function <test> starts. \n",
      " Function <test> ends! Time cost = 4.985809 msec. \n",
      " Function <test> starts. \n",
      " Function <test> ends! Time cost = 4.969835 msec. \n",
      " Function <test> starts. \n",
      " Function <test> ends! Time cost = 4.963398 msec. \n",
      " Function <test> starts. \n",
      " Function <test> ends! Time cost = 4.982233 msec. \n",
      " Function <test> starts. \n",
      " Function <test> ends! Time cost = 4.985094 msec. \n",
      " Function <test> starts. \n",
      " Function <test> ends! Time cost = 4.943848 msec. \n",
      " Function <test> starts. \n",
      " Function <test> ends! Time cost = 4.966974 msec. \n",
      " Function <test> starts. \n",
      " Function <test> ends! Time cost = 4.956722 msec. \n",
      " Function <test> starts. \n",
      " Function <test> ends! Time cost = 4.949331 msec. \n",
      " Function <test> starts. \n",
      " Function <test> ends! Time cost = 4.987717 msec. \n",
      " Function <test> starts. \n",
      " Function <test> ends! Time cost = 4.966974 msec. \n",
      " Function <test> starts. \n",
      " Function <test> ends! Time cost = 4.961729 msec. \n",
      " Function <test> starts. \n",
      " Function <test> ends! Time cost = 4.955769 msec. \n",
      " Function <test> starts. \n",
      " Function <test> ends! Time cost = 4.971266 msec. \n",
      " Function <test> starts. \n",
      " Function <test> ends! Time cost = 4.945993 msec. \n",
      " Function <test> starts. \n",
      " Function <test> ends! Time cost = 4.959345 msec. \n",
      " Function <test> starts. \n",
      " Function <test> ends! Time cost = 4.935503 msec. \n",
      " Function <test> starts. \n",
      " Function <test> ends! Time cost = 4.957676 msec. \n",
      " Function <test> starts. \n",
      " Function <test> ends! Time cost = 4.964828 msec. \n",
      " Function <test> starts. \n",
      " Function <test> ends! Time cost = 4.943371 msec. \n",
      " Function <test> starts. \n",
      " Function <test> ends! Time cost = 4.959345 msec. \n",
      " Function <test> starts. \n",
      " Function <test> ends! Time cost = 5.264282 msec. \n",
      " Function <test> starts. \n",
      " Function <test> ends! Time cost = 4.642963 msec. \n",
      " Function <test> starts. \n",
      " Function <test> ends! Time cost = 5.273581 msec. \n",
      " Function <test> starts. \n",
      " Function <test> ends! Time cost = 4.615307 msec. \n",
      " Function <test> starts. \n",
      " Function <test> ends! Time cost = 4.945755 msec. \n",
      " Function <test> starts. \n",
      " Function <test> ends! Time cost = 4.938126 msec. \n",
      " Function <test> starts. \n",
      " Function <test> ends! Time cost = 4.955769 msec. \n",
      " Function <test> starts. \n",
      " Function <test> ends! Time cost = 4.935503 msec. \n",
      " Function <test> starts. \n",
      " Function <test> ends! Time cost = 4.953861 msec. \n",
      " Function <test> starts. \n",
      " Function <test> ends! Time cost = 4.969358 msec. \n",
      " Function <test> starts. \n",
      " Function <test> ends! Time cost = 4.966736 msec. \n",
      " Function <test> starts. \n",
      " Function <test> ends! Time cost = 4.929066 msec. \n",
      " Function <test> starts. \n",
      " Function <test> ends! Time cost = 4.987955 msec. \n",
      " Function <test> starts. \n",
      " Function <test> ends! Time cost = 4.963398 msec. \n",
      " Function <test> starts. \n",
      " Function <test> ends! Time cost = 4.961491 msec. \n",
      " Function <test> starts. \n",
      " Function <test> ends! Time cost = 4.951715 msec. \n",
      " Function <test> starts. \n",
      " Function <test> ends! Time cost = 4.949808 msec. \n",
      " Function <test> starts. \n",
      " Function <test> ends! Time cost = 4.951239 msec. \n",
      " Function <test> starts. \n",
      " Function <test> ends! Time cost = 4.962444 msec. \n",
      " Function <test> starts. \n",
      " Function <test> ends! Time cost = 4.945040 msec. \n",
      " Function <test> starts. \n",
      " Function <test> ends! Time cost = 4.983187 msec. \n",
      " Function <benchmark> ends! Time cost = 496.246576 msec. \n"
     ]
    }
   ],
   "source": [
    "benchmark()"
   ]
  }
 ],
 "metadata": {
  "kernelspec": {
   "display_name": "Python 3 (ipykernel)",
   "language": "python",
   "name": "python3"
  },
  "language_info": {
   "codemirror_mode": {
    "name": "ipython",
    "version": 3
   },
   "file_extension": ".py",
   "mimetype": "text/x-python",
   "name": "python",
   "nbconvert_exporter": "python",
   "pygments_lexer": "ipython3",
   "version": "3.8.13"
  }
 },
 "nbformat": 4,
 "nbformat_minor": 5
}

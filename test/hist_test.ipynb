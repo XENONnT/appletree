{
 "cells": [
  {
   "cell_type": "code",
   "execution_count": 3,
   "id": "88de094c-e9cc-4474-9ab5-dde719c222af",
   "metadata": {},
   "outputs": [],
   "source": [
    "import jax.numpy as jnp\n",
    "import numpy as np\n",
    "from appletree import utils\n",
    "from appletree.flex import randgen, hist\n",
    "from appletree.flex.randgen import normal"
   ]
  },
  {
   "cell_type": "code",
   "execution_count": 4,
   "id": "42a4a007-9815-4148-ac9c-2add3ef46758",
   "metadata": {},
   "outputs": [],
   "source": [
    "utils.set_gpu_memory_usage(0.2)"
   ]
  },
  {
   "cell_type": "code",
   "execution_count": 5,
   "id": "6107a769-3f2c-450e-b49b-5c617a6ccf18",
   "metadata": {},
   "outputs": [],
   "source": [
    "batch_size = int(1e6)\n",
    "key = randgen.get_key()\n",
    "key, x = normal(key, 0, 2, shape=(batch_size, ))\n",
    "key, y = normal(key, 0, 1, shape=(batch_size, ))"
   ]
  },
  {
   "cell_type": "code",
   "execution_count": 6,
   "id": "fefde50f-7595-43c1-8974-83f37db12b42",
   "metadata": {},
   "outputs": [],
   "source": [
    "import GOFevaluation"
   ]
  },
  {
   "cell_type": "code",
   "execution_count": 37,
   "id": "9c55e3bd-db11-4fcf-85b4-2dd6bd95be5b",
   "metadata": {},
   "outputs": [],
   "source": [
    "sample = np.array(jnp.stack((x, y)).T)\n",
    "bins_x, bins_y = GOFevaluation.utils._get_equiprobable_binning(sample, [10, 20], [0, 1])"
   ]
  },
  {
   "cell_type": "code",
   "execution_count": 39,
   "id": "1d459c92-eb41-45dd-a2ee-34e344c770d9",
   "metadata": {},
   "outputs": [],
   "source": [
    "equi_hist = hist.make_hist_irreg_bin_2d(sample, bins_x, bins_y)"
   ]
  },
  {
   "cell_type": "code",
   "execution_count": 40,
   "id": "5f121b4a-cbf3-4bed-ade8-9fbaef4edd74",
   "metadata": {},
   "outputs": [],
   "source": [
    "bins_x = np.array(bins_x)\n",
    "bins_y = np.array(bins_y)"
   ]
  },
  {
   "cell_type": "code",
   "execution_count": 41,
   "id": "c6753439-069c-42c9-83c5-f6229ab86d5a",
   "metadata": {},
   "outputs": [],
   "source": [
    "bins_x[0] = -10\n",
    "bins_x[-1] = 10\n",
    "bins_y[:, 0] = -10\n",
    "bins_y[:, -1] = 10"
   ]
  },
  {
   "cell_type": "code",
   "execution_count": 44,
   "id": "ce73c8a6-1b38-4e66-bc5b-f1c941b3ff0c",
   "metadata": {},
   "outputs": [
    {
     "data": {
      "text/plain": [
       "<AxesSubplot:>"
      ]
     },
     "execution_count": 44,
     "metadata": {},
     "output_type": "execute_result"
    },
    {
     "data": {
      "image/png": "[encoded data removed]",
      "text/plain": [
       "<Figure size 432x288 with 2 Axes>"
      ]
     },
     "metadata": {
      "needs_background": "light"
     },
     "output_type": "display_data"
    }
   ],
   "source": [
    "utils.plot_irreg_histogram_2d(bins_x, bins_y, equi_hist, density=True)"
   ]
  },
  {
   "cell_type": "code",
   "execution_count": null,
   "id": "cb352e78-cb2c-4882-a99d-9385e4d69b7c",
   "metadata": {},
   "outputs": [],
   "source": []
  }
 ],
 "metadata": {
  "kernelspec": {
   "display_name": "Python 3 (ipykernel)",
   "language": "python",
   "name": "python3"
  },
  "language_info": {
   "codemirror_mode": {
    "name": "ipython",
    "version": 3
   },
   "file_extension": ".py",
   "mimetype": "text/x-python",
   "name": "python",
   "nbconvert_exporter": "python",
   "pygments_lexer": "ipython3",
   "version": "3.10.3"
  }
 },
 "nbformat": 4,
 "nbformat_minor": 5
}

{
 "cells": [
  {
   "cell_type": "code",
   "execution_count": 1,
   "id": "a733a4b3-28f6-441e-bd14-1bd33e50e3e6",
   "metadata": {},
   "outputs": [],
   "source": [
    "import jax.numpy as jnp\n",
    "from jax import jit, random, lax\n",
    "import numpy as np\n",
    "import matplotlib.pyplot as plt\n",
    "\n",
    "import randgen\n",
    "import jax\n",
    "from utils import timeit"
   ]
  },
  {
   "cell_type": "code",
   "execution_count": 2,
   "id": "8446e7d5-55fe-45c2-a645-7ecf4bfc5266",
   "metadata": {},
   "outputs": [],
   "source": [
    "seed = 980906\n",
    "batch_size = int(1e5)\n",
    "key = random.PRNGKey(seed)\n",
    "key, seed = random.split(key)"
   ]
  },
  {
   "cell_type": "markdown",
   "id": "c1309336-79cc-43b4-98ac-d3d83f117a36",
   "metadata": {},
   "source": [
    "# Random generator test"
   ]
  },
  {
   "cell_type": "code",
   "execution_count": 3,
   "id": "a9c7c010-b6ce-4ac3-9f09-312230f047ca",
   "metadata": {},
   "outputs": [],
   "source": [
    "@timeit\n",
    "def test_binomial(size=int(1e3)):\n",
    "    seed = 980906\n",
    "    key = random.PRNGKey(seed)\n",
    "    key, seed = random.split(key)\n",
    "    p = random.uniform(seed, shape=(size,), minval=0., maxval=1.)\n",
    "    key, seed = random.split(key)\n",
    "    n = random.uniform(seed, shape=(size,), minval=0., maxval=1000).astype(np.int32)\n",
    "    return randgen.binomial(key, p, n)"
   ]
  },
  {
   "cell_type": "code",
   "execution_count": 5,
   "id": "a9ed9b41-c416-40d0-a118-6f67f5f97daa",
   "metadata": {},
   "outputs": [
    {
     "name": "stdout",
     "output_type": "stream",
     "text": [
      "[[100 100 100 100]\n",
      " [ 37  38  22  35]\n",
      " [ 38  42  41  43]\n",
      " [ 48  49  51  45]]\n"
     ]
    }
   ],
   "source": [
    "# binomial\n",
    "n = jnp.array([[100, 100, 100, 100]])\n",
    "# n = 1000\n",
    "p = jnp.array([[1.0], [0.3], [0.4], [0.5]])\n",
    "key, rvs = randgen.binomial(key, p, n)\n",
    "print(rvs)"
   ]
  },
  {
   "cell_type": "code",
   "execution_count": 5,
   "id": "9d0d0869-ba91-49b4-a477-a9dd550804c5",
   "metadata": {},
   "outputs": [
    {
     "name": "stdout",
     "output_type": "stream",
     "text": [
      "[   9  124 1009 9973]\n"
     ]
    }
   ],
   "source": [
    "# poisson\n",
    "lam = jnp.array([10., 100., 1000., 10000.])\n",
    "key, rvs = randgen.poisson(key, lam)\n",
    "print(rvs)"
   ]
  },
  {
   "cell_type": "code",
   "execution_count": 6,
   "id": "70ccfbc7-133f-4471-9790-7c4a9f7a0ab4",
   "metadata": {},
   "outputs": [
    {
     "name": "stdout",
     "output_type": "stream",
     "text": [
      "[[ 8.66291904e+00  9.91497574e+01  1.00068951e+03  9.99813281e+03]\n",
      " [ 6.93036461e+00  1.04591446e+02  9.86729004e+02  9.99289062e+03]\n",
      " [-5.73304672e+01 -2.60337830e+00  1.10003906e+03  1.00881377e+04]]\n"
     ]
    }
   ],
   "source": [
    "# normal\n",
    "mean = jnp.array([[10., 100., 1000., 10000.]])\n",
    "std = jnp.array([[1.], [10.], [100.]])\n",
    "key, rvs = randgen.normal(key, mean, std)\n",
    "print(rvs)"
   ]
  },
  {
   "cell_type": "code",
   "execution_count": 19,
   "id": "a8af7f97-3f0d-409b-a71c-6ef7734cfdee",
   "metadata": {},
   "outputs": [
    {
     "name": "stdout",
     "output_type": "stream",
     "text": [
      "[[1.04218493e+01 1.00314392e+02 9.98710632e+02 9.99876562e+03]\n",
      " [3.99787903e+00 9.63215103e+01 1.00124866e+03 1.00012979e+04]\n",
      " [1.12429642e+02 3.18030884e+02 1.04280188e+03 1.01218506e+04]]\n"
     ]
    }
   ],
   "source": [
    "# truncated normal\n",
    "mean = jnp.array([[10., 100., 1000., 10000.]])\n",
    "std = jnp.array([[1.], [10.], [100.]])\n",
    "vmin = 0\n",
    "key, rvs = randgen.truncate_normal(key, mean, std, vmin=vmin)\n",
    "print(rvs)"
   ]
  },
  {
   "cell_type": "markdown",
   "id": "de0c9b2f-59b8-494e-b1dc-6e113567140e",
   "metadata": {},
   "source": [
    "# Quanta generator"
   ]
  },
  {
   "cell_type": "code",
   "execution_count": 6,
   "id": "9def3bb4-f0c6-455b-9fba-ce51608765b3",
   "metadata": {},
   "outputs": [],
   "source": [
    "field = 23.\n",
    "\n",
    "w = 13.7e-3\n",
    "fano = 0.059\n",
    "ex_ion_ratio = 0.12\n",
    "\n",
    "gamma = 0.107\n",
    "omega = 36.6\n",
    "delta = -0.224\n",
    "q0 = -0.490\n",
    "q1 = 1.34\n",
    "q2 = 0.0284\n",
    "q3 = 15.75\n",
    "\n",
    "g1 = 0.15\n",
    "g2 = 16.\n",
    "\n",
    "p_dpe = 0.21\n",
    "spe_spread = 0.2"
   ]
  },
  {
   "cell_type": "code",
   "execution_count": 7,
   "id": "3693783a-3932-45db-89d5-9890b4fc2a97",
   "metadata": {},
   "outputs": [],
   "source": [
    "def get_num_quanta(key, energy):\n",
    "    num_quanta_mean = energy / w\n",
    "    num_quanta_std = jnp.sqrt(num_quanta_mean * fano)\n",
    "    key, num_quanta = randgen.truncate_normal(key, num_quanta_mean, num_quanta_std, vmin=0)\n",
    "    \n",
    "    return key, num_quanta.round().astype(np.int32)"
   ]
  },
  {
   "cell_type": "code",
   "execution_count": 8,
   "id": "a6f74cb4-fb61-4c98-9b63-1c3d22b39869",
   "metadata": {},
   "outputs": [],
   "source": [
    "def get_num_ion(key, num_quanta):\n",
    "    p_ion = 1. / (1. + ex_ion_ratio)\n",
    "    key, num_ion = randgen.binomial(key, p_ion, num_quanta)\n",
    "    \n",
    "    return key, num_ion"
   ]
  },
  {
   "cell_type": "code",
   "execution_count": 9,
   "id": "10107fb5-0a7d-4c4e-b3eb-abe4e5bdf8c2",
   "metadata": {},
   "outputs": [],
   "source": [
    "def get_mean_mTI_recomb(energy):\n",
    "    ni = energy / w / (1. + ex_ion_ratio)\n",
    "    ti = ni * gamma * jnp.exp(- energy / omega) * field**delta / 4.\n",
    "    fd = 1. / (1. + jnp.exp(- (energy - q0) / q1))\n",
    "    r = jnp.where(\n",
    "        ti < 1e-2, \n",
    "        ti / 2. - ti * ti / 3., \n",
    "        1. - jnp.log(1. + ti) / ti\n",
    "    )\n",
    "    return r * fd"
   ]
  },
  {
   "cell_type": "code",
   "execution_count": 10,
   "id": "c3a1dae2-5d6f-4cbd-a443-da5fc4227216",
   "metadata": {},
   "outputs": [],
   "source": [
    "def get_std_recomb(energy):\n",
    "    return jnp.clip(q2 * (1. - jnp.exp(- energy / q3)), 0, 1.)"
   ]
  },
  {
   "cell_type": "code",
   "execution_count": 11,
   "id": "3466c074-fc5f-49cc-83f7-b30cab4cd456",
   "metadata": {},
   "outputs": [],
   "source": [
    "def get_true_recomb(key, r_mean, r_std):\n",
    "    return randgen.truncate_normal(key, r_mean, r_std, vmin=0., vmax=1.)"
   ]
  },
  {
   "cell_type": "code",
   "execution_count": 12,
   "id": "0dc2450e-bdbf-4b3b-8911-026775f3552a",
   "metadata": {},
   "outputs": [],
   "source": [
    "def get_num_electron(key, num_ion, r_true):\n",
    "    p_not_recomb = 1. - r_true\n",
    "    return randgen.binomial(key, p_not_recomb, num_ion)"
   ]
  },
  {
   "cell_type": "code",
   "execution_count": 13,
   "id": "7f516e52-4ccc-47a7-93e8-a38390daa2f7",
   "metadata": {},
   "outputs": [],
   "source": [
    "def get_naive_cs1(key, num_photon):\n",
    "    key, nphd = randgen.binomial(key, g1, num_photon)\n",
    "    key, ndpe = randgen.binomial(key, p_dpe, nphd)\n",
    "    nphr = nphd + ndpe\n",
    "    \n",
    "    return randgen.truncate_normal(key, nphr, jnp.sqrt(nphr)*spe_spread, vmin=0.)"
   ]
  },
  {
   "cell_type": "code",
   "execution_count": 14,
   "id": "e7643d33-5830-49a6-8d4e-5cabe5b6ea78",
   "metadata": {},
   "outputs": [],
   "source": [
    "def get_naive_cs2(key, num_electron):\n",
    "    mean_cs2 = num_electron * g2\n",
    "    return randgen.truncate_normal(key, mean_cs2, jnp.sqrt(mean_cs2), vmin=0.)"
   ]
  },
  {
   "cell_type": "code",
   "execution_count": 15,
   "id": "4fd5ab9b-9884-4a54-a033-46f0244ecd06",
   "metadata": {},
   "outputs": [],
   "source": [
    "@timeit\n",
    "@jit\n",
    "def sim(key, energy):\n",
    "    num_quanta_mean = energy / w\n",
    "    num_quanta_std = jnp.sqrt(num_quanta_mean * fano)\n",
    "    key, num_quanta = randgen.truncate_normal(key, num_quanta_mean, num_quanta_std, vmin=0)\n",
    "    \n",
    "    p_ion = 1. / (1. + ex_ion_ratio)\n",
    "    key, num_ion = randgen.binomial(key, p_ion, num_quanta)\n",
    "    \n",
    "    ni = energy / w / (1. + ex_ion_ratio)\n",
    "    ti = ni * gamma * jnp.exp(- energy / omega) * field**delta / 4.\n",
    "    fd = 1. / (1. + jnp.exp(- (energy - q0) / q1))\n",
    "    r = jnp.where(\n",
    "        ti < 1e-2, \n",
    "        ti / 2. - ti * ti / 3., \n",
    "        1. - jnp.log(1. + ti) / ti\n",
    "    )\n",
    "    r_mean = r * fd\n",
    "    r_std = jnp.clip(q2 * (1. - jnp.exp(- energy / q3)), 0, 1.)\n",
    "    key, r_true = randgen.truncate_normal(key, r_mean, r_std, vmin=0., vmax=1.)\n",
    "    \n",
    "    p_not_recomb = 1. - r_true\n",
    "    key, num_electron = randgen.binomial(key, p_not_recomb, num_ion)\n",
    "    num_photon = num_quanta - num_electron\n",
    "    \n",
    "    return key, num_photon, num_electron"
   ]
  },
  {
   "cell_type": "code",
   "execution_count": 16,
   "id": "18cd9247-f77c-4b4a-8160-d253b578b1a7",
   "metadata": {},
   "outputs": [],
   "source": [
    "@timeit\n",
    "@jit\n",
    "def sim(key, energy):\n",
    "    key, num_quanta = get_num_quanta(key, energy)\n",
    "    p_ion = 1. / (1. + ex_ion_ratio)\n",
    "    q_ion = 1. - p_ion\n",
    "    print(jnp.all((num_quanta*p_ion>5) & (num_quanta*q_ion>5)))\n",
    "    key, num_ion = get_num_ion(key, num_quanta)\n",
    "    \n",
    "    r_mean = get_mean_mTI_recomb(energy)\n",
    "    r_std = get_std_recomb(energy)\n",
    "    key, r_true = get_true_recomb(key, r_mean, r_std)\n",
    "    \n",
    "    key, num_electron = get_num_electron(key, num_ion, r_true)\n",
    "    num_photon = num_quanta - num_electron\n",
    "    \n",
    "    key, cs1 = get_naive_cs1(key, num_photon)\n",
    "    key, cs2 = get_naive_cs2(key, num_photon)\n",
    "    \n",
    "    return key, cs1, cs2"
   ]
  },
  {
   "cell_type": "code",
   "execution_count": 17,
   "id": "72ba7d17-d020-4b7a-8dad-499d93550158",
   "metadata": {},
   "outputs": [
    {
     "name": "stdout",
     "output_type": "stream",
     "text": [
      " Function <sim> starts. \n",
      "Traced<ShapedArray(bool[])>with<DynamicJaxprTrace(level=0/1)>\n",
      " Function <sim> ends! Time cost = 0.982024 sec. \n"
     ]
    }
   ],
   "source": [
    "# cache\n",
    "size = int(1e6)\n",
    "key, seed = random.split(key)\n",
    "energy = random.uniform(seed, shape=(size,), minval=5, maxval=10.)\n",
    "key, cs1, cs2 = sim(key, energy)"
   ]
  },
  {
   "cell_type": "code",
   "execution_count": 20,
   "id": "1f36cbec-fc43-4a18-8867-0576694e6816",
   "metadata": {},
   "outputs": [
    {
     "name": "stdout",
     "output_type": "stream",
     "text": [
      " Function <sim> starts. \n",
      " Function <sim> ends! Time cost = 0.000593 sec. \n"
     ]
    }
   ],
   "source": [
    "key, seed = random.split(key)\n",
    "energy = random.uniform(seed, shape=(size,), minval=0.01, maxval=10.)\n",
    "key, cs1, cs2 = sim(key, energy)"
   ]
  },
  {
   "cell_type": "code",
   "execution_count": null,
   "id": "f6ba192b-64c8-4a0f-81ae-66b880b915aa",
   "metadata": {},
   "outputs": [
    {
     "data": {
      "image/png": "[encoded data removed]",
      "text/plain": [
       "<Figure size 432x288 with 1 Axes>"
      ]
     },
     "metadata": {
      "needs_background": "light"
     },
     "output_type": "display_data"
    }
   ],
   "source": [
    "plt.scatter(cs1, cs2)\n",
    "plt.yscale('log')"
   ]
  }
 ],
 "metadata": {
  "kernelspec": {
   "display_name": "Python 3 (ipykernel)",
   "language": "python",
   "name": "python3"
  },
  "language_info": {
   "codemirror_mode": {
    "name": "ipython",
    "version": 3
   },
   "file_extension": ".py",
   "mimetype": "text/x-python",
   "name": "python",
   "nbconvert_exporter": "python",
   "pygments_lexer": "ipython3",
   "version": "3.10.3"
  }
 },
 "nbformat": 4,
 "nbformat_minor": 5
}

{
 "cells": [
  {
   "cell_type": "code",
   "execution_count": 1,
   "id": "0bf412e3-73d7-439a-bd59-e35c9543c1b7",
   "metadata": {},
   "outputs": [],
   "source": [
    "import numpy as np\n",
    "import pandas as pd\n",
    "import matplotlib.pyplot as plt\n",
    "from matplotlib.colors import LogNorm\n",
    "import jax.numpy as jnp\n",
    "import multihist as mh\n",
    "\n",
    "import appletree as apt\n",
    "from appletree import randgen\n",
    "from appletree import Parameter\n",
    "from appletree.components import ERBand"
   ]
  },
  {
   "cell_type": "code",
   "execution_count": 2,
   "id": "b988e7ba-f325-47f8-ad0f-c004ce215ccf",
   "metadata": {},
   "outputs": [],
   "source": [
    "apt.set_gpu_memory_usage(0.2)"
   ]
  },
  {
   "cell_type": "markdown",
   "id": "bdef7717-ff2b-4e27-9d09-c400062d606b",
   "metadata": {},
   "source": [
    "# Define context"
   ]
  },
  {
   "cell_type": "code",
   "execution_count": 3,
   "id": "c2bb21e0-bc18-4878-86ba-8edea6ced391",
   "metadata": {},
   "outputs": [],
   "source": [
    "tree = ERBand()"
   ]
  },
  {
   "cell_type": "code",
   "execution_count": 4,
   "id": "e076733b-b248-446f-a744-ef4dfb73a01d",
   "metadata": {},
   "outputs": [],
   "source": [
    "tree.deduce(\n",
    "    data_names = ['cs1', 'cs2', 'eff'],\n",
    "    func_name = 'simulate',\n",
    ")\n",
    "tree.compile()"
   ]
  },
  {
   "cell_type": "markdown",
   "id": "18bd657b-9b02-4960-9a6f-5bed457a1c2d",
   "metadata": {},
   "source": [
    "# Parameters"
   ]
  },
  {
   "cell_type": "code",
   "execution_count": 5,
   "id": "8a3bdb6f-89f8-4c50-b94e-faf9675c3df8",
   "metadata": {},
   "outputs": [],
   "source": [
    "par_manager = Parameter('./appletree/parameters/apt_sr0_er.json')\n",
    "par_manager.sample_init()\n",
    "parameters = par_manager.get_all_parameter()"
   ]
  },
  {
   "cell_type": "markdown",
   "id": "d80c7208-fbf3-4ddd-b16c-2b891c282fcd",
   "metadata": {},
   "source": [
    "# Simulation"
   ]
  },
  {
   "cell_type": "code",
   "execution_count": 7,
   "id": "62d9f11a-ee5e-49f9-85ae-a3ebaab510c6",
   "metadata": {},
   "outputs": [],
   "source": [
    "batch_size = int(1e6)\n",
    "key = randgen.get_key(seed=137)\n",
    "\n",
    "key, (cs1, cs2, eff) = tree.simulate(key, batch_size, parameters)"
   ]
  },
  {
   "cell_type": "code",
   "execution_count": 8,
   "id": "b2ddc2dc-543d-47b3-8cd3-e508bce4328b",
   "metadata": {},
   "outputs": [
    {
     "data": {
      "image/png": "[encoded data removed]",
      "text/plain": [
       "<Figure size 432x288 with 2 Axes>"
      ]
     },
     "metadata": {
      "needs_background": "light"
     },
     "output_type": "display_data"
    }
   ],
   "source": [
    "h, be = jnp.histogramdd(\n",
    "    jnp.asarray([cs1, cs2]).T,\n",
    "    bins=(jnp.linspace(0, 100, 101), jnp.logspace(2.5, 4.1, 81)),\n",
    "    weights=eff\n",
    ")\n",
    "\n",
    "h = mh.Histdd.from_histogram(\n",
    "    np.array(h), \n",
    "    be, \n",
    "    axis_names=['cs1', 'cs2']\n",
    ")\n",
    "h.plot(norm=LogNorm())\n",
    "plt.yscale('log')\n",
    "plt.show()"
   ]
  },
  {
   "cell_type": "markdown",
   "id": "61cf40ac-1b60-49b4-825d-49967ad8ade6",
   "metadata": {},
   "source": [
    "# Simulation and make equiprob hist"
   ]
  },
  {
   "cell_type": "code",
   "execution_count": 9,
   "id": "619e5580-96ec-4ccc-80e5-a6f0de00e0a8",
   "metadata": {},
   "outputs": [],
   "source": [
    "data = pd.read_csv('./appletree/data/data_XENONnT_Rn220_v8_strax_v1.2.2_straxen_v1.7.1_cutax_v1.9.0.csv')\n",
    "bins_cs1, bins_cs2 = apt.utils.get_equiprob_bins_2d(\n",
    "    data[['cs1', 'cs2']].to_numpy(),\n",
    "    [15, 15],\n",
    "    order=[0, 1],\n",
    "    x_clip=[0, 100],\n",
    "    y_clip=[1e2, 1e4],\n",
    "    which_np=jnp\n",
    ")"
   ]
  },
  {
   "cell_type": "code",
   "execution_count": 10,
   "id": "0edfeafb-4bb9-469e-9be9-95e171372611",
   "metadata": {},
   "outputs": [
    {
     "name": "stderr",
     "output_type": "stream",
     "text": [
      "/home/zihaoxu/appletree/appletree/component.py:196: UserWarning: function name simulate is already cached. Running compile() will overwrite it.\n",
      "  warn(warning)\n"
     ]
    }
   ],
   "source": [
    "tree.deduce(\n",
    "    data_names = ['cs1', 'cs2', 'eff'],\n",
    "    func_name = 'simulate',\n",
    "    bins = [bins_cs1, bins_cs2],\n",
    "    bins_type = 'irreg'\n",
    ")\n",
    "tree.compile()"
   ]
  },
  {
   "cell_type": "code",
   "execution_count": 11,
   "id": "95034a59-ed46-4323-bc98-6292221155b5",
   "metadata": {},
   "outputs": [],
   "source": [
    "key, h = tree.simulate_hist(key, int(1e6), parameters)"
   ]
  },
  {
   "cell_type": "code",
   "execution_count": 12,
   "id": "035e5c1a-6585-4c1a-9f78-df6c6cb1dd2b",
   "metadata": {},
   "outputs": [
    {
     "data": {
      "image/png": "[encoded data removed]",
      "text/plain": [
       "<Figure size 432x288 with 2 Axes>"
      ]
     },
     "metadata": {
      "needs_background": "light"
     },
     "output_type": "display_data"
    }
   ],
   "source": [
    "apt.utils.plot_irreg_histogram_2d(bins_cs1, bins_cs2, h, density=False)\n",
    "plt.yscale('log')\n",
    "plt.ylim(5e2, 1e4)\n",
    "plt.show()"
   ]
  },
  {
   "cell_type": "markdown",
   "id": "dd131c74-69e7-4946-b5c7-6dc651a1fdef",
   "metadata": {},
   "source": [
    "# Speed test"
   ]
  },
  {
   "cell_type": "code",
   "execution_count": 13,
   "id": "ef8dc578-f677-49ca-86c6-aecbbd7d093c",
   "metadata": {},
   "outputs": [],
   "source": [
    "@apt.utils.timeit\n",
    "def test(key, batch_size, parameters):\n",
    "    return tree.simulate_hist(key, batch_size, parameters)"
   ]
  },
  {
   "cell_type": "code",
   "execution_count": 14,
   "id": "0679c7af-66dc-4bdd-8810-1469aa05dac5",
   "metadata": {},
   "outputs": [],
   "source": [
    "@apt.utils.timeit\n",
    "def benchmark():\n",
    "    key = randgen.get_key()\n",
    "    for _ in range(100):\n",
    "        key, _ = test(key, int(1e6), parameters)"
   ]
  },
  {
   "cell_type": "code",
   "execution_count": 15,
   "id": "317a32ef-9860-4113-882c-de5ff0941285",
   "metadata": {},
   "outputs": [
    {
     "name": "stdout",
     "output_type": "stream",
     "text": [
      " Function <benchmark> starts. \n",
      " Function <test> starts. \n",
      " Function <test> ends! Time cost = 4.507780 msec. \n",
      " Function <test> starts. \n",
      " Function <test> ends! Time cost = 4.708767 msec. \n",
      " Function <test> starts. \n",
      " Function <test> ends! Time cost = 3.724813 msec. \n",
      " Function <test> starts. \n",
      " Function <test> ends! Time cost = 8.732319 msec. \n",
      " Function <test> starts. \n",
      " Function <test> ends! Time cost = 9.253025 msec. \n",
      " Function <test> starts. \n",
      " Function <test> ends! Time cost = 11.214256 msec. \n",
      " Function <test> starts. \n",
      " Function <test> ends! Time cost = 9.486198 msec. \n",
      " Function <test> starts. \n",
      " Function <test> ends! Time cost = 11.267424 msec. \n",
      " Function <test> starts. \n",
      " Function <test> ends! Time cost = 9.180069 msec. \n",
      " Function <test> starts. \n",
      " Function <test> ends! Time cost = 11.564732 msec. \n",
      " Function <test> starts. \n",
      " Function <test> ends! Time cost = 9.268761 msec. \n",
      " Function <test> starts. \n",
      " Function <test> ends! Time cost = 11.620045 msec. \n",
      " Function <test> starts. \n",
      " Function <test> ends! Time cost = 9.185553 msec. \n",
      " Function <test> starts. \n",
      " Function <test> ends! Time cost = 11.694670 msec. \n",
      " Function <test> starts. \n",
      " Function <test> ends! Time cost = 11.427879 msec. \n",
      " Function <test> starts. \n",
      " Function <test> ends! Time cost = 9.116173 msec. \n",
      " Function <test> starts. \n",
      " Function <test> ends! Time cost = 9.369135 msec. \n",
      " Function <test> starts. \n",
      " Function <test> ends! Time cost = 11.403322 msec. \n",
      " Function <test> starts. \n",
      " Function <test> ends! Time cost = 9.124994 msec. \n",
      " Function <test> starts. \n",
      " Function <test> ends! Time cost = 11.387110 msec. \n",
      " Function <test> starts. \n",
      " Function <test> ends! Time cost = 9.266615 msec. \n",
      " Function <test> starts. \n",
      " Function <test> ends! Time cost = 11.296272 msec. \n",
      " Function <test> starts. \n",
      " Function <test> ends! Time cost = 11.260271 msec. \n",
      " Function <test> starts. \n",
      " Function <test> ends! Time cost = 9.387732 msec. \n",
      " Function <test> starts. \n",
      " Function <test> ends! Time cost = 9.036541 msec. \n",
      " Function <test> starts. \n",
      " Function <test> ends! Time cost = 11.461735 msec. \n",
      " Function <test> starts. \n",
      " Function <test> ends! Time cost = 11.512756 msec. \n",
      " Function <test> starts. \n",
      " Function <test> ends! Time cost = 9.253740 msec. \n",
      " Function <test> starts. \n",
      " Function <test> ends! Time cost = 9.146929 msec. \n",
      " Function <test> starts. \n",
      " Function <test> ends! Time cost = 11.857271 msec. \n",
      " Function <test> starts. \n",
      " Function <test> ends! Time cost = 9.299994 msec. \n",
      " Function <test> starts. \n",
      " Function <test> ends! Time cost = 11.670113 msec. \n",
      " Function <test> starts. \n",
      " Function <test> ends! Time cost = 9.262323 msec. \n",
      " Function <test> starts. \n",
      " Function <test> ends! Time cost = 11.563778 msec. \n",
      " Function <test> starts. \n",
      " Function <test> ends! Time cost = 9.377241 msec. \n",
      " Function <test> starts. \n",
      " Function <test> ends! Time cost = 11.624575 msec. \n",
      " Function <test> starts. \n",
      " Function <test> ends! Time cost = 8.573532 msec. \n",
      " Function <test> starts. \n",
      " Function <test> ends! Time cost = 11.371136 msec. \n",
      " Function <test> starts. \n",
      " Function <test> ends! Time cost = 9.460449 msec. \n",
      " Function <test> starts. \n",
      " Function <test> ends! Time cost = 11.380434 msec. \n",
      " Function <test> starts. \n",
      " Function <test> ends! Time cost = 9.088993 msec. \n",
      " Function <test> starts. \n",
      " Function <test> ends! Time cost = 11.586905 msec. \n",
      " Function <test> starts. \n",
      " Function <test> ends! Time cost = 9.324312 msec. \n",
      " Function <test> starts. \n",
      " Function <test> ends! Time cost = 11.507034 msec. \n",
      " Function <test> starts. \n",
      " Function <test> ends! Time cost = 11.250496 msec. \n",
      " Function <test> starts. \n",
      " Function <test> ends! Time cost = 9.589672 msec. \n",
      " Function <test> starts. \n",
      " Function <test> ends! Time cost = 9.352207 msec. \n",
      " Function <test> starts. \n",
      " Function <test> ends! Time cost = 11.111498 msec. \n",
      " Function <test> starts. \n",
      " Function <test> ends! Time cost = 6.771088 msec. \n",
      " Function <test> starts. \n",
      " Function <test> ends! Time cost = 13.703585 msec. \n",
      " Function <test> starts. \n",
      " Function <test> ends! Time cost = 9.298086 msec. \n",
      " Function <test> starts. \n",
      " Function <test> ends! Time cost = 11.817932 msec. \n",
      " Function <test> starts. \n",
      " Function <test> ends! Time cost = 11.367321 msec. \n",
      " Function <test> starts. \n",
      " Function <test> ends! Time cost = 9.370089 msec. \n",
      " Function <test> starts. \n",
      " Function <test> ends! Time cost = 11.386156 msec. \n",
      " Function <test> starts. \n",
      " Function <test> ends! Time cost = 9.393930 msec. \n",
      " Function <test> starts. \n",
      " Function <test> ends! Time cost = 9.457350 msec. \n",
      " Function <test> starts. \n",
      " Function <test> ends! Time cost = 11.978626 msec. \n",
      " Function <test> starts. \n",
      " Function <test> ends! Time cost = 11.203527 msec. \n",
      " Function <test> starts. \n",
      " Function <test> ends! Time cost = 9.388447 msec. \n",
      " Function <test> starts. \n",
      " Function <test> ends! Time cost = 9.193182 msec. \n",
      " Function <test> starts. \n",
      " Function <test> ends! Time cost = 11.229992 msec. \n",
      " Function <test> starts. \n",
      " Function <test> ends! Time cost = 11.306763 msec. \n",
      " Function <test> starts. \n",
      " Function <test> ends! Time cost = 9.239435 msec. \n",
      " Function <test> starts. \n",
      " Function <test> ends! Time cost = 9.299517 msec. \n",
      " Function <test> starts. \n",
      " Function <test> ends! Time cost = 11.682987 msec. \n",
      " Function <test> starts. \n",
      " Function <test> ends! Time cost = 11.300325 msec. \n",
      " Function <test> starts. \n",
      " Function <test> ends! Time cost = 9.293795 msec. \n",
      " Function <test> starts. \n",
      " Function <test> ends! Time cost = 9.502172 msec. \n",
      " Function <test> starts. \n",
      " Function <test> ends! Time cost = 11.351585 msec. \n",
      " Function <test> starts. \n",
      " Function <test> ends! Time cost = 9.257555 msec. \n",
      " Function <test> starts. \n",
      " Function <test> ends! Time cost = 10.864735 msec. \n",
      " Function <test> starts. \n",
      " Function <test> ends! Time cost = 9.166241 msec. \n",
      " Function <test> starts. \n",
      " Function <test> ends! Time cost = 11.474371 msec. \n",
      " Function <test> starts. \n",
      " Function <test> ends! Time cost = 9.318590 msec. \n",
      " Function <test> starts. \n",
      " Function <test> ends! Time cost = 11.365414 msec. \n",
      " Function <test> starts. \n",
      " Function <test> ends! Time cost = 9.356737 msec. \n",
      " Function <test> starts. \n",
      " Function <test> ends! Time cost = 13.425112 msec. \n",
      " Function <test> starts. \n",
      " Function <test> ends! Time cost = 9.709120 msec. \n",
      " Function <test> starts. \n",
      " Function <test> ends! Time cost = 9.053946 msec. \n",
      " Function <test> starts. \n",
      " Function <test> ends! Time cost = 9.462595 msec. \n",
      " Function <test> starts. \n",
      " Function <test> ends! Time cost = 11.476517 msec. \n",
      " Function <test> starts. \n",
      " Function <test> ends! Time cost = 9.269714 msec. \n",
      " Function <test> starts. \n",
      " Function <test> ends! Time cost = 11.214256 msec. \n",
      " Function <test> starts. \n",
      " Function <test> ends! Time cost = 9.108543 msec. \n",
      " Function <test> starts. \n",
      " Function <test> ends! Time cost = 11.573315 msec. \n",
      " Function <test> starts. \n",
      " Function <test> ends! Time cost = 9.128094 msec. \n",
      " Function <test> starts. \n",
      " Function <test> ends! Time cost = 11.268139 msec. \n",
      " Function <test> starts. \n",
      " Function <test> ends! Time cost = 8.996010 msec. \n",
      " Function <test> starts. \n",
      " Function <test> ends! Time cost = 11.160612 msec. \n",
      " Function <test> starts. \n",
      " Function <test> ends! Time cost = 9.191990 msec. \n",
      " Function <test> starts. \n",
      " Function <test> ends! Time cost = 11.678934 msec. \n",
      " Function <test> starts. \n",
      " Function <test> ends! Time cost = 9.349585 msec. \n",
      " Function <test> starts. \n",
      " Function <test> ends! Time cost = 11.322737 msec. \n",
      " Function <test> starts. \n",
      " Function <test> ends! Time cost = 11.200428 msec. \n",
      " Function <test> starts. \n",
      " Function <test> ends! Time cost = 9.452105 msec. \n",
      " Function <test> starts. \n",
      " Function <test> ends! Time cost = 9.062290 msec. \n",
      " Function <test> starts. \n",
      " Function <test> ends! Time cost = 11.732340 msec. \n",
      " Function <test> starts. \n",
      " Function <test> ends! Time cost = 8.800268 msec. \n",
      " Function <test> starts. \n",
      " Function <test> ends! Time cost = 11.548996 msec. \n",
      " Function <benchmark> ends! Time cost = 1029.860497 msec. \n"
     ]
    }
   ],
   "source": [
    "benchmark()"
   ]
  },
  {
   "cell_type": "code",
   "execution_count": null,
   "id": "dc7767c6-1b78-460d-9777-aee67039be40",
   "metadata": {},
   "outputs": [],
   "source": []
  }
 ],
 "metadata": {
  "kernelspec": {
   "display_name": "Python 3 (ipykernel)",
   "language": "python",
   "name": "python3"
  },
  "language_info": {
   "codemirror_mode": {
    "name": "ipython",
    "version": 3
   },
   "file_extension": ".py",
   "mimetype": "text/x-python",
   "name": "python",
   "nbconvert_exporter": "python",
   "pygments_lexer": "ipython3",
   "version": "3.8.13"
  }
 },
 "nbformat": 4,
 "nbformat_minor": 5
}

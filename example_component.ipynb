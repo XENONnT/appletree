{
 "cells": [
  {
   "cell_type": "code",
   "execution_count": 1,
   "id": "ebf3ebb3-9230-4f79-a0d1-10b6e8199671",
   "metadata": {},
   "outputs": [],
   "source": [
    "import numpy as np\n",
    "import pandas as pd\n",
    "import matplotlib.pyplot as plt\n",
    "import jax.numpy as jnp\n",
    "\n",
    "import appletree as apt\n",
    "from appletree import randgen\n",
    "from appletree.parameter import Parameter\n",
    "from appletree.contexts import ERBand\n",
    "from appletree.component import Component"
   ]
  },
  {
   "cell_type": "code",
   "execution_count": 2,
   "id": "67e4a172-4cb9-4bf3-beda-e782aca63e50",
   "metadata": {},
   "outputs": [],
   "source": [
    "apt.utils.set_gpu_memory_usage(0.2)"
   ]
  },
  {
   "cell_type": "markdown",
   "id": "4a24414c-251f-42f0-bbe6-f362b97f24e6",
   "metadata": {},
   "source": [
    "# Define parameters"
   ]
  },
  {
   "cell_type": "code",
   "execution_count": 3,
   "id": "ea901cf1-b413-4e48-92f0-2ec6890e5047",
   "metadata": {},
   "outputs": [],
   "source": [
    "par_config_file_name = '/home/zihaoxu/appletree/appletree/parameters/apt_sr0_er.json'\n",
    "par_manager = Parameter(par_config_file_name)"
   ]
  },
  {
   "cell_type": "code",
   "execution_count": 4,
   "id": "b6627cd7-29f6-41d9-bf90-b7e88191e877",
   "metadata": {},
   "outputs": [
    {
     "name": "stdout",
     "output_type": "stream",
     "text": [
      "{'w': 0.013662644995673748, 'fano': 0.059, 'gas_gain': 31.3, 'drift_velocity': 0.0677, 's2_threshold': 500.0, 'field': 23.0, 'nex_ni_ratio': 0.11620852764294254, 'g1': 0.15150244724345108, 'g2': 15.777323753907705, 'p_dpe': 0.23921495847335383, 'py0': 0.14408075149226426, 'py1': 42.750437962434816, 'py2': -0.38949789257506784, 'py3': 1.0298848205328113, 'py4': 0.595628765884847, 'rf0': 0.020690900941486817, 'rf1': 0.40030863765897584}\n"
     ]
    }
   ],
   "source": [
    "# sample one set of parameters from initial guess\n",
    "par_manager.sample_init()\n",
    "parameters = par_manager.get_all_parameter()\n",
    "print(parameters)"
   ]
  },
  {
   "cell_type": "markdown",
   "id": "098ba040-f4ec-4a62-a6cb-d53575203663",
   "metadata": {},
   "source": [
    "# Regular meshgrid example"
   ]
  },
  {
   "cell_type": "code",
   "execution_count": 5,
   "id": "5b58a522-91e1-4652-833c-1267de10ec92",
   "metadata": {},
   "outputs": [],
   "source": [
    "import multihist as mh\n",
    "from matplotlib.colors import LogNorm"
   ]
  },
  {
   "cell_type": "code",
   "execution_count": 7,
   "id": "ad2167d1-6305-4ea2-85d4-a5424a88a6b3",
   "metadata": {},
   "outputs": [],
   "source": [
    "config = {\n",
    "    'name' : 'er_sim',\n",
    "    'axis' : ['cs1', 'cs2'],\n",
    "    'bins': [jnp.linspace(0, 100, 50), jnp.logspace(2.6, 4, 50)],\n",
    "    'bins_type' : 'meshgrid',\n",
    "    'norm' : 1.0,\n",
    "    'norm_type' : 'on_pdf',\n",
    "    'sim' : ERBand,\n",
    "    'sim_type' : 'context',\n",
    "    'batch_size' : int(1e6)\n",
    "}\n",
    "er = Component(config)"
   ]
  },
  {
   "cell_type": "code",
   "execution_count": 9,
   "id": "cae500db-33a9-45de-8d5c-96c9b0f9fa64",
   "metadata": {},
   "outputs": [
    {
     "data": {
      "image/png": "[encoded data removed]",
      "text/plain": [
       "<Figure size 432x288 with 2 Axes>"
      ]
     },
     "metadata": {
      "needs_background": "light"
     },
     "output_type": "display_data"
    }
   ],
   "source": [
    "key = randgen.get_key()\n",
    "key, h = er.simulate_hist(key, parameters)\n",
    "h = mh.Histdd.from_histogram(np.array(h), config['bins'])\n",
    "\n",
    "h.plot(norm=LogNorm())\n",
    "plt.xlabel('cS1')\n",
    "plt.ylabel('cS2')\n",
    "plt.yscale('log')\n",
    "plt.show()"
   ]
  },
  {
   "cell_type": "code",
   "execution_count": 10,
   "id": "fa65625e-50a3-4b1f-a293-7f91e6e3890b",
   "metadata": {},
   "outputs": [],
   "source": [
    "@apt.timeit\n",
    "def benchmark():\n",
    "    for _ in range(100):\n",
    "        key = randgen.get_key()\n",
    "        er.simulate_hist(key, parameters)"
   ]
  },
  {
   "cell_type": "code",
   "execution_count": 11,
   "id": "934d7d49-ec45-4ad4-b3f9-fd3d9bdd62fc",
   "metadata": {},
   "outputs": [
    {
     "name": "stdout",
     "output_type": "stream",
     "text": [
      " Function <benchmark> starts. \n",
      " Function <benchmark> ends! Time cost = 639.636755 msec. \n"
     ]
    }
   ],
   "source": [
    "benchmark()"
   ]
  },
  {
   "cell_type": "markdown",
   "id": "64c339f7-06c9-4b71-bd1d-434e4fe88b91",
   "metadata": {},
   "source": [
    "# Equiprob example"
   ]
  },
  {
   "cell_type": "code",
   "execution_count": 12,
   "id": "1a9e0507-f59d-4ba3-8eaa-de9e35d4c3ee",
   "metadata": {},
   "outputs": [
    {
     "name": "stderr",
     "output_type": "stream",
     "text": [
      "/home/zihaoxu/appletree/appletree/context.py:187: UserWarning: function name er_sim is already cached. Running compile() will overwrite it.\n",
      "  warn(warning)\n"
     ]
    }
   ],
   "source": [
    "data = pd.read_csv('./appletree/data/data_XENONnT_Rn220_v8_strax_v1.2.2_straxen_v1.7.1_cutax_v1.9.0.csv')\n",
    "\n",
    "bins_cs1, bins_cs2 = apt.utils.get_equiprob_bins_2d(\n",
    "    data[['cs1', 'cs2']].to_numpy(),\n",
    "    [15, 15],\n",
    "    order=[0, 1],\n",
    "    x_clip=[0, 100],\n",
    "    y_clip=[4e2, 1e4],\n",
    "    which_np=jnp\n",
    ")\n",
    "\n",
    "config = {\n",
    "    'name' : 'er_sim',\n",
    "    'axis' : ['cs1', 'cs2'],\n",
    "    'bins': [bins_cs1, bins_cs2],\n",
    "    'bins_type' : 'irreg',\n",
    "    'norm' : 1.0,\n",
    "    'norm_type' : 'on_pdf',\n",
    "    'sim' : ERBand,\n",
    "    'sim_type' : 'context',\n",
    "    'batch_size' : int(1e6)\n",
    "}\n",
    "er = Component(config)"
   ]
  },
  {
   "cell_type": "code",
   "execution_count": 13,
   "id": "936f9323-fa68-4e41-8776-0737b919b921",
   "metadata": {},
   "outputs": [
    {
     "data": {
      "image/png": "[encoded data removed]",
      "text/plain": [
       "<Figure size 432x288 with 2 Axes>"
      ]
     },
     "metadata": {
      "needs_background": "light"
     },
     "output_type": "display_data"
    }
   ],
   "source": [
    "key, h = er.simulate_hist(key, parameters)\n",
    "\n",
    "apt.utils.plot_irreg_histogram_2d(bins_cs1, bins_cs2, h)\n",
    "plt.xlabel('cS1')\n",
    "plt.ylabel('cS2')\n",
    "plt.yscale('log')\n",
    "plt.show()"
   ]
  },
  {
   "cell_type": "code",
   "execution_count": 14,
   "id": "6a91c15c-655a-4687-a6e3-c7e9e479a0c5",
   "metadata": {},
   "outputs": [],
   "source": [
    "@apt.timeit\n",
    "def benchmark():\n",
    "    for _ in range(100):\n",
    "        key = randgen.get_key()\n",
    "        er.simulate_hist(key, parameters)"
   ]
  },
  {
   "cell_type": "code",
   "execution_count": 15,
   "id": "cbaf6f41-fdd6-456f-ba30-85a151739dc9",
   "metadata": {},
   "outputs": [
    {
     "name": "stdout",
     "output_type": "stream",
     "text": [
      " Function <benchmark> starts. \n",
      " Function <benchmark> ends! Time cost = 640.709400 msec. \n"
     ]
    }
   ],
   "source": [
    "benchmark()"
   ]
  },
  {
   "cell_type": "code",
   "execution_count": null,
   "id": "c42300f8-af4d-44fb-b0b1-66c579c3cc08",
   "metadata": {},
   "outputs": [],
   "source": []
  }
 ],
 "metadata": {
  "kernelspec": {
   "display_name": "Python [conda env:XENONnT_2022.06.2] *",
   "language": "python",
   "name": "conda-env-XENONnT_2022.06.2-py"
  },
  "language_info": {
   "codemirror_mode": {
    "name": "ipython",
    "version": 3
   },
   "file_extension": ".py",
   "mimetype": "text/x-python",
   "name": "python",
   "nbconvert_exporter": "python",
   "pygments_lexer": "ipython3",
   "version": "3.8.13"
  }
 },
 "nbformat": 4,
 "nbformat_minor": 5
}
